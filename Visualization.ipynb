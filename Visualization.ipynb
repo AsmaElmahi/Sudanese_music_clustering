{
 "cells": [
  {
   "cell_type": "code",
   "execution_count": null,
   "id": "5c040968",
   "metadata": {},
   "outputs": [],
   "source": [
    "import pandas as pd \n",
    "import numpy as np\n",
    "import matplotlib.pyplot as plt \n",
    "import seaborn as sns\n",
    "import plotly.express as px\n",
    "import plotly.figure_factory as ff\n",
    "from collections import defaultdict\n",
    "\n",
    "#change duration to minutes for visualization\n",
    "df5['duration'] =df5['duration_ms'].apply(lambda x:round(x/1000/60))\n",
    "df5.drop('duration_ms',axis=1,inplace=True)"
   ]
  },
  {
   "cell_type": "code",
   "execution_count": null,
   "id": "ab72799f",
   "metadata": {},
   "outputs": [],
   "source": [
    "df5 = pd.read_csv('/features_final-5clusters.csv')"
   ]
  },
  {
   "cell_type": "code",
   "execution_count": null,
   "id": "6f49a63d",
   "metadata": {},
   "outputs": [],
   "source": [
    "#Heatmap to visualize the average of the feature across the clusters\n",
    "z=[[round(v,3) for v in dis.loc[km]] for km in range(0,len(dis))]\n",
    "fig = ff.create_annotated_heatmap(z, x=[_ for _ in dis],\n",
    "                                  y=['KM'+str(_) for _ in range(0,len(dis))],\n",
    "                                  colorscale = 'greens',opacity=1,showscale=True) \n",
    "fig['layout'] ['xaxis'] ['side'] ='bottom'\n",
    "fig.update_layout(height=550, width=550,title_text='')\n",
    "#save the figure as png\n",
    "plt.savefig(\"/sample_heatmap.png.png\", dpi=300)\n",
    "fig.show()"
   ]
  },
  {
   "cell_type": "code",
   "execution_count": null,
   "id": "48c4d7b1",
   "metadata": {},
   "outputs": [],
   "source": [
    "#scatter plot between \n",
    "df = px.data.iris()\n",
    "fig = px.scatter(clt, x=\"danceability\", y=\"tempo\", color=\"cluster\",\n",
    "                 size='danceability', hover_data=['tempo'])            \n",
    "fig.show()"
   ]
  },
  {
   "cell_type": "code",
   "execution_count": null,
   "id": "6e3205b4",
   "metadata": {},
   "outputs": [],
   "source": [
    "#number of songs in the dataset per year\n",
    "sns.set(font_scale=10)\n",
    "sns.set(rc={'figure.figsize':(22.7,8.27)})\n",
    "sns.countplot(x=df5['release_date'], \n",
    "              data=df5, color=('limegreen'))\n",
    "plt.savefig('/home/asma/Downloads/figures/baryears.png', dpi=300)\n",
    "\n",
    "plt.show()\n"
   ]
  },
  {
   "cell_type": "code",
   "execution_count": null,
   "id": "efbd4286",
   "metadata": {},
   "outputs": [],
   "source": [
    "# line chart for comparng between low acoustic group and high acoustic group in years\n",
    "import plotly.graph_objects as go\n",
    "fig = go.Figure()\n",
    "fig.add_trace(go.Scatter(x=acodate.index, y=acodate['acousticness'],\n",
    "                    mode='lines+markers',\n",
    "                    name='Low Acoustic'))\n",
    "fig.add_trace(go.Scatter(x=clstdate.index, y=clstdate['acousticness'],\n",
    "                    mode='lines+markers',\n",
    "                    name='High Acoustic'))"
   ]
  },
  {
   "cell_type": "code",
   "execution_count": null,
   "id": "dabc0bdb",
   "metadata": {},
   "outputs": [],
   "source": [
    "#number of songs per year according to their acousticness\n",
    "fig = px.histogram(highlow, x=\"release_date\", y=\"acousticness\",\n",
    "             color='group', barmode='group',\n",
    "             height=600, width=1000)\n",
    "fig.show()\n"
   ]
  },
  {
   "cell_type": "code",
   "execution_count": null,
   "id": "cd71949d",
   "metadata": {},
   "outputs": [],
   "source": [
    "#Using Pearson Correlation to understand the relashionshp between the features\n",
    "plt.figure(figsize=(12,10))\n",
    "cor = alldf.corr()\n",
    "sns.heatmap(cor, annot=True, cmap='viridis',annot_kws={\"size\": 12})\n",
    "sns.set(font_scale=1.5)\n",
    "plt.savefig('/home/asma/Downloads/figures/correlation heatmap.png', dpi=300, bbox_inches='tight')\n",
    "plt.show()\n"
   ]
  },
  {
   "cell_type": "code",
   "execution_count": null,
   "id": "c4e7a306",
   "metadata": {},
   "outputs": [],
   "source": [
    "#densicty map to understand where the majority of the songs are densed according to danceability and time signature\n",
    "df = px.data.tips()\n",
    "fig = px.density_heatmap(df5 , x=\"danceability\", y=\"time_signature\", title=\"\", color_continuous_scale=px.colors.sequential.Viridis)\n",
    "\n",
    "fig.update_layout(coloraxis_showscale=True)\n",
    "fig.update_traces(\n",
    "        textfont_size=14)                 \n",
    "fig.show()"
   ]
  },
  {
   "cell_type": "code",
   "execution_count": null,
   "id": "b507d1dd",
   "metadata": {},
   "outputs": [],
   "source": [
    "#Box plot showing the IQR (interquartile range) of the duration \n",
    "fig.update_traces(marker_color='indianred')\n",
    "px.box(data_frame=df5,y='duration',color='category')\n"
   ]
  },
  {
   "cell_type": "code",
   "execution_count": null,
   "id": "7eb74023",
   "metadata": {},
   "outputs": [],
   "source": [
    "#scatter matrix at a pairwise level\n",
    "fig = px.scatter_matrix(df5, dimensions=[\"valence\", \"energy\", \"danceability\", \"tempo\"], color=\"category\", color_continuous_scale=px.colors.sequential.Viridis)\n",
    "fig.show()\n"
   ]
  }
 ],
 "metadata": {
  "kernelspec": {
   "display_name": "Python 3 (ipykernel)",
   "language": "python",
   "name": "python3"
  },
  "language_info": {
   "codemirror_mode": {
    "name": "ipython",
    "version": 3
   },
   "file_extension": ".py",
   "mimetype": "text/x-python",
   "name": "python",
   "nbconvert_exporter": "python",
   "pygments_lexer": "ipython3",
   "version": "3.9.12"
  }
 },
 "nbformat": 4,
 "nbformat_minor": 5
}
