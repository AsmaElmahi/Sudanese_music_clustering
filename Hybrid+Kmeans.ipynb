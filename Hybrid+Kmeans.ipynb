{
 "cells": [
  {
   "cell_type": "code",
   "execution_count": 36,
   "id": "1af10159",
   "metadata": {},
   "outputs": [],
   "source": [
    "#import the libraries\n",
    "#plotting libraries\n",
    "import pandas as pd\n",
    "import numpy as np\n",
    "import seaborn as sns\n",
    "from matplotlib import pyplot as plt\n",
    "import warnings\n",
    "warnings.filterwarnings('ignore')\n",
    "%matplotlib inline\n",
    "import plotly.graph_objects as go\n",
    "import plotly.offline as pyo\n",
    "import matplotlib.cm as cm\n",
    "#models libraries\n",
    "\n",
    "from yellowbrick.cluster import KElbowVisualizer\n",
    "import pylab as pl\n",
    "from sklearn import cluster\n",
    "from sklearn.cluster import SpectralClustering\n",
    "from sklearn.cluster import KMeans\n",
    "from sklearn.decomposition import PCA\n",
    "from sklearn.preprocessing import StandardScaler\n",
    "from sklearn.manifold import TSNE\n",
    "import scipy.cluster.hierarchy as hcd\n",
    "from sklearn.cluster import AgglomerativeClustering\n",
    "from sklearn.metrics import silhouette_samples, silhouette_score\n",
    "#from sklearn.cluster import DBSCAN\n",
    "\n",
    "\n",
    "#import hdbscan\n",
    "\n",
    "#features will be usig along the process\n",
    "features = [\n",
    "    'danceability',\n",
    "    'energy',\n",
    "    #'key',\n",
    "    'loudness',\n",
    "    #'mode',\n",
    "    'acousticness',\n",
    "    #'liveness',\n",
    "    'valence',\n",
    "    'tempo',\n",
    "    #'duration_ms',\n",
    "    #'time_signature'\n",
    "]\n",
    "spotify = [\n",
    "    'danceability',\n",
    "    'energy',\n",
    "    #'key',\n",
    "    #'loudness',\n",
    "    #'mode',\n",
    "    'acousticness',\n",
    "    'liveness',\n",
    "    'valence',\n",
    "    #'tempo',\n",
    "    #'duration_ms',\n",
    "    #'time_signature'\n",
    "]\n",
    "musicology= [\n",
    "    #'danceability',\n",
    "    #'energy',\n",
    "    'key',\n",
    "    'loudness',\n",
    "    'mode',\n",
    "    #'acousticness',\n",
    "    #'liveness',\n",
    "    #'valence',\n",
    "    'tempo',\n",
    "    #'duration_ms',\n",
    "    'time_signature'\n",
    "]\n",
    "# Some variables\n",
    "\n",
    "\n",
    "NUM_CLUSTERS = 3  # k\n",
    "NUM_ITER = 3          # n\n",
    "NUM_ATTEMPTS = 5      # m\n",
    "INIT='k-means++'"
   ]
  },
  {
   "cell_type": "code",
   "execution_count": 2,
   "id": "534abc98",
   "metadata": {},
   "outputs": [],
   "source": [
    "#define data scaling class for using the standard scaler\n",
    "class data_scaler:\n",
    "    \n",
    "    def __init__(self, file):\n",
    "#creates train and test dataframe\n",
    "        self.df = self._load_data(file)\n",
    "        \n",
    "    def _load_data(self, file):\n",
    "        return pd.read_csv(file)\n",
    "    \n",
    "    def dataset_info(self, file):\n",
    "#prints main information\n",
    "        df = self._load_data(file)\n",
    "        print('\\n{0:*^80}'.format(' Reading from the file {0} '.format(file)))\n",
    "        print(\"\\nit has {0} rows and {1} columns\".format(*df.shape))\n",
    "        print('\\n{0:*^80}\\n'.format(' It has the following columns '))\n",
    "        print(df.columns)\n",
    "        print('\\n{0:*^80}\\n'.format(' Description of quantitative columns'))\n",
    "        print(df.describe(include=[np.number]))\n",
    "        print('\\n{0:*^80}\\n'.format(' Description of categorical columns'))\n",
    "        print(df.describe(include=['O']))\n",
    "        \n",
    "        \n",
    "    def standard_scaler(self, df):\n",
    "        scaled = StandardScaler().fit_transform(df)\n",
    "        df_scaled = pd.DataFrame(scaled, columns=df.columns)\n",
    "        return df_scaled"
   ]
  },
  {
   "cell_type": "code",
   "execution_count": 3,
   "id": "5dad7cda",
   "metadata": {},
   "outputs": [],
   "source": [
    "#Define clustering class\n",
    "\n",
    "#k-means clustering\n",
    "class clustering_methods:\n",
    "    def k_means(self, df, n_clusters,init,max_iter,n_init,verbose):\n",
    "        kmeans = KMeans(n_clusters=n_clusters,init=init,max_iter=max_iter,n_init=n_init,verbose=verbose )\n",
    "        df['cluster'] = kmeans.fit_predict(df[df.columns])\n",
    "        return df\n",
    "    \n",
    "#Hierarchical Agglomerative Clustering       \n",
    "    def aggolmerative_clustering(self, df, n_clusters, affinity, linkage):\n",
    "        agglom = AgglomerativeClustering(n_clusters=n_clusters, affinity=affinity, linkage=linkage)\n",
    "        df['cluster'] = agglom.fit_predict(df)\n",
    "        return df\n",
    "    \n",
    "#Dencity Based Clustering\n",
    "    def density_based_clustering(self, df, eps, metric, min_samples):\n",
    "        '''predict clusters using dbscan'''\n",
    "        dbscan_df = DBSCAN(eps=eps, metric=metric, min_samples=min_samples).fit(df)\n",
    "        labels = dbscan_df.labels_\n",
    "        df[\"cluster\"] = dbscan_df.fit_predict(df)                                                              \n",
    "        return df\n",
    "    def hierarchical_density_based_clustering(self, df, min_cluster_size, gen_min_span_tree=True):\n",
    "#predict clusters using hdbscan'''\n",
    "        clusterer_hdbscan = hdbscan.HDBSCAN(min_cluster_size=min_cluster_size, gen_min_span_tree=gen_min_span_tree)\n",
    "        clusterer_hdbscan.fit(df)\n",
    "        df[\"cluster\"] = clusterer_hdbscan.fit_predict(df) \n",
    "        return df\n"
   ]
  },
  {
   "cell_type": "code",
   "execution_count": 4,
   "id": "08f16a44",
   "metadata": {},
   "outputs": [],
   "source": [
    "#Define dimensonality reduction class, for visualizing the data\n",
    "\n",
    "class dimensionality_reduction:\n",
    "    def pca_transform(self, df_scaled, n_components):\n",
    "#dimentionality reduction using pca'''\n",
    "        pca = PCA(n_components=n_components)\n",
    "        pcomponents = pca.fit_transform(df_scaled)\n",
    "        pca_df = pd.DataFrame(pcomponents, columns = ['PC1', 'PC2'])\n",
    "        ratio = pca.explained_variance_ratio_\n",
    "        return pca_df, ratio\n",
    "        \n",
    "        \n",
    "    def tsne_transform(self, df_scaled, n_components):\n",
    "        tsne_transform = TSNE(n_components= n_components).fit_transform(df_scaled)\n",
    "        return tsne_transform\n",
    "    \n",
    "    "
   ]
  },
  {
   "cell_type": "code",
   "execution_count": 5,
   "id": "f332cc1d",
   "metadata": {},
   "outputs": [],
   "source": [
    "#Define visualization class\n",
    "\n",
    "class visualization:\n",
    "#define the function that creates the basic model \n",
    "    def __init__(self):\n",
    "        sns.set(rc={'figure.figsize': (11.7, 6.27)})\n",
    "        self.palette = \"viridis\"\n",
    "        self.color = \"darkblue\"\n",
    "    \n",
    "    \n",
    "    \n",
    "     \n",
    "    def plot_elbow_curve(self, df, num):\n",
    "#plot elbow curve to choose number of clusters\n",
    "        k = range(1, num)\n",
    "        kmeans = [KMeans(n_clusters=i) for i in k]\n",
    "        score = [kmeans[i].fit(df[df.columns]).score(df[df.columns]) for i in range(len(kmeans))]\n",
    "        pl.plot(k, score)\n",
    "        pl.xlabel('Number of Clusters')\n",
    "        pl.ylabel('Score')\n",
    "        pl.title('Elbow Curve')\n",
    "        pl.show()\n",
    "        \n",
    "    def plot_pca(self, pca_df, df, cluster_column):\n",
    "#scatterplot to visualize after pca transformation\n",
    "        sns.scatterplot(x=pca_df['PC1'], y=pca_df['PC2'], hue=df[cluster_column], palette=self.palette)\n",
    "        plt.xlabel('First principle component')\n",
    "        plt.ylabel('Second principle component')\n",
    "        plt.show()\n",
    "\n",
    "\n",
    "    def plot_tsne(self, tsne_df, df, cluster_column):\n",
    "#scatterplot to visualize after tsne transformation\n",
    "        sns.scatterplot(x=tsne_df[:, 0], y=tsne_df[:, 1], hue=df[cluster_column], palette=self.palette)\n",
    "        plt.xlabel('First tsne component')\n",
    "        plt.ylabel('Second tsne component')\n",
    "        plt.show()\n",
    "        \n",
    "    def plot_dendrogram(self, df, metric, method):\n",
    "#plot dendrogram to choose number of clusters\n",
    "        plt.style.use('ggplot')\n",
    "        hcd.set_link_color_palette([\"#B061FF\", \"#7a0177\"])\n",
    "        dendrogram = hcd.dendrogram(hcd.linkage(df, metric=metric, method=method))\n",
    "        plt.title('Dendrogram', size=12)\n",
    "        plt.xlabel('Songs', size=12)\n",
    "        plt.ylabel('Euclidean Distances', size=12)\n",
    "        plt.show()\n",
    "        \n",
    "    def plot_clusters(self, df, cluster):\n",
    "#plot clusters interpretation\n",
    "        sns.set_style(\"whitegrid\")\n",
    "        bins = np.linspace(0,2,10)\n",
    "        fig, ax = plt.subplots(1, 6, figsize=(15, 3))\n",
    "        cluster_df = df[df.cluster == cluster]\n",
    "        cluster_features = ['acousticness', 'danceability', 'loudness', 'energy', 'tempo','valence']\n",
    "        col = 0\n",
    "        for feature in cluster_features:\n",
    "            general = df.groupby(pd.cut(df[feature], bins)).size().reset_index(name='count')\n",
    "            cluster = cluster_df.groupby(pd.cut(cluster_df[feature], bins)).size().reset_index(name='count')\n",
    "            sns.barplot(data=general, x=feature, y='count', color='#efedf5', ax=ax[col])\n",
    "            sns.barplot(data=cluster, x=feature, y='count', color='#224d55', ax=ax[col])\n",
    "            ax[col].set_xticklabels(range(1,10), fontsize=10)\n",
    "            col += 1\n",
    "        plt.show()    \n"
   ]
  },
  {
   "cell_type": "code",
   "execution_count": 24,
   "id": "279335b2",
   "metadata": {},
   "outputs": [
    {
     "data": {
      "text/html": [
       "<div>\n",
       "<style scoped>\n",
       "    .dataframe tbody tr th:only-of-type {\n",
       "        vertical-align: middle;\n",
       "    }\n",
       "\n",
       "    .dataframe tbody tr th {\n",
       "        vertical-align: top;\n",
       "    }\n",
       "\n",
       "    .dataframe thead th {\n",
       "        text-align: right;\n",
       "    }\n",
       "</style>\n",
       "<table border=\"1\" class=\"dataframe\">\n",
       "  <thead>\n",
       "    <tr style=\"text-align: right;\">\n",
       "      <th></th>\n",
       "      <th>danceability</th>\n",
       "      <th>energy</th>\n",
       "      <th>key</th>\n",
       "      <th>loudness</th>\n",
       "      <th>mode</th>\n",
       "      <th>acousticness</th>\n",
       "      <th>liveness</th>\n",
       "      <th>valence</th>\n",
       "      <th>tempo</th>\n",
       "      <th>time_signature</th>\n",
       "    </tr>\n",
       "    <tr>\n",
       "      <th>track_id</th>\n",
       "      <th></th>\n",
       "      <th></th>\n",
       "      <th></th>\n",
       "      <th></th>\n",
       "      <th></th>\n",
       "      <th></th>\n",
       "      <th></th>\n",
       "      <th></th>\n",
       "      <th></th>\n",
       "      <th></th>\n",
       "    </tr>\n",
       "  </thead>\n",
       "  <tbody>\n",
       "    <tr>\n",
       "      <th>0</th>\n",
       "      <td>0.317</td>\n",
       "      <td>0.386</td>\n",
       "      <td>9</td>\n",
       "      <td>-13.066</td>\n",
       "      <td>1</td>\n",
       "      <td>0.97</td>\n",
       "      <td>0.1630</td>\n",
       "      <td>0.782</td>\n",
       "      <td>100.796</td>\n",
       "      <td>4</td>\n",
       "    </tr>\n",
       "    <tr>\n",
       "      <th>1</th>\n",
       "      <td>0.527</td>\n",
       "      <td>0.444</td>\n",
       "      <td>11</td>\n",
       "      <td>-13.708</td>\n",
       "      <td>1</td>\n",
       "      <td>0.66</td>\n",
       "      <td>0.4140</td>\n",
       "      <td>0.725</td>\n",
       "      <td>124.681</td>\n",
       "      <td>4</td>\n",
       "    </tr>\n",
       "    <tr>\n",
       "      <th>2</th>\n",
       "      <td>0.494</td>\n",
       "      <td>0.170</td>\n",
       "      <td>4</td>\n",
       "      <td>-20.979</td>\n",
       "      <td>0</td>\n",
       "      <td>0.70</td>\n",
       "      <td>0.0875</td>\n",
       "      <td>0.314</td>\n",
       "      <td>155.024</td>\n",
       "      <td>1</td>\n",
       "    </tr>\n",
       "    <tr>\n",
       "      <th>3</th>\n",
       "      <td>0.322</td>\n",
       "      <td>0.630</td>\n",
       "      <td>10</td>\n",
       "      <td>-9.473</td>\n",
       "      <td>0</td>\n",
       "      <td>0.92</td>\n",
       "      <td>0.1160</td>\n",
       "      <td>0.758</td>\n",
       "      <td>102.394</td>\n",
       "      <td>3</td>\n",
       "    </tr>\n",
       "    <tr>\n",
       "      <th>4</th>\n",
       "      <td>0.737</td>\n",
       "      <td>0.704</td>\n",
       "      <td>4</td>\n",
       "      <td>-7.925</td>\n",
       "      <td>0</td>\n",
       "      <td>0.31</td>\n",
       "      <td>0.1060</td>\n",
       "      <td>0.737</td>\n",
       "      <td>139.985</td>\n",
       "      <td>4</td>\n",
       "    </tr>\n",
       "  </tbody>\n",
       "</table>\n",
       "</div>"
      ],
      "text/plain": [
       "          danceability  energy  key  loudness  mode  acousticness  liveness  \\\n",
       "track_id                                                                      \n",
       "0                0.317   0.386    9   -13.066     1          0.97    0.1630   \n",
       "1                0.527   0.444   11   -13.708     1          0.66    0.4140   \n",
       "2                0.494   0.170    4   -20.979     0          0.70    0.0875   \n",
       "3                0.322   0.630   10    -9.473     0          0.92    0.1160   \n",
       "4                0.737   0.704    4    -7.925     0          0.31    0.1060   \n",
       "\n",
       "          valence    tempo  time_signature  \n",
       "track_id                                    \n",
       "0           0.782  100.796               4  \n",
       "1           0.725  124.681               4  \n",
       "2           0.314  155.024               1  \n",
       "3           0.758  102.394               3  \n",
       "4           0.737  139.985               4  "
      ]
     },
     "execution_count": 24,
     "metadata": {},
     "output_type": "execute_result"
    }
   ],
   "source": [
    "#Read the dataframe that has all the Spotify and Musicology features set\n",
    "all_features_df = pd.read_csv ('/home/asmaosman/Music/Thesis files/Clusters_dataframes/all_features_dataframe.csv',  index_col = 0)\n",
    "all_features_df.head()"
   ]
  },
  {
   "cell_type": "code",
   "execution_count": 25,
   "id": "f9620d7b",
   "metadata": {},
   "outputs": [
    {
     "data": {
      "text/html": [
       "<div>\n",
       "<style scoped>\n",
       "    .dataframe tbody tr th:only-of-type {\n",
       "        vertical-align: middle;\n",
       "    }\n",
       "\n",
       "    .dataframe tbody tr th {\n",
       "        vertical-align: top;\n",
       "    }\n",
       "\n",
       "    .dataframe thead th {\n",
       "        text-align: right;\n",
       "    }\n",
       "</style>\n",
       "<table border=\"1\" class=\"dataframe\">\n",
       "  <thead>\n",
       "    <tr style=\"text-align: right;\">\n",
       "      <th></th>\n",
       "      <th>danceability</th>\n",
       "      <th>energy</th>\n",
       "      <th>loudness</th>\n",
       "      <th>acousticness</th>\n",
       "      <th>valence</th>\n",
       "      <th>tempo</th>\n",
       "    </tr>\n",
       "    <tr>\n",
       "      <th>track_id</th>\n",
       "      <th></th>\n",
       "      <th></th>\n",
       "      <th></th>\n",
       "      <th></th>\n",
       "      <th></th>\n",
       "      <th></th>\n",
       "    </tr>\n",
       "  </thead>\n",
       "  <tbody>\n",
       "    <tr>\n",
       "      <th>0</th>\n",
       "      <td>0.317</td>\n",
       "      <td>0.386</td>\n",
       "      <td>-13.066</td>\n",
       "      <td>0.97</td>\n",
       "      <td>0.782</td>\n",
       "      <td>100.796</td>\n",
       "    </tr>\n",
       "    <tr>\n",
       "      <th>1</th>\n",
       "      <td>0.527</td>\n",
       "      <td>0.444</td>\n",
       "      <td>-13.708</td>\n",
       "      <td>0.66</td>\n",
       "      <td>0.725</td>\n",
       "      <td>124.681</td>\n",
       "    </tr>\n",
       "    <tr>\n",
       "      <th>2</th>\n",
       "      <td>0.494</td>\n",
       "      <td>0.170</td>\n",
       "      <td>-20.979</td>\n",
       "      <td>0.70</td>\n",
       "      <td>0.314</td>\n",
       "      <td>155.024</td>\n",
       "    </tr>\n",
       "    <tr>\n",
       "      <th>3</th>\n",
       "      <td>0.322</td>\n",
       "      <td>0.630</td>\n",
       "      <td>-9.473</td>\n",
       "      <td>0.92</td>\n",
       "      <td>0.758</td>\n",
       "      <td>102.394</td>\n",
       "    </tr>\n",
       "    <tr>\n",
       "      <th>4</th>\n",
       "      <td>0.737</td>\n",
       "      <td>0.704</td>\n",
       "      <td>-7.925</td>\n",
       "      <td>0.31</td>\n",
       "      <td>0.737</td>\n",
       "      <td>139.985</td>\n",
       "    </tr>\n",
       "    <tr>\n",
       "      <th>...</th>\n",
       "      <td>...</td>\n",
       "      <td>...</td>\n",
       "      <td>...</td>\n",
       "      <td>...</td>\n",
       "      <td>...</td>\n",
       "      <td>...</td>\n",
       "    </tr>\n",
       "    <tr>\n",
       "      <th>669</th>\n",
       "      <td>0.481</td>\n",
       "      <td>0.730</td>\n",
       "      <td>-8.289</td>\n",
       "      <td>0.73</td>\n",
       "      <td>0.941</td>\n",
       "      <td>71.326</td>\n",
       "    </tr>\n",
       "    <tr>\n",
       "      <th>670</th>\n",
       "      <td>0.588</td>\n",
       "      <td>0.713</td>\n",
       "      <td>-7.456</td>\n",
       "      <td>0.09</td>\n",
       "      <td>0.857</td>\n",
       "      <td>153.968</td>\n",
       "    </tr>\n",
       "    <tr>\n",
       "      <th>671</th>\n",
       "      <td>0.575</td>\n",
       "      <td>0.269</td>\n",
       "      <td>-22.835</td>\n",
       "      <td>0.53</td>\n",
       "      <td>0.761</td>\n",
       "      <td>110.744</td>\n",
       "    </tr>\n",
       "    <tr>\n",
       "      <th>672</th>\n",
       "      <td>0.673</td>\n",
       "      <td>0.676</td>\n",
       "      <td>-8.827</td>\n",
       "      <td>0.23</td>\n",
       "      <td>0.539</td>\n",
       "      <td>152.338</td>\n",
       "    </tr>\n",
       "    <tr>\n",
       "      <th>673</th>\n",
       "      <td>0.653</td>\n",
       "      <td>0.864</td>\n",
       "      <td>-3.362</td>\n",
       "      <td>0.34</td>\n",
       "      <td>0.845</td>\n",
       "      <td>158.393</td>\n",
       "    </tr>\n",
       "  </tbody>\n",
       "</table>\n",
       "<p>674 rows × 6 columns</p>\n",
       "</div>"
      ],
      "text/plain": [
       "          danceability  energy  loudness  acousticness  valence    tempo\n",
       "track_id                                                                \n",
       "0                0.317   0.386   -13.066          0.97    0.782  100.796\n",
       "1                0.527   0.444   -13.708          0.66    0.725  124.681\n",
       "2                0.494   0.170   -20.979          0.70    0.314  155.024\n",
       "3                0.322   0.630    -9.473          0.92    0.758  102.394\n",
       "4                0.737   0.704    -7.925          0.31    0.737  139.985\n",
       "...                ...     ...       ...           ...      ...      ...\n",
       "669              0.481   0.730    -8.289          0.73    0.941   71.326\n",
       "670              0.588   0.713    -7.456          0.09    0.857  153.968\n",
       "671              0.575   0.269   -22.835          0.53    0.761  110.744\n",
       "672              0.673   0.676    -8.827          0.23    0.539  152.338\n",
       "673              0.653   0.864    -3.362          0.34    0.845  158.393\n",
       "\n",
       "[674 rows x 6 columns]"
      ]
     },
     "execution_count": 25,
     "metadata": {},
     "output_type": "execute_result"
    }
   ],
   "source": [
    "#Exclude the unwanted axes \n",
    "clustering_df = all_features_df.drop(['mode','time_signature','key','liveness'], axis=1)\n",
    "clustering_df "
   ]
  },
  {
   "cell_type": "code",
   "execution_count": 26,
   "id": "30be7e6e",
   "metadata": {},
   "outputs": [],
   "source": [
    "#assign variables to each class\n",
    "clustering = clustering_methods()\n",
    "dimension = dimensionality_reduction()\n",
    "plot = visualization()"
   ]
  },
  {
   "cell_type": "code",
   "execution_count": 27,
   "id": "7bdeef09",
   "metadata": {},
   "outputs": [
    {
     "data": {
      "text/html": [
       "<div>\n",
       "<style scoped>\n",
       "    .dataframe tbody tr th:only-of-type {\n",
       "        vertical-align: middle;\n",
       "    }\n",
       "\n",
       "    .dataframe tbody tr th {\n",
       "        vertical-align: top;\n",
       "    }\n",
       "\n",
       "    .dataframe thead th {\n",
       "        text-align: right;\n",
       "    }\n",
       "</style>\n",
       "<table border=\"1\" class=\"dataframe\">\n",
       "  <thead>\n",
       "    <tr style=\"text-align: right;\">\n",
       "      <th></th>\n",
       "      <th>danceability</th>\n",
       "      <th>energy</th>\n",
       "      <th>loudness</th>\n",
       "      <th>acousticness</th>\n",
       "      <th>valence</th>\n",
       "      <th>tempo</th>\n",
       "    </tr>\n",
       "  </thead>\n",
       "  <tbody>\n",
       "    <tr>\n",
       "      <th>0</th>\n",
       "      <td>-1.682965</td>\n",
       "      <td>-0.838945</td>\n",
       "      <td>-0.459427</td>\n",
       "      <td>1.603070</td>\n",
       "      <td>-0.013596</td>\n",
       "      <td>-0.874891</td>\n",
       "    </tr>\n",
       "    <tr>\n",
       "      <th>1</th>\n",
       "      <td>-0.261666</td>\n",
       "      <td>-0.556711</td>\n",
       "      <td>-0.568140</td>\n",
       "      <td>0.442805</td>\n",
       "      <td>-0.374817</td>\n",
       "      <td>-0.093805</td>\n",
       "    </tr>\n",
       "    <tr>\n",
       "      <th>2</th>\n",
       "      <td>-0.485013</td>\n",
       "      <td>-1.890025</td>\n",
       "      <td>-1.799365</td>\n",
       "      <td>0.592516</td>\n",
       "      <td>-2.979410</td>\n",
       "      <td>0.898470</td>\n",
       "    </tr>\n",
       "    <tr>\n",
       "      <th>3</th>\n",
       "      <td>-1.649124</td>\n",
       "      <td>0.348386</td>\n",
       "      <td>0.148988</td>\n",
       "      <td>1.415930</td>\n",
       "      <td>-0.165689</td>\n",
       "      <td>-0.822633</td>\n",
       "    </tr>\n",
       "    <tr>\n",
       "      <th>4</th>\n",
       "      <td>1.159633</td>\n",
       "      <td>0.708478</td>\n",
       "      <td>0.411117</td>\n",
       "      <td>-0.867173</td>\n",
       "      <td>-0.298770</td>\n",
       "      <td>0.406665</td>\n",
       "    </tr>\n",
       "    <tr>\n",
       "      <th>5</th>\n",
       "      <td>-0.058623</td>\n",
       "      <td>-0.318271</td>\n",
       "      <td>0.715918</td>\n",
       "      <td>-0.680033</td>\n",
       "      <td>-3.087143</td>\n",
       "      <td>-0.574098</td>\n",
       "    </tr>\n",
       "    <tr>\n",
       "      <th>6</th>\n",
       "      <td>1.058111</td>\n",
       "      <td>-0.036037</td>\n",
       "      <td>0.584345</td>\n",
       "      <td>-1.466019</td>\n",
       "      <td>-0.083305</td>\n",
       "      <td>0.144592</td>\n",
       "    </tr>\n",
       "    <tr>\n",
       "      <th>7</th>\n",
       "      <td>-0.221057</td>\n",
       "      <td>0.883658</td>\n",
       "      <td>0.270231</td>\n",
       "      <td>0.929367</td>\n",
       "      <td>0.917974</td>\n",
       "      <td>1.223821</td>\n",
       "    </tr>\n",
       "    <tr>\n",
       "      <th>8</th>\n",
       "      <td>-0.268434</td>\n",
       "      <td>-1.213636</td>\n",
       "      <td>-1.651536</td>\n",
       "      <td>0.330521</td>\n",
       "      <td>0.315939</td>\n",
       "      <td>-0.350025</td>\n",
       "    </tr>\n",
       "    <tr>\n",
       "      <th>9</th>\n",
       "      <td>0.367766</td>\n",
       "      <td>0.557629</td>\n",
       "      <td>0.828355</td>\n",
       "      <td>1.266219</td>\n",
       "      <td>1.038381</td>\n",
       "      <td>0.537800</td>\n",
       "    </tr>\n",
       "  </tbody>\n",
       "</table>\n",
       "</div>"
      ],
      "text/plain": [
       "   danceability    energy  loudness  acousticness   valence     tempo\n",
       "0     -1.682965 -0.838945 -0.459427      1.603070 -0.013596 -0.874891\n",
       "1     -0.261666 -0.556711 -0.568140      0.442805 -0.374817 -0.093805\n",
       "2     -0.485013 -1.890025 -1.799365      0.592516 -2.979410  0.898470\n",
       "3     -1.649124  0.348386  0.148988      1.415930 -0.165689 -0.822633\n",
       "4      1.159633  0.708478  0.411117     -0.867173 -0.298770  0.406665\n",
       "5     -0.058623 -0.318271  0.715918     -0.680033 -3.087143 -0.574098\n",
       "6      1.058111 -0.036037  0.584345     -1.466019 -0.083305  0.144592\n",
       "7     -0.221057  0.883658  0.270231      0.929367  0.917974  1.223821\n",
       "8     -0.268434 -1.213636 -1.651536      0.330521  0.315939 -0.350025\n",
       "9      0.367766  0.557629  0.828355      1.266219  1.038381  0.537800"
      ]
     },
     "execution_count": 27,
     "metadata": {},
     "output_type": "execute_result"
    }
   ],
   "source": [
    "#scale the data using the standard scaler\n",
    "#please check if I did the standardization correctly as it's an essential step\n",
    "\n",
    "scaled_data =data_scaler.standard_scaler(clustering_df  ,clustering_df  )\n",
    "scaled_data.head(10)"
   ]
  },
  {
   "cell_type": "code",
   "execution_count": 28,
   "id": "0780215e",
   "metadata": {},
   "outputs": [
    {
     "data": {
      "image/png": "[encoded data removed]",
      "text/plain": [
       "<Figure size 842.4x451.44 with 1 Axes>"
      ]
     },
     "metadata": {},
     "output_type": "display_data"
    }
   ],
   "source": [
    "#Apply agglomerative clustering to determine the numbers of k for k-means, Euclidean and ward are commonly\n",
    "#used that's why I applied them\n",
    "\n",
    "plot.plot_dendrogram(scaled_data, 'euclidean', 'ward')\n"
   ]
  },
  {
   "cell_type": "code",
   "execution_count": 54,
   "id": "3e85fda8",
   "metadata": {},
   "outputs": [
    {
     "data": {
      "text/plain": [
       "array([1, 2, 0])"
      ]
     },
     "execution_count": 54,
     "metadata": {},
     "output_type": "execute_result"
    }
   ],
   "source": [
    "#The dendrogram above says 3 clusters as far as I can read\n",
    "hc_df = clustering. aggolmerative_clustering(scaled_data, 3, 'euclidean', 'ward')\n",
    "hc_df.cluster.unique()"
   ]
  },
  {
   "cell_type": "code",
   "execution_count": 30,
   "id": "95a916f1",
   "metadata": {},
   "outputs": [
    {
     "data": {
      "image/png": "[encoded data removed]",
      "text/plain": [
       "<Figure size 842.4x451.44 with 1 Axes>"
      ]
     },
     "metadata": {},
     "output_type": "display_data"
    }
   ],
   "source": [
    "#This is applied for nothing but feature space visualization, commonly used for viz too, it gives a hint on the separation\n",
    "hc_df_transform, ratio = dimension.pca_transform(hc_df, 2)\n",
    "plot.plot_pca(hc_df_transform, hc_df, 'cluster')"
   ]
  },
  {
   "cell_type": "code",
   "execution_count": 31,
   "id": "1bb3b1c6",
   "metadata": {},
   "outputs": [
    {
     "data": {
      "image/png": "[encoded data removed]",
      "text/plain": [
       "<Figure size 1080x216 with 6 Axes>"
      ]
     },
     "metadata": {},
     "output_type": "display_data"
    },
    {
     "data": {
      "image/png": "[encoded data removed]",
      "text/plain": [
       "<Figure size 1080x216 with 6 Axes>"
      ]
     },
     "metadata": {},
     "output_type": "display_data"
    },
    {
     "data": {
      "image/png": "[encoded data removed]",
      "text/plain": [
       "<Figure size 1080x216 with 6 Axes>"
      ]
     },
     "metadata": {},
     "output_type": "display_data"
    }
   ],
   "source": [
    "#this histogram i was hoping to use for giving me a hint on how the clusters are different in terms of features\n",
    "#distribution\n",
    "for i in np.sort(hc_df['cluster'].unique()):\n",
    "    plot.plot_clusters(hc_df, i)"
   ]
  },
  {
   "cell_type": "code",
   "execution_count": 107,
   "id": "114ae145",
   "metadata": {
    "scrolled": false
   },
   "outputs": [
    {
     "name": "stdout",
     "output_type": "stream",
     "text": [
      "286\n",
      "278\n",
      "110\n"
     ]
    },
    {
     "data": {
      "application/vnd.plotly.v1+json": {
       "config": {
        "plotlyServerURL": "https://plot.ly"
       },
       "data": [
        {
         "line": {
          "width": 3
         },
         "mode": "lines",
         "name": "Cluster 0",
         "opacity": 1,
         "r": [
          0.45108953346483466,
          0.4063711390876563,
          0.3995484417937327,
          -0.958779506632189,
          -0.10909716698093597,
          0.09851616670249344,
          0.45108953346483466
         ],
         "text": [
          "Mean value: 0.45108953346483466",
          "Mean value: 0.4063711390876563",
          "Mean value: 0.3995484417937327",
          "Mean value: -0.958779506632189",
          "Mean value: -0.10909716698093597",
          "Mean value: 0.09851616670249344",
          "Mean value: 0.45108953346483466"
         ],
         "theta": [
          "danceability",
          "energy",
          "loudness",
          "acousticness",
          "valence",
          "tempo",
          "danceability"
         ],
         "type": "scatterpolar"
        },
        {
         "line": {
          "width": 3
         },
         "mode": "lines",
         "name": "Cluster 1",
         "opacity": 0.972027972027972,
         "r": [
          -0.17302348122402292,
          0.12484783783027878,
          0.2576970565172814,
          0.695241020393219,
          0.09108209062717168,
          -0.23645527456495422,
          -0.17302348122402292
         ],
         "text": [
          "Mean value: -0.17302348122402292",
          "Mean value: 0.12484783783027878",
          "Mean value: 0.2576970565172814",
          "Mean value: 0.695241020393219",
          "Mean value: 0.09108209062717168",
          "Mean value: -0.23645527456495422",
          "Mean value: -0.17302348122402292"
         ],
         "theta": [
          "danceability",
          "energy",
          "loudness",
          "acousticness",
          "valence",
          "tempo",
          "danceability"
         ],
         "type": "scatterpolar"
        },
        {
         "line": {
          "width": 3
         },
         "mode": "lines",
         "name": "Cluster 2",
         "opacity": 0.6,
         "r": [
          -0.7355552617333093,
          -1.3720894972353392,
          -1.690096691498288,
          0.7357630475226459,
          0.05346335056539966,
          0.3414449332013133,
          -0.7355552617333093
         ],
         "text": [
          "Mean value: -0.7355552617333093",
          "Mean value: -1.3720894972353392",
          "Mean value: -1.690096691498288",
          "Mean value: 0.7357630475226459",
          "Mean value: 0.05346335056539966",
          "Mean value: 0.3414449332013133",
          "Mean value: -0.7355552617333093"
         ],
         "theta": [
          "danceability",
          "energy",
          "loudness",
          "acousticness",
          "valence",
          "tempo",
          "danceability"
         ],
         "type": "scatterpolar"
        }
       ],
       "layout": {
        "autosize": false,
        "showlegend": true,
        "template": {
         "data": {
          "bar": [
           {
            "error_x": {
             "color": "#f2f5fa"
            },
            "error_y": {
             "color": "#f2f5fa"
            },
            "marker": {
             "line": {
              "color": "rgb(17,17,17)",
              "width": 0.5
             },
             "pattern": {
              "fillmode": "overlay",
              "size": 10,
              "solidity": 0.2
             }
            },
            "type": "bar"
           }
          ],
          "barpolar": [
           {
            "marker": {
             "line": {
              "color": "rgb(17,17,17)",
              "width": 0.5
             },
             "pattern": {
              "fillmode": "overlay",
              "size": 10,
              "solidity": 0.2
             }
            },
            "type": "barpolar"
           }
          ],
          "carpet": [
           {
            "aaxis": {
             "endlinecolor": "#A2B1C6",
             "gridcolor": "#506784",
             "linecolor": "#506784",
             "minorgridcolor": "#506784",
             "startlinecolor": "#A2B1C6"
            },
            "baxis": {
             "endlinecolor": "#A2B1C6",
             "gridcolor": "#506784",
             "linecolor": "#506784",
             "minorgridcolor": "#506784",
             "startlinecolor": "#A2B1C6"
            },
            "type": "carpet"
           }
          ],
          "choropleth": [
           {
            "colorbar": {
             "outlinewidth": 0,
             "ticks": ""
            },
            "type": "choropleth"
           }
          ],
          "contour": [
           {
            "colorbar": {
             "outlinewidth": 0,
             "ticks": ""
            },
            "colorscale": [
             [
              0,
              "#0d0887"
             ],
             [
              0.1111111111111111,
              "#46039f"
             ],
             [
              0.2222222222222222,
              "#7201a8"
             ],
             [
              0.3333333333333333,
              "#9c179e"
             ],
             [
              0.4444444444444444,
              "#bd3786"
             ],
             [
              0.5555555555555556,
              "#d8576b"
             ],
             [
              0.6666666666666666,
              "#ed7953"
             ],
             [
              0.7777777777777778,
              "#fb9f3a"
             ],
             [
              0.8888888888888888,
              "#fdca26"
             ],
             [
              1,
              "#f0f921"
             ]
            ],
            "type": "contour"
           }
          ],
          "contourcarpet": [
           {
            "colorbar": {
             "outlinewidth": 0,
             "ticks": ""
            },
            "type": "contourcarpet"
           }
          ],
          "heatmap": [
           {
            "colorbar": {
             "outlinewidth": 0,
             "ticks": ""
            },
            "colorscale": [
             [
              0,
              "#0d0887"
             ],
             [
              0.1111111111111111,
              "#46039f"
             ],
             [
              0.2222222222222222,
              "#7201a8"
             ],
             [
              0.3333333333333333,
              "#9c179e"
             ],
             [
              0.4444444444444444,
              "#bd3786"
             ],
             [
              0.5555555555555556,
              "#d8576b"
             ],
             [
              0.6666666666666666,
              "#ed7953"
             ],
             [
              0.7777777777777778,
              "#fb9f3a"
             ],
             [
              0.8888888888888888,
              "#fdca26"
             ],
             [
              1,
              "#f0f921"
             ]
            ],
            "type": "heatmap"
           }
          ],
          "heatmapgl": [
           {
            "colorbar": {
             "outlinewidth": 0,
             "ticks": ""
            },
            "colorscale": [
             [
              0,
              "#0d0887"
             ],
             [
              0.1111111111111111,
              "#46039f"
             ],
             [
              0.2222222222222222,
              "#7201a8"
             ],
             [
              0.3333333333333333,
              "#9c179e"
             ],
             [
              0.4444444444444444,
              "#bd3786"
             ],
             [
              0.5555555555555556,
              "#d8576b"
             ],
             [
              0.6666666666666666,
              "#ed7953"
             ],
             [
              0.7777777777777778,
              "#fb9f3a"
             ],
             [
              0.8888888888888888,
              "#fdca26"
             ],
             [
              1,
              "#f0f921"
             ]
            ],
            "type": "heatmapgl"
           }
          ],
          "histogram": [
           {
            "marker": {
             "pattern": {
              "fillmode": "overlay",
              "size": 10,
              "solidity": 0.2
             }
            },
            "type": "histogram"
           }
          ],
          "histogram2d": [
           {
            "colorbar": {
             "outlinewidth": 0,
             "ticks": ""
            },
            "colorscale": [
             [
              0,
              "#0d0887"
             ],
             [
              0.1111111111111111,
              "#46039f"
             ],
             [
              0.2222222222222222,
              "#7201a8"
             ],
             [
              0.3333333333333333,
              "#9c179e"
             ],
             [
              0.4444444444444444,
              "#bd3786"
             ],
             [
              0.5555555555555556,
              "#d8576b"
             ],
             [
              0.6666666666666666,
              "#ed7953"
             ],
             [
              0.7777777777777778,
              "#fb9f3a"
             ],
             [
              0.8888888888888888,
              "#fdca26"
             ],
             [
              1,
              "#f0f921"
             ]
            ],
            "type": "histogram2d"
           }
          ],
          "histogram2dcontour": [
           {
            "colorbar": {
             "outlinewidth": 0,
             "ticks": ""
            },
            "colorscale": [
             [
              0,
              "#0d0887"
             ],
             [
              0.1111111111111111,
              "#46039f"
             ],
             [
              0.2222222222222222,
              "#7201a8"
             ],
             [
              0.3333333333333333,
              "#9c179e"
             ],
             [
              0.4444444444444444,
              "#bd3786"
             ],
             [
              0.5555555555555556,
              "#d8576b"
             ],
             [
              0.6666666666666666,
              "#ed7953"
             ],
             [
              0.7777777777777778,
              "#fb9f3a"
             ],
             [
              0.8888888888888888,
              "#fdca26"
             ],
             [
              1,
              "#f0f921"
             ]
            ],
            "type": "histogram2dcontour"
           }
          ],
          "mesh3d": [
           {
            "colorbar": {
             "outlinewidth": 0,
             "ticks": ""
            },
            "type": "mesh3d"
           }
          ],
          "parcoords": [
           {
            "line": {
             "colorbar": {
              "outlinewidth": 0,
              "ticks": ""
             }
            },
            "type": "parcoords"
           }
          ],
          "pie": [
           {
            "automargin": true,
            "type": "pie"
           }
          ],
          "scatter": [
           {
            "marker": {
             "line": {
              "color": "#283442"
             }
            },
            "type": "scatter"
           }
          ],
          "scatter3d": [
           {
            "line": {
             "colorbar": {
              "outlinewidth": 0,
              "ticks": ""
             }
            },
            "marker": {
             "colorbar": {
              "outlinewidth": 0,
              "ticks": ""
             }
            },
            "type": "scatter3d"
           }
          ],
          "scattercarpet": [
           {
            "marker": {
             "colorbar": {
              "outlinewidth": 0,
              "ticks": ""
             }
            },
            "type": "scattercarpet"
           }
          ],
          "scattergeo": [
           {
            "marker": {
             "colorbar": {
              "outlinewidth": 0,
              "ticks": ""
             }
            },
            "type": "scattergeo"
           }
          ],
          "scattergl": [
           {
            "marker": {
             "line": {
              "color": "#283442"
             }
            },
            "type": "scattergl"
           }
          ],
          "scattermapbox": [
           {
            "marker": {
             "colorbar": {
              "outlinewidth": 0,
              "ticks": ""
             }
            },
            "type": "scattermapbox"
           }
          ],
          "scatterpolar": [
           {
            "marker": {
             "colorbar": {
              "outlinewidth": 0,
              "ticks": ""
             }
            },
            "type": "scatterpolar"
           }
          ],
          "scatterpolargl": [
           {
            "marker": {
             "colorbar": {
              "outlinewidth": 0,
              "ticks": ""
             }
            },
            "type": "scatterpolargl"
           }
          ],
          "scatterternary": [
           {
            "marker": {
             "colorbar": {
              "outlinewidth": 0,
              "ticks": ""
             }
            },
            "type": "scatterternary"
           }
          ],
          "surface": [
           {
            "colorbar": {
             "outlinewidth": 0,
             "ticks": ""
            },
            "colorscale": [
             [
              0,
              "#0d0887"
             ],
             [
              0.1111111111111111,
              "#46039f"
             ],
             [
              0.2222222222222222,
              "#7201a8"
             ],
             [
              0.3333333333333333,
              "#9c179e"
             ],
             [
              0.4444444444444444,
              "#bd3786"
             ],
             [
              0.5555555555555556,
              "#d8576b"
             ],
             [
              0.6666666666666666,
              "#ed7953"
             ],
             [
              0.7777777777777778,
              "#fb9f3a"
             ],
             [
              0.8888888888888888,
              "#fdca26"
             ],
             [
              1,
              "#f0f921"
             ]
            ],
            "type": "surface"
           }
          ],
          "table": [
           {
            "cells": {
             "fill": {
              "color": "#506784"
             },
             "line": {
              "color": "rgb(17,17,17)"
             }
            },
            "header": {
             "fill": {
              "color": "#2a3f5f"
             },
             "line": {
              "color": "rgb(17,17,17)"
             }
            },
            "type": "table"
           }
          ]
         },
         "layout": {
          "annotationdefaults": {
           "arrowcolor": "#f2f5fa",
           "arrowhead": 0,
           "arrowwidth": 1
          },
          "autotypenumbers": "strict",
          "coloraxis": {
           "colorbar": {
            "outlinewidth": 0,
            "ticks": ""
           }
          },
          "colorscale": {
           "diverging": [
            [
             0,
             "#8e0152"
            ],
            [
             0.1,
             "#c51b7d"
            ],
            [
             0.2,
             "#de77ae"
            ],
            [
             0.3,
             "#f1b6da"
            ],
            [
             0.4,
             "#fde0ef"
            ],
            [
             0.5,
             "#f7f7f7"
            ],
            [
             0.6,
             "#e6f5d0"
            ],
            [
             0.7,
             "#b8e186"
            ],
            [
             0.8,
             "#7fbc41"
            ],
            [
             0.9,
             "#4d9221"
            ],
            [
             1,
             "#276419"
            ]
           ],
           "sequential": [
            [
             0,
             "#0d0887"
            ],
            [
             0.1111111111111111,
             "#46039f"
            ],
            [
             0.2222222222222222,
             "#7201a8"
            ],
            [
             0.3333333333333333,
             "#9c179e"
            ],
            [
             0.4444444444444444,
             "#bd3786"
            ],
            [
             0.5555555555555556,
             "#d8576b"
            ],
            [
             0.6666666666666666,
             "#ed7953"
            ],
            [
             0.7777777777777778,
             "#fb9f3a"
            ],
            [
             0.8888888888888888,
             "#fdca26"
            ],
            [
             1,
             "#f0f921"
            ]
           ],
           "sequentialminus": [
            [
             0,
             "#0d0887"
            ],
            [
             0.1111111111111111,
             "#46039f"
            ],
            [
             0.2222222222222222,
             "#7201a8"
            ],
            [
             0.3333333333333333,
             "#9c179e"
            ],
            [
             0.4444444444444444,
             "#bd3786"
            ],
            [
             0.5555555555555556,
             "#d8576b"
            ],
            [
             0.6666666666666666,
             "#ed7953"
            ],
            [
             0.7777777777777778,
             "#fb9f3a"
            ],
            [
             0.8888888888888888,
             "#fdca26"
            ],
            [
             1,
             "#f0f921"
            ]
           ]
          },
          "colorway": [
           "#636efa",
           "#EF553B",
           "#00cc96",
           "#ab63fa",
           "#FFA15A",
           "#19d3f3",
           "#FF6692",
           "#B6E880",
           "#FF97FF",
           "#FECB52"
          ],
          "font": {
           "color": "#f2f5fa"
          },
          "geo": {
           "bgcolor": "rgb(17,17,17)",
           "lakecolor": "rgb(17,17,17)",
           "landcolor": "rgb(17,17,17)",
           "showlakes": true,
           "showland": true,
           "subunitcolor": "#506784"
          },
          "hoverlabel": {
           "align": "left"
          },
          "hovermode": "closest",
          "mapbox": {
           "style": "dark"
          },
          "paper_bgcolor": "rgb(17,17,17)",
          "plot_bgcolor": "rgb(17,17,17)",
          "polar": {
           "angularaxis": {
            "gridcolor": "#506784",
            "linecolor": "#506784",
            "ticks": ""
           },
           "bgcolor": "rgb(17,17,17)",
           "radialaxis": {
            "gridcolor": "#506784",
            "linecolor": "#506784",
            "ticks": ""
           }
          },
          "scene": {
           "xaxis": {
            "backgroundcolor": "rgb(17,17,17)",
            "gridcolor": "#506784",
            "gridwidth": 2,
            "linecolor": "#506784",
            "showbackground": true,
            "ticks": "",
            "zerolinecolor": "#C8D4E3"
           },
           "yaxis": {
            "backgroundcolor": "rgb(17,17,17)",
            "gridcolor": "#506784",
            "gridwidth": 2,
            "linecolor": "#506784",
            "showbackground": true,
            "ticks": "",
            "zerolinecolor": "#C8D4E3"
           },
           "zaxis": {
            "backgroundcolor": "rgb(17,17,17)",
            "gridcolor": "#506784",
            "gridwidth": 2,
            "linecolor": "#506784",
            "showbackground": true,
            "ticks": "",
            "zerolinecolor": "#C8D4E3"
           }
          },
          "shapedefaults": {
           "line": {
            "color": "#f2f5fa"
           }
          },
          "sliderdefaults": {
           "bgcolor": "#C8D4E3",
           "bordercolor": "rgb(17,17,17)",
           "borderwidth": 1,
           "tickwidth": 0
          },
          "ternary": {
           "aaxis": {
            "gridcolor": "#506784",
            "linecolor": "#506784",
            "ticks": ""
           },
           "baxis": {
            "gridcolor": "#506784",
            "linecolor": "#506784",
            "ticks": ""
           },
           "bgcolor": "rgb(17,17,17)",
           "caxis": {
            "gridcolor": "#506784",
            "linecolor": "#506784",
            "ticks": ""
           }
          },
          "title": {
           "x": 0.05
          },
          "updatemenudefaults": {
           "bgcolor": "#506784",
           "borderwidth": 0
          },
          "xaxis": {
           "automargin": true,
           "gridcolor": "#283442",
           "linecolor": "#506784",
           "ticks": "",
           "title": {
            "standoff": 15
           },
           "zerolinecolor": "#283442",
           "zerolinewidth": 2
          },
          "yaxis": {
           "automargin": true,
           "gridcolor": "#283442",
           "linecolor": "#506784",
           "ticks": "",
           "title": {
            "standoff": 15
           },
           "zerolinecolor": "#283442",
           "zerolinewidth": 2
          }
         }
        },
        "title": {
         "text": "Cluster Analysis"
        },
        "width": 800
       }
      },
      "text/html": [
       "<div>                            <div id=\"a1cce9fc-2194-4785-ac3d-8cd350ffa04c\" class=\"plotly-graph-div\" style=\"height:525px; width:800px;\"></div>            <script type=\"text/javascript\">                require([\"plotly\"], function(Plotly) {                    window.PLOTLYENV=window.PLOTLYENV || {};                                    if (document.getElementById(\"a1cce9fc-2194-4785-ac3d-8cd350ffa04c\")) {                    Plotly.newPlot(                        \"a1cce9fc-2194-4785-ac3d-8cd350ffa04c\",                        [{\"line\":{\"width\":3},\"mode\":\"lines\",\"name\":\"Cluster 0\",\"opacity\":1.0,\"r\":[0.45108953346483466,0.4063711390876563,0.3995484417937327,-0.958779506632189,-0.10909716698093597,0.09851616670249344,0.45108953346483466],\"text\":[\"Mean value: 0.45108953346483466\",\"Mean value: 0.4063711390876563\",\"Mean value: 0.3995484417937327\",\"Mean value: -0.958779506632189\",\"Mean value: -0.10909716698093597\",\"Mean value: 0.09851616670249344\",\"Mean value: 0.45108953346483466\"],\"theta\":[\"danceability\",\"energy\",\"loudness\",\"acousticness\",\"valence\",\"tempo\",\"danceability\"],\"type\":\"scatterpolar\"},{\"line\":{\"width\":3},\"mode\":\"lines\",\"name\":\"Cluster 1\",\"opacity\":0.972027972027972,\"r\":[-0.17302348122402292,0.12484783783027878,0.2576970565172814,0.695241020393219,0.09108209062717168,-0.23645527456495422,-0.17302348122402292],\"text\":[\"Mean value: -0.17302348122402292\",\"Mean value: 0.12484783783027878\",\"Mean value: 0.2576970565172814\",\"Mean value: 0.695241020393219\",\"Mean value: 0.09108209062717168\",\"Mean value: -0.23645527456495422\",\"Mean value: -0.17302348122402292\"],\"theta\":[\"danceability\",\"energy\",\"loudness\",\"acousticness\",\"valence\",\"tempo\",\"danceability\"],\"type\":\"scatterpolar\"},{\"line\":{\"width\":3},\"mode\":\"lines\",\"name\":\"Cluster 2\",\"opacity\":0.6,\"r\":[-0.7355552617333093,-1.3720894972353392,-1.690096691498288,0.7357630475226459,0.05346335056539966,0.3414449332013133,-0.7355552617333093],\"text\":[\"Mean value: -0.7355552617333093\",\"Mean value: -1.3720894972353392\",\"Mean value: -1.690096691498288\",\"Mean value: 0.7357630475226459\",\"Mean value: 0.05346335056539966\",\"Mean value: 0.3414449332013133\",\"Mean value: -0.7355552617333093\"],\"theta\":[\"danceability\",\"energy\",\"loudness\",\"acousticness\",\"valence\",\"tempo\",\"danceability\"],\"type\":\"scatterpolar\"}],                        {\"template\":{\"data\":{\"barpolar\":[{\"marker\":{\"line\":{\"color\":\"rgb(17,17,17)\",\"width\":0.5},\"pattern\":{\"fillmode\":\"overlay\",\"size\":10,\"solidity\":0.2}},\"type\":\"barpolar\"}],\"bar\":[{\"error_x\":{\"color\":\"#f2f5fa\"},\"error_y\":{\"color\":\"#f2f5fa\"},\"marker\":{\"line\":{\"color\":\"rgb(17,17,17)\",\"width\":0.5},\"pattern\":{\"fillmode\":\"overlay\",\"size\":10,\"solidity\":0.2}},\"type\":\"bar\"}],\"carpet\":[{\"aaxis\":{\"endlinecolor\":\"#A2B1C6\",\"gridcolor\":\"#506784\",\"linecolor\":\"#506784\",\"minorgridcolor\":\"#506784\",\"startlinecolor\":\"#A2B1C6\"},\"baxis\":{\"endlinecolor\":\"#A2B1C6\",\"gridcolor\":\"#506784\",\"linecolor\":\"#506784\",\"minorgridcolor\":\"#506784\",\"startlinecolor\":\"#A2B1C6\"},\"type\":\"carpet\"}],\"choropleth\":[{\"colorbar\":{\"outlinewidth\":0,\"ticks\":\"\"},\"type\":\"choropleth\"}],\"contourcarpet\":[{\"colorbar\":{\"outlinewidth\":0,\"ticks\":\"\"},\"type\":\"contourcarpet\"}],\"contour\":[{\"colorbar\":{\"outlinewidth\":0,\"ticks\":\"\"},\"colorscale\":[[0.0,\"#0d0887\"],[0.1111111111111111,\"#46039f\"],[0.2222222222222222,\"#7201a8\"],[0.3333333333333333,\"#9c179e\"],[0.4444444444444444,\"#bd3786\"],[0.5555555555555556,\"#d8576b\"],[0.6666666666666666,\"#ed7953\"],[0.7777777777777778,\"#fb9f3a\"],[0.8888888888888888,\"#fdca26\"],[1.0,\"#f0f921\"]],\"type\":\"contour\"}],\"heatmapgl\":[{\"colorbar\":{\"outlinewidth\":0,\"ticks\":\"\"},\"colorscale\":[[0.0,\"#0d0887\"],[0.1111111111111111,\"#46039f\"],[0.2222222222222222,\"#7201a8\"],[0.3333333333333333,\"#9c179e\"],[0.4444444444444444,\"#bd3786\"],[0.5555555555555556,\"#d8576b\"],[0.6666666666666666,\"#ed7953\"],[0.7777777777777778,\"#fb9f3a\"],[0.8888888888888888,\"#fdca26\"],[1.0,\"#f0f921\"]],\"type\":\"heatmapgl\"}],\"heatmap\":[{\"colorbar\":{\"outlinewidth\":0,\"ticks\":\"\"},\"colorscale\":[[0.0,\"#0d0887\"],[0.1111111111111111,\"#46039f\"],[0.2222222222222222,\"#7201a8\"],[0.3333333333333333,\"#9c179e\"],[0.4444444444444444,\"#bd3786\"],[0.5555555555555556,\"#d8576b\"],[0.6666666666666666,\"#ed7953\"],[0.7777777777777778,\"#fb9f3a\"],[0.8888888888888888,\"#fdca26\"],[1.0,\"#f0f921\"]],\"type\":\"heatmap\"}],\"histogram2dcontour\":[{\"colorbar\":{\"outlinewidth\":0,\"ticks\":\"\"},\"colorscale\":[[0.0,\"#0d0887\"],[0.1111111111111111,\"#46039f\"],[0.2222222222222222,\"#7201a8\"],[0.3333333333333333,\"#9c179e\"],[0.4444444444444444,\"#bd3786\"],[0.5555555555555556,\"#d8576b\"],[0.6666666666666666,\"#ed7953\"],[0.7777777777777778,\"#fb9f3a\"],[0.8888888888888888,\"#fdca26\"],[1.0,\"#f0f921\"]],\"type\":\"histogram2dcontour\"}],\"histogram2d\":[{\"colorbar\":{\"outlinewidth\":0,\"ticks\":\"\"},\"colorscale\":[[0.0,\"#0d0887\"],[0.1111111111111111,\"#46039f\"],[0.2222222222222222,\"#7201a8\"],[0.3333333333333333,\"#9c179e\"],[0.4444444444444444,\"#bd3786\"],[0.5555555555555556,\"#d8576b\"],[0.6666666666666666,\"#ed7953\"],[0.7777777777777778,\"#fb9f3a\"],[0.8888888888888888,\"#fdca26\"],[1.0,\"#f0f921\"]],\"type\":\"histogram2d\"}],\"histogram\":[{\"marker\":{\"pattern\":{\"fillmode\":\"overlay\",\"size\":10,\"solidity\":0.2}},\"type\":\"histogram\"}],\"mesh3d\":[{\"colorbar\":{\"outlinewidth\":0,\"ticks\":\"\"},\"type\":\"mesh3d\"}],\"parcoords\":[{\"line\":{\"colorbar\":{\"outlinewidth\":0,\"ticks\":\"\"}},\"type\":\"parcoords\"}],\"pie\":[{\"automargin\":true,\"type\":\"pie\"}],\"scatter3d\":[{\"line\":{\"colorbar\":{\"outlinewidth\":0,\"ticks\":\"\"}},\"marker\":{\"colorbar\":{\"outlinewidth\":0,\"ticks\":\"\"}},\"type\":\"scatter3d\"}],\"scattercarpet\":[{\"marker\":{\"colorbar\":{\"outlinewidth\":0,\"ticks\":\"\"}},\"type\":\"scattercarpet\"}],\"scattergeo\":[{\"marker\":{\"colorbar\":{\"outlinewidth\":0,\"ticks\":\"\"}},\"type\":\"scattergeo\"}],\"scattergl\":[{\"marker\":{\"line\":{\"color\":\"#283442\"}},\"type\":\"scattergl\"}],\"scattermapbox\":[{\"marker\":{\"colorbar\":{\"outlinewidth\":0,\"ticks\":\"\"}},\"type\":\"scattermapbox\"}],\"scatterpolargl\":[{\"marker\":{\"colorbar\":{\"outlinewidth\":0,\"ticks\":\"\"}},\"type\":\"scatterpolargl\"}],\"scatterpolar\":[{\"marker\":{\"colorbar\":{\"outlinewidth\":0,\"ticks\":\"\"}},\"type\":\"scatterpolar\"}],\"scatter\":[{\"marker\":{\"line\":{\"color\":\"#283442\"}},\"type\":\"scatter\"}],\"scatterternary\":[{\"marker\":{\"colorbar\":{\"outlinewidth\":0,\"ticks\":\"\"}},\"type\":\"scatterternary\"}],\"surface\":[{\"colorbar\":{\"outlinewidth\":0,\"ticks\":\"\"},\"colorscale\":[[0.0,\"#0d0887\"],[0.1111111111111111,\"#46039f\"],[0.2222222222222222,\"#7201a8\"],[0.3333333333333333,\"#9c179e\"],[0.4444444444444444,\"#bd3786\"],[0.5555555555555556,\"#d8576b\"],[0.6666666666666666,\"#ed7953\"],[0.7777777777777778,\"#fb9f3a\"],[0.8888888888888888,\"#fdca26\"],[1.0,\"#f0f921\"]],\"type\":\"surface\"}],\"table\":[{\"cells\":{\"fill\":{\"color\":\"#506784\"},\"line\":{\"color\":\"rgb(17,17,17)\"}},\"header\":{\"fill\":{\"color\":\"#2a3f5f\"},\"line\":{\"color\":\"rgb(17,17,17)\"}},\"type\":\"table\"}]},\"layout\":{\"annotationdefaults\":{\"arrowcolor\":\"#f2f5fa\",\"arrowhead\":0,\"arrowwidth\":1},\"autotypenumbers\":\"strict\",\"coloraxis\":{\"colorbar\":{\"outlinewidth\":0,\"ticks\":\"\"}},\"colorscale\":{\"diverging\":[[0,\"#8e0152\"],[0.1,\"#c51b7d\"],[0.2,\"#de77ae\"],[0.3,\"#f1b6da\"],[0.4,\"#fde0ef\"],[0.5,\"#f7f7f7\"],[0.6,\"#e6f5d0\"],[0.7,\"#b8e186\"],[0.8,\"#7fbc41\"],[0.9,\"#4d9221\"],[1,\"#276419\"]],\"sequential\":[[0.0,\"#0d0887\"],[0.1111111111111111,\"#46039f\"],[0.2222222222222222,\"#7201a8\"],[0.3333333333333333,\"#9c179e\"],[0.4444444444444444,\"#bd3786\"],[0.5555555555555556,\"#d8576b\"],[0.6666666666666666,\"#ed7953\"],[0.7777777777777778,\"#fb9f3a\"],[0.8888888888888888,\"#fdca26\"],[1.0,\"#f0f921\"]],\"sequentialminus\":[[0.0,\"#0d0887\"],[0.1111111111111111,\"#46039f\"],[0.2222222222222222,\"#7201a8\"],[0.3333333333333333,\"#9c179e\"],[0.4444444444444444,\"#bd3786\"],[0.5555555555555556,\"#d8576b\"],[0.6666666666666666,\"#ed7953\"],[0.7777777777777778,\"#fb9f3a\"],[0.8888888888888888,\"#fdca26\"],[1.0,\"#f0f921\"]]},\"colorway\":[\"#636efa\",\"#EF553B\",\"#00cc96\",\"#ab63fa\",\"#FFA15A\",\"#19d3f3\",\"#FF6692\",\"#B6E880\",\"#FF97FF\",\"#FECB52\"],\"font\":{\"color\":\"#f2f5fa\"},\"geo\":{\"bgcolor\":\"rgb(17,17,17)\",\"lakecolor\":\"rgb(17,17,17)\",\"landcolor\":\"rgb(17,17,17)\",\"showlakes\":true,\"showland\":true,\"subunitcolor\":\"#506784\"},\"hoverlabel\":{\"align\":\"left\"},\"hovermode\":\"closest\",\"mapbox\":{\"style\":\"dark\"},\"paper_bgcolor\":\"rgb(17,17,17)\",\"plot_bgcolor\":\"rgb(17,17,17)\",\"polar\":{\"angularaxis\":{\"gridcolor\":\"#506784\",\"linecolor\":\"#506784\",\"ticks\":\"\"},\"bgcolor\":\"rgb(17,17,17)\",\"radialaxis\":{\"gridcolor\":\"#506784\",\"linecolor\":\"#506784\",\"ticks\":\"\"}},\"scene\":{\"xaxis\":{\"backgroundcolor\":\"rgb(17,17,17)\",\"gridcolor\":\"#506784\",\"gridwidth\":2,\"linecolor\":\"#506784\",\"showbackground\":true,\"ticks\":\"\",\"zerolinecolor\":\"#C8D4E3\"},\"yaxis\":{\"backgroundcolor\":\"rgb(17,17,17)\",\"gridcolor\":\"#506784\",\"gridwidth\":2,\"linecolor\":\"#506784\",\"showbackground\":true,\"ticks\":\"\",\"zerolinecolor\":\"#C8D4E3\"},\"zaxis\":{\"backgroundcolor\":\"rgb(17,17,17)\",\"gridcolor\":\"#506784\",\"gridwidth\":2,\"linecolor\":\"#506784\",\"showbackground\":true,\"ticks\":\"\",\"zerolinecolor\":\"#C8D4E3\"}},\"shapedefaults\":{\"line\":{\"color\":\"#f2f5fa\"}},\"sliderdefaults\":{\"bgcolor\":\"#C8D4E3\",\"bordercolor\":\"rgb(17,17,17)\",\"borderwidth\":1,\"tickwidth\":0},\"ternary\":{\"aaxis\":{\"gridcolor\":\"#506784\",\"linecolor\":\"#506784\",\"ticks\":\"\"},\"baxis\":{\"gridcolor\":\"#506784\",\"linecolor\":\"#506784\",\"ticks\":\"\"},\"bgcolor\":\"rgb(17,17,17)\",\"caxis\":{\"gridcolor\":\"#506784\",\"linecolor\":\"#506784\",\"ticks\":\"\"}},\"title\":{\"x\":0.05},\"updatemenudefaults\":{\"bgcolor\":\"#506784\",\"borderwidth\":0},\"xaxis\":{\"automargin\":true,\"gridcolor\":\"#283442\",\"linecolor\":\"#506784\",\"ticks\":\"\",\"title\":{\"standoff\":15},\"zerolinecolor\":\"#283442\",\"zerolinewidth\":2},\"yaxis\":{\"automargin\":true,\"gridcolor\":\"#283442\",\"linecolor\":\"#506784\",\"ticks\":\"\",\"title\":{\"standoff\":15},\"zerolinecolor\":\"#283442\",\"zerolinewidth\":2}}},\"title\":{\"text\":\"Cluster Analysis\"},\"showlegend\":true,\"width\":800,\"autosize\":false},                        {\"responsive\": true}                    ).then(function(){\n",
       "                            \n",
       "var gd = document.getElementById('a1cce9fc-2194-4785-ac3d-8cd350ffa04c');\n",
       "var x = new MutationObserver(function (mutations, observer) {{\n",
       "        var display = window.getComputedStyle(gd).display;\n",
       "        if (!display || display === 'none') {{\n",
       "            console.log([gd, 'removed!']);\n",
       "            Plotly.purge(gd);\n",
       "            observer.disconnect();\n",
       "        }}\n",
       "}});\n",
       "\n",
       "// Listen for the removal of the full notebook cells\n",
       "var notebookContainer = gd.closest('#notebook-container');\n",
       "if (notebookContainer) {{\n",
       "    x.observe(notebookContainer, {childList: true});\n",
       "}}\n",
       "\n",
       "// Listen for the clearing of the current output cell\n",
       "var outputEl = gd.closest('.output');\n",
       "if (outputEl) {{\n",
       "    x.observe(outputEl, {childList: true});\n",
       "}}\n",
       "\n",
       "                        })                };                });            </script>        </div>"
      ]
     },
     "metadata": {},
     "output_type": "display_data"
    }
   ],
   "source": [
    "#Radar chart to check how clusters are separate or not\n",
    "#I need to customize the labels, this is still a template but it gives a hint too\n",
    "\n",
    "\n",
    "biggest_cluster=hc_df.groupby(['cluster']).count().max().max()\n",
    "\n",
    "clusters = hc_df.cluster\n",
    "\n",
    "fig = go.Figure()\n",
    "\n",
    "for cluster in np.unique(clusters):\n",
    "    \n",
    "    radii = hc_df.loc[hc_df.cluster==cluster, features].mean().tolist()\n",
    "    thetas = features\n",
    "    \n",
    "    actual_values = hc_df.loc[hc_df.cluster==cluster, features].mean().tolist()\n",
    "    cluster_size = len(hc_df[hc_df.cluster==cluster])\n",
    "    print(cluster_size)\n",
    "    fig.add_trace(\n",
    "        go.Scatterpolar(\n",
    "            r=radii + radii[:1],\n",
    "            theta=thetas + thetas[:1],\n",
    "            mode='lines',\n",
    "            name=f'Cluster {cluster}',\n",
    "            text = [f'Mean value: {x}' for x in actual_values + actual_values[:1]],\n",
    "            line=dict(width=3),\n",
    "            opacity=np.max([cluster_size/biggest_cluster, 0.6])\n",
    "        )\n",
    "    )\n",
    "\n",
    "fig.update_layout(\n",
    "    title='Cluster Analysis',\n",
    "    showlegend=True,\n",
    "    template=\"plotly_dark\",\n",
    "    width=800,\n",
    "    autosize=False\n",
    ")\n",
    "\n",
    "fig.show()"
   ]
  },
  {
   "cell_type": "code",
   "execution_count": 108,
   "id": "e3b35a19",
   "metadata": {},
   "outputs": [],
   "source": [
    "#Qucik check on how the metrics were \n",
    "#km = KMeans(n_clusters=NUM_CLUSTERS, init='random', max_iter=1, n_init=1)#, verbose=1)\n",
    "#km.fit(hc_df)\n",
    "\n",
    "#print('Pre-clustering metrics')\n",
    "#print('----------------------')\n",
    "#print('Inertia:', km.inertia_)\n",
    "#print('Centroids:', km.cluster_centers_)"
   ]
  },
  {
   "cell_type": "code",
   "execution_count": 109,
   "id": "060aa885",
   "metadata": {
    "scrolled": false
   },
   "outputs": [
    {
     "name": "stdout",
     "output_type": "stream",
     "text": [
      "\n",
      "Centroid attempt:  0\n",
      "Initialization complete\n",
      "Iteration 0, inertia 4308.6092074077\n",
      "Iteration 1, inertia 2889.0639856879006\n",
      "Iteration 2, inertia 2845.0426302833375\n",
      "Iteration 3, inertia 2810.7887365135766\n",
      "Iteration 4, inertia 2766.765239556734\n",
      "Iteration 5, inertia 2727.7194653844526\n",
      "Iteration 6, inertia 2713.247578865561\n",
      "Iteration 7, inertia 2709.0479491813903\n",
      "Iteration 8, inertia 2707.4182234533605\n",
      "Iteration 9, inertia 2706.5402824123057\n",
      "Iteration 10, inertia 2706.2527561592597\n",
      "Iteration 11, inertia 2706.1536248945795\n",
      "Converged at iteration 11: strict convergence.\n",
      "Initialization complete\n",
      "Iteration 0, inertia 4164.737855884288\n",
      "Iteration 1, inertia 3012.818130848254\n",
      "Iteration 2, inertia 2890.8550288424085\n",
      "Iteration 3, inertia 2865.9568884549235\n",
      "Iteration 4, inertia 2851.45669239096\n",
      "Iteration 5, inertia 2842.6073651429942\n",
      "Iteration 6, inertia 2838.951249593587\n",
      "Iteration 7, inertia 2837.535409106838\n",
      "Iteration 8, inertia 2836.9859593150586\n",
      "Iteration 9, inertia 2836.874455185616\n",
      "Iteration 10, inertia 2836.821789847246\n",
      "Iteration 11, inertia 2836.7533333559973\n",
      "Iteration 12, inertia 2836.4963050395395\n",
      "Iteration 13, inertia 2836.1746846065435\n",
      "Iteration 14, inertia 2835.932773091915\n",
      "Iteration 15, inertia 2835.7359760340287\n",
      "Iteration 16, inertia 2835.619825152467\n",
      "Iteration 17, inertia 2835.591737096516\n",
      "Converged at iteration 17: strict convergence.\n",
      "Iteration:  0\n",
      "Inertia: 2835.591737096516\n",
      "Centroids: [[ 0.40008295  0.63168774  0.55799168 -0.32063752  0.49977375  0.11193248\n",
      "   0.39766082]\n",
      " [-0.60431848 -1.10097998 -1.16414362  0.78642467  0.10404703  0.01674574\n",
      "   1.57446809]\n",
      " [-0.16122565 -0.06286786  0.19462392 -0.26520699 -1.32280184 -0.28770213\n",
      "   0.45833333]]\n",
      "Initialization complete\n",
      "Iteration 0, inertia 4504.321559071981\n",
      "Iteration 1, inertia 3425.4044030834466\n",
      "Iteration 2, inertia 3132.9567663261137\n",
      "Iteration 3, inertia 3015.465757329006\n",
      "Iteration 4, inertia 2963.682496977805\n",
      "Iteration 5, inertia 2920.9527551635692\n",
      "Iteration 6, inertia 2858.4841722531255\n",
      "Iteration 7, inertia 2796.2481743404733\n",
      "Iteration 8, inertia 2752.044734382257\n",
      "Iteration 9, inertia 2718.9954601556774\n",
      "Iteration 10, inertia 2709.6466067247534\n",
      "Iteration 11, inertia 2706.9138648312737\n",
      "Iteration 12, inertia 2706.3814509533363\n",
      "Iteration 13, inertia 2706.1666148243658\n",
      "Converged at iteration 13: strict convergence.\n",
      "Iteration:  1\n",
      "Inertia: 2706.166614824366\n",
      "Centroids: [[ 0.53958998  0.41558646  0.39015303 -0.99368962  0.0710416   0.18929848\n",
      "   0.06338028]\n",
      " [-0.27481853  0.29279033  0.41728843  0.71222492 -0.07327339 -0.29365363\n",
      "   0.93117409]\n",
      " [-0.59694669 -1.33108928 -1.4956203   0.7432748  -0.01452649  0.13127047\n",
      "   1.74825175]]\n",
      "Initialization complete\n",
      "Iteration 0, inertia 6540.291986892342\n",
      "Iteration 1, inertia 2957.762592310345\n",
      "Iteration 2, inertia 2870.530662625491\n",
      "Iteration 3, inertia 2850.47755689527\n",
      "Iteration 4, inertia 2840.8918218065014\n",
      "Iteration 5, inertia 2835.1628397134227\n",
      "Iteration 6, inertia 2831.8280478810448\n",
      "Iteration 7, inertia 2829.6746527724563\n",
      "Iteration 8, inertia 2828.698544684985\n",
      "Iteration 9, inertia 2827.773663228925\n",
      "Iteration 10, inertia 2827.4803072719596\n",
      "Iteration 11, inertia 2827.4221753856937\n",
      "Converged at iteration 11: strict convergence.\n",
      "Iteration:  2\n",
      "Inertia: 2827.4221753856937\n",
      "Centroids: [[ 0.23321903  0.69933178  0.63308433 -0.15325389  0.41965868  0.08522717\n",
      "   0.47277937]\n",
      " [ 0.40882984 -0.24810098 -0.01532634 -0.86937435 -1.27651129 -0.16576802\n",
      "   0.15966387]\n",
      " [-0.63128249 -1.04146978 -1.06370193  0.76185028  0.02642701 -0.04863052\n",
      "   1.52427184]]\n",
      "Difference between initial and final inertia:  -121.26855049111418\n",
      "\n",
      "Centroid attempt:  1\n",
      "Initialization complete\n",
      "Iteration 0, inertia 4035.7446185982226\n",
      "Iteration 1, inertia 2892.158944950005\n",
      "Iteration 2, inertia 2856.0114626076347\n",
      "Iteration 3, inertia 2837.8385400305897\n",
      "Iteration 4, inertia 2826.975706228432\n",
      "Iteration 5, inertia 2821.4574051978425\n",
      "Iteration 6, inertia 2816.1899386742216\n",
      "Iteration 7, inertia 2805.099929509457\n",
      "Iteration 8, inertia 2791.7630912766235\n",
      "Iteration 9, inertia 2771.50632526369\n",
      "Iteration 10, inertia 2747.703961962831\n",
      "Iteration 11, inertia 2727.3180489021406\n",
      "Iteration 12, inertia 2717.127328274294\n",
      "Iteration 13, inertia 2714.390233752043\n",
      "Iteration 14, inertia 2709.7909569844464\n",
      "Iteration 15, inertia 2708.193402279887\n",
      "Iteration 16, inertia 2706.974496864459\n",
      "Iteration 17, inertia 2706.447467060659\n",
      "Iteration 18, inertia 2706.387016670508\n",
      "Iteration 19, inertia 2706.321829590096\n",
      "Converged at iteration 19: strict convergence.\n",
      "Initialization complete\n",
      "Iteration 0, inertia 5761.267341364355\n",
      "Iteration 1, inertia 3095.839099891499\n",
      "Iteration 2, inertia 2938.0998929364014\n",
      "Iteration 3, inertia 2881.77483292753\n",
      "Iteration 4, inertia 2823.3651570632337\n",
      "Iteration 5, inertia 2777.5212007529017\n",
      "Iteration 6, inertia 2736.983061429511\n",
      "Iteration 7, inertia 2714.9974925949955\n",
      "Iteration 8, inertia 2710.8018345560877\n",
      "Iteration 9, inertia 2708.310144972229\n",
      "Iteration 10, inertia 2707.248758472024\n",
      "Iteration 11, inertia 2706.367458388654\n",
      "Iteration 12, inertia 2706.317840140146\n",
      "Converged at iteration 12: strict convergence.\n",
      "Iteration:  0\n",
      "Inertia: 2706.317840140146\n",
      "Centroids: [[-0.27962433  0.27048959  0.40188731  0.70569464 -0.10890648 -0.28936748\n",
      "   0.92031873]\n",
      " [ 0.54553029  0.41974432  0.39250287 -0.99572373  0.08029786  0.18506908\n",
      "   0.06360424]\n",
      " [-0.60142404 -1.33343235 -1.51394306  0.74757472  0.03293737  0.14469063\n",
      "   1.77857143]]\n",
      "Initialization complete\n",
      "Iteration 0, inertia 4029.3515342377473\n",
      "Iteration 1, inertia 2913.0103573813176\n",
      "Iteration 2, inertia 2751.00790340419\n",
      "Iteration 3, inertia 2719.7654327140676\n",
      "Iteration 4, inertia 2711.746723431681\n",
      "Iteration 5, inertia 2707.6689119586135\n",
      "Iteration 6, inertia 2706.6852526603125\n",
      "Iteration 7, inertia 2706.488814159276\n",
      "Iteration 8, inertia 2706.323376260056\n",
      "Iteration 9, inertia 2706.286491891536\n",
      "Converged at iteration 9: strict convergence.\n",
      "Iteration:  1\n",
      "Inertia: 2706.286491891536\n",
      "Centroids: [[ 0.54122903  0.42400342  0.39513691 -1.01849998  0.05522442  0.17779699\n",
      "   0.05035971]\n",
      " [-0.59694669 -1.33108928 -1.4956203   0.7432748  -0.01452649  0.13127047\n",
      "   1.74825175]\n",
      " [-0.2573055   0.28645382  0.41116855  0.69903043 -0.05247076 -0.26956222\n",
      "   0.92490119]]\n",
      "Initialization complete\n",
      "Iteration 0, inertia 4817.231384164085\n",
      "Iteration 1, inertia 2890.3537977950205\n",
      "Iteration 2, inertia 2863.8299658415804\n",
      "Iteration 3, inertia 2845.9141392338443\n",
      "Iteration 4, inertia 2833.7790175363525\n",
      "Iteration 5, inertia 2831.425011888946\n",
      "Iteration 6, inertia 2829.5895053258423\n",
      "Iteration 7, inertia 2828.8598999481537\n",
      "Iteration 8, inertia 2827.9260571369186\n",
      "Iteration 9, inertia 2827.8256368833795\n",
      "Iteration 10, inertia 2827.744187659874\n",
      "Iteration 11, inertia 2827.607783693782\n",
      "Iteration 12, inertia 2827.450167807604\n",
      "Iteration 13, inertia 2827.3453477828502\n",
      "Converged at iteration 13: strict convergence.\n",
      "Iteration:  2\n",
      "Inertia: 2827.3453477828502\n",
      "Centroids: [[ 0.43284409 -0.26220687 -0.0245018  -0.87453033 -1.28152535 -0.18176769\n",
      "   0.15384615]\n",
      " [-0.62624259 -1.05457851 -1.0783494   0.77670581  0.02817354 -0.04573838\n",
      "   1.5320197 ]\n",
      " [ 0.21605787  0.69140577  0.62647355 -0.15635941  0.40739897  0.08630427\n",
      "   0.47740113]]\n",
      "Difference between initial and final inertia:  -121.02351819275418\n",
      "\n",
      "Centroid attempt:  2\n",
      "Initialization complete\n",
      "Iteration 0, inertia 5518.89976294386\n",
      "Iteration 1, inertia 2804.6671659973135\n",
      "Iteration 2, inertia 2734.141667680216\n",
      "Iteration 3, inertia 2712.718370797578\n",
      "Iteration 4, inertia 2707.728725280708\n",
      "Iteration 5, inertia 2707.108972398615\n",
      "Iteration 6, inertia 2706.8566505607387\n",
      "Iteration 7, inertia 2706.5389983488694\n",
      "Iteration 8, inertia 2706.3815773889773\n",
      "Iteration 9, inertia 2706.344798181495\n",
      "Converged at iteration 9: strict convergence.\n",
      "Initialization complete\n",
      "Iteration 0, inertia 5836.044186022626\n",
      "Iteration 1, inertia 2997.8618893106177\n",
      "Iteration 2, inertia 2926.74863666107\n",
      "Iteration 3, inertia 2891.137042050087\n",
      "Iteration 4, inertia 2867.6358758412343\n",
      "Iteration 5, inertia 2857.016158472855\n",
      "Iteration 6, inertia 2848.512333296929\n",
      "Iteration 7, inertia 2842.73550121425\n",
      "Iteration 8, inertia 2839.0263271492518\n",
      "Iteration 9, inertia 2833.6200694274894\n",
      "Iteration 10, inertia 2830.0964450336646\n",
      "Iteration 11, inertia 2828.79092132137\n",
      "Iteration 12, inertia 2827.7639512936803\n",
      "Iteration 13, inertia 2827.545757208586\n",
      "Iteration 14, inertia 2827.468176175603\n",
      "Converged at iteration 14: strict convergence.\n",
      "Iteration:  0\n",
      "Inertia: 2827.468176175603\n",
      "Centroids: [[ 0.25239308  0.7039244   0.63488429 -0.1740469   0.42956543  0.10491669\n",
      "   0.46355685]\n",
      " [ 0.36525745 -0.21306244  0.0155419  -0.89685692 -1.32124638 -0.15972005\n",
      "   0.13793103]\n",
      " [-0.59972415 -1.00805035 -1.0212473   0.76155112  0.0275518  -0.08120418\n",
      "   1.50232558]]\n",
      "Initialization complete\n",
      "Iteration 0, inertia 3682.6982113927334\n",
      "Iteration 1, inertia 2989.765335107166\n",
      "Iteration 2, inertia 2924.793776734025\n",
      "Iteration 3, inertia 2874.0305091336\n",
      "Iteration 4, inertia 2850.4680651695426\n",
      "Iteration 5, inertia 2832.085152888863\n",
      "Iteration 6, inertia 2815.525466192947\n",
      "Iteration 7, inertia 2804.58925355445\n",
      "Iteration 8, inertia 2793.8851048304127\n",
      "Iteration 9, inertia 2777.3786925267123\n",
      "Iteration 10, inertia 2755.137666625824\n",
      "Iteration 11, inertia 2732.5753790506174\n",
      "Iteration 12, inertia 2721.1780572378757\n",
      "Iteration 13, inertia 2715.621248587241\n",
      "Iteration 14, inertia 2711.579134768557\n",
      "Iteration 15, inertia 2708.6057455420714\n",
      "Iteration 16, inertia 2707.101907208737\n",
      "Iteration 17, inertia 2706.497477809291\n",
      "Iteration 18, inertia 2706.387016670508\n",
      "Iteration 19, inertia 2706.321829590096\n",
      "Converged at iteration 19: strict convergence.\n",
      "Iteration:  1\n",
      "Inertia: 2706.321829590096\n",
      "Centroids: [[-0.59694669 -1.33108928 -1.4956203   0.7432748  -0.01452649  0.13127047\n",
      "   1.74825175]\n",
      " [ 0.53225505  0.41559062  0.3903307  -1.01274058  0.04626815  0.18234083\n",
      "   0.05      ]\n",
      " [-0.25365752  0.2947426   0.4166578   0.7062911  -0.04333782 -0.27819566\n",
      "   0.93227092]]\n",
      "Initialization complete\n",
      "Iteration 0, inertia 6049.759772320289\n",
      "Iteration 1, inertia 3197.8610471067113\n",
      "Iteration 2, inertia 3052.752760901534\n",
      "Iteration 3, inertia 2991.513665901186\n",
      "Iteration 4, inertia 2907.9180167230816\n",
      "Iteration 5, inertia 2800.3203066591905\n",
      "Iteration 6, inertia 2739.703954612515\n",
      "Iteration 7, inertia 2717.993920984746\n",
      "Iteration 8, inertia 2712.6393312068703\n",
      "Iteration 9, inertia 2710.6319521700507\n",
      "Iteration 10, inertia 2708.28219408123\n",
      "Iteration 11, inertia 2707.0696509656727\n",
      "Iteration 12, inertia 2706.773035334447\n",
      "Iteration 13, inertia 2706.5044368630734\n",
      "Converged at iteration 13: strict convergence.\n",
      "Iteration:  2\n",
      "Inertia: 2706.5044368630734\n",
      "Centroids: [[ 0.53225505  0.41559062  0.3903307  -1.01274058  0.04626815  0.18234083\n",
      "   0.05      ]\n",
      " [-0.25463037  0.28489589  0.40820286  0.70391233 -0.0352626  -0.28705323\n",
      "   0.93280632]\n",
      " [-0.60007042 -1.33648252 -1.5075739   0.74806769 -0.0286074   0.15297187\n",
      "   1.75886525]]\n",
      "Difference between initial and final inertia:  -0.15963868157814431\n",
      "\n",
      "Centroid attempt:  3\n",
      "Initialization complete\n",
      "Iteration 0, inertia 5328.201302814294\n",
      "Iteration 1, inertia 3231.941893628749\n",
      "Iteration 2, inertia 2943.010001985165\n",
      "Iteration 3, inertia 2878.8457565641356\n",
      "Iteration 4, inertia 2856.1492529265993\n",
      "Iteration 5, inertia 2847.541113942375\n",
      "Iteration 6, inertia 2841.159620107198\n",
      "Iteration 7, inertia 2835.113631541343\n",
      "Iteration 8, inertia 2830.2357455545016\n",
      "Iteration 9, inertia 2828.679487471059\n",
      "Iteration 10, inertia 2828.1973719044836\n",
      "Iteration 11, inertia 2827.878049796489\n",
      "Iteration 12, inertia 2827.618079758589\n",
      "Iteration 13, inertia 2827.4279595289977\n",
      "Iteration 14, inertia 2827.3212553614626\n",
      "Iteration 15, inertia 2827.246997000094\n",
      "Iteration 16, inertia 2827.1902792597225\n",
      "Converged at iteration 16: strict convergence.\n",
      "Initialization complete\n",
      "Iteration 0, inertia 4276.743469817234\n",
      "Iteration 1, inertia 2804.7414615205425\n",
      "Iteration 2, inertia 2764.1027337050728\n",
      "Iteration 3, inertia 2740.4588777681556\n",
      "Iteration 4, inertia 2722.2117130182414\n",
      "Iteration 5, inertia 2713.487429725562\n",
      "Iteration 6, inertia 2711.0126771969035\n",
      "Iteration 7, inertia 2710.1667076786825\n",
      "Iteration 8, inertia 2708.6351241317357\n",
      "Iteration 9, inertia 2707.205817484041\n",
      "Iteration 10, inertia 2706.373625141293\n",
      "Iteration 11, inertia 2706.242763682345\n",
      "Iteration 12, inertia 2706.15362489458\n",
      "Converged at iteration 12: strict convergence.\n",
      "Iteration:  0\n",
      "Inertia: 2706.15362489458\n",
      "Centroids: [[-0.59694669 -1.33108928 -1.4956203   0.7432748  -0.01452649  0.13127047\n",
      "   1.74825175]\n",
      " [-0.2718454   0.29107199  0.41779203  0.70962936 -0.0683565  -0.28908324\n",
      "   0.93145161]\n",
      " [ 0.53986231  0.4175262   0.38961582 -0.99744303  0.06724276  0.18699988\n",
      "   0.06007067]]\n",
      "Initialization complete\n",
      "Iteration 0, inertia 4726.394055289298\n",
      "Iteration 1, inertia 3036.654340628956\n",
      "Iteration 2, inertia 2894.296936748911\n",
      "Iteration 3, inertia 2824.4346822995153\n",
      "Iteration 4, inertia 2764.1734105358337\n",
      "Iteration 5, inertia 2727.8031181609263\n",
      "Iteration 6, inertia 2716.4105655833564\n",
      "Iteration 7, inertia 2713.3789215028564\n",
      "Iteration 8, inertia 2711.2788285430534\n",
      "Iteration 9, inertia 2710.2088759026697\n",
      "Iteration 10, inertia 2708.891949152791\n",
      "Iteration 11, inertia 2707.8421258968237\n",
      "Iteration 12, inertia 2706.7602005168114\n",
      "Iteration 13, inertia 2706.447467060659\n",
      "Iteration 14, inertia 2706.387016670508\n",
      "Iteration 15, inertia 2706.321829590096\n",
      "Converged at iteration 15: strict convergence.\n",
      "Iteration:  1\n",
      "Inertia: 2706.321829590096\n",
      "Centroids: [[ 0.53225505  0.41559062  0.3903307  -1.01274058  0.04626815  0.18234083\n",
      "   0.05      ]\n",
      " [-0.25365752  0.2947426   0.4166578   0.7062911  -0.04333782 -0.27819566\n",
      "   0.93227092]\n",
      " [-0.59694669 -1.33108928 -1.4956203   0.7432748  -0.01452649  0.13127047\n",
      "   1.74825175]]\n",
      "Initialization complete\n",
      "Iteration 0, inertia 6139.522769469488\n",
      "Iteration 1, inertia 3104.994108287564\n",
      "Iteration 2, inertia 2957.39891086465\n",
      "Iteration 3, inertia 2911.8352571009227\n",
      "Iteration 4, inertia 2873.5401675235307\n",
      "Iteration 5, inertia 2848.889973744538\n",
      "Iteration 6, inertia 2840.2832445617328\n",
      "Iteration 7, inertia 2837.894999807948\n",
      "Iteration 8, inertia 2835.8239668782744\n",
      "Iteration 9, inertia 2835.662906344043\n",
      "Converged at iteration 9: strict convergence.\n",
      "Iteration:  2\n",
      "Inertia: 2835.662906344043\n",
      "Centroids: [[-0.1761791  -0.07614126  0.1847895  -0.2293909  -1.29133052 -0.30512016\n",
      "   0.47651007]\n",
      " [-0.58943486 -1.12822736 -1.20911028  0.77903885  0.11085024  0.06192353\n",
      "   1.59340659]\n",
      " [ 0.38929396  0.63172719  0.56129573 -0.31371961  0.5021385   0.09968753\n",
      "   0.39941691]]\n",
      "Difference between initial and final inertia:  -8.47262708432072\n",
      "\n",
      "Centroid attempt:  4\n",
      "Initialization complete\n",
      "Iteration 0, inertia 5419.614625662142\n",
      "Iteration 1, inertia 3020.5316200231246\n",
      "Iteration 2, inertia 2960.7228815974486\n",
      "Iteration 3, inertia 2909.452406271901\n",
      "Iteration 4, inertia 2883.721934727564\n",
      "Iteration 5, inertia 2866.206548537905\n",
      "Iteration 6, inertia 2854.358235712942\n",
      "Iteration 7, inertia 2847.6421403405147\n",
      "Iteration 8, inertia 2844.9458225541143\n",
      "Iteration 9, inertia 2842.585556581226\n",
      "Iteration 10, inertia 2841.769914168184\n",
      "Iteration 11, inertia 2841.029698192589\n",
      "Iteration 12, inertia 2839.0286547922874\n",
      "Iteration 13, inertia 2836.585486323142\n",
      "Iteration 14, inertia 2834.75055278581\n",
      "Iteration 15, inertia 2833.6956030680076\n",
      "Iteration 16, inertia 2833.463687269242\n",
      "Iteration 17, inertia 2833.40372828594\n",
      "Iteration 18, inertia 2833.1979830813057\n",
      "Iteration 19, inertia 2831.917726048127\n",
      "Iteration 20, inertia 2829.7823255351755\n",
      "Iteration 21, inertia 2829.3786114556806\n",
      "Iteration 22, inertia 2828.775579620747\n",
      "Iteration 23, inertia 2828.2548574010025\n",
      "Iteration 24, inertia 2828.1654026844026\n",
      "Iteration 25, inertia 2827.899583957973\n",
      "Iteration 26, inertia 2827.7153875753893\n",
      "Iteration 27, inertia 2827.639075898558\n",
      "Converged at iteration 27: strict convergence.\n",
      "Initialization complete\n",
      "Iteration 0, inertia 3690.8709734719923\n",
      "Iteration 1, inertia 3007.539934825613\n"
     ]
    },
    {
     "name": "stdout",
     "output_type": "stream",
     "text": [
      "Iteration 2, inertia 2893.719640964577\n",
      "Iteration 3, inertia 2865.882427828881\n",
      "Iteration 4, inertia 2857.834941302038\n",
      "Iteration 5, inertia 2849.5961589287435\n",
      "Iteration 6, inertia 2843.210192007935\n",
      "Iteration 7, inertia 2839.0250129661363\n",
      "Iteration 8, inertia 2833.8488250034825\n",
      "Iteration 9, inertia 2830.1602707825095\n",
      "Iteration 10, inertia 2828.79092132137\n",
      "Iteration 11, inertia 2827.7639512936803\n",
      "Iteration 12, inertia 2827.545757208586\n",
      "Iteration 13, inertia 2827.4681761756024\n",
      "Converged at iteration 13: strict convergence.\n",
      "Iteration:  0\n",
      "Inertia: 2827.468176175603\n",
      "Centroids: [[ 0.36525745 -0.21306244  0.0155419  -0.89685692 -1.32124638 -0.15972005\n",
      "   0.13793103]\n",
      " [-0.59972415 -1.00805035 -1.0212473   0.76155112  0.0275518  -0.08120418\n",
      "   1.50232558]\n",
      " [ 0.25239308  0.7039244   0.63488429 -0.1740469   0.42956543  0.10491669\n",
      "   0.46355685]]\n",
      "Initialization complete\n",
      "Iteration 0, inertia 3973.886162219671\n",
      "Iteration 1, inertia 2917.724768593188\n",
      "Iteration 2, inertia 2879.926032602813\n",
      "Iteration 3, inertia 2860.0427811676245\n",
      "Iteration 4, inertia 2848.591418853427\n",
      "Iteration 5, inertia 2842.1589086019717\n",
      "Iteration 6, inertia 2839.3614583079616\n",
      "Iteration 7, inertia 2838.000049427852\n",
      "Iteration 8, inertia 2837.795492270194\n",
      "Iteration 9, inertia 2837.6850363421227\n",
      "Converged at iteration 9: strict convergence.\n",
      "Iteration:  1\n",
      "Inertia: 2837.6850363421227\n",
      "Centroids: [[ 0.33925704  0.68911876  0.60683442 -0.24989993  0.5206407   0.13470178\n",
      "   0.41846154]\n",
      " [-0.59832912 -1.03769027 -1.07437488  0.76693757  0.0711874  -0.05796803\n",
      "   1.52427184]\n",
      " [ 0.09088994 -0.07132448  0.16853174 -0.53686477 -1.28582401 -0.22263401\n",
      "   0.33566434]]\n",
      "Initialization complete\n",
      "Iteration 0, inertia 4546.4161215568365\n",
      "Iteration 1, inertia 3144.6359534024186\n",
      "Iteration 2, inertia 2982.720413269947\n",
      "Iteration 3, inertia 2895.91254436023\n",
      "Iteration 4, inertia 2862.1845404702035\n",
      "Iteration 5, inertia 2849.5138449863853\n",
      "Iteration 6, inertia 2841.683494843484\n",
      "Iteration 7, inertia 2838.73547692498\n",
      "Iteration 8, inertia 2833.574618025989\n",
      "Iteration 9, inertia 2830.029334820413\n",
      "Iteration 10, inertia 2828.3691907479792\n",
      "Iteration 11, inertia 2827.751865362708\n",
      "Iteration 12, inertia 2827.443520783875\n",
      "Iteration 13, inertia 2827.36595917828\n",
      "Converged at iteration 13: strict convergence.\n",
      "Iteration:  2\n",
      "Inertia: 2827.36595917828\n",
      "Centroids: [[ 0.24645374  0.70975522  0.64142758 -0.17251923  0.42320975  0.104143\n",
      "   0.46355685]\n",
      " [-0.59972415 -1.00805035 -1.0212473   0.76155112  0.0275518  -0.08120418\n",
      "   1.50232558]\n",
      " [ 0.38281947 -0.23030358 -0.00380594 -0.90137408 -1.30245327 -0.15743233\n",
      "   0.13793103]]\n",
      "Difference between initial and final inertia:  0.27311672027826717\n"
     ]
    }
   ],
   "source": [
    "#This step is to extract final centroids and final inertia to be fed for the final clustering as model parameters\n",
    "\n",
    "\n",
    "final_cents = []\n",
    "final_inert = []\n",
    "\n",
    "\n",
    "for sample in range(NUM_ATTEMPTS):\n",
    "    print('\\nCentroid attempt: ', sample)\n",
    "    km = KMeans(n_clusters=NUM_CLUSTERS, init='random', max_iter=50, n_init=1, verbose=1)\n",
    "    km.fit(hc_df)\n",
    "    \n",
    "    inertia_start = km.inertia_\n",
    "    intertia_end = 0\n",
    "    cents = km.cluster_centers_\n",
    "        \n",
    "    for iter in range(NUM_ITER):\n",
    "        km = KMeans(n_clusters=NUM_CLUSTERS, init='random', max_iter=50, n_init=1, verbose=1)\n",
    "        km.fit(hc_df)\n",
    "\n",
    "        print('Iteration: ', iter)\n",
    "        print('Inertia:', km.inertia_)\n",
    "        print('Centroids:', km.cluster_centers_)\n",
    "        inertia_end = km.inertia_\n",
    "        cents = km.cluster_centers_\n",
    "\n",
    "    final_cents.append(cents)\n",
    "    final_inert.append(inertia_end)\n",
    "    print('Difference between initial and final inertia: ', inertia_start-inertia_end)"
   ]
  },
  {
   "cell_type": "code",
   "execution_count": 40,
   "id": "698d8d2b",
   "metadata": {},
   "outputs": [
    {
     "data": {
      "text/plain": [
       "array([[-1.48347294e-01,  2.57084047e-01,  3.79544648e-01,\n",
       "         6.90302178e-01,  1.33938404e-01, -1.82987003e-01,\n",
       "         1.98418972e+00],\n",
       "       [-6.39228654e-01, -1.28686745e+00, -1.41427019e+00,\n",
       "         6.51817569e-01, -2.85807833e-01,  1.21809633e-01,\n",
       "         1.06493506e+00],\n",
       "       [ 5.09262465e-01,  4.98634173e-01,  4.56077951e-01,\n",
       "        -1.03006126e+00,  3.79325468e-02,  1.03134937e-01,\n",
       "        -1.44328993e-15]])"
      ]
     },
     "execution_count": 40,
     "metadata": {},
     "output_type": "execute_result"
    }
   ],
   "source": [
    "# Get best centroids to use for full clustering\n",
    "best_cents = final_cents[final_inert.index(min(final_inert))]\n",
    "best_cents"
   ]
  },
  {
   "cell_type": "code",
   "execution_count": 134,
   "id": "45fc9b29",
   "metadata": {},
   "outputs": [
    {
     "name": "stdout",
     "output_type": "stream",
     "text": [
      "Initialization complete\n",
      "Iteration 0, inertia 3563.728940412118\n",
      "Iteration 1, inertia 2681.2491717715147\n",
      "Iteration 2, inertia 2669.5514212562653\n",
      "Iteration 3, inertia 2668.503241446574\n",
      "Iteration 4, inertia 2668.462811719987\n",
      "Converged at iteration 4: strict convergence.\n"
     ]
    }
   ],
   "source": [
    "#Feed the model with the dendrogram number of clusters and best centroids extracted above\n",
    "#Feed the model with the dataframe produced by the hierarchical model, because hierarchical model does the basic\n",
    "#linking between the members so the k-means doesn't have to initiate centroid assignment from scratch\n",
    "\n",
    "km_full = KMeans(n_clusters=NUM_CLUSTERS, init=best_cents, max_iter=50, verbose=1, n_init=1)\n",
    "cluster_labels= km_full.fit_predict(hc_df)\n",
    "hybrid_df = pd.DataFrame(cluster_labels)\n",
    "scaled_data['cluster']=hybrid_df"
   ]
  },
  {
   "cell_type": "code",
   "execution_count": 42,
   "id": "06cbc5ce",
   "metadata": {},
   "outputs": [],
   "source": [
    "#clusterer = KMeans(n_clusters=4, random_state=10)\n",
    "#cluster_labels = clusterer.fit_predict(hc_df)"
   ]
  },
  {
   "cell_type": "code",
   "execution_count": 58,
   "id": "2374041c",
   "metadata": {
    "scrolled": false
   },
   "outputs": [
    {
     "name": "stdout",
     "output_type": "stream",
     "text": [
      "For n_clusters = 3 The average silhouette_score is : 0.21704088077491812\n"
     ]
    },
    {
     "data": {
      "image/png": "[encoded data removed]",
      "text/plain": [
       "<Figure size 1296x504 with 2 Axes>"
      ]
     },
     "metadata": {
      "needs_background": "light"
     },
     "output_type": "display_data"
    },
    {
     "data": {
      "text/plain": [
       "<Figure size 432x288 with 0 Axes>"
      ]
     },
     "metadata": {},
     "output_type": "display_data"
    }
   ],
   "source": [
    "#I'm trying to apply this chart to understand the silhouette score for the selected no.of clusters\n",
    "#The feature space chart was an addition with the code, I still don't know how to benefit from it\n",
    "#On the left, you can see that there are some negatives in cluster 0, in black\n",
    "\n",
    "range_n_clusters = [3]\n",
    "i=0\n",
    "for n_clusters in range_n_clusters:\n",
    "    # Create a subplot with 1 row and 2 columns\n",
    "    fig, (ax1, ax2) = plt.subplots(1, 2)\n",
    "    fig.set_size_inches(18, 7)\n",
    "\n",
    "    # The 1st subplot is the silhouette plot\n",
    "    # The silhouette coefficient can range from -1, 1 but in this example all\n",
    "    # lie within [-0.1, 1]\n",
    "    ax1.set_xlim([-0.1, 1])\n",
    "    # The (n_clusters+1)*10 is for inserting blank space between silhouette\n",
    "    # plots of individual clusters, to demarcate them clearly.\n",
    "    ax1.set_ylim([0, len(cluster_labels) + (n_clusters + 1) * 10])\n",
    "\n",
    "    # Initialize the clusterer with n_clusters value and a random generator\n",
    "    # seed of 10 for reproducibility.\n",
    "    clusterer = KMeans(n_clusters=n_clusters, random_state=10)\n",
    "    cluster_labels = clusterer.fit_predict(scaled_data)\n",
    "\n",
    "    # The silhouette_score gives the average value for all the samples.\n",
    "    # This gives a perspective into the density and separation of the formed\n",
    "    # clusters\n",
    "    silhouette_avg = silhouette_score(scaled_data, cluster_labels)\n",
    "    print(\"For n_clusters =\", n_clusters,\n",
    "          \"The average silhouette_score is :\", silhouette_avg)\n",
    "\n",
    "    # Compute the silhouette scores for each sample\n",
    "    sample_silhouette_values = silhouette_samples(scaled_data, cluster_labels)\n",
    "\n",
    "    y_lower = 10\n",
    "    for i in range(n_clusters):\n",
    "        # Aggregate the silhouette scores for samples belonging to\n",
    "        # cluster i, and sort them\n",
    "        ith_cluster_silhouette_values = \\\n",
    "            sample_silhouette_values[cluster_labels == i]\n",
    "\n",
    "        ith_cluster_silhouette_values.sort()\n",
    "\n",
    "        size_cluster_i = ith_cluster_silhouette_values.shape[0]\n",
    "        y_upper = y_lower + size_cluster_i\n",
    "\n",
    "        color = cm.nipy_spectral(float(i) / n_clusters)\n",
    "        ax1.fill_betweenx(np.arange(y_lower, y_upper),\n",
    "                          0, ith_cluster_silhouette_values,\n",
    "                          facecolor=color, edgecolor=color, alpha=0.7)\n",
    "\n",
    "        # Label the silhouette plots with their cluster numbers at the middle\n",
    "        ax1.text(-0.05, y_lower + 0.5 * size_cluster_i, str(i))\n",
    "\n",
    "        # Compute the new y_lower for next plot\n",
    "        y_lower = y_upper + 10  # 10 for the 0 samples\n",
    "\n",
    "    ax1.set_title(\"The silhouette plot for the various clusters.\")\n",
    "    ax1.set_xlabel(\"The silhouette coefficient values\")\n",
    "    ax1.set_ylabel(\"Cluster label\")\n",
    "\n",
    "    # The vertical line for average silhouette score of all the values\n",
    "    ax1.axvline(x=silhouette_avg, color=\"red\", linestyle=\"--\")\n",
    "\n",
    "    ax1.set_yticks([])  # Clear the yaxis labels / ticks\n",
    "    ax1.set_xticks([-0.1, 0, 0.2, 0.4, 0.6, 0.8, 1])\n",
    "\n",
    "    # 2nd Plot showing the actual clusters formed\n",
    "    colors = cm.nipy_spectral(cluster_labels.astype(float) / n_clusters)\n",
    "    ax2.scatter(hc_df.iloc[:, 0], hc_df.iloc[:, 1], marker='.', s=30, lw=0, alpha=0.7,\n",
    "                c=colors, edgecolor='k')\n",
    "\n",
    "    # Labeling the clusters\n",
    "    centers = clusterer.cluster_centers_\n",
    "    # Draw white circles at cluster centers\n",
    "    ax2.scatter(centers[:, 0], centers[:, 1], marker='o',\n",
    "                c=\"white\", alpha=1, s=200, edgecolor='k')\n",
    "\n",
    "    for i, c in enumerate(centers):\n",
    "        ax2.scatter(c[0], c[1], marker='$%d$' % i, alpha=1,\n",
    "                    s=50, edgecolor='k')\n",
    "\n",
    "    ax2.set_title(\"The visualization of the clustered data.\")\n",
    "    ax2.set_xlabel(\"Feature space for the 1st feature\")\n",
    "    ax2.set_ylabel(\"Feature space for the 2nd feature\")\n",
    "\n",
    "    plt.suptitle((\"Silhouette analysis for KMeans clustering on sample data \"\n",
    "                  \"with n_clusters = %d\" % n_clusters),\n",
    "                 fontsize=14, fontweight='bold')\n",
    "    plt.savefig('/home/asmaosman/Music/Thesis files/Figures/silhouette'+str(i)+'.png',dpi=300)\n",
    "\n",
    "plt.show()\n",
    "#plt.savefig('/home/asmaosman/Music/Thesis files/Figures/silhouette.png',dpi=300)\n"
   ]
  },
  {
   "cell_type": "code",
   "execution_count": 135,
   "id": "b0eed568",
   "metadata": {},
   "outputs": [
    {
     "name": "stdout",
     "output_type": "stream",
     "text": [
      "191\n",
      "210\n",
      "273\n"
     ]
    },
    {
     "data": {
      "application/vnd.plotly.v1+json": {
       "config": {
        "plotlyServerURL": "https://plot.ly"
       },
       "data": [
        {
         "line": {
          "width": 3
         },
         "mode": "lines",
         "name": "Cluster 0",
         "opacity": 0.6996336996336996,
         "r": [
          -0.2748832343186964,
          0.6185954568176804,
          0.6477869572523236,
          0.6944141916865799,
          0.0725039371147165,
          -0.298430167999594,
          -0.2748832343186964
         ],
         "text": [
          "Mean value: -0.2748832343186964",
          "Mean value: 0.6185954568176804",
          "Mean value: 0.6477869572523236",
          "Mean value: 0.6944141916865799",
          "Mean value: 0.0725039371147165",
          "Mean value: -0.298430167999594",
          "Mean value: -0.2748832343186964"
         ],
         "theta": [
          "danceability",
          "energy",
          "loudness",
          "acousticness",
          "valence",
          "tempo",
          "danceability"
         ],
         "type": "scatterpolar"
        },
        {
         "line": {
          "width": 3
         },
         "mode": "lines",
         "name": "Cluster 1",
         "opacity": 0.7692307692307693,
         "r": [
          -0.5291666342257989,
          -1.0997130152816088,
          -1.1061061587553496,
          0.6695107675915132,
          -0.18602832277364578,
          0.062196562979436265,
          -0.5291666342257989
         ],
         "text": [
          "Mean value: -0.5291666342257989",
          "Mean value: -1.0997130152816088",
          "Mean value: -1.1061061587553496",
          "Mean value: 0.6695107675915132",
          "Mean value: -0.18602832277364578",
          "Mean value: 0.062196562979436265",
          "Mean value: -0.5291666342257989"
         ],
         "theta": [
          "danceability",
          "energy",
          "loudness",
          "acousticness",
          "valence",
          "tempo",
          "danceability"
         ],
         "type": "scatterpolar"
        },
        {
         "line": {
          "width": 3
         },
         "mode": "lines",
         "name": "Cluster 2",
         "opacity": 1,
         "r": [
          0.5993688312904359,
          0.41314286064820877,
          0.3976373058733693,
          -1.000843852770529,
          0.09237251206430311,
          0.16094829253568177,
          0.5993688312904359
         ],
         "text": [
          "Mean value: 0.5993688312904359",
          "Mean value: 0.41314286064820877",
          "Mean value: 0.3976373058733693",
          "Mean value: -1.000843852770529",
          "Mean value: 0.09237251206430311",
          "Mean value: 0.16094829253568177",
          "Mean value: 0.5993688312904359"
         ],
         "theta": [
          "danceability",
          "energy",
          "loudness",
          "acousticness",
          "valence",
          "tempo",
          "danceability"
         ],
         "type": "scatterpolar"
        }
       ],
       "layout": {
        "autosize": false,
        "showlegend": true,
        "template": {
         "data": {
          "bar": [
           {
            "error_x": {
             "color": "#f2f5fa"
            },
            "error_y": {
             "color": "#f2f5fa"
            },
            "marker": {
             "line": {
              "color": "rgb(17,17,17)",
              "width": 0.5
             },
             "pattern": {
              "fillmode": "overlay",
              "size": 10,
              "solidity": 0.2
             }
            },
            "type": "bar"
           }
          ],
          "barpolar": [
           {
            "marker": {
             "line": {
              "color": "rgb(17,17,17)",
              "width": 0.5
             },
             "pattern": {
              "fillmode": "overlay",
              "size": 10,
              "solidity": 0.2
             }
            },
            "type": "barpolar"
           }
          ],
          "carpet": [
           {
            "aaxis": {
             "endlinecolor": "#A2B1C6",
             "gridcolor": "#506784",
             "linecolor": "#506784",
             "minorgridcolor": "#506784",
             "startlinecolor": "#A2B1C6"
            },
            "baxis": {
             "endlinecolor": "#A2B1C6",
             "gridcolor": "#506784",
             "linecolor": "#506784",
             "minorgridcolor": "#506784",
             "startlinecolor": "#A2B1C6"
            },
            "type": "carpet"
           }
          ],
          "choropleth": [
           {
            "colorbar": {
             "outlinewidth": 0,
             "ticks": ""
            },
            "type": "choropleth"
           }
          ],
          "contour": [
           {
            "colorbar": {
             "outlinewidth": 0,
             "ticks": ""
            },
            "colorscale": [
             [
              0,
              "#0d0887"
             ],
             [
              0.1111111111111111,
              "#46039f"
             ],
             [
              0.2222222222222222,
              "#7201a8"
             ],
             [
              0.3333333333333333,
              "#9c179e"
             ],
             [
              0.4444444444444444,
              "#bd3786"
             ],
             [
              0.5555555555555556,
              "#d8576b"
             ],
             [
              0.6666666666666666,
              "#ed7953"
             ],
             [
              0.7777777777777778,
              "#fb9f3a"
             ],
             [
              0.8888888888888888,
              "#fdca26"
             ],
             [
              1,
              "#f0f921"
             ]
            ],
            "type": "contour"
           }
          ],
          "contourcarpet": [
           {
            "colorbar": {
             "outlinewidth": 0,
             "ticks": ""
            },
            "type": "contourcarpet"
           }
          ],
          "heatmap": [
           {
            "colorbar": {
             "outlinewidth": 0,
             "ticks": ""
            },
            "colorscale": [
             [
              0,
              "#0d0887"
             ],
             [
              0.1111111111111111,
              "#46039f"
             ],
             [
              0.2222222222222222,
              "#7201a8"
             ],
             [
              0.3333333333333333,
              "#9c179e"
             ],
             [
              0.4444444444444444,
              "#bd3786"
             ],
             [
              0.5555555555555556,
              "#d8576b"
             ],
             [
              0.6666666666666666,
              "#ed7953"
             ],
             [
              0.7777777777777778,
              "#fb9f3a"
             ],
             [
              0.8888888888888888,
              "#fdca26"
             ],
             [
              1,
              "#f0f921"
             ]
            ],
            "type": "heatmap"
           }
          ],
          "heatmapgl": [
           {
            "colorbar": {
             "outlinewidth": 0,
             "ticks": ""
            },
            "colorscale": [
             [
              0,
              "#0d0887"
             ],
             [
              0.1111111111111111,
              "#46039f"
             ],
             [
              0.2222222222222222,
              "#7201a8"
             ],
             [
              0.3333333333333333,
              "#9c179e"
             ],
             [
              0.4444444444444444,
              "#bd3786"
             ],
             [
              0.5555555555555556,
              "#d8576b"
             ],
             [
              0.6666666666666666,
              "#ed7953"
             ],
             [
              0.7777777777777778,
              "#fb9f3a"
             ],
             [
              0.8888888888888888,
              "#fdca26"
             ],
             [
              1,
              "#f0f921"
             ]
            ],
            "type": "heatmapgl"
           }
          ],
          "histogram": [
           {
            "marker": {
             "pattern": {
              "fillmode": "overlay",
              "size": 10,
              "solidity": 0.2
             }
            },
            "type": "histogram"
           }
          ],
          "histogram2d": [
           {
            "colorbar": {
             "outlinewidth": 0,
             "ticks": ""
            },
            "colorscale": [
             [
              0,
              "#0d0887"
             ],
             [
              0.1111111111111111,
              "#46039f"
             ],
             [
              0.2222222222222222,
              "#7201a8"
             ],
             [
              0.3333333333333333,
              "#9c179e"
             ],
             [
              0.4444444444444444,
              "#bd3786"
             ],
             [
              0.5555555555555556,
              "#d8576b"
             ],
             [
              0.6666666666666666,
              "#ed7953"
             ],
             [
              0.7777777777777778,
              "#fb9f3a"
             ],
             [
              0.8888888888888888,
              "#fdca26"
             ],
             [
              1,
              "#f0f921"
             ]
            ],
            "type": "histogram2d"
           }
          ],
          "histogram2dcontour": [
           {
            "colorbar": {
             "outlinewidth": 0,
             "ticks": ""
            },
            "colorscale": [
             [
              0,
              "#0d0887"
             ],
             [
              0.1111111111111111,
              "#46039f"
             ],
             [
              0.2222222222222222,
              "#7201a8"
             ],
             [
              0.3333333333333333,
              "#9c179e"
             ],
             [
              0.4444444444444444,
              "#bd3786"
             ],
             [
              0.5555555555555556,
              "#d8576b"
             ],
             [
              0.6666666666666666,
              "#ed7953"
             ],
             [
              0.7777777777777778,
              "#fb9f3a"
             ],
             [
              0.8888888888888888,
              "#fdca26"
             ],
             [
              1,
              "#f0f921"
             ]
            ],
            "type": "histogram2dcontour"
           }
          ],
          "mesh3d": [
           {
            "colorbar": {
             "outlinewidth": 0,
             "ticks": ""
            },
            "type": "mesh3d"
           }
          ],
          "parcoords": [
           {
            "line": {
             "colorbar": {
              "outlinewidth": 0,
              "ticks": ""
             }
            },
            "type": "parcoords"
           }
          ],
          "pie": [
           {
            "automargin": true,
            "type": "pie"
           }
          ],
          "scatter": [
           {
            "marker": {
             "line": {
              "color": "#283442"
             }
            },
            "type": "scatter"
           }
          ],
          "scatter3d": [
           {
            "line": {
             "colorbar": {
              "outlinewidth": 0,
              "ticks": ""
             }
            },
            "marker": {
             "colorbar": {
              "outlinewidth": 0,
              "ticks": ""
             }
            },
            "type": "scatter3d"
           }
          ],
          "scattercarpet": [
           {
            "marker": {
             "colorbar": {
              "outlinewidth": 0,
              "ticks": ""
             }
            },
            "type": "scattercarpet"
           }
          ],
          "scattergeo": [
           {
            "marker": {
             "colorbar": {
              "outlinewidth": 0,
              "ticks": ""
             }
            },
            "type": "scattergeo"
           }
          ],
          "scattergl": [
           {
            "marker": {
             "line": {
              "color": "#283442"
             }
            },
            "type": "scattergl"
           }
          ],
          "scattermapbox": [
           {
            "marker": {
             "colorbar": {
              "outlinewidth": 0,
              "ticks": ""
             }
            },
            "type": "scattermapbox"
           }
          ],
          "scatterpolar": [
           {
            "marker": {
             "colorbar": {
              "outlinewidth": 0,
              "ticks": ""
             }
            },
            "type": "scatterpolar"
           }
          ],
          "scatterpolargl": [
           {
            "marker": {
             "colorbar": {
              "outlinewidth": 0,
              "ticks": ""
             }
            },
            "type": "scatterpolargl"
           }
          ],
          "scatterternary": [
           {
            "marker": {
             "colorbar": {
              "outlinewidth": 0,
              "ticks": ""
             }
            },
            "type": "scatterternary"
           }
          ],
          "surface": [
           {
            "colorbar": {
             "outlinewidth": 0,
             "ticks": ""
            },
            "colorscale": [
             [
              0,
              "#0d0887"
             ],
             [
              0.1111111111111111,
              "#46039f"
             ],
             [
              0.2222222222222222,
              "#7201a8"
             ],
             [
              0.3333333333333333,
              "#9c179e"
             ],
             [
              0.4444444444444444,
              "#bd3786"
             ],
             [
              0.5555555555555556,
              "#d8576b"
             ],
             [
              0.6666666666666666,
              "#ed7953"
             ],
             [
              0.7777777777777778,
              "#fb9f3a"
             ],
             [
              0.8888888888888888,
              "#fdca26"
             ],
             [
              1,
              "#f0f921"
             ]
            ],
            "type": "surface"
           }
          ],
          "table": [
           {
            "cells": {
             "fill": {
              "color": "#506784"
             },
             "line": {
              "color": "rgb(17,17,17)"
             }
            },
            "header": {
             "fill": {
              "color": "#2a3f5f"
             },
             "line": {
              "color": "rgb(17,17,17)"
             }
            },
            "type": "table"
           }
          ]
         },
         "layout": {
          "annotationdefaults": {
           "arrowcolor": "#f2f5fa",
           "arrowhead": 0,
           "arrowwidth": 1
          },
          "autotypenumbers": "strict",
          "coloraxis": {
           "colorbar": {
            "outlinewidth": 0,
            "ticks": ""
           }
          },
          "colorscale": {
           "diverging": [
            [
             0,
             "#8e0152"
            ],
            [
             0.1,
             "#c51b7d"
            ],
            [
             0.2,
             "#de77ae"
            ],
            [
             0.3,
             "#f1b6da"
            ],
            [
             0.4,
             "#fde0ef"
            ],
            [
             0.5,
             "#f7f7f7"
            ],
            [
             0.6,
             "#e6f5d0"
            ],
            [
             0.7,
             "#b8e186"
            ],
            [
             0.8,
             "#7fbc41"
            ],
            [
             0.9,
             "#4d9221"
            ],
            [
             1,
             "#276419"
            ]
           ],
           "sequential": [
            [
             0,
             "#0d0887"
            ],
            [
             0.1111111111111111,
             "#46039f"
            ],
            [
             0.2222222222222222,
             "#7201a8"
            ],
            [
             0.3333333333333333,
             "#9c179e"
            ],
            [
             0.4444444444444444,
             "#bd3786"
            ],
            [
             0.5555555555555556,
             "#d8576b"
            ],
            [
             0.6666666666666666,
             "#ed7953"
            ],
            [
             0.7777777777777778,
             "#fb9f3a"
            ],
            [
             0.8888888888888888,
             "#fdca26"
            ],
            [
             1,
             "#f0f921"
            ]
           ],
           "sequentialminus": [
            [
             0,
             "#0d0887"
            ],
            [
             0.1111111111111111,
             "#46039f"
            ],
            [
             0.2222222222222222,
             "#7201a8"
            ],
            [
             0.3333333333333333,
             "#9c179e"
            ],
            [
             0.4444444444444444,
             "#bd3786"
            ],
            [
             0.5555555555555556,
             "#d8576b"
            ],
            [
             0.6666666666666666,
             "#ed7953"
            ],
            [
             0.7777777777777778,
             "#fb9f3a"
            ],
            [
             0.8888888888888888,
             "#fdca26"
            ],
            [
             1,
             "#f0f921"
            ]
           ]
          },
          "colorway": [
           "#636efa",
           "#EF553B",
           "#00cc96",
           "#ab63fa",
           "#FFA15A",
           "#19d3f3",
           "#FF6692",
           "#B6E880",
           "#FF97FF",
           "#FECB52"
          ],
          "font": {
           "color": "#f2f5fa"
          },
          "geo": {
           "bgcolor": "rgb(17,17,17)",
           "lakecolor": "rgb(17,17,17)",
           "landcolor": "rgb(17,17,17)",
           "showlakes": true,
           "showland": true,
           "subunitcolor": "#506784"
          },
          "hoverlabel": {
           "align": "left"
          },
          "hovermode": "closest",
          "mapbox": {
           "style": "dark"
          },
          "paper_bgcolor": "rgb(17,17,17)",
          "plot_bgcolor": "rgb(17,17,17)",
          "polar": {
           "angularaxis": {
            "gridcolor": "#506784",
            "linecolor": "#506784",
            "ticks": ""
           },
           "bgcolor": "rgb(17,17,17)",
           "radialaxis": {
            "gridcolor": "#506784",
            "linecolor": "#506784",
            "ticks": ""
           }
          },
          "scene": {
           "xaxis": {
            "backgroundcolor": "rgb(17,17,17)",
            "gridcolor": "#506784",
            "gridwidth": 2,
            "linecolor": "#506784",
            "showbackground": true,
            "ticks": "",
            "zerolinecolor": "#C8D4E3"
           },
           "yaxis": {
            "backgroundcolor": "rgb(17,17,17)",
            "gridcolor": "#506784",
            "gridwidth": 2,
            "linecolor": "#506784",
            "showbackground": true,
            "ticks": "",
            "zerolinecolor": "#C8D4E3"
           },
           "zaxis": {
            "backgroundcolor": "rgb(17,17,17)",
            "gridcolor": "#506784",
            "gridwidth": 2,
            "linecolor": "#506784",
            "showbackground": true,
            "ticks": "",
            "zerolinecolor": "#C8D4E3"
           }
          },
          "shapedefaults": {
           "line": {
            "color": "#f2f5fa"
           }
          },
          "sliderdefaults": {
           "bgcolor": "#C8D4E3",
           "bordercolor": "rgb(17,17,17)",
           "borderwidth": 1,
           "tickwidth": 0
          },
          "ternary": {
           "aaxis": {
            "gridcolor": "#506784",
            "linecolor": "#506784",
            "ticks": ""
           },
           "baxis": {
            "gridcolor": "#506784",
            "linecolor": "#506784",
            "ticks": ""
           },
           "bgcolor": "rgb(17,17,17)",
           "caxis": {
            "gridcolor": "#506784",
            "linecolor": "#506784",
            "ticks": ""
           }
          },
          "title": {
           "x": 0.05
          },
          "updatemenudefaults": {
           "bgcolor": "#506784",
           "borderwidth": 0
          },
          "xaxis": {
           "automargin": true,
           "gridcolor": "#283442",
           "linecolor": "#506784",
           "ticks": "",
           "title": {
            "standoff": 15
           },
           "zerolinecolor": "#283442",
           "zerolinewidth": 2
          },
          "yaxis": {
           "automargin": true,
           "gridcolor": "#283442",
           "linecolor": "#506784",
           "ticks": "",
           "title": {
            "standoff": 15
           },
           "zerolinecolor": "#283442",
           "zerolinewidth": 2
          }
         }
        },
        "title": {
         "text": "Cluster Analysis"
        },
        "width": 800
       }
      },
      "text/html": [
       "<div>                            <div id=\"08166463-3039-44d4-b6db-ffa347ec907d\" class=\"plotly-graph-div\" style=\"height:525px; width:800px;\"></div>            <script type=\"text/javascript\">                require([\"plotly\"], function(Plotly) {                    window.PLOTLYENV=window.PLOTLYENV || {};                                    if (document.getElementById(\"08166463-3039-44d4-b6db-ffa347ec907d\")) {                    Plotly.newPlot(                        \"08166463-3039-44d4-b6db-ffa347ec907d\",                        [{\"line\":{\"width\":3},\"mode\":\"lines\",\"name\":\"Cluster 0\",\"opacity\":0.6996336996336996,\"r\":[-0.2748832343186964,0.6185954568176804,0.6477869572523236,0.6944141916865799,0.0725039371147165,-0.298430167999594,-0.2748832343186964],\"text\":[\"Mean value: -0.2748832343186964\",\"Mean value: 0.6185954568176804\",\"Mean value: 0.6477869572523236\",\"Mean value: 0.6944141916865799\",\"Mean value: 0.0725039371147165\",\"Mean value: -0.298430167999594\",\"Mean value: -0.2748832343186964\"],\"theta\":[\"danceability\",\"energy\",\"loudness\",\"acousticness\",\"valence\",\"tempo\",\"danceability\"],\"type\":\"scatterpolar\"},{\"line\":{\"width\":3},\"mode\":\"lines\",\"name\":\"Cluster 1\",\"opacity\":0.7692307692307693,\"r\":[-0.5291666342257989,-1.0997130152816088,-1.1061061587553496,0.6695107675915132,-0.18602832277364578,0.062196562979436265,-0.5291666342257989],\"text\":[\"Mean value: -0.5291666342257989\",\"Mean value: -1.0997130152816088\",\"Mean value: -1.1061061587553496\",\"Mean value: 0.6695107675915132\",\"Mean value: -0.18602832277364578\",\"Mean value: 0.062196562979436265\",\"Mean value: -0.5291666342257989\"],\"theta\":[\"danceability\",\"energy\",\"loudness\",\"acousticness\",\"valence\",\"tempo\",\"danceability\"],\"type\":\"scatterpolar\"},{\"line\":{\"width\":3},\"mode\":\"lines\",\"name\":\"Cluster 2\",\"opacity\":1.0,\"r\":[0.5993688312904359,0.41314286064820877,0.3976373058733693,-1.000843852770529,0.09237251206430311,0.16094829253568177,0.5993688312904359],\"text\":[\"Mean value: 0.5993688312904359\",\"Mean value: 0.41314286064820877\",\"Mean value: 0.3976373058733693\",\"Mean value: -1.000843852770529\",\"Mean value: 0.09237251206430311\",\"Mean value: 0.16094829253568177\",\"Mean value: 0.5993688312904359\"],\"theta\":[\"danceability\",\"energy\",\"loudness\",\"acousticness\",\"valence\",\"tempo\",\"danceability\"],\"type\":\"scatterpolar\"}],                        {\"template\":{\"data\":{\"barpolar\":[{\"marker\":{\"line\":{\"color\":\"rgb(17,17,17)\",\"width\":0.5},\"pattern\":{\"fillmode\":\"overlay\",\"size\":10,\"solidity\":0.2}},\"type\":\"barpolar\"}],\"bar\":[{\"error_x\":{\"color\":\"#f2f5fa\"},\"error_y\":{\"color\":\"#f2f5fa\"},\"marker\":{\"line\":{\"color\":\"rgb(17,17,17)\",\"width\":0.5},\"pattern\":{\"fillmode\":\"overlay\",\"size\":10,\"solidity\":0.2}},\"type\":\"bar\"}],\"carpet\":[{\"aaxis\":{\"endlinecolor\":\"#A2B1C6\",\"gridcolor\":\"#506784\",\"linecolor\":\"#506784\",\"minorgridcolor\":\"#506784\",\"startlinecolor\":\"#A2B1C6\"},\"baxis\":{\"endlinecolor\":\"#A2B1C6\",\"gridcolor\":\"#506784\",\"linecolor\":\"#506784\",\"minorgridcolor\":\"#506784\",\"startlinecolor\":\"#A2B1C6\"},\"type\":\"carpet\"}],\"choropleth\":[{\"colorbar\":{\"outlinewidth\":0,\"ticks\":\"\"},\"type\":\"choropleth\"}],\"contourcarpet\":[{\"colorbar\":{\"outlinewidth\":0,\"ticks\":\"\"},\"type\":\"contourcarpet\"}],\"contour\":[{\"colorbar\":{\"outlinewidth\":0,\"ticks\":\"\"},\"colorscale\":[[0.0,\"#0d0887\"],[0.1111111111111111,\"#46039f\"],[0.2222222222222222,\"#7201a8\"],[0.3333333333333333,\"#9c179e\"],[0.4444444444444444,\"#bd3786\"],[0.5555555555555556,\"#d8576b\"],[0.6666666666666666,\"#ed7953\"],[0.7777777777777778,\"#fb9f3a\"],[0.8888888888888888,\"#fdca26\"],[1.0,\"#f0f921\"]],\"type\":\"contour\"}],\"heatmapgl\":[{\"colorbar\":{\"outlinewidth\":0,\"ticks\":\"\"},\"colorscale\":[[0.0,\"#0d0887\"],[0.1111111111111111,\"#46039f\"],[0.2222222222222222,\"#7201a8\"],[0.3333333333333333,\"#9c179e\"],[0.4444444444444444,\"#bd3786\"],[0.5555555555555556,\"#d8576b\"],[0.6666666666666666,\"#ed7953\"],[0.7777777777777778,\"#fb9f3a\"],[0.8888888888888888,\"#fdca26\"],[1.0,\"#f0f921\"]],\"type\":\"heatmapgl\"}],\"heatmap\":[{\"colorbar\":{\"outlinewidth\":0,\"ticks\":\"\"},\"colorscale\":[[0.0,\"#0d0887\"],[0.1111111111111111,\"#46039f\"],[0.2222222222222222,\"#7201a8\"],[0.3333333333333333,\"#9c179e\"],[0.4444444444444444,\"#bd3786\"],[0.5555555555555556,\"#d8576b\"],[0.6666666666666666,\"#ed7953\"],[0.7777777777777778,\"#fb9f3a\"],[0.8888888888888888,\"#fdca26\"],[1.0,\"#f0f921\"]],\"type\":\"heatmap\"}],\"histogram2dcontour\":[{\"colorbar\":{\"outlinewidth\":0,\"ticks\":\"\"},\"colorscale\":[[0.0,\"#0d0887\"],[0.1111111111111111,\"#46039f\"],[0.2222222222222222,\"#7201a8\"],[0.3333333333333333,\"#9c179e\"],[0.4444444444444444,\"#bd3786\"],[0.5555555555555556,\"#d8576b\"],[0.6666666666666666,\"#ed7953\"],[0.7777777777777778,\"#fb9f3a\"],[0.8888888888888888,\"#fdca26\"],[1.0,\"#f0f921\"]],\"type\":\"histogram2dcontour\"}],\"histogram2d\":[{\"colorbar\":{\"outlinewidth\":0,\"ticks\":\"\"},\"colorscale\":[[0.0,\"#0d0887\"],[0.1111111111111111,\"#46039f\"],[0.2222222222222222,\"#7201a8\"],[0.3333333333333333,\"#9c179e\"],[0.4444444444444444,\"#bd3786\"],[0.5555555555555556,\"#d8576b\"],[0.6666666666666666,\"#ed7953\"],[0.7777777777777778,\"#fb9f3a\"],[0.8888888888888888,\"#fdca26\"],[1.0,\"#f0f921\"]],\"type\":\"histogram2d\"}],\"histogram\":[{\"marker\":{\"pattern\":{\"fillmode\":\"overlay\",\"size\":10,\"solidity\":0.2}},\"type\":\"histogram\"}],\"mesh3d\":[{\"colorbar\":{\"outlinewidth\":0,\"ticks\":\"\"},\"type\":\"mesh3d\"}],\"parcoords\":[{\"line\":{\"colorbar\":{\"outlinewidth\":0,\"ticks\":\"\"}},\"type\":\"parcoords\"}],\"pie\":[{\"automargin\":true,\"type\":\"pie\"}],\"scatter3d\":[{\"line\":{\"colorbar\":{\"outlinewidth\":0,\"ticks\":\"\"}},\"marker\":{\"colorbar\":{\"outlinewidth\":0,\"ticks\":\"\"}},\"type\":\"scatter3d\"}],\"scattercarpet\":[{\"marker\":{\"colorbar\":{\"outlinewidth\":0,\"ticks\":\"\"}},\"type\":\"scattercarpet\"}],\"scattergeo\":[{\"marker\":{\"colorbar\":{\"outlinewidth\":0,\"ticks\":\"\"}},\"type\":\"scattergeo\"}],\"scattergl\":[{\"marker\":{\"line\":{\"color\":\"#283442\"}},\"type\":\"scattergl\"}],\"scattermapbox\":[{\"marker\":{\"colorbar\":{\"outlinewidth\":0,\"ticks\":\"\"}},\"type\":\"scattermapbox\"}],\"scatterpolargl\":[{\"marker\":{\"colorbar\":{\"outlinewidth\":0,\"ticks\":\"\"}},\"type\":\"scatterpolargl\"}],\"scatterpolar\":[{\"marker\":{\"colorbar\":{\"outlinewidth\":0,\"ticks\":\"\"}},\"type\":\"scatterpolar\"}],\"scatter\":[{\"marker\":{\"line\":{\"color\":\"#283442\"}},\"type\":\"scatter\"}],\"scatterternary\":[{\"marker\":{\"colorbar\":{\"outlinewidth\":0,\"ticks\":\"\"}},\"type\":\"scatterternary\"}],\"surface\":[{\"colorbar\":{\"outlinewidth\":0,\"ticks\":\"\"},\"colorscale\":[[0.0,\"#0d0887\"],[0.1111111111111111,\"#46039f\"],[0.2222222222222222,\"#7201a8\"],[0.3333333333333333,\"#9c179e\"],[0.4444444444444444,\"#bd3786\"],[0.5555555555555556,\"#d8576b\"],[0.6666666666666666,\"#ed7953\"],[0.7777777777777778,\"#fb9f3a\"],[0.8888888888888888,\"#fdca26\"],[1.0,\"#f0f921\"]],\"type\":\"surface\"}],\"table\":[{\"cells\":{\"fill\":{\"color\":\"#506784\"},\"line\":{\"color\":\"rgb(17,17,17)\"}},\"header\":{\"fill\":{\"color\":\"#2a3f5f\"},\"line\":{\"color\":\"rgb(17,17,17)\"}},\"type\":\"table\"}]},\"layout\":{\"annotationdefaults\":{\"arrowcolor\":\"#f2f5fa\",\"arrowhead\":0,\"arrowwidth\":1},\"autotypenumbers\":\"strict\",\"coloraxis\":{\"colorbar\":{\"outlinewidth\":0,\"ticks\":\"\"}},\"colorscale\":{\"diverging\":[[0,\"#8e0152\"],[0.1,\"#c51b7d\"],[0.2,\"#de77ae\"],[0.3,\"#f1b6da\"],[0.4,\"#fde0ef\"],[0.5,\"#f7f7f7\"],[0.6,\"#e6f5d0\"],[0.7,\"#b8e186\"],[0.8,\"#7fbc41\"],[0.9,\"#4d9221\"],[1,\"#276419\"]],\"sequential\":[[0.0,\"#0d0887\"],[0.1111111111111111,\"#46039f\"],[0.2222222222222222,\"#7201a8\"],[0.3333333333333333,\"#9c179e\"],[0.4444444444444444,\"#bd3786\"],[0.5555555555555556,\"#d8576b\"],[0.6666666666666666,\"#ed7953\"],[0.7777777777777778,\"#fb9f3a\"],[0.8888888888888888,\"#fdca26\"],[1.0,\"#f0f921\"]],\"sequentialminus\":[[0.0,\"#0d0887\"],[0.1111111111111111,\"#46039f\"],[0.2222222222222222,\"#7201a8\"],[0.3333333333333333,\"#9c179e\"],[0.4444444444444444,\"#bd3786\"],[0.5555555555555556,\"#d8576b\"],[0.6666666666666666,\"#ed7953\"],[0.7777777777777778,\"#fb9f3a\"],[0.8888888888888888,\"#fdca26\"],[1.0,\"#f0f921\"]]},\"colorway\":[\"#636efa\",\"#EF553B\",\"#00cc96\",\"#ab63fa\",\"#FFA15A\",\"#19d3f3\",\"#FF6692\",\"#B6E880\",\"#FF97FF\",\"#FECB52\"],\"font\":{\"color\":\"#f2f5fa\"},\"geo\":{\"bgcolor\":\"rgb(17,17,17)\",\"lakecolor\":\"rgb(17,17,17)\",\"landcolor\":\"rgb(17,17,17)\",\"showlakes\":true,\"showland\":true,\"subunitcolor\":\"#506784\"},\"hoverlabel\":{\"align\":\"left\"},\"hovermode\":\"closest\",\"mapbox\":{\"style\":\"dark\"},\"paper_bgcolor\":\"rgb(17,17,17)\",\"plot_bgcolor\":\"rgb(17,17,17)\",\"polar\":{\"angularaxis\":{\"gridcolor\":\"#506784\",\"linecolor\":\"#506784\",\"ticks\":\"\"},\"bgcolor\":\"rgb(17,17,17)\",\"radialaxis\":{\"gridcolor\":\"#506784\",\"linecolor\":\"#506784\",\"ticks\":\"\"}},\"scene\":{\"xaxis\":{\"backgroundcolor\":\"rgb(17,17,17)\",\"gridcolor\":\"#506784\",\"gridwidth\":2,\"linecolor\":\"#506784\",\"showbackground\":true,\"ticks\":\"\",\"zerolinecolor\":\"#C8D4E3\"},\"yaxis\":{\"backgroundcolor\":\"rgb(17,17,17)\",\"gridcolor\":\"#506784\",\"gridwidth\":2,\"linecolor\":\"#506784\",\"showbackground\":true,\"ticks\":\"\",\"zerolinecolor\":\"#C8D4E3\"},\"zaxis\":{\"backgroundcolor\":\"rgb(17,17,17)\",\"gridcolor\":\"#506784\",\"gridwidth\":2,\"linecolor\":\"#506784\",\"showbackground\":true,\"ticks\":\"\",\"zerolinecolor\":\"#C8D4E3\"}},\"shapedefaults\":{\"line\":{\"color\":\"#f2f5fa\"}},\"sliderdefaults\":{\"bgcolor\":\"#C8D4E3\",\"bordercolor\":\"rgb(17,17,17)\",\"borderwidth\":1,\"tickwidth\":0},\"ternary\":{\"aaxis\":{\"gridcolor\":\"#506784\",\"linecolor\":\"#506784\",\"ticks\":\"\"},\"baxis\":{\"gridcolor\":\"#506784\",\"linecolor\":\"#506784\",\"ticks\":\"\"},\"bgcolor\":\"rgb(17,17,17)\",\"caxis\":{\"gridcolor\":\"#506784\",\"linecolor\":\"#506784\",\"ticks\":\"\"}},\"title\":{\"x\":0.05},\"updatemenudefaults\":{\"bgcolor\":\"#506784\",\"borderwidth\":0},\"xaxis\":{\"automargin\":true,\"gridcolor\":\"#283442\",\"linecolor\":\"#506784\",\"ticks\":\"\",\"title\":{\"standoff\":15},\"zerolinecolor\":\"#283442\",\"zerolinewidth\":2},\"yaxis\":{\"automargin\":true,\"gridcolor\":\"#283442\",\"linecolor\":\"#506784\",\"ticks\":\"\",\"title\":{\"standoff\":15},\"zerolinecolor\":\"#283442\",\"zerolinewidth\":2}}},\"title\":{\"text\":\"Cluster Analysis\"},\"showlegend\":true,\"width\":800,\"autosize\":false},                        {\"responsive\": true}                    ).then(function(){\n",
       "                            \n",
       "var gd = document.getElementById('08166463-3039-44d4-b6db-ffa347ec907d');\n",
       "var x = new MutationObserver(function (mutations, observer) {{\n",
       "        var display = window.getComputedStyle(gd).display;\n",
       "        if (!display || display === 'none') {{\n",
       "            console.log([gd, 'removed!']);\n",
       "            Plotly.purge(gd);\n",
       "            observer.disconnect();\n",
       "        }}\n",
       "}});\n",
       "\n",
       "// Listen for the removal of the full notebook cells\n",
       "var notebookContainer = gd.closest('#notebook-container');\n",
       "if (notebookContainer) {{\n",
       "    x.observe(notebookContainer, {childList: true});\n",
       "}}\n",
       "\n",
       "// Listen for the clearing of the current output cell\n",
       "var outputEl = gd.closest('.output');\n",
       "if (outputEl) {{\n",
       "    x.observe(outputEl, {childList: true});\n",
       "}}\n",
       "\n",
       "                        })                };                });            </script>        </div>"
      ]
     },
     "metadata": {},
     "output_type": "display_data"
    }
   ],
   "source": [
    " biggest_cluster=scaled_data.groupby(['cluster']).count().max().max()\n",
    "\n",
    "clusters = scaled_data.cluster\n",
    "\n",
    "fig = go.Figure()\n",
    "\n",
    "for cluster in np.unique(clusters):\n",
    "    \n",
    "    radii = scaled_data.loc[scaled_data.cluster==cluster, features].mean().tolist()\n",
    "    thetas = features\n",
    "    \n",
    "    actual_values = scaled_data.loc[scaled_data.cluster==cluster, features].mean().tolist()\n",
    "    cluster_size = len(scaled_data[scaled_data.cluster==cluster])\n",
    "    print(cluster_size)\n",
    "    fig.add_trace(\n",
    "        go.Scatterpolar(\n",
    "            r=radii + radii[:1],\n",
    "            theta=thetas + thetas[:1],\n",
    "            mode='lines',\n",
    "            name=f'Cluster {cluster}',\n",
    "            text = [f'Mean value: {x}' for x in actual_values + actual_values[:1]],\n",
    "            line=dict(width=3),\n",
    "            opacity=np.max([cluster_size/biggest_cluster, 0.6])\n",
    "        )\n",
    "    )\n",
    "\n",
    "fig.update_layout(\n",
    "    title='Cluster Analysis',\n",
    "    showlegend=True,\n",
    "    template='plotly_dark',\n",
    "    width=800,\n",
    "    autosize=False\n",
    ")\n",
    "\n",
    "fig.show()\n"
   ]
  },
  {
   "cell_type": "code",
   "execution_count": 111,
   "id": "8952495e",
   "metadata": {},
   "outputs": [
    {
     "data": {
      "image/png": "[encoded data removed]",
      "text/plain": [
       "<Figure size 432x288 with 1 Axes>"
      ]
     },
     "metadata": {
      "needs_background": "light"
     },
     "output_type": "display_data"
    }
   ],
   "source": [
    "'''PART TWO'''\n",
    "#Determine the number of k by Elbow, to apply only kmeans model on the data, not hybrid\n",
    "#I give it  a random range, according to what I want, I don't want more than 4 clusters\n",
    "#Is it 2 or 3? the obvious bend is on 2 but there's another light bend on 3, so there's a big difference in inertia score here\n",
    "\n",
    "\n",
    "range_n_clusters = [2,3,4]\n",
    "wcss=[]\n",
    "for i in range(1,10):\n",
    "    kmeans=KMeans(n_clusters=i, init='k-means++',random_state=0)\n",
    "    kmeans.fit(scaled_data)\n",
    "    wcss.append(kmeans.inertia_)\n",
    "\n",
    "plt.plot(range(1,10),wcss)\n",
    "plt.title('The Elbow Method')\n",
    "plt.xlabel('Number of Clusters')\n",
    "plt.ylabel('WCSS')\n",
    "plt.show()"
   ]
  },
  {
   "cell_type": "code",
   "execution_count": 123,
   "id": "c6c8fd16",
   "metadata": {},
   "outputs": [
    {
     "name": "stdout",
     "output_type": "stream",
     "text": [
      "Initialization complete\n",
      "Iteration 0, inertia 5135.428470673352\n",
      "Iteration 1, inertia 3516.0008497668564\n",
      "Iteration 2, inertia 3295.1380126993663\n",
      "Iteration 3, inertia 3249.9424122942037\n",
      "Iteration 4, inertia 3234.7296141449674\n",
      "Iteration 5, inertia 3232.8383003920153\n",
      "Iteration 6, inertia 3232.279631337311\n",
      "Converged at iteration 6: center shift 4.4390968004216565e-05 within tolerance 9.313356386237184e-05.\n",
      "Initialization complete\n",
      "Iteration 0, inertia 5189.624921886667\n",
      "Iteration 1, inertia 3710.69930921501\n",
      "Iteration 2, inertia 3389.0494836447524\n",
      "Iteration 3, inertia 3269.620131814989\n",
      "Iteration 4, inertia 3242.6344897704867\n",
      "Iteration 5, inertia 3236.5573299792763\n",
      "Iteration 6, inertia 3234.8713669840363\n",
      "Iteration 7, inertia 3233.3311530623673\n",
      "Iteration 8, inertia 3232.780754485081\n",
      "Iteration 9, inertia 3232.265473799609\n",
      "Converged at iteration 9: strict convergence.\n"
     ]
    }
   ],
   "source": [
    "#Let's say 2 clusters according to Elbow, but look at the Silhouette score below\n",
    "#km_full = KMeans(n_clusters=2, max_iter=50, verbose=1, n_init=1)\n",
    "cluster_labels= km_full.fit_predict(hc_df)\n",
    "#km_df= pd.DataFrame(cluster_labels)\n",
    "kmeans_df = clustering.k_means(hc_df, n_clusters=2, init=INIT,max_iter=50,n_init=1,verbose=1)\n"
   ]
  },
  {
   "cell_type": "code",
   "execution_count": 124,
   "id": "a3fc3b73",
   "metadata": {},
   "outputs": [],
   "source": [
    "#all_features_df['cluster']=km_df\n",
    "#all_features_df\n",
    "#all_features_df.to_csv('/home/asmaosman/Music/Thesis files/Data_Exploratory_csv/features/hybrid_model_clusters.csv')"
   ]
  },
  {
   "cell_type": "code",
   "execution_count": null,
   "id": "4b86fc5b",
   "metadata": {},
   "outputs": [],
   "source": []
  },
  {
   "cell_type": "code",
   "execution_count": 125,
   "id": "c8359096",
   "metadata": {
    "scrolled": false
   },
   "outputs": [
    {
     "name": "stdout",
     "output_type": "stream",
     "text": [
      "For n_clusters = 2 The average silhouette_score is : 0.2593159663361289\n",
      "For n_clusters = 3 The average silhouette_score is : 0.1977463654014305\n",
      "For n_clusters = 4 The average silhouette_score is : 0.2096263186546208\n"
     ]
    },
    {
     "data": {
      "image/png": "[encoded data removed]",
      "text/plain": [
       "<Figure size 1296x504 with 2 Axes>"
      ]
     },
     "metadata": {},
     "output_type": "display_data"
    },
    {
     "data": {
      "image/png": "[encoded data removed]",
      "text/plain": [
       "<Figure size 1296x504 with 2 Axes>"
      ]
     },
     "metadata": {},
     "output_type": "display_data"
    },
    {
     "data": {
      "image/png": "[encoded data removed]",
      "text/plain": [
       "<Figure size 1296x504 with 2 Axes>"
      ]
     },
     "metadata": {},
     "output_type": "display_data"
    },
    {
     "data": {
      "text/plain": [
       "<Figure size 432x288 with 0 Axes>"
      ]
     },
     "metadata": {},
     "output_type": "display_data"
    }
   ],
   "source": [
    "#Slhouette score for 2 is higher\n",
    "\n",
    "i=0\n",
    "for n_clusters in range_n_clusters:\n",
    "    # Create a subplot with 1 row and 2 columns\n",
    "    fig, (ax1, ax2) = plt.subplots(1, 2)\n",
    "    fig.set_size_inches(18, 7)\n",
    "\n",
    "    # The 1st subplot is the silhouette plot\n",
    "    # The silhouette coefficient can range from -1, 1 but in this example all\n",
    "    # lie within [-0.1, 1]\n",
    "    ax1.set_xlim([-0.1, 1])\n",
    "    # The (n_clusters+1)*10 is for inserting blank space between silhouette\n",
    "    # plots of individual clusters, to demarcate them clearly.\n",
    "    ax1.set_ylim([0, len(cluster_labels) + (n_clusters + 1) * 10])\n",
    "\n",
    "    # Initialize the clusterer with n_clusters value and a random generator\n",
    "    # seed of 10 for reproducibility.\n",
    "    clusterer = KMeans(n_clusters=n_clusters, random_state=10)\n",
    "    cluster_labels = clusterer.fit_predict(scaled_data)\n",
    "\n",
    "    # The silhouette_score gives the average value for all the samples.\n",
    "    # This gives a perspective into the density and separation of the formed\n",
    "    # clusters\n",
    "    silhouette_avg = silhouette_score(scaled_data, cluster_labels)\n",
    "    print(\"For n_clusters =\", n_clusters,\n",
    "          \"The average silhouette_score is :\", silhouette_avg)\n",
    "\n",
    "    # Compute the silhouette scores for each sample\n",
    "    sample_silhouette_values = silhouette_samples(scaled_data, cluster_labels)\n",
    "\n",
    "    y_lower = 10\n",
    "    for i in range(n_clusters):\n",
    "        # Aggregate the silhouette scores for samples belonging to\n",
    "        # cluster i, and sort them\n",
    "        ith_cluster_silhouette_values = \\\n",
    "            sample_silhouette_values[cluster_labels == i]\n",
    "\n",
    "        ith_cluster_silhouette_values.sort()\n",
    "\n",
    "        size_cluster_i = ith_cluster_silhouette_values.shape[0]\n",
    "        y_upper = y_lower + size_cluster_i\n",
    "\n",
    "        color = cm.nipy_spectral(float(i) / n_clusters)\n",
    "        ax1.fill_betweenx(np.arange(y_lower, y_upper),\n",
    "                          0, ith_cluster_silhouette_values,\n",
    "                          facecolor=color, edgecolor=color, alpha=0.7)\n",
    "\n",
    "        # Label the silhouette plots with their cluster numbers at the middle\n",
    "        ax1.text(-0.05, y_lower + 0.5 * size_cluster_i, str(i))\n",
    "\n",
    "        # Compute the new y_lower for next plot\n",
    "        y_lower = y_upper + 10  # 10 for the 0 samples\n",
    "\n",
    "    ax1.set_title(\"The silhouette plot for the various clusters.\")\n",
    "    ax1.set_xlabel(\"The silhouette coefficient values\")\n",
    "    ax1.set_ylabel(\"Cluster label\")\n",
    "\n",
    "    # The vertical line for average silhouette score of all the values\n",
    "    ax1.axvline(x=silhouette_avg, color=\"red\", linestyle=\"--\")\n",
    "\n",
    "    ax1.set_yticks([])  # Clear the yaxis labels / ticks\n",
    "    ax1.set_xticks([-0.1, 0, 0.2, 0.4, 0.6, 0.8, 1])\n",
    "\n",
    "    # 2nd Plot showing the actual clusters formed\n",
    "    colors = cm.nipy_spectral(cluster_labels.astype(float) / n_clusters)\n",
    "    ax2.scatter(scaled_data.iloc[:, 0], scaled_data.iloc[:, 1], marker='.', s=30, lw=0, alpha=0.7,\n",
    "                c=colors, edgecolor='k')\n",
    "\n",
    "    # Labeling the clusters\n",
    "    centers = clusterer.cluster_centers_\n",
    "    # Draw white circles at cluster centers\n",
    "    ax2.scatter(centers[:, 0], centers[:, 1], marker='o',\n",
    "                c=\"white\", alpha=1, s=200, edgecolor='k')\n",
    "\n",
    "    for i, c in enumerate(centers):\n",
    "        ax2.scatter(c[0], c[1], marker='$%d$' % i, alpha=1,\n",
    "                    s=50, edgecolor='k')\n",
    "\n",
    "    ax2.set_title(\"The visualization of the clustered data.\")\n",
    "    ax2.set_xlabel(\"Feature space for the 1st feature\")\n",
    "    ax2.set_ylabel(\"Feature space for the 2nd feature\")\n",
    "\n",
    "    plt.suptitle((\"Silhouette analysis for KMeans clustering on sample data \"\n",
    "                  \"with n_clusters = %d\" % n_clusters),\n",
    "                 fontsize=14, fontweight='bold')\n",
    "    plt.savefig('/home/asmaosman/Music/Thesis files/Figures/silhouette'+str(i)+'.png',dpi=300)\n",
    "\n",
    "plt.show()\n",
    "plt.savefig('/home/asmaosman/Music/Thesis files/Figures/silhouette.png',dpi=300)\n"
   ]
  },
  {
   "cell_type": "code",
   "execution_count": 103,
   "id": "4a6d3fc6",
   "metadata": {},
   "outputs": [],
   "source": [
    "#This is just to save the clusters to the orginal features dataframe \n",
    "#all_features_df['cluster']=kmeans_df\n",
    "#all_features_df\n",
    "#all_features_df.to_csv('/home/asmaosman/Music/Thesis files/Data_Exploratory_csv/features/km_3_model_clusters.csv')"
   ]
  },
  {
   "cell_type": "code",
   "execution_count": 126,
   "id": "3c10c49e",
   "metadata": {},
   "outputs": [
    {
     "data": {
      "image/png": "[encoded data removed]",
      "text/plain": [
       "<Figure size 1080x216 with 6 Axes>"
      ]
     },
     "metadata": {},
     "output_type": "display_data"
    },
    {
     "data": {
      "image/png": "[encoded data removed]",
      "text/plain": [
       "<Figure size 1080x216 with 6 Axes>"
      ]
     },
     "metadata": {},
     "output_type": "display_data"
    }
   ],
   "source": [
    "for i in np.sort(kmeans_df['cluster'].unique()):\n",
    "    plot.plot_clusters(kmeans_df, i)"
   ]
  },
  {
   "cell_type": "code",
   "execution_count": 128,
   "id": "5bc367d5",
   "metadata": {},
   "outputs": [
    {
     "name": "stdout",
     "output_type": "stream",
     "text": [
      "282\n",
      "392\n"
     ]
    },
    {
     "data": {
      "application/vnd.plotly.v1+json": {
       "config": {
        "plotlyServerURL": "https://plot.ly"
       },
       "data": [
        {
         "line": {
          "width": 3
         },
         "mode": "lines",
         "name": "Cluster 0",
         "opacity": 0.7193877551020408,
         "r": [
          -0.5600378975963186,
          -0.8066872204414478,
          -0.7395598725784063,
          0.7201958318747992,
          -0.14555364709844226,
          -0.06338484738171993,
          -0.5600378975963186
         ],
         "text": [
          "Mean value: -0.5600378975963186",
          "Mean value: -0.8066872204414478",
          "Mean value: -0.7395598725784063",
          "Mean value: 0.7201958318747992",
          "Mean value: -0.14555364709844226",
          "Mean value: -0.06338484738171993",
          "Mean value: -0.5600378975963186"
         ],
         "theta": [
          "danceability",
          "energy",
          "loudness",
          "acousticness",
          "valence",
          "tempo",
          "danceability"
         ],
         "type": "scatterpolar"
        },
        {
         "line": {
          "width": 3
         },
         "mode": "lines",
         "name": "Cluster 1",
         "opacity": 1,
         "r": [
          0.4028844059238825,
          0.5803209085828784,
          0.5320303164977316,
          -0.5181000627262587,
          0.10470951143306298,
          0.04559828306542162,
          0.4028844059238825
         ],
         "text": [
          "Mean value: 0.4028844059238825",
          "Mean value: 0.5803209085828784",
          "Mean value: 0.5320303164977316",
          "Mean value: -0.5181000627262587",
          "Mean value: 0.10470951143306298",
          "Mean value: 0.04559828306542162",
          "Mean value: 0.4028844059238825"
         ],
         "theta": [
          "danceability",
          "energy",
          "loudness",
          "acousticness",
          "valence",
          "tempo",
          "danceability"
         ],
         "type": "scatterpolar"
        }
       ],
       "layout": {
        "autosize": false,
        "showlegend": true,
        "template": {
         "data": {
          "bar": [
           {
            "error_x": {
             "color": "#f2f5fa"
            },
            "error_y": {
             "color": "#f2f5fa"
            },
            "marker": {
             "line": {
              "color": "rgb(17,17,17)",
              "width": 0.5
             },
             "pattern": {
              "fillmode": "overlay",
              "size": 10,
              "solidity": 0.2
             }
            },
            "type": "bar"
           }
          ],
          "barpolar": [
           {
            "marker": {
             "line": {
              "color": "rgb(17,17,17)",
              "width": 0.5
             },
             "pattern": {
              "fillmode": "overlay",
              "size": 10,
              "solidity": 0.2
             }
            },
            "type": "barpolar"
           }
          ],
          "carpet": [
           {
            "aaxis": {
             "endlinecolor": "#A2B1C6",
             "gridcolor": "#506784",
             "linecolor": "#506784",
             "minorgridcolor": "#506784",
             "startlinecolor": "#A2B1C6"
            },
            "baxis": {
             "endlinecolor": "#A2B1C6",
             "gridcolor": "#506784",
             "linecolor": "#506784",
             "minorgridcolor": "#506784",
             "startlinecolor": "#A2B1C6"
            },
            "type": "carpet"
           }
          ],
          "choropleth": [
           {
            "colorbar": {
             "outlinewidth": 0,
             "ticks": ""
            },
            "type": "choropleth"
           }
          ],
          "contour": [
           {
            "colorbar": {
             "outlinewidth": 0,
             "ticks": ""
            },
            "colorscale": [
             [
              0,
              "#0d0887"
             ],
             [
              0.1111111111111111,
              "#46039f"
             ],
             [
              0.2222222222222222,
              "#7201a8"
             ],
             [
              0.3333333333333333,
              "#9c179e"
             ],
             [
              0.4444444444444444,
              "#bd3786"
             ],
             [
              0.5555555555555556,
              "#d8576b"
             ],
             [
              0.6666666666666666,
              "#ed7953"
             ],
             [
              0.7777777777777778,
              "#fb9f3a"
             ],
             [
              0.8888888888888888,
              "#fdca26"
             ],
             [
              1,
              "#f0f921"
             ]
            ],
            "type": "contour"
           }
          ],
          "contourcarpet": [
           {
            "colorbar": {
             "outlinewidth": 0,
             "ticks": ""
            },
            "type": "contourcarpet"
           }
          ],
          "heatmap": [
           {
            "colorbar": {
             "outlinewidth": 0,
             "ticks": ""
            },
            "colorscale": [
             [
              0,
              "#0d0887"
             ],
             [
              0.1111111111111111,
              "#46039f"
             ],
             [
              0.2222222222222222,
              "#7201a8"
             ],
             [
              0.3333333333333333,
              "#9c179e"
             ],
             [
              0.4444444444444444,
              "#bd3786"
             ],
             [
              0.5555555555555556,
              "#d8576b"
             ],
             [
              0.6666666666666666,
              "#ed7953"
             ],
             [
              0.7777777777777778,
              "#fb9f3a"
             ],
             [
              0.8888888888888888,
              "#fdca26"
             ],
             [
              1,
              "#f0f921"
             ]
            ],
            "type": "heatmap"
           }
          ],
          "heatmapgl": [
           {
            "colorbar": {
             "outlinewidth": 0,
             "ticks": ""
            },
            "colorscale": [
             [
              0,
              "#0d0887"
             ],
             [
              0.1111111111111111,
              "#46039f"
             ],
             [
              0.2222222222222222,
              "#7201a8"
             ],
             [
              0.3333333333333333,
              "#9c179e"
             ],
             [
              0.4444444444444444,
              "#bd3786"
             ],
             [
              0.5555555555555556,
              "#d8576b"
             ],
             [
              0.6666666666666666,
              "#ed7953"
             ],
             [
              0.7777777777777778,
              "#fb9f3a"
             ],
             [
              0.8888888888888888,
              "#fdca26"
             ],
             [
              1,
              "#f0f921"
             ]
            ],
            "type": "heatmapgl"
           }
          ],
          "histogram": [
           {
            "marker": {
             "pattern": {
              "fillmode": "overlay",
              "size": 10,
              "solidity": 0.2
             }
            },
            "type": "histogram"
           }
          ],
          "histogram2d": [
           {
            "colorbar": {
             "outlinewidth": 0,
             "ticks": ""
            },
            "colorscale": [
             [
              0,
              "#0d0887"
             ],
             [
              0.1111111111111111,
              "#46039f"
             ],
             [
              0.2222222222222222,
              "#7201a8"
             ],
             [
              0.3333333333333333,
              "#9c179e"
             ],
             [
              0.4444444444444444,
              "#bd3786"
             ],
             [
              0.5555555555555556,
              "#d8576b"
             ],
             [
              0.6666666666666666,
              "#ed7953"
             ],
             [
              0.7777777777777778,
              "#fb9f3a"
             ],
             [
              0.8888888888888888,
              "#fdca26"
             ],
             [
              1,
              "#f0f921"
             ]
            ],
            "type": "histogram2d"
           }
          ],
          "histogram2dcontour": [
           {
            "colorbar": {
             "outlinewidth": 0,
             "ticks": ""
            },
            "colorscale": [
             [
              0,
              "#0d0887"
             ],
             [
              0.1111111111111111,
              "#46039f"
             ],
             [
              0.2222222222222222,
              "#7201a8"
             ],
             [
              0.3333333333333333,
              "#9c179e"
             ],
             [
              0.4444444444444444,
              "#bd3786"
             ],
             [
              0.5555555555555556,
              "#d8576b"
             ],
             [
              0.6666666666666666,
              "#ed7953"
             ],
             [
              0.7777777777777778,
              "#fb9f3a"
             ],
             [
              0.8888888888888888,
              "#fdca26"
             ],
             [
              1,
              "#f0f921"
             ]
            ],
            "type": "histogram2dcontour"
           }
          ],
          "mesh3d": [
           {
            "colorbar": {
             "outlinewidth": 0,
             "ticks": ""
            },
            "type": "mesh3d"
           }
          ],
          "parcoords": [
           {
            "line": {
             "colorbar": {
              "outlinewidth": 0,
              "ticks": ""
             }
            },
            "type": "parcoords"
           }
          ],
          "pie": [
           {
            "automargin": true,
            "type": "pie"
           }
          ],
          "scatter": [
           {
            "marker": {
             "line": {
              "color": "#283442"
             }
            },
            "type": "scatter"
           }
          ],
          "scatter3d": [
           {
            "line": {
             "colorbar": {
              "outlinewidth": 0,
              "ticks": ""
             }
            },
            "marker": {
             "colorbar": {
              "outlinewidth": 0,
              "ticks": ""
             }
            },
            "type": "scatter3d"
           }
          ],
          "scattercarpet": [
           {
            "marker": {
             "colorbar": {
              "outlinewidth": 0,
              "ticks": ""
             }
            },
            "type": "scattercarpet"
           }
          ],
          "scattergeo": [
           {
            "marker": {
             "colorbar": {
              "outlinewidth": 0,
              "ticks": ""
             }
            },
            "type": "scattergeo"
           }
          ],
          "scattergl": [
           {
            "marker": {
             "line": {
              "color": "#283442"
             }
            },
            "type": "scattergl"
           }
          ],
          "scattermapbox": [
           {
            "marker": {
             "colorbar": {
              "outlinewidth": 0,
              "ticks": ""
             }
            },
            "type": "scattermapbox"
           }
          ],
          "scatterpolar": [
           {
            "marker": {
             "colorbar": {
              "outlinewidth": 0,
              "ticks": ""
             }
            },
            "type": "scatterpolar"
           }
          ],
          "scatterpolargl": [
           {
            "marker": {
             "colorbar": {
              "outlinewidth": 0,
              "ticks": ""
             }
            },
            "type": "scatterpolargl"
           }
          ],
          "scatterternary": [
           {
            "marker": {
             "colorbar": {
              "outlinewidth": 0,
              "ticks": ""
             }
            },
            "type": "scatterternary"
           }
          ],
          "surface": [
           {
            "colorbar": {
             "outlinewidth": 0,
             "ticks": ""
            },
            "colorscale": [
             [
              0,
              "#0d0887"
             ],
             [
              0.1111111111111111,
              "#46039f"
             ],
             [
              0.2222222222222222,
              "#7201a8"
             ],
             [
              0.3333333333333333,
              "#9c179e"
             ],
             [
              0.4444444444444444,
              "#bd3786"
             ],
             [
              0.5555555555555556,
              "#d8576b"
             ],
             [
              0.6666666666666666,
              "#ed7953"
             ],
             [
              0.7777777777777778,
              "#fb9f3a"
             ],
             [
              0.8888888888888888,
              "#fdca26"
             ],
             [
              1,
              "#f0f921"
             ]
            ],
            "type": "surface"
           }
          ],
          "table": [
           {
            "cells": {
             "fill": {
              "color": "#506784"
             },
             "line": {
              "color": "rgb(17,17,17)"
             }
            },
            "header": {
             "fill": {
              "color": "#2a3f5f"
             },
             "line": {
              "color": "rgb(17,17,17)"
             }
            },
            "type": "table"
           }
          ]
         },
         "layout": {
          "annotationdefaults": {
           "arrowcolor": "#f2f5fa",
           "arrowhead": 0,
           "arrowwidth": 1
          },
          "autotypenumbers": "strict",
          "coloraxis": {
           "colorbar": {
            "outlinewidth": 0,
            "ticks": ""
           }
          },
          "colorscale": {
           "diverging": [
            [
             0,
             "#8e0152"
            ],
            [
             0.1,
             "#c51b7d"
            ],
            [
             0.2,
             "#de77ae"
            ],
            [
             0.3,
             "#f1b6da"
            ],
            [
             0.4,
             "#fde0ef"
            ],
            [
             0.5,
             "#f7f7f7"
            ],
            [
             0.6,
             "#e6f5d0"
            ],
            [
             0.7,
             "#b8e186"
            ],
            [
             0.8,
             "#7fbc41"
            ],
            [
             0.9,
             "#4d9221"
            ],
            [
             1,
             "#276419"
            ]
           ],
           "sequential": [
            [
             0,
             "#0d0887"
            ],
            [
             0.1111111111111111,
             "#46039f"
            ],
            [
             0.2222222222222222,
             "#7201a8"
            ],
            [
             0.3333333333333333,
             "#9c179e"
            ],
            [
             0.4444444444444444,
             "#bd3786"
            ],
            [
             0.5555555555555556,
             "#d8576b"
            ],
            [
             0.6666666666666666,
             "#ed7953"
            ],
            [
             0.7777777777777778,
             "#fb9f3a"
            ],
            [
             0.8888888888888888,
             "#fdca26"
            ],
            [
             1,
             "#f0f921"
            ]
           ],
           "sequentialminus": [
            [
             0,
             "#0d0887"
            ],
            [
             0.1111111111111111,
             "#46039f"
            ],
            [
             0.2222222222222222,
             "#7201a8"
            ],
            [
             0.3333333333333333,
             "#9c179e"
            ],
            [
             0.4444444444444444,
             "#bd3786"
            ],
            [
             0.5555555555555556,
             "#d8576b"
            ],
            [
             0.6666666666666666,
             "#ed7953"
            ],
            [
             0.7777777777777778,
             "#fb9f3a"
            ],
            [
             0.8888888888888888,
             "#fdca26"
            ],
            [
             1,
             "#f0f921"
            ]
           ]
          },
          "colorway": [
           "#636efa",
           "#EF553B",
           "#00cc96",
           "#ab63fa",
           "#FFA15A",
           "#19d3f3",
           "#FF6692",
           "#B6E880",
           "#FF97FF",
           "#FECB52"
          ],
          "font": {
           "color": "#f2f5fa"
          },
          "geo": {
           "bgcolor": "rgb(17,17,17)",
           "lakecolor": "rgb(17,17,17)",
           "landcolor": "rgb(17,17,17)",
           "showlakes": true,
           "showland": true,
           "subunitcolor": "#506784"
          },
          "hoverlabel": {
           "align": "left"
          },
          "hovermode": "closest",
          "mapbox": {
           "style": "dark"
          },
          "paper_bgcolor": "rgb(17,17,17)",
          "plot_bgcolor": "rgb(17,17,17)",
          "polar": {
           "angularaxis": {
            "gridcolor": "#506784",
            "linecolor": "#506784",
            "ticks": ""
           },
           "bgcolor": "rgb(17,17,17)",
           "radialaxis": {
            "gridcolor": "#506784",
            "linecolor": "#506784",
            "ticks": ""
           }
          },
          "scene": {
           "xaxis": {
            "backgroundcolor": "rgb(17,17,17)",
            "gridcolor": "#506784",
            "gridwidth": 2,
            "linecolor": "#506784",
            "showbackground": true,
            "ticks": "",
            "zerolinecolor": "#C8D4E3"
           },
           "yaxis": {
            "backgroundcolor": "rgb(17,17,17)",
            "gridcolor": "#506784",
            "gridwidth": 2,
            "linecolor": "#506784",
            "showbackground": true,
            "ticks": "",
            "zerolinecolor": "#C8D4E3"
           },
           "zaxis": {
            "backgroundcolor": "rgb(17,17,17)",
            "gridcolor": "#506784",
            "gridwidth": 2,
            "linecolor": "#506784",
            "showbackground": true,
            "ticks": "",
            "zerolinecolor": "#C8D4E3"
           }
          },
          "shapedefaults": {
           "line": {
            "color": "#f2f5fa"
           }
          },
          "sliderdefaults": {
           "bgcolor": "#C8D4E3",
           "bordercolor": "rgb(17,17,17)",
           "borderwidth": 1,
           "tickwidth": 0
          },
          "ternary": {
           "aaxis": {
            "gridcolor": "#506784",
            "linecolor": "#506784",
            "ticks": ""
           },
           "baxis": {
            "gridcolor": "#506784",
            "linecolor": "#506784",
            "ticks": ""
           },
           "bgcolor": "rgb(17,17,17)",
           "caxis": {
            "gridcolor": "#506784",
            "linecolor": "#506784",
            "ticks": ""
           }
          },
          "title": {
           "x": 0.05
          },
          "updatemenudefaults": {
           "bgcolor": "#506784",
           "borderwidth": 0
          },
          "xaxis": {
           "automargin": true,
           "gridcolor": "#283442",
           "linecolor": "#506784",
           "ticks": "",
           "title": {
            "standoff": 15
           },
           "zerolinecolor": "#283442",
           "zerolinewidth": 2
          },
          "yaxis": {
           "automargin": true,
           "gridcolor": "#283442",
           "linecolor": "#506784",
           "ticks": "",
           "title": {
            "standoff": 15
           },
           "zerolinecolor": "#283442",
           "zerolinewidth": 2
          }
         }
        },
        "title": {
         "text": "Cluster Analysis"
        },
        "width": 800
       }
      },
      "text/html": [
       "<div>                            <div id=\"ad136cdf-e546-43f7-8781-c1e5290ce6a3\" class=\"plotly-graph-div\" style=\"height:525px; width:800px;\"></div>            <script type=\"text/javascript\">                require([\"plotly\"], function(Plotly) {                    window.PLOTLYENV=window.PLOTLYENV || {};                                    if (document.getElementById(\"ad136cdf-e546-43f7-8781-c1e5290ce6a3\")) {                    Plotly.newPlot(                        \"ad136cdf-e546-43f7-8781-c1e5290ce6a3\",                        [{\"line\":{\"width\":3},\"mode\":\"lines\",\"name\":\"Cluster 0\",\"opacity\":0.7193877551020408,\"r\":[-0.5600378975963186,-0.8066872204414478,-0.7395598725784063,0.7201958318747992,-0.14555364709844226,-0.06338484738171993,-0.5600378975963186],\"text\":[\"Mean value: -0.5600378975963186\",\"Mean value: -0.8066872204414478\",\"Mean value: -0.7395598725784063\",\"Mean value: 0.7201958318747992\",\"Mean value: -0.14555364709844226\",\"Mean value: -0.06338484738171993\",\"Mean value: -0.5600378975963186\"],\"theta\":[\"danceability\",\"energy\",\"loudness\",\"acousticness\",\"valence\",\"tempo\",\"danceability\"],\"type\":\"scatterpolar\"},{\"line\":{\"width\":3},\"mode\":\"lines\",\"name\":\"Cluster 1\",\"opacity\":1.0,\"r\":[0.4028844059238825,0.5803209085828784,0.5320303164977316,-0.5181000627262587,0.10470951143306298,0.04559828306542162,0.4028844059238825],\"text\":[\"Mean value: 0.4028844059238825\",\"Mean value: 0.5803209085828784\",\"Mean value: 0.5320303164977316\",\"Mean value: -0.5181000627262587\",\"Mean value: 0.10470951143306298\",\"Mean value: 0.04559828306542162\",\"Mean value: 0.4028844059238825\"],\"theta\":[\"danceability\",\"energy\",\"loudness\",\"acousticness\",\"valence\",\"tempo\",\"danceability\"],\"type\":\"scatterpolar\"}],                        {\"template\":{\"data\":{\"barpolar\":[{\"marker\":{\"line\":{\"color\":\"rgb(17,17,17)\",\"width\":0.5},\"pattern\":{\"fillmode\":\"overlay\",\"size\":10,\"solidity\":0.2}},\"type\":\"barpolar\"}],\"bar\":[{\"error_x\":{\"color\":\"#f2f5fa\"},\"error_y\":{\"color\":\"#f2f5fa\"},\"marker\":{\"line\":{\"color\":\"rgb(17,17,17)\",\"width\":0.5},\"pattern\":{\"fillmode\":\"overlay\",\"size\":10,\"solidity\":0.2}},\"type\":\"bar\"}],\"carpet\":[{\"aaxis\":{\"endlinecolor\":\"#A2B1C6\",\"gridcolor\":\"#506784\",\"linecolor\":\"#506784\",\"minorgridcolor\":\"#506784\",\"startlinecolor\":\"#A2B1C6\"},\"baxis\":{\"endlinecolor\":\"#A2B1C6\",\"gridcolor\":\"#506784\",\"linecolor\":\"#506784\",\"minorgridcolor\":\"#506784\",\"startlinecolor\":\"#A2B1C6\"},\"type\":\"carpet\"}],\"choropleth\":[{\"colorbar\":{\"outlinewidth\":0,\"ticks\":\"\"},\"type\":\"choropleth\"}],\"contourcarpet\":[{\"colorbar\":{\"outlinewidth\":0,\"ticks\":\"\"},\"type\":\"contourcarpet\"}],\"contour\":[{\"colorbar\":{\"outlinewidth\":0,\"ticks\":\"\"},\"colorscale\":[[0.0,\"#0d0887\"],[0.1111111111111111,\"#46039f\"],[0.2222222222222222,\"#7201a8\"],[0.3333333333333333,\"#9c179e\"],[0.4444444444444444,\"#bd3786\"],[0.5555555555555556,\"#d8576b\"],[0.6666666666666666,\"#ed7953\"],[0.7777777777777778,\"#fb9f3a\"],[0.8888888888888888,\"#fdca26\"],[1.0,\"#f0f921\"]],\"type\":\"contour\"}],\"heatmapgl\":[{\"colorbar\":{\"outlinewidth\":0,\"ticks\":\"\"},\"colorscale\":[[0.0,\"#0d0887\"],[0.1111111111111111,\"#46039f\"],[0.2222222222222222,\"#7201a8\"],[0.3333333333333333,\"#9c179e\"],[0.4444444444444444,\"#bd3786\"],[0.5555555555555556,\"#d8576b\"],[0.6666666666666666,\"#ed7953\"],[0.7777777777777778,\"#fb9f3a\"],[0.8888888888888888,\"#fdca26\"],[1.0,\"#f0f921\"]],\"type\":\"heatmapgl\"}],\"heatmap\":[{\"colorbar\":{\"outlinewidth\":0,\"ticks\":\"\"},\"colorscale\":[[0.0,\"#0d0887\"],[0.1111111111111111,\"#46039f\"],[0.2222222222222222,\"#7201a8\"],[0.3333333333333333,\"#9c179e\"],[0.4444444444444444,\"#bd3786\"],[0.5555555555555556,\"#d8576b\"],[0.6666666666666666,\"#ed7953\"],[0.7777777777777778,\"#fb9f3a\"],[0.8888888888888888,\"#fdca26\"],[1.0,\"#f0f921\"]],\"type\":\"heatmap\"}],\"histogram2dcontour\":[{\"colorbar\":{\"outlinewidth\":0,\"ticks\":\"\"},\"colorscale\":[[0.0,\"#0d0887\"],[0.1111111111111111,\"#46039f\"],[0.2222222222222222,\"#7201a8\"],[0.3333333333333333,\"#9c179e\"],[0.4444444444444444,\"#bd3786\"],[0.5555555555555556,\"#d8576b\"],[0.6666666666666666,\"#ed7953\"],[0.7777777777777778,\"#fb9f3a\"],[0.8888888888888888,\"#fdca26\"],[1.0,\"#f0f921\"]],\"type\":\"histogram2dcontour\"}],\"histogram2d\":[{\"colorbar\":{\"outlinewidth\":0,\"ticks\":\"\"},\"colorscale\":[[0.0,\"#0d0887\"],[0.1111111111111111,\"#46039f\"],[0.2222222222222222,\"#7201a8\"],[0.3333333333333333,\"#9c179e\"],[0.4444444444444444,\"#bd3786\"],[0.5555555555555556,\"#d8576b\"],[0.6666666666666666,\"#ed7953\"],[0.7777777777777778,\"#fb9f3a\"],[0.8888888888888888,\"#fdca26\"],[1.0,\"#f0f921\"]],\"type\":\"histogram2d\"}],\"histogram\":[{\"marker\":{\"pattern\":{\"fillmode\":\"overlay\",\"size\":10,\"solidity\":0.2}},\"type\":\"histogram\"}],\"mesh3d\":[{\"colorbar\":{\"outlinewidth\":0,\"ticks\":\"\"},\"type\":\"mesh3d\"}],\"parcoords\":[{\"line\":{\"colorbar\":{\"outlinewidth\":0,\"ticks\":\"\"}},\"type\":\"parcoords\"}],\"pie\":[{\"automargin\":true,\"type\":\"pie\"}],\"scatter3d\":[{\"line\":{\"colorbar\":{\"outlinewidth\":0,\"ticks\":\"\"}},\"marker\":{\"colorbar\":{\"outlinewidth\":0,\"ticks\":\"\"}},\"type\":\"scatter3d\"}],\"scattercarpet\":[{\"marker\":{\"colorbar\":{\"outlinewidth\":0,\"ticks\":\"\"}},\"type\":\"scattercarpet\"}],\"scattergeo\":[{\"marker\":{\"colorbar\":{\"outlinewidth\":0,\"ticks\":\"\"}},\"type\":\"scattergeo\"}],\"scattergl\":[{\"marker\":{\"line\":{\"color\":\"#283442\"}},\"type\":\"scattergl\"}],\"scattermapbox\":[{\"marker\":{\"colorbar\":{\"outlinewidth\":0,\"ticks\":\"\"}},\"type\":\"scattermapbox\"}],\"scatterpolargl\":[{\"marker\":{\"colorbar\":{\"outlinewidth\":0,\"ticks\":\"\"}},\"type\":\"scatterpolargl\"}],\"scatterpolar\":[{\"marker\":{\"colorbar\":{\"outlinewidth\":0,\"ticks\":\"\"}},\"type\":\"scatterpolar\"}],\"scatter\":[{\"marker\":{\"line\":{\"color\":\"#283442\"}},\"type\":\"scatter\"}],\"scatterternary\":[{\"marker\":{\"colorbar\":{\"outlinewidth\":0,\"ticks\":\"\"}},\"type\":\"scatterternary\"}],\"surface\":[{\"colorbar\":{\"outlinewidth\":0,\"ticks\":\"\"},\"colorscale\":[[0.0,\"#0d0887\"],[0.1111111111111111,\"#46039f\"],[0.2222222222222222,\"#7201a8\"],[0.3333333333333333,\"#9c179e\"],[0.4444444444444444,\"#bd3786\"],[0.5555555555555556,\"#d8576b\"],[0.6666666666666666,\"#ed7953\"],[0.7777777777777778,\"#fb9f3a\"],[0.8888888888888888,\"#fdca26\"],[1.0,\"#f0f921\"]],\"type\":\"surface\"}],\"table\":[{\"cells\":{\"fill\":{\"color\":\"#506784\"},\"line\":{\"color\":\"rgb(17,17,17)\"}},\"header\":{\"fill\":{\"color\":\"#2a3f5f\"},\"line\":{\"color\":\"rgb(17,17,17)\"}},\"type\":\"table\"}]},\"layout\":{\"annotationdefaults\":{\"arrowcolor\":\"#f2f5fa\",\"arrowhead\":0,\"arrowwidth\":1},\"autotypenumbers\":\"strict\",\"coloraxis\":{\"colorbar\":{\"outlinewidth\":0,\"ticks\":\"\"}},\"colorscale\":{\"diverging\":[[0,\"#8e0152\"],[0.1,\"#c51b7d\"],[0.2,\"#de77ae\"],[0.3,\"#f1b6da\"],[0.4,\"#fde0ef\"],[0.5,\"#f7f7f7\"],[0.6,\"#e6f5d0\"],[0.7,\"#b8e186\"],[0.8,\"#7fbc41\"],[0.9,\"#4d9221\"],[1,\"#276419\"]],\"sequential\":[[0.0,\"#0d0887\"],[0.1111111111111111,\"#46039f\"],[0.2222222222222222,\"#7201a8\"],[0.3333333333333333,\"#9c179e\"],[0.4444444444444444,\"#bd3786\"],[0.5555555555555556,\"#d8576b\"],[0.6666666666666666,\"#ed7953\"],[0.7777777777777778,\"#fb9f3a\"],[0.8888888888888888,\"#fdca26\"],[1.0,\"#f0f921\"]],\"sequentialminus\":[[0.0,\"#0d0887\"],[0.1111111111111111,\"#46039f\"],[0.2222222222222222,\"#7201a8\"],[0.3333333333333333,\"#9c179e\"],[0.4444444444444444,\"#bd3786\"],[0.5555555555555556,\"#d8576b\"],[0.6666666666666666,\"#ed7953\"],[0.7777777777777778,\"#fb9f3a\"],[0.8888888888888888,\"#fdca26\"],[1.0,\"#f0f921\"]]},\"colorway\":[\"#636efa\",\"#EF553B\",\"#00cc96\",\"#ab63fa\",\"#FFA15A\",\"#19d3f3\",\"#FF6692\",\"#B6E880\",\"#FF97FF\",\"#FECB52\"],\"font\":{\"color\":\"#f2f5fa\"},\"geo\":{\"bgcolor\":\"rgb(17,17,17)\",\"lakecolor\":\"rgb(17,17,17)\",\"landcolor\":\"rgb(17,17,17)\",\"showlakes\":true,\"showland\":true,\"subunitcolor\":\"#506784\"},\"hoverlabel\":{\"align\":\"left\"},\"hovermode\":\"closest\",\"mapbox\":{\"style\":\"dark\"},\"paper_bgcolor\":\"rgb(17,17,17)\",\"plot_bgcolor\":\"rgb(17,17,17)\",\"polar\":{\"angularaxis\":{\"gridcolor\":\"#506784\",\"linecolor\":\"#506784\",\"ticks\":\"\"},\"bgcolor\":\"rgb(17,17,17)\",\"radialaxis\":{\"gridcolor\":\"#506784\",\"linecolor\":\"#506784\",\"ticks\":\"\"}},\"scene\":{\"xaxis\":{\"backgroundcolor\":\"rgb(17,17,17)\",\"gridcolor\":\"#506784\",\"gridwidth\":2,\"linecolor\":\"#506784\",\"showbackground\":true,\"ticks\":\"\",\"zerolinecolor\":\"#C8D4E3\"},\"yaxis\":{\"backgroundcolor\":\"rgb(17,17,17)\",\"gridcolor\":\"#506784\",\"gridwidth\":2,\"linecolor\":\"#506784\",\"showbackground\":true,\"ticks\":\"\",\"zerolinecolor\":\"#C8D4E3\"},\"zaxis\":{\"backgroundcolor\":\"rgb(17,17,17)\",\"gridcolor\":\"#506784\",\"gridwidth\":2,\"linecolor\":\"#506784\",\"showbackground\":true,\"ticks\":\"\",\"zerolinecolor\":\"#C8D4E3\"}},\"shapedefaults\":{\"line\":{\"color\":\"#f2f5fa\"}},\"sliderdefaults\":{\"bgcolor\":\"#C8D4E3\",\"bordercolor\":\"rgb(17,17,17)\",\"borderwidth\":1,\"tickwidth\":0},\"ternary\":{\"aaxis\":{\"gridcolor\":\"#506784\",\"linecolor\":\"#506784\",\"ticks\":\"\"},\"baxis\":{\"gridcolor\":\"#506784\",\"linecolor\":\"#506784\",\"ticks\":\"\"},\"bgcolor\":\"rgb(17,17,17)\",\"caxis\":{\"gridcolor\":\"#506784\",\"linecolor\":\"#506784\",\"ticks\":\"\"}},\"title\":{\"x\":0.05},\"updatemenudefaults\":{\"bgcolor\":\"#506784\",\"borderwidth\":0},\"xaxis\":{\"automargin\":true,\"gridcolor\":\"#283442\",\"linecolor\":\"#506784\",\"ticks\":\"\",\"title\":{\"standoff\":15},\"zerolinecolor\":\"#283442\",\"zerolinewidth\":2},\"yaxis\":{\"automargin\":true,\"gridcolor\":\"#283442\",\"linecolor\":\"#506784\",\"ticks\":\"\",\"title\":{\"standoff\":15},\"zerolinecolor\":\"#283442\",\"zerolinewidth\":2}}},\"title\":{\"text\":\"Cluster Analysis\"},\"showlegend\":true,\"width\":800,\"autosize\":false},                        {\"responsive\": true}                    ).then(function(){\n",
       "                            \n",
       "var gd = document.getElementById('ad136cdf-e546-43f7-8781-c1e5290ce6a3');\n",
       "var x = new MutationObserver(function (mutations, observer) {{\n",
       "        var display = window.getComputedStyle(gd).display;\n",
       "        if (!display || display === 'none') {{\n",
       "            console.log([gd, 'removed!']);\n",
       "            Plotly.purge(gd);\n",
       "            observer.disconnect();\n",
       "        }}\n",
       "}});\n",
       "\n",
       "// Listen for the removal of the full notebook cells\n",
       "var notebookContainer = gd.closest('#notebook-container');\n",
       "if (notebookContainer) {{\n",
       "    x.observe(notebookContainer, {childList: true});\n",
       "}}\n",
       "\n",
       "// Listen for the clearing of the current output cell\n",
       "var outputEl = gd.closest('.output');\n",
       "if (outputEl) {{\n",
       "    x.observe(outputEl, {childList: true});\n",
       "}}\n",
       "\n",
       "                        })                };                });            </script>        </div>"
      ]
     },
     "metadata": {},
     "output_type": "display_data"
    }
   ],
   "source": [
    " biggest_cluster=kmeans_df.groupby(['cluster']).count().max().max()\n",
    "\n",
    "clusters = kmeans_df.cluster\n",
    "\n",
    "fig = go.Figure()\n",
    "\n",
    "for cluster in np.unique(clusters):\n",
    "    \n",
    "    radii = kmeans_df.loc[kmeans_df.cluster==cluster, features].mean().tolist()\n",
    "    thetas = features\n",
    "    \n",
    "    actual_values = kmeans_df.loc[kmeans_df.cluster==cluster, features].mean().tolist()\n",
    "    cluster_size = len(kmeans_df[kmeans_df.cluster==cluster])\n",
    "    print(cluster_size)\n",
    "    fig.add_trace(\n",
    "        go.Scatterpolar(\n",
    "            r=radii + radii[:1],\n",
    "            theta=thetas + thetas[:1],\n",
    "            mode='lines',\n",
    "            name=f'Cluster {cluster}',\n",
    "            text = [f'Mean value: {x}' for x in actual_values + actual_values[:1]],\n",
    "            line=dict(width=3),\n",
    "            opacity=np.max([cluster_size/biggest_cluster, 0.6])\n",
    "        )\n",
    "    )\n",
    "\n",
    "fig.update_layout(\n",
    "    title='Cluster Analysis',\n",
    "    showlegend=True,\n",
    "    template='plotly_dark',\n",
    "    width=800,\n",
    "    autosize=False\n",
    ")\n",
    "\n",
    "fig.show()\n"
   ]
  },
  {
   "cell_type": "code",
   "execution_count": null,
   "id": "ca0752d5",
   "metadata": {},
   "outputs": [],
   "source": []
  },
  {
   "cell_type": "code",
   "execution_count": null,
   "id": "e8d10305",
   "metadata": {},
   "outputs": [],
   "source": []
  },
  {
   "cell_type": "code",
   "execution_count": null,
   "id": "d099b783",
   "metadata": {},
   "outputs": [],
   "source": []
  },
  {
   "cell_type": "code",
   "execution_count": null,
   "id": "04d603dc",
   "metadata": {},
   "outputs": [],
   "source": []
  },
  {
   "cell_type": "code",
   "execution_count": null,
   "id": "87501e1a",
   "metadata": {},
   "outputs": [],
   "source": []
  },
  {
   "cell_type": "code",
   "execution_count": null,
   "id": "ac83f775",
   "metadata": {},
   "outputs": [],
   "source": []
  },
  {
   "cell_type": "code",
   "execution_count": null,
   "id": "f75e81a5",
   "metadata": {},
   "outputs": [],
   "source": []
  },
  {
   "cell_type": "code",
   "execution_count": null,
   "id": "035cb9dd",
   "metadata": {},
   "outputs": [],
   "source": []
  },
  {
   "cell_type": "code",
   "execution_count": null,
   "id": "26f6881c",
   "metadata": {},
   "outputs": [],
   "source": []
  },
  {
   "cell_type": "code",
   "execution_count": null,
   "id": "9427dedd",
   "metadata": {},
   "outputs": [],
   "source": []
  },
  {
   "cell_type": "code",
   "execution_count": null,
   "id": "3de25ca0",
   "metadata": {},
   "outputs": [],
   "source": []
  },
  {
   "cell_type": "code",
   "execution_count": null,
   "id": "9cee387e",
   "metadata": {},
   "outputs": [],
   "source": []
  },
  {
   "cell_type": "code",
   "execution_count": null,
   "id": "297e720d",
   "metadata": {},
   "outputs": [],
   "source": []
  }
 ],
 "metadata": {
  "kernelspec": {
   "display_name": "Python 3 (ipykernel)",
   "language": "python",
   "name": "python3"
  },
  "language_info": {
   "codemirror_mode": {
    "name": "ipython",
    "version": 3
   },
   "file_extension": ".py",
   "mimetype": "text/x-python",
   "name": "python",
   "nbconvert_exporter": "python",
   "pygments_lexer": "ipython3",
   "version": "3.9.12"
  }
 },
 "nbformat": 4,
 "nbformat_minor": 5
}
