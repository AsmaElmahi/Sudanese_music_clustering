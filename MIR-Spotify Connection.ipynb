{
 "cells": [
  {
   "cell_type": "markdown",
   "source": [
    "# Features Extracting and basic data formating"
   ],
   "metadata": {
    "collapsed": false,
    "pycharm": {
     "name": "#%% md\n"
    }
   }
  },
  {
   "cell_type": "code",
   "execution_count": 313,
   "metadata": {
    "collapsed": false,
    "pycharm": {
     "name": "#%%\n"
    }
   },
   "outputs": [],
   "source": [
    "import spotipy\n",
    "import pandas as pd\n",
    "import plotly.express as px\n",
    "import seaborn as sns\n",
    "import sys\n",
    "from spotipy.oauth2 import SpotifyClientCredentials"
   ]
  },
  {
   "cell_type": "code",
   "execution_count": 261,
   "metadata": {
    "collapsed": false,
    "pycharm": {
     "name": "#%%\n"
    }
   },
   "outputs": [],
   "source": [
    "# Adding client_id and client_secret for the list"
   ]
  },
  {
   "cell_type": "code",
   "execution_count": 278,
   "metadata": {
    "collapsed": false,
    "pycharm": {
     "name": "#%%\n"
    }
   },
   "outputs": [],
   "source": [
    "#Authentication - without user\n",
    "client_credentials_manager = SpotifyClientCredentials(client_id='c7832f4cfebb4553b27447fe32b29c1d', client_secret='d61c1c95e44446bdab707511f8d306ae')\n",
    "sp = spotipy.Spotify(client_credentials_manager = client_credentials_manager)"
   ]
  },
  {
   "cell_type": "code",
   "execution_count": 279,
   "metadata": {
    "collapsed": false,
    "pycharm": {
     "name": "#%%\n"
    }
   },
   "outputs": [],
   "source": [
    "#Accessing my own play list https://open.spotify.com/playlist/73EgGtgIWyZNRmFyIt11iQ?si=477933e6f12b431c"
   ]
  },
  {
   "cell_type": "code",
   "execution_count": 280,
   "outputs": [],
   "source": [
    "playlist_link = \"https://open.spotify.com/playlist/2QECvpSDU035PFS5uJ8x3l?si=5730077d7aca4db3\"\n",
    "playlist_URI = playlist_link.split(\"/\")[-1].split(\"?\")[0]\n",
    "track_uris = [x[\"track\"][\"uri\"] for x in sp.playlist_tracks(playlist_URI)[\"items\"]]"
   ],
   "metadata": {
    "collapsed": false,
    "pycharm": {
     "name": "#%%\n"
    }
   }
  },
  {
   "cell_type": "code",
   "execution_count": 281,
   "metadata": {
    "collapsed": false,
    "pycharm": {
     "name": "#%%\n"
    }
   },
   "outputs": [],
   "source": [
    "# Here to understand spotify data set with data we have"
   ]
  },
  {
   "cell_type": "code",
   "execution_count": 282,
   "metadata": {
    "collapsed": false,
    "pycharm": {
     "name": "#%%\n"
    }
   },
   "outputs": [
    {
     "name": "stdout",
     "output_type": "stream",
     "text": [
      "[{'added_at': '2022-09-12T09:06:32Z', 'added_by': {'external_urls': {'spotify': 'https://open.spotify.com/user/tff9ycd5i91cji7b6jiwbsdcl'}, 'href': 'https://api.spotify.com/v1/users/tff9ycd5i91cji7b6jiwbsdcl', 'id': 'tff9ycd5i91cji7b6jiwbsdcl', 'type': 'user', 'uri': 'spotify:user:tff9ycd5i91cji7b6jiwbsdcl'}, 'is_local': False, 'primary_color': None, 'track': {'album': {'album_type': 'single', 'artists': [{'external_urls': {'spotify': 'https://open.spotify.com/artist/7FGlFTfVrDufwD4sPP5F86'}, 'href': 'https://api.spotify.com/v1/artists/7FGlFTfVrDufwD4sPP5F86', 'id': '7FGlFTfVrDufwD4sPP5F86', 'name': 'ايمان الشريف', 'type': 'artist', 'uri': 'spotify:artist:7FGlFTfVrDufwD4sPP5F86'}], 'available_markets': ['AD', 'AE', 'AG', 'AL', 'AM', 'AO', 'AR', 'AT', 'AU', 'AZ', 'BA', 'BB', 'BD', 'BE', 'BF', 'BG', 'BH', 'BI', 'BJ', 'BN', 'BO', 'BR', 'BS', 'BT', 'BW', 'BY', 'BZ', 'CA', 'CD', 'CG', 'CH', 'CI', 'CL', 'CM', 'CO', 'CR', 'CV', 'CW', 'CY', 'CZ', 'DE', 'DJ', 'DK', 'DM', 'DO', 'DZ', 'EC', 'EE', 'EG', 'ES', 'FI', 'FJ', 'FM', 'FR', 'GA', 'GB', 'GD', 'GE', 'GH', 'GM', 'GN', 'GQ', 'GR', 'GT', 'GW', 'GY', 'HK', 'HN', 'HR', 'HT', 'HU', 'ID', 'IE', 'IL', 'IN', 'IQ', 'IS', 'IT', 'JM', 'JO', 'JP', 'KE', 'KG', 'KH', 'KI', 'KM', 'KN', 'KR', 'KW', 'KZ', 'LA', 'LB', 'LC', 'LI', 'LK', 'LR', 'LS', 'LT', 'LU', 'LV', 'LY', 'MA', 'MC', 'MD', 'ME', 'MG', 'MH', 'MK', 'ML', 'MN', 'MO', 'MR', 'MT', 'MU', 'MV', 'MW', 'MX', 'MY', 'MZ', 'NA', 'NE', 'NG', 'NI', 'NL', 'NO', 'NP', 'NR', 'NZ', 'OM', 'PA', 'PE', 'PG', 'PH', 'PK', 'PL', 'PS', 'PT', 'PW', 'PY', 'QA', 'RO', 'RS', 'RW', 'SA', 'SB', 'SC', 'SE', 'SG', 'SI', 'SK', 'SL', 'SM', 'SN', 'SR', 'ST', 'SV', 'SZ', 'TD', 'TG', 'TH', 'TJ', 'TL', 'TN', 'TO', 'TR', 'TT', 'TV', 'TW', 'TZ', 'UA', 'UG', 'US', 'UY', 'UZ', 'VC', 'VE', 'VN', 'VU', 'WS', 'XK', 'ZA', 'ZM', 'ZW'], 'external_urls': {'spotify': 'https://open.spotify.com/album/6HH1b6JeB2nKc7OjT5gXno'}, 'href': 'https://api.spotify.com/v1/albums/6HH1b6JeB2nKc7OjT5gXno', 'id': '6HH1b6JeB2nKc7OjT5gXno', 'images': [{'height': 640, 'url': 'https://i.scdn.co/image/ab67616d0000b273d98591ce5010ca654ee8cfda', 'width': 640}, {'height': 300, 'url': 'https://i.scdn.co/image/ab67616d00001e02d98591ce5010ca654ee8cfda', 'width': 300}, {'height': 64, 'url': 'https://i.scdn.co/image/ab67616d00004851d98591ce5010ca654ee8cfda', 'width': 64}], 'name': 'سلم يا سلام', 'release_date': '2021-12-09', 'release_date_precision': 'day', 'total_tracks': 1, 'type': 'album', 'uri': 'spotify:album:6HH1b6JeB2nKc7OjT5gXno'}, 'artists': [{'external_urls': {'spotify': 'https://open.spotify.com/artist/7FGlFTfVrDufwD4sPP5F86'}, 'href': 'https://api.spotify.com/v1/artists/7FGlFTfVrDufwD4sPP5F86', 'id': '7FGlFTfVrDufwD4sPP5F86', 'name': 'ايمان الشريف', 'type': 'artist', 'uri': 'spotify:artist:7FGlFTfVrDufwD4sPP5F86'}], 'available_markets': ['AD', 'AE', 'AG', 'AL', 'AM', 'AO', 'AR', 'AT', 'AU', 'AZ', 'BA', 'BB', 'BD', 'BE', 'BF', 'BG', 'BH', 'BI', 'BJ', 'BN', 'BO', 'BR', 'BS', 'BT', 'BW', 'BY', 'BZ', 'CA', 'CD', 'CG', 'CH', 'CI', 'CL', 'CM', 'CO', 'CR', 'CV', 'CW', 'CY', 'CZ', 'DE', 'DJ', 'DK', 'DM', 'DO', 'DZ', 'EC', 'EE', 'EG', 'ES', 'FI', 'FJ', 'FM', 'FR', 'GA', 'GB', 'GD', 'GE', 'GH', 'GM', 'GN', 'GQ', 'GR', 'GT', 'GW', 'GY', 'HK', 'HN', 'HR', 'HT', 'HU', 'ID', 'IE', 'IL', 'IN', 'IQ', 'IS', 'IT', 'JM', 'JO', 'JP', 'KE', 'KG', 'KH', 'KI', 'KM', 'KN', 'KR', 'KW', 'KZ', 'LA', 'LB', 'LC', 'LI', 'LK', 'LR', 'LS', 'LT', 'LU', 'LV', 'LY', 'MA', 'MC', 'MD', 'ME', 'MG', 'MH', 'MK', 'ML', 'MN', 'MO', 'MR', 'MT', 'MU', 'MV', 'MW', 'MX', 'MY', 'MZ', 'NA', 'NE', 'NG', 'NI', 'NL', 'NO', 'NP', 'NR', 'NZ', 'OM', 'PA', 'PE', 'PG', 'PH', 'PK', 'PL', 'PS', 'PT', 'PW', 'PY', 'QA', 'RO', 'RS', 'RW', 'SA', 'SB', 'SC', 'SE', 'SG', 'SI', 'SK', 'SL', 'SM', 'SN', 'SR', 'ST', 'SV', 'SZ', 'TD', 'TG', 'TH', 'TJ', 'TL', 'TN', 'TO', 'TR', 'TT', 'TV', 'TW', 'TZ', 'UA', 'UG', 'US', 'UY', 'UZ', 'VC', 'VE', 'VN', 'VU', 'WS', 'XK', 'ZA', 'ZM', 'ZW'], 'disc_number': 1, 'duration_ms': 220822, 'episode': False, 'explicit': False, 'external_ids': {'isrc': 'EGA252107445'}, 'external_urls': {'spotify': 'https://open.spotify.com/track/5MCLya9AzV9spNPxxFk7JD'}, 'href': 'https://api.spotify.com/v1/tracks/5MCLya9AzV9spNPxxFk7JD', 'id': '5MCLya9AzV9spNPxxFk7JD', 'is_local': False, 'name': 'سلم يا سلام', 'popularity': 25, 'preview_url': 'https://p.scdn.co/mp3-preview/050bc6996ef0ba864566127dc5e322ac57273769?cid=c7832f4cfebb4553b27447fe32b29c1d', 'track': True, 'track_number': 1, 'type': 'track', 'uri': 'spotify:track:5MCLya9AzV9spNPxxFk7JD'}, 'video_thumbnail': {'url': None}}, {'added_at': '2022-09-12T09:06:49Z', 'added_by': {'external_urls': {'spotify': 'https://open.spotify.com/user/tff9ycd5i91cji7b6jiwbsdcl'}, 'href': 'https://api.spotify.com/v1/users/tff9ycd5i91cji7b6jiwbsdcl', 'id': 'tff9ycd5i91cji7b6jiwbsdcl', 'type': 'user', 'uri': 'spotify:user:tff9ycd5i91cji7b6jiwbsdcl'}, 'is_local': False, 'primary_color': None, 'track': {'album': {'album_type': 'single', 'artists': [{'external_urls': {'spotify': 'https://open.spotify.com/artist/7FGlFTfVrDufwD4sPP5F86'}, 'href': 'https://api.spotify.com/v1/artists/7FGlFTfVrDufwD4sPP5F86', 'id': '7FGlFTfVrDufwD4sPP5F86', 'name': 'ايمان الشريف', 'type': 'artist', 'uri': 'spotify:artist:7FGlFTfVrDufwD4sPP5F86'}], 'available_markets': ['AD', 'AE', 'AG', 'AL', 'AM', 'AO', 'AR', 'AT', 'AU', 'AZ', 'BA', 'BB', 'BD', 'BE', 'BF', 'BG', 'BH', 'BI', 'BJ', 'BN', 'BO', 'BR', 'BS', 'BT', 'BW', 'BY', 'BZ', 'CA', 'CD', 'CG', 'CH', 'CI', 'CL', 'CM', 'CO', 'CR', 'CV', 'CW', 'CY', 'CZ', 'DE', 'DJ', 'DK', 'DM', 'DO', 'DZ', 'EC', 'EE', 'EG', 'ES', 'FI', 'FJ', 'FM', 'FR', 'GA', 'GB', 'GD', 'GE', 'GH', 'GM', 'GN', 'GQ', 'GR', 'GT', 'GW', 'GY', 'HK', 'HN', 'HR', 'HT', 'HU', 'ID', 'IE', 'IL', 'IN', 'IQ', 'IS', 'IT', 'JM', 'JO', 'JP', 'KE', 'KG', 'KH', 'KI', 'KM', 'KN', 'KR', 'KW', 'KZ', 'LA', 'LB', 'LC', 'LI', 'LK', 'LR', 'LS', 'LT', 'LU', 'LV', 'LY', 'MA', 'MC', 'MD', 'ME', 'MG', 'MH', 'MK', 'ML', 'MN', 'MO', 'MR', 'MT', 'MU', 'MV', 'MW', 'MX', 'MY', 'MZ', 'NA', 'NE', 'NG', 'NI', 'NL', 'NO', 'NP', 'NR', 'NZ', 'OM', 'PA', 'PE', 'PG', 'PH', 'PK', 'PL', 'PS', 'PT', 'PW', 'PY', 'QA', 'RO', 'RS', 'RW', 'SA', 'SB', 'SC', 'SE', 'SG', 'SI', 'SK', 'SL', 'SM', 'SN', 'SR', 'ST', 'SV', 'SZ', 'TD', 'TG', 'TH', 'TJ', 'TL', 'TN', 'TO', 'TR', 'TT', 'TV', 'TW', 'TZ', 'UA', 'UG', 'US', 'UY', 'UZ', 'VC', 'VE', 'VN', 'VU', 'WS', 'XK', 'ZA', 'ZM', 'ZW'], 'external_urls': {'spotify': 'https://open.spotify.com/album/7uX5HM0RjwNckFVkwtETRf'}, 'href': 'https://api.spotify.com/v1/albums/7uX5HM0RjwNckFVkwtETRf', 'id': '7uX5HM0RjwNckFVkwtETRf', 'images': [{'height': 640, 'url': 'https://i.scdn.co/image/ab67616d0000b2736c30a80ed719e3356ba73fc0', 'width': 640}, {'height': 300, 'url': 'https://i.scdn.co/image/ab67616d00001e026c30a80ed719e3356ba73fc0', 'width': 300}, {'height': 64, 'url': 'https://i.scdn.co/image/ab67616d000048516c30a80ed719e3356ba73fc0', 'width': 64}], 'name': 'وليد من الشكرية', 'release_date': '2020-03-21', 'release_date_precision': 'day', 'total_tracks': 1, 'type': 'album', 'uri': 'spotify:album:7uX5HM0RjwNckFVkwtETRf'}, 'artists': [{'external_urls': {'spotify': 'https://open.spotify.com/artist/7FGlFTfVrDufwD4sPP5F86'}, 'href': 'https://api.spotify.com/v1/artists/7FGlFTfVrDufwD4sPP5F86', 'id': '7FGlFTfVrDufwD4sPP5F86', 'name': 'ايمان الشريف', 'type': 'artist', 'uri': 'spotify:artist:7FGlFTfVrDufwD4sPP5F86'}], 'available_markets': ['AD', 'AE', 'AG', 'AL', 'AM', 'AO', 'AR', 'AT', 'AU', 'AZ', 'BA', 'BB', 'BD', 'BE', 'BF', 'BG', 'BH', 'BI', 'BJ', 'BN', 'BO', 'BR', 'BS', 'BT', 'BW', 'BY', 'BZ', 'CA', 'CD', 'CG', 'CH', 'CI', 'CL', 'CM', 'CO', 'CR', 'CV', 'CW', 'CY', 'CZ', 'DE', 'DJ', 'DK', 'DM', 'DO', 'DZ', 'EC', 'EE', 'EG', 'ES', 'FI', 'FJ', 'FM', 'FR', 'GA', 'GB', 'GD', 'GE', 'GH', 'GM', 'GN', 'GQ', 'GR', 'GT', 'GW', 'GY', 'HK', 'HN', 'HR', 'HT', 'HU', 'ID', 'IE', 'IL', 'IN', 'IQ', 'IS', 'IT', 'JM', 'JO', 'JP', 'KE', 'KG', 'KH', 'KI', 'KM', 'KN', 'KR', 'KW', 'KZ', 'LA', 'LB', 'LC', 'LI', 'LK', 'LR', 'LS', 'LT', 'LU', 'LV', 'LY', 'MA', 'MC', 'MD', 'ME', 'MG', 'MH', 'MK', 'ML', 'MN', 'MO', 'MR', 'MT', 'MU', 'MV', 'MW', 'MX', 'MY', 'MZ', 'NA', 'NE', 'NG', 'NI', 'NL', 'NO', 'NP', 'NR', 'NZ', 'OM', 'PA', 'PE', 'PG', 'PH', 'PK', 'PL', 'PS', 'PT', 'PW', 'PY', 'QA', 'RO', 'RS', 'RW', 'SA', 'SB', 'SC', 'SE', 'SG', 'SI', 'SK', 'SL', 'SM', 'SN', 'SR', 'ST', 'SV', 'SZ', 'TD', 'TG', 'TH', 'TJ', 'TL', 'TN', 'TO', 'TR', 'TT', 'TV', 'TW', 'TZ', 'UA', 'UG', 'US', 'UY', 'UZ', 'VC', 'VE', 'VN', 'VU', 'WS', 'XK', 'ZA', 'ZM', 'ZW'], 'disc_number': 1, 'duration_ms': 175124, 'episode': False, 'explicit': False, 'external_ids': {'isrc': 'EGA252107659'}, 'external_urls': {'spotify': 'https://open.spotify.com/track/43tNfS6NwbxWJN7z9GD4Rb'}, 'href': 'https://api.spotify.com/v1/tracks/43tNfS6NwbxWJN7z9GD4Rb', 'id': '43tNfS6NwbxWJN7z9GD4Rb', 'is_local': False, 'name': 'وليد من الشكرية', 'popularity': 37, 'preview_url': 'https://p.scdn.co/mp3-preview/450e5b76b7c0774300e8ea137eccbfe0ccb1a682?cid=c7832f4cfebb4553b27447fe32b29c1d', 'track': True, 'track_number': 1, 'type': 'track', 'uri': 'spotify:track:43tNfS6NwbxWJN7z9GD4Rb'}, 'video_thumbnail': {'url': None}}, {'added_at': '2022-09-12T09:06:53Z', 'added_by': {'external_urls': {'spotify': 'https://open.spotify.com/user/tff9ycd5i91cji7b6jiwbsdcl'}, 'href': 'https://api.spotify.com/v1/users/tff9ycd5i91cji7b6jiwbsdcl', 'id': 'tff9ycd5i91cji7b6jiwbsdcl', 'type': 'user', 'uri': 'spotify:user:tff9ycd5i91cji7b6jiwbsdcl'}, 'is_local': False, 'primary_color': None, 'track': {'album': {'album_type': 'single', 'artists': [{'external_urls': {'spotify': 'https://open.spotify.com/artist/7FGlFTfVrDufwD4sPP5F86'}, 'href': 'https://api.spotify.com/v1/artists/7FGlFTfVrDufwD4sPP5F86', 'id': '7FGlFTfVrDufwD4sPP5F86', 'name': 'ايمان الشريف', 'type': 'artist', 'uri': 'spotify:artist:7FGlFTfVrDufwD4sPP5F86'}], 'available_markets': ['AD', 'AE', 'AG', 'AL', 'AM', 'AO', 'AR', 'AT', 'AU', 'AZ', 'BA', 'BB', 'BD', 'BE', 'BF', 'BG', 'BH', 'BI', 'BJ', 'BN', 'BO', 'BR', 'BS', 'BT', 'BW', 'BY', 'BZ', 'CA', 'CD', 'CG', 'CH', 'CI', 'CL', 'CM', 'CO', 'CR', 'CV', 'CW', 'CY', 'CZ', 'DE', 'DJ', 'DK', 'DM', 'DO', 'DZ', 'EC', 'EE', 'EG', 'ES', 'FI', 'FJ', 'FM', 'FR', 'GA', 'GB', 'GD', 'GE', 'GH', 'GM', 'GN', 'GQ', 'GR', 'GT', 'GW', 'GY', 'HK', 'HN', 'HR', 'HT', 'HU', 'ID', 'IE', 'IL', 'IN', 'IQ', 'IS', 'IT', 'JM', 'JO', 'JP', 'KE', 'KG', 'KH', 'KI', 'KM', 'KN', 'KR', 'KW', 'KZ', 'LA', 'LB', 'LC', 'LI', 'LK', 'LR', 'LS', 'LT', 'LU', 'LV', 'LY', 'MA', 'MC', 'MD', 'ME', 'MG', 'MH', 'MK', 'ML', 'MN', 'MO', 'MR', 'MT', 'MU', 'MV', 'MW', 'MX', 'MY', 'MZ', 'NA', 'NE', 'NG', 'NI', 'NL', 'NO', 'NP', 'NR', 'NZ', 'OM', 'PA', 'PE', 'PG', 'PH', 'PK', 'PL', 'PS', 'PT', 'PW', 'PY', 'QA', 'RO', 'RS', 'RW', 'SA', 'SB', 'SC', 'SE', 'SG', 'SI', 'SK', 'SL', 'SM', 'SN', 'SR', 'ST', 'SV', 'SZ', 'TD', 'TG', 'TH', 'TJ', 'TL', 'TN', 'TO', 'TR', 'TT', 'TV', 'TW', 'TZ', 'UA', 'UG', 'US', 'UY', 'UZ', 'VC', 'VE', 'VN', 'VU', 'WS', 'XK', 'ZA', 'ZM', 'ZW'], 'external_urls': {'spotify': 'https://open.spotify.com/album/6z3vGeBPaVsbSpffshVFS0'}, 'href': 'https://api.spotify.com/v1/albums/6z3vGeBPaVsbSpffshVFS0', 'id': '6z3vGeBPaVsbSpffshVFS0', 'images': [{'height': 640, 'url': 'https://i.scdn.co/image/ab67616d0000b2739db31cf74e1c2089e437dcec', 'width': 640}, {'height': 300, 'url': 'https://i.scdn.co/image/ab67616d00001e029db31cf74e1c2089e437dcec', 'width': 300}, {'height': 64, 'url': 'https://i.scdn.co/image/ab67616d000048519db31cf74e1c2089e437dcec', 'width': 64}], 'name': 'نادو لي عشاي', 'release_date': '2020-09-21', 'release_date_precision': 'day', 'total_tracks': 1, 'type': 'album', 'uri': 'spotify:album:6z3vGeBPaVsbSpffshVFS0'}, 'artists': [{'external_urls': {'spotify': 'https://open.spotify.com/artist/7FGlFTfVrDufwD4sPP5F86'}, 'href': 'https://api.spotify.com/v1/artists/7FGlFTfVrDufwD4sPP5F86', 'id': '7FGlFTfVrDufwD4sPP5F86', 'name': 'ايمان الشريف', 'type': 'artist', 'uri': 'spotify:artist:7FGlFTfVrDufwD4sPP5F86'}], 'available_markets': ['AD', 'AE', 'AG', 'AL', 'AM', 'AO', 'AR', 'AT', 'AU', 'AZ', 'BA', 'BB', 'BD', 'BE', 'BF', 'BG', 'BH', 'BI', 'BJ', 'BN', 'BO', 'BR', 'BS', 'BT', 'BW', 'BY', 'BZ', 'CA', 'CD', 'CG', 'CH', 'CI', 'CL', 'CM', 'CO', 'CR', 'CV', 'CW', 'CY', 'CZ', 'DE', 'DJ', 'DK', 'DM', 'DO', 'DZ', 'EC', 'EE', 'EG', 'ES', 'FI', 'FJ', 'FM', 'FR', 'GA', 'GB', 'GD', 'GE', 'GH', 'GM', 'GN', 'GQ', 'GR', 'GT', 'GW', 'GY', 'HK', 'HN', 'HR', 'HT', 'HU', 'ID', 'IE', 'IL', 'IN', 'IQ', 'IS', 'IT', 'JM', 'JO', 'JP', 'KE', 'KG', 'KH', 'KI', 'KM', 'KN', 'KR', 'KW', 'KZ', 'LA', 'LB', 'LC', 'LI', 'LK', 'LR', 'LS', 'LT', 'LU', 'LV', 'LY', 'MA', 'MC', 'MD', 'ME', 'MG', 'MH', 'MK', 'ML', 'MN', 'MO', 'MR', 'MT', 'MU', 'MV', 'MW', 'MX', 'MY', 'MZ', 'NA', 'NE', 'NG', 'NI', 'NL', 'NO', 'NP', 'NR', 'NZ', 'OM', 'PA', 'PE', 'PG', 'PH', 'PK', 'PL', 'PS', 'PT', 'PW', 'PY', 'QA', 'RO', 'RS', 'RW', 'SA', 'SB', 'SC', 'SE', 'SG', 'SI', 'SK', 'SL', 'SM', 'SN', 'SR', 'ST', 'SV', 'SZ', 'TD', 'TG', 'TH', 'TJ', 'TL', 'TN', 'TO', 'TR', 'TT', 'TV', 'TW', 'TZ', 'UA', 'UG', 'US', 'UY', 'UZ', 'VC', 'VE', 'VN', 'VU', 'WS', 'XK', 'ZA', 'ZM', 'ZW'], 'disc_number': 1, 'duration_ms': 166112, 'episode': False, 'explicit': False, 'external_ids': {'isrc': 'EGA252107653'}, 'external_urls': {'spotify': 'https://open.spotify.com/track/1Xv6wXtCnR1sAvC8VbbJcY'}, 'href': 'https://api.spotify.com/v1/tracks/1Xv6wXtCnR1sAvC8VbbJcY', 'id': '1Xv6wXtCnR1sAvC8VbbJcY', 'is_local': False, 'name': 'نادو لي عشاي', 'popularity': 28, 'preview_url': 'https://p.scdn.co/mp3-preview/d503b3c7c67acd0c7e62b8569d820a340c49688a?cid=c7832f4cfebb4553b27447fe32b29c1d', 'track': True, 'track_number': 1, 'type': 'track', 'uri': 'spotify:track:1Xv6wXtCnR1sAvC8VbbJcY'}, 'video_thumbnail': {'url': None}}, {'added_at': '2022-09-12T09:11:31Z', 'added_by': {'external_urls': {'spotify': 'https://open.spotify.com/user/tff9ycd5i91cji7b6jiwbsdcl'}, 'href': 'https://api.spotify.com/v1/users/tff9ycd5i91cji7b6jiwbsdcl', 'id': 'tff9ycd5i91cji7b6jiwbsdcl', 'type': 'user', 'uri': 'spotify:user:tff9ycd5i91cji7b6jiwbsdcl'}, 'is_local': False, 'primary_color': None, 'track': {'album': {'album_type': 'single', 'artists': [{'external_urls': {'spotify': 'https://open.spotify.com/artist/7FGlFTfVrDufwD4sPP5F86'}, 'href': 'https://api.spotify.com/v1/artists/7FGlFTfVrDufwD4sPP5F86', 'id': '7FGlFTfVrDufwD4sPP5F86', 'name': 'ايمان الشريف', 'type': 'artist', 'uri': 'spotify:artist:7FGlFTfVrDufwD4sPP5F86'}], 'available_markets': ['AD', 'AE', 'AG', 'AL', 'AM', 'AO', 'AR', 'AT', 'AU', 'AZ', 'BA', 'BB', 'BD', 'BE', 'BF', 'BG', 'BH', 'BI', 'BJ', 'BN', 'BO', 'BR', 'BS', 'BT', 'BW', 'BY', 'BZ', 'CA', 'CD', 'CG', 'CH', 'CI', 'CL', 'CM', 'CO', 'CR', 'CV', 'CW', 'CY', 'CZ', 'DE', 'DJ', 'DK', 'DM', 'DO', 'DZ', 'EC', 'EE', 'EG', 'ES', 'FI', 'FJ', 'FM', 'FR', 'GA', 'GB', 'GD', 'GE', 'GH', 'GM', 'GN', 'GQ', 'GR', 'GT', 'GW', 'GY', 'HK', 'HN', 'HR', 'HT', 'HU', 'ID', 'IE', 'IL', 'IN', 'IQ', 'IS', 'IT', 'JM', 'JO', 'JP', 'KE', 'KG', 'KH', 'KI', 'KM', 'KN', 'KR', 'KW', 'KZ', 'LA', 'LB', 'LC', 'LI', 'LK', 'LR', 'LS', 'LT', 'LU', 'LV', 'LY', 'MA', 'MC', 'MD', 'ME', 'MG', 'MH', 'MK', 'ML', 'MN', 'MO', 'MR', 'MT', 'MU', 'MV', 'MW', 'MX', 'MY', 'MZ', 'NA', 'NE', 'NG', 'NI', 'NL', 'NO', 'NP', 'NR', 'NZ', 'OM', 'PA', 'PE', 'PG', 'PH', 'PK', 'PL', 'PS', 'PT', 'PW', 'PY', 'QA', 'RO', 'RS', 'RW', 'SA', 'SB', 'SC', 'SE', 'SG', 'SI', 'SK', 'SL', 'SM', 'SN', 'SR', 'ST', 'SV', 'SZ', 'TD', 'TG', 'TH', 'TJ', 'TL', 'TN', 'TO', 'TR', 'TT', 'TV', 'TW', 'TZ', 'UA', 'UG', 'US', 'UY', 'UZ', 'VC', 'VE', 'VN', 'VU', 'WS', 'XK', 'ZA', 'ZM', 'ZW'], 'external_urls': {'spotify': 'https://open.spotify.com/album/0NbDAzN47dY5YVlQ9thS1Z'}, 'href': 'https://api.spotify.com/v1/albums/0NbDAzN47dY5YVlQ9thS1Z', 'id': '0NbDAzN47dY5YVlQ9thS1Z', 'images': [{'height': 640, 'url': 'https://i.scdn.co/image/ab67616d0000b273b59239a7c997ad9ba695ccc8', 'width': 640}, {'height': 300, 'url': 'https://i.scdn.co/image/ab67616d00001e02b59239a7c997ad9ba695ccc8', 'width': 300}, {'height': 64, 'url': 'https://i.scdn.co/image/ab67616d00004851b59239a7c997ad9ba695ccc8', 'width': 64}], 'name': 'واثقه في زولي', 'release_date': '2021-07-19', 'release_date_precision': 'day', 'total_tracks': 1, 'type': 'album', 'uri': 'spotify:album:0NbDAzN47dY5YVlQ9thS1Z'}, 'artists': [{'external_urls': {'spotify': 'https://open.spotify.com/artist/7FGlFTfVrDufwD4sPP5F86'}, 'href': 'https://api.spotify.com/v1/artists/7FGlFTfVrDufwD4sPP5F86', 'id': '7FGlFTfVrDufwD4sPP5F86', 'name': 'ايمان الشريف', 'type': 'artist', 'uri': 'spotify:artist:7FGlFTfVrDufwD4sPP5F86'}], 'available_markets': ['AD', 'AE', 'AG', 'AL', 'AM', 'AO', 'AR', 'AT', 'AU', 'AZ', 'BA', 'BB', 'BD', 'BE', 'BF', 'BG', 'BH', 'BI', 'BJ', 'BN', 'BO', 'BR', 'BS', 'BT', 'BW', 'BY', 'BZ', 'CA', 'CD', 'CG', 'CH', 'CI', 'CL', 'CM', 'CO', 'CR', 'CV', 'CW', 'CY', 'CZ', 'DE', 'DJ', 'DK', 'DM', 'DO', 'DZ', 'EC', 'EE', 'EG', 'ES', 'FI', 'FJ', 'FM', 'FR', 'GA', 'GB', 'GD', 'GE', 'GH', 'GM', 'GN', 'GQ', 'GR', 'GT', 'GW', 'GY', 'HK', 'HN', 'HR', 'HT', 'HU', 'ID', 'IE', 'IL', 'IN', 'IQ', 'IS', 'IT', 'JM', 'JO', 'JP', 'KE', 'KG', 'KH', 'KI', 'KM', 'KN', 'KR', 'KW', 'KZ', 'LA', 'LB', 'LC', 'LI', 'LK', 'LR', 'LS', 'LT', 'LU', 'LV', 'LY', 'MA', 'MC', 'MD', 'ME', 'MG', 'MH', 'MK', 'ML', 'MN', 'MO', 'MR', 'MT', 'MU', 'MV', 'MW', 'MX', 'MY', 'MZ', 'NA', 'NE', 'NG', 'NI', 'NL', 'NO', 'NP', 'NR', 'NZ', 'OM', 'PA', 'PE', 'PG', 'PH', 'PK', 'PL', 'PS', 'PT', 'PW', 'PY', 'QA', 'RO', 'RS', 'RW', 'SA', 'SB', 'SC', 'SE', 'SG', 'SI', 'SK', 'SL', 'SM', 'SN', 'SR', 'ST', 'SV', 'SZ', 'TD', 'TG', 'TH', 'TJ', 'TL', 'TN', 'TO', 'TR', 'TT', 'TV', 'TW', 'TZ', 'UA', 'UG', 'US', 'UY', 'UZ', 'VC', 'VE', 'VN', 'VU', 'WS', 'XK', 'ZA', 'ZM', 'ZW'], 'disc_number': 1, 'duration_ms': 206968, 'episode': False, 'explicit': False, 'external_ids': {'isrc': 'EGA252107658'}, 'external_urls': {'spotify': 'https://open.spotify.com/track/42xuLrtlrpYkJQUqchohpS'}, 'href': 'https://api.spotify.com/v1/tracks/42xuLrtlrpYkJQUqchohpS', 'id': '42xuLrtlrpYkJQUqchohpS', 'is_local': False, 'name': 'واثقه في زولي', 'popularity': 23, 'preview_url': 'https://p.scdn.co/mp3-preview/3a66083cda45e757ec4e789910ff94efeb105b57?cid=c7832f4cfebb4553b27447fe32b29c1d', 'track': True, 'track_number': 1, 'type': 'track', 'uri': 'spotify:track:42xuLrtlrpYkJQUqchohpS'}, 'video_thumbnail': {'url': None}}, {'added_at': '2022-09-12T09:11:36Z', 'added_by': {'external_urls': {'spotify': 'https://open.spotify.com/user/tff9ycd5i91cji7b6jiwbsdcl'}, 'href': 'https://api.spotify.com/v1/users/tff9ycd5i91cji7b6jiwbsdcl', 'id': 'tff9ycd5i91cji7b6jiwbsdcl', 'type': 'user', 'uri': 'spotify:user:tff9ycd5i91cji7b6jiwbsdcl'}, 'is_local': False, 'primary_color': None, 'track': {'album': {'album_type': 'single', 'artists': [{'external_urls': {'spotify': 'https://open.spotify.com/artist/7FGlFTfVrDufwD4sPP5F86'}, 'href': 'https://api.spotify.com/v1/artists/7FGlFTfVrDufwD4sPP5F86', 'id': '7FGlFTfVrDufwD4sPP5F86', 'name': 'ايمان الشريف', 'type': 'artist', 'uri': 'spotify:artist:7FGlFTfVrDufwD4sPP5F86'}], 'available_markets': ['AD', 'AE', 'AG', 'AL', 'AM', 'AO', 'AR', 'AT', 'AU', 'AZ', 'BA', 'BB', 'BD', 'BE', 'BF', 'BG', 'BH', 'BI', 'BJ', 'BN', 'BO', 'BR', 'BS', 'BT', 'BW', 'BY', 'BZ', 'CA', 'CD', 'CG', 'CH', 'CI', 'CL', 'CM', 'CO', 'CR', 'CV', 'CW', 'CY', 'CZ', 'DE', 'DJ', 'DK', 'DM', 'DO', 'DZ', 'EC', 'EE', 'EG', 'ES', 'FI', 'FJ', 'FM', 'FR', 'GA', 'GB', 'GD', 'GE', 'GH', 'GM', 'GN', 'GQ', 'GR', 'GT', 'GW', 'GY', 'HK', 'HN', 'HR', 'HT', 'HU', 'ID', 'IE', 'IL', 'IN', 'IQ', 'IS', 'IT', 'JM', 'JO', 'JP', 'KE', 'KG', 'KH', 'KI', 'KM', 'KN', 'KR', 'KW', 'KZ', 'LA', 'LB', 'LC', 'LI', 'LK', 'LR', 'LS', 'LT', 'LU', 'LV', 'LY', 'MA', 'MC', 'MD', 'ME', 'MG', 'MH', 'MK', 'ML', 'MN', 'MO', 'MR', 'MT', 'MU', 'MV', 'MW', 'MX', 'MY', 'MZ', 'NA', 'NE', 'NG', 'NI', 'NL', 'NO', 'NP', 'NR', 'NZ', 'OM', 'PA', 'PE', 'PG', 'PH', 'PK', 'PL', 'PS', 'PT', 'PW', 'PY', 'QA', 'RO', 'RS', 'RW', 'SA', 'SB', 'SC', 'SE', 'SG', 'SI', 'SK', 'SL', 'SM', 'SN', 'SR', 'ST', 'SV', 'SZ', 'TD', 'TG', 'TH', 'TJ', 'TL', 'TN', 'TO', 'TR', 'TT', 'TV', 'TW', 'TZ', 'UA', 'UG', 'US', 'UY', 'UZ', 'VC', 'VE', 'VN', 'VU', 'WS', 'XK', 'ZA', 'ZM', 'ZW'], 'external_urls': {'spotify': 'https://open.spotify.com/album/60aDwHRDC9CVBoug2KX5Y3'}, 'href': 'https://api.spotify.com/v1/albums/60aDwHRDC9CVBoug2KX5Y3', 'id': '60aDwHRDC9CVBoug2KX5Y3', 'images': [{'height': 640, 'url': 'https://i.scdn.co/image/ab67616d0000b27380c2eefa29c7c3b936ea1452', 'width': 640}, {'height': 300, 'url': 'https://i.scdn.co/image/ab67616d00001e0280c2eefa29c7c3b936ea1452', 'width': 300}, {'height': 64, 'url': 'https://i.scdn.co/image/ab67616d0000485180c2eefa29c7c3b936ea1452', 'width': 64}], 'name': 'مالو', 'release_date': '2020-06-10', 'release_date_precision': 'day', 'total_tracks': 1, 'type': 'album', 'uri': 'spotify:album:60aDwHRDC9CVBoug2KX5Y3'}, 'artists': [{'external_urls': {'spotify': 'https://open.spotify.com/artist/7FGlFTfVrDufwD4sPP5F86'}, 'href': 'https://api.spotify.com/v1/artists/7FGlFTfVrDufwD4sPP5F86', 'id': '7FGlFTfVrDufwD4sPP5F86', 'name': 'ايمان الشريف', 'type': 'artist', 'uri': 'spotify:artist:7FGlFTfVrDufwD4sPP5F86'}], 'available_markets': ['AD', 'AE', 'AG', 'AL', 'AM', 'AO', 'AR', 'AT', 'AU', 'AZ', 'BA', 'BB', 'BD', 'BE', 'BF', 'BG', 'BH', 'BI', 'BJ', 'BN', 'BO', 'BR', 'BS', 'BT', 'BW', 'BY', 'BZ', 'CA', 'CD', 'CG', 'CH', 'CI', 'CL', 'CM', 'CO', 'CR', 'CV', 'CW', 'CY', 'CZ', 'DE', 'DJ', 'DK', 'DM', 'DO', 'DZ', 'EC', 'EE', 'EG', 'ES', 'FI', 'FJ', 'FM', 'FR', 'GA', 'GB', 'GD', 'GE', 'GH', 'GM', 'GN', 'GQ', 'GR', 'GT', 'GW', 'GY', 'HK', 'HN', 'HR', 'HT', 'HU', 'ID', 'IE', 'IL', 'IN', 'IQ', 'IS', 'IT', 'JM', 'JO', 'JP', 'KE', 'KG', 'KH', 'KI', 'KM', 'KN', 'KR', 'KW', 'KZ', 'LA', 'LB', 'LC', 'LI', 'LK', 'LR', 'LS', 'LT', 'LU', 'LV', 'LY', 'MA', 'MC', 'MD', 'ME', 'MG', 'MH', 'MK', 'ML', 'MN', 'MO', 'MR', 'MT', 'MU', 'MV', 'MW', 'MX', 'MY', 'MZ', 'NA', 'NE', 'NG', 'NI', 'NL', 'NO', 'NP', 'NR', 'NZ', 'OM', 'PA', 'PE', 'PG', 'PH', 'PK', 'PL', 'PS', 'PT', 'PW', 'PY', 'QA', 'RO', 'RS', 'RW', 'SA', 'SB', 'SC', 'SE', 'SG', 'SI', 'SK', 'SL', 'SM', 'SN', 'SR', 'ST', 'SV', 'SZ', 'TD', 'TG', 'TH', 'TJ', 'TL', 'TN', 'TO', 'TR', 'TT', 'TV', 'TW', 'TZ', 'UA', 'UG', 'US', 'UY', 'UZ', 'VC', 'VE', 'VN', 'VU', 'WS', 'XK', 'ZA', 'ZM', 'ZW'], 'disc_number': 1, 'duration_ms': 201534, 'episode': False, 'explicit': False, 'external_ids': {'isrc': 'EGA252107660'}, 'external_urls': {'spotify': 'https://open.spotify.com/track/4JoJdgE7epKuvs7WsJDY6I'}, 'href': 'https://api.spotify.com/v1/tracks/4JoJdgE7epKuvs7WsJDY6I', 'id': '4JoJdgE7epKuvs7WsJDY6I', 'is_local': False, 'name': 'مالو', 'popularity': 23, 'preview_url': 'https://p.scdn.co/mp3-preview/70382039c667bf6f1c51be2669d4e79e80866679?cid=c7832f4cfebb4553b27447fe32b29c1d', 'track': True, 'track_number': 1, 'type': 'track', 'uri': 'spotify:track:4JoJdgE7epKuvs7WsJDY6I'}, 'video_thumbnail': {'url': None}}, {'added_at': '2022-09-12T09:11:38Z', 'added_by': {'external_urls': {'spotify': 'https://open.spotify.com/user/tff9ycd5i91cji7b6jiwbsdcl'}, 'href': 'https://api.spotify.com/v1/users/tff9ycd5i91cji7b6jiwbsdcl', 'id': 'tff9ycd5i91cji7b6jiwbsdcl', 'type': 'user', 'uri': 'spotify:user:tff9ycd5i91cji7b6jiwbsdcl'}, 'is_local': False, 'primary_color': None, 'track': {'album': {'album_type': 'single', 'artists': [{'external_urls': {'spotify': 'https://open.spotify.com/artist/7FGlFTfVrDufwD4sPP5F86'}, 'href': 'https://api.spotify.com/v1/artists/7FGlFTfVrDufwD4sPP5F86', 'id': '7FGlFTfVrDufwD4sPP5F86', 'name': 'ايمان الشريف', 'type': 'artist', 'uri': 'spotify:artist:7FGlFTfVrDufwD4sPP5F86'}], 'available_markets': ['AD', 'AE', 'AG', 'AL', 'AM', 'AO', 'AR', 'AT', 'AU', 'AZ', 'BA', 'BB', 'BD', 'BE', 'BF', 'BG', 'BH', 'BI', 'BJ', 'BN', 'BO', 'BR', 'BS', 'BT', 'BW', 'BY', 'BZ', 'CA', 'CD', 'CG', 'CH', 'CI', 'CL', 'CM', 'CO', 'CR', 'CV', 'CW', 'CY', 'CZ', 'DE', 'DJ', 'DK', 'DM', 'DO', 'DZ', 'EC', 'EE', 'EG', 'ES', 'FI', 'FJ', 'FM', 'FR', 'GA', 'GB', 'GD', 'GE', 'GH', 'GM', 'GN', 'GQ', 'GR', 'GT', 'GW', 'GY', 'HK', 'HN', 'HR', 'HT', 'HU', 'ID', 'IE', 'IL', 'IN', 'IQ', 'IS', 'IT', 'JM', 'JO', 'JP', 'KE', 'KG', 'KH', 'KI', 'KM', 'KN', 'KR', 'KW', 'KZ', 'LA', 'LB', 'LC', 'LI', 'LK', 'LR', 'LS', 'LT', 'LU', 'LV', 'LY', 'MA', 'MC', 'MD', 'ME', 'MG', 'MH', 'MK', 'ML', 'MN', 'MO', 'MR', 'MT', 'MU', 'MV', 'MW', 'MX', 'MY', 'MZ', 'NA', 'NE', 'NG', 'NI', 'NL', 'NO', 'NP', 'NR', 'NZ', 'OM', 'PA', 'PE', 'PG', 'PH', 'PK', 'PL', 'PS', 'PT', 'PW', 'PY', 'QA', 'RO', 'RS', 'RW', 'SA', 'SB', 'SC', 'SE', 'SG', 'SI', 'SK', 'SL', 'SM', 'SN', 'SR', 'ST', 'SV', 'SZ', 'TD', 'TG', 'TH', 'TJ', 'TL', 'TN', 'TO', 'TR', 'TT', 'TV', 'TW', 'TZ', 'UA', 'UG', 'US', 'UY', 'UZ', 'VC', 'VE', 'VN', 'VU', 'WS', 'XK', 'ZA', 'ZM', 'ZW'], 'external_urls': {'spotify': 'https://open.spotify.com/album/7sEET4R1Zhp60i1umrrECX'}, 'href': 'https://api.spotify.com/v1/albums/7sEET4R1Zhp60i1umrrECX', 'id': '7sEET4R1Zhp60i1umrrECX', 'images': [{'height': 640, 'url': 'https://i.scdn.co/image/ab67616d0000b27381aa5bf5311e983117c95ad7', 'width': 640}, {'height': 300, 'url': 'https://i.scdn.co/image/ab67616d00001e0281aa5bf5311e983117c95ad7', 'width': 300}, {'height': 64, 'url': 'https://i.scdn.co/image/ab67616d0000485181aa5bf5311e983117c95ad7', 'width': 64}], 'name': 'دنيا يا فراقه', 'release_date': '2021-04-24', 'release_date_precision': 'day', 'total_tracks': 1, 'type': 'album', 'uri': 'spotify:album:7sEET4R1Zhp60i1umrrECX'}, 'artists': [{'external_urls': {'spotify': 'https://open.spotify.com/artist/7FGlFTfVrDufwD4sPP5F86'}, 'href': 'https://api.spotify.com/v1/artists/7FGlFTfVrDufwD4sPP5F86', 'id': '7FGlFTfVrDufwD4sPP5F86', 'name': 'ايمان الشريف', 'type': 'artist', 'uri': 'spotify:artist:7FGlFTfVrDufwD4sPP5F86'}], 'available_markets': ['AD', 'AE', 'AG', 'AL', 'AM', 'AO', 'AR', 'AT', 'AU', 'AZ', 'BA', 'BB', 'BD', 'BE', 'BF', 'BG', 'BH', 'BI', 'BJ', 'BN', 'BO', 'BR', 'BS', 'BT', 'BW', 'BY', 'BZ', 'CA', 'CD', 'CG', 'CH', 'CI', 'CL', 'CM', 'CO', 'CR', 'CV', 'CW', 'CY', 'CZ', 'DE', 'DJ', 'DK', 'DM', 'DO', 'DZ', 'EC', 'EE', 'EG', 'ES', 'FI', 'FJ', 'FM', 'FR', 'GA', 'GB', 'GD', 'GE', 'GH', 'GM', 'GN', 'GQ', 'GR', 'GT', 'GW', 'GY', 'HK', 'HN', 'HR', 'HT', 'HU', 'ID', 'IE', 'IL', 'IN', 'IQ', 'IS', 'IT', 'JM', 'JO', 'JP', 'KE', 'KG', 'KH', 'KI', 'KM', 'KN', 'KR', 'KW', 'KZ', 'LA', 'LB', 'LC', 'LI', 'LK', 'LR', 'LS', 'LT', 'LU', 'LV', 'LY', 'MA', 'MC', 'MD', 'ME', 'MG', 'MH', 'MK', 'ML', 'MN', 'MO', 'MR', 'MT', 'MU', 'MV', 'MW', 'MX', 'MY', 'MZ', 'NA', 'NE', 'NG', 'NI', 'NL', 'NO', 'NP', 'NR', 'NZ', 'OM', 'PA', 'PE', 'PG', 'PH', 'PK', 'PL', 'PS', 'PT', 'PW', 'PY', 'QA', 'RO', 'RS', 'RW', 'SA', 'SB', 'SC', 'SE', 'SG', 'SI', 'SK', 'SL', 'SM', 'SN', 'SR', 'ST', 'SV', 'SZ', 'TD', 'TG', 'TH', 'TJ', 'TL', 'TN', 'TO', 'TR', 'TT', 'TV', 'TW', 'TZ', 'UA', 'UG', 'US', 'UY', 'UZ', 'VC', 'VE', 'VN', 'VU', 'WS', 'XK', 'ZA', 'ZM', 'ZW'], 'disc_number': 1, 'duration_ms': 246804, 'episode': False, 'explicit': False, 'external_ids': {'isrc': 'EGA252107663'}, 'external_urls': {'spotify': 'https://open.spotify.com/track/0SSEa0IWKLELplo55CXoQ5'}, 'href': 'https://api.spotify.com/v1/tracks/0SSEa0IWKLELplo55CXoQ5', 'id': '0SSEa0IWKLELplo55CXoQ5', 'is_local': False, 'name': 'دنيا يا فراقه', 'popularity': 23, 'preview_url': 'https://p.scdn.co/mp3-preview/796ff29fe5ce9fb6c13d9111358b0f7e60cd979f?cid=c7832f4cfebb4553b27447fe32b29c1d', 'track': True, 'track_number': 1, 'type': 'track', 'uri': 'spotify:track:0SSEa0IWKLELplo55CXoQ5'}, 'video_thumbnail': {'url': None}}, {'added_at': '2022-09-12T09:11:41Z', 'added_by': {'external_urls': {'spotify': 'https://open.spotify.com/user/tff9ycd5i91cji7b6jiwbsdcl'}, 'href': 'https://api.spotify.com/v1/users/tff9ycd5i91cji7b6jiwbsdcl', 'id': 'tff9ycd5i91cji7b6jiwbsdcl', 'type': 'user', 'uri': 'spotify:user:tff9ycd5i91cji7b6jiwbsdcl'}, 'is_local': False, 'primary_color': None, 'track': {'album': {'album_type': 'single', 'artists': [{'external_urls': {'spotify': 'https://open.spotify.com/artist/7FGlFTfVrDufwD4sPP5F86'}, 'href': 'https://api.spotify.com/v1/artists/7FGlFTfVrDufwD4sPP5F86', 'id': '7FGlFTfVrDufwD4sPP5F86', 'name': 'ايمان الشريف', 'type': 'artist', 'uri': 'spotify:artist:7FGlFTfVrDufwD4sPP5F86'}], 'available_markets': ['AD', 'AE', 'AG', 'AL', 'AM', 'AO', 'AR', 'AT', 'AU', 'AZ', 'BA', 'BB', 'BD', 'BE', 'BF', 'BG', 'BH', 'BI', 'BJ', 'BN', 'BO', 'BR', 'BS', 'BT', 'BW', 'BY', 'BZ', 'CA', 'CD', 'CG', 'CH', 'CI', 'CL', 'CM', 'CO', 'CR', 'CV', 'CW', 'CY', 'CZ', 'DE', 'DJ', 'DK', 'DM', 'DO', 'DZ', 'EC', 'EE', 'EG', 'ES', 'FI', 'FJ', 'FM', 'FR', 'GA', 'GB', 'GD', 'GE', 'GH', 'GM', 'GN', 'GQ', 'GR', 'GT', 'GW', 'GY', 'HK', 'HN', 'HR', 'HT', 'HU', 'ID', 'IE', 'IL', 'IN', 'IQ', 'IS', 'IT', 'JM', 'JO', 'JP', 'KE', 'KG', 'KH', 'KI', 'KM', 'KN', 'KR', 'KW', 'KZ', 'LA', 'LB', 'LC', 'LI', 'LK', 'LR', 'LS', 'LT', 'LU', 'LV', 'LY', 'MA', 'MC', 'MD', 'ME', 'MG', 'MH', 'MK', 'ML', 'MN', 'MO', 'MR', 'MT', 'MU', 'MV', 'MW', 'MX', 'MY', 'MZ', 'NA', 'NE', 'NG', 'NI', 'NL', 'NO', 'NP', 'NR', 'NZ', 'OM', 'PA', 'PE', 'PG', 'PH', 'PK', 'PL', 'PS', 'PT', 'PW', 'PY', 'QA', 'RO', 'RS', 'RW', 'SA', 'SB', 'SC', 'SE', 'SG', 'SI', 'SK', 'SL', 'SM', 'SN', 'SR', 'ST', 'SV', 'SZ', 'TD', 'TG', 'TH', 'TJ', 'TL', 'TN', 'TO', 'TR', 'TT', 'TV', 'TW', 'TZ', 'UA', 'UG', 'US', 'UY', 'UZ', 'VC', 'VE', 'VN', 'VU', 'WS', 'XK', 'ZA', 'ZM', 'ZW'], 'external_urls': {'spotify': 'https://open.spotify.com/album/6rNgIOAYDPj5pcCcFJskGi'}, 'href': 'https://api.spotify.com/v1/albums/6rNgIOAYDPj5pcCcFJskGi', 'id': '6rNgIOAYDPj5pcCcFJskGi', 'images': [{'height': 640, 'url': 'https://i.scdn.co/image/ab67616d0000b273d5ab14bec3d5488877cb9126', 'width': 640}, {'height': 300, 'url': 'https://i.scdn.co/image/ab67616d00001e02d5ab14bec3d5488877cb9126', 'width': 300}, {'height': 64, 'url': 'https://i.scdn.co/image/ab67616d00004851d5ab14bec3d5488877cb9126', 'width': 64}], 'name': 'أنت وأنا', 'release_date': '2021-02-14', 'release_date_precision': 'day', 'total_tracks': 1, 'type': 'album', 'uri': 'spotify:album:6rNgIOAYDPj5pcCcFJskGi'}, 'artists': [{'external_urls': {'spotify': 'https://open.spotify.com/artist/7FGlFTfVrDufwD4sPP5F86'}, 'href': 'https://api.spotify.com/v1/artists/7FGlFTfVrDufwD4sPP5F86', 'id': '7FGlFTfVrDufwD4sPP5F86', 'name': 'ايمان الشريف', 'type': 'artist', 'uri': 'spotify:artist:7FGlFTfVrDufwD4sPP5F86'}], 'available_markets': ['AD', 'AE', 'AG', 'AL', 'AM', 'AO', 'AR', 'AT', 'AU', 'AZ', 'BA', 'BB', 'BD', 'BE', 'BF', 'BG', 'BH', 'BI', 'BJ', 'BN', 'BO', 'BR', 'BS', 'BT', 'BW', 'BY', 'BZ', 'CA', 'CD', 'CG', 'CH', 'CI', 'CL', 'CM', 'CO', 'CR', 'CV', 'CW', 'CY', 'CZ', 'DE', 'DJ', 'DK', 'DM', 'DO', 'DZ', 'EC', 'EE', 'EG', 'ES', 'FI', 'FJ', 'FM', 'FR', 'GA', 'GB', 'GD', 'GE', 'GH', 'GM', 'GN', 'GQ', 'GR', 'GT', 'GW', 'GY', 'HK', 'HN', 'HR', 'HT', 'HU', 'ID', 'IE', 'IL', 'IN', 'IQ', 'IS', 'IT', 'JM', 'JO', 'JP', 'KE', 'KG', 'KH', 'KI', 'KM', 'KN', 'KR', 'KW', 'KZ', 'LA', 'LB', 'LC', 'LI', 'LK', 'LR', 'LS', 'LT', 'LU', 'LV', 'LY', 'MA', 'MC', 'MD', 'ME', 'MG', 'MH', 'MK', 'ML', 'MN', 'MO', 'MR', 'MT', 'MU', 'MV', 'MW', 'MX', 'MY', 'MZ', 'NA', 'NE', 'NG', 'NI', 'NL', 'NO', 'NP', 'NR', 'NZ', 'OM', 'PA', 'PE', 'PG', 'PH', 'PK', 'PL', 'PS', 'PT', 'PW', 'PY', 'QA', 'RO', 'RS', 'RW', 'SA', 'SB', 'SC', 'SE', 'SG', 'SI', 'SK', 'SL', 'SM', 'SN', 'SR', 'ST', 'SV', 'SZ', 'TD', 'TG', 'TH', 'TJ', 'TL', 'TN', 'TO', 'TR', 'TT', 'TV', 'TW', 'TZ', 'UA', 'UG', 'US', 'UY', 'UZ', 'VC', 'VE', 'VN', 'VU', 'WS', 'XK', 'ZA', 'ZM', 'ZW'], 'disc_number': 1, 'duration_ms': 255686, 'episode': False, 'explicit': False, 'external_ids': {'isrc': 'EGA252107661'}, 'external_urls': {'spotify': 'https://open.spotify.com/track/3Wwc4v2wPDvkUt1TXWsEar'}, 'href': 'https://api.spotify.com/v1/tracks/3Wwc4v2wPDvkUt1TXWsEar', 'id': '3Wwc4v2wPDvkUt1TXWsEar', 'is_local': False, 'name': 'أنت وأنا', 'popularity': 22, 'preview_url': 'https://p.scdn.co/mp3-preview/7697a0c55a95d3a4810bae1145f00be1419591d9?cid=c7832f4cfebb4553b27447fe32b29c1d', 'track': True, 'track_number': 1, 'type': 'track', 'uri': 'spotify:track:3Wwc4v2wPDvkUt1TXWsEar'}, 'video_thumbnail': {'url': None}}, {'added_at': '2022-09-12T09:11:44Z', 'added_by': {'external_urls': {'spotify': 'https://open.spotify.com/user/tff9ycd5i91cji7b6jiwbsdcl'}, 'href': 'https://api.spotify.com/v1/users/tff9ycd5i91cji7b6jiwbsdcl', 'id': 'tff9ycd5i91cji7b6jiwbsdcl', 'type': 'user', 'uri': 'spotify:user:tff9ycd5i91cji7b6jiwbsdcl'}, 'is_local': False, 'primary_color': None, 'track': {'album': {'album_type': 'single', 'artists': [{'external_urls': {'spotify': 'https://open.spotify.com/artist/7FGlFTfVrDufwD4sPP5F86'}, 'href': 'https://api.spotify.com/v1/artists/7FGlFTfVrDufwD4sPP5F86', 'id': '7FGlFTfVrDufwD4sPP5F86', 'name': 'ايمان الشريف', 'type': 'artist', 'uri': 'spotify:artist:7FGlFTfVrDufwD4sPP5F86'}], 'available_markets': ['AD', 'AE', 'AG', 'AL', 'AM', 'AO', 'AR', 'AT', 'AU', 'AZ', 'BA', 'BB', 'BD', 'BE', 'BF', 'BG', 'BH', 'BI', 'BJ', 'BN', 'BO', 'BR', 'BS', 'BT', 'BW', 'BY', 'BZ', 'CA', 'CD', 'CG', 'CH', 'CI', 'CL', 'CM', 'CO', 'CR', 'CV', 'CW', 'CY', 'CZ', 'DE', 'DJ', 'DK', 'DM', 'DO', 'DZ', 'EC', 'EE', 'EG', 'ES', 'FI', 'FJ', 'FM', 'FR', 'GA', 'GB', 'GD', 'GE', 'GH', 'GM', 'GN', 'GQ', 'GR', 'GT', 'GW', 'GY', 'HK', 'HN', 'HR', 'HT', 'HU', 'ID', 'IE', 'IL', 'IN', 'IQ', 'IS', 'IT', 'JM', 'JO', 'JP', 'KE', 'KG', 'KH', 'KI', 'KM', 'KN', 'KR', 'KW', 'KZ', 'LA', 'LB', 'LC', 'LI', 'LK', 'LR', 'LS', 'LT', 'LU', 'LV', 'LY', 'MA', 'MC', 'MD', 'ME', 'MG', 'MH', 'MK', 'ML', 'MN', 'MO', 'MR', 'MT', 'MU', 'MV', 'MW', 'MX', 'MY', 'MZ', 'NA', 'NE', 'NG', 'NI', 'NL', 'NO', 'NP', 'NR', 'NZ', 'OM', 'PA', 'PE', 'PG', 'PH', 'PK', 'PL', 'PS', 'PT', 'PW', 'PY', 'QA', 'RO', 'RS', 'RW', 'SA', 'SB', 'SC', 'SE', 'SG', 'SI', 'SK', 'SL', 'SM', 'SN', 'SR', 'ST', 'SV', 'SZ', 'TD', 'TG', 'TH', 'TJ', 'TL', 'TN', 'TO', 'TR', 'TT', 'TV', 'TW', 'TZ', 'UA', 'UG', 'US', 'UY', 'UZ', 'VC', 'VE', 'VN', 'VU', 'WS', 'XK', 'ZA', 'ZM', 'ZW'], 'external_urls': {'spotify': 'https://open.spotify.com/album/6djXJztBnD2UAlPrbgrCvN'}, 'href': 'https://api.spotify.com/v1/albums/6djXJztBnD2UAlPrbgrCvN', 'id': '6djXJztBnD2UAlPrbgrCvN', 'images': [{'height': 640, 'url': 'https://i.scdn.co/image/ab67616d0000b2730632ef625c7599e2fb91e699', 'width': 640}, {'height': 300, 'url': 'https://i.scdn.co/image/ab67616d00001e020632ef625c7599e2fb91e699', 'width': 300}, {'height': 64, 'url': 'https://i.scdn.co/image/ab67616d000048510632ef625c7599e2fb91e699', 'width': 64}], 'name': 'دي حفية', 'release_date': '2020-03-21', 'release_date_precision': 'day', 'total_tracks': 1, 'type': 'album', 'uri': 'spotify:album:6djXJztBnD2UAlPrbgrCvN'}, 'artists': [{'external_urls': {'spotify': 'https://open.spotify.com/artist/7FGlFTfVrDufwD4sPP5F86'}, 'href': 'https://api.spotify.com/v1/artists/7FGlFTfVrDufwD4sPP5F86', 'id': '7FGlFTfVrDufwD4sPP5F86', 'name': 'ايمان الشريف', 'type': 'artist', 'uri': 'spotify:artist:7FGlFTfVrDufwD4sPP5F86'}], 'available_markets': ['AD', 'AE', 'AG', 'AL', 'AM', 'AO', 'AR', 'AT', 'AU', 'AZ', 'BA', 'BB', 'BD', 'BE', 'BF', 'BG', 'BH', 'BI', 'BJ', 'BN', 'BO', 'BR', 'BS', 'BT', 'BW', 'BY', 'BZ', 'CA', 'CD', 'CG', 'CH', 'CI', 'CL', 'CM', 'CO', 'CR', 'CV', 'CW', 'CY', 'CZ', 'DE', 'DJ', 'DK', 'DM', 'DO', 'DZ', 'EC', 'EE', 'EG', 'ES', 'FI', 'FJ', 'FM', 'FR', 'GA', 'GB', 'GD', 'GE', 'GH', 'GM', 'GN', 'GQ', 'GR', 'GT', 'GW', 'GY', 'HK', 'HN', 'HR', 'HT', 'HU', 'ID', 'IE', 'IL', 'IN', 'IQ', 'IS', 'IT', 'JM', 'JO', 'JP', 'KE', 'KG', 'KH', 'KI', 'KM', 'KN', 'KR', 'KW', 'KZ', 'LA', 'LB', 'LC', 'LI', 'LK', 'LR', 'LS', 'LT', 'LU', 'LV', 'LY', 'MA', 'MC', 'MD', 'ME', 'MG', 'MH', 'MK', 'ML', 'MN', 'MO', 'MR', 'MT', 'MU', 'MV', 'MW', 'MX', 'MY', 'MZ', 'NA', 'NE', 'NG', 'NI', 'NL', 'NO', 'NP', 'NR', 'NZ', 'OM', 'PA', 'PE', 'PG', 'PH', 'PK', 'PL', 'PS', 'PT', 'PW', 'PY', 'QA', 'RO', 'RS', 'RW', 'SA', 'SB', 'SC', 'SE', 'SG', 'SI', 'SK', 'SL', 'SM', 'SN', 'SR', 'ST', 'SV', 'SZ', 'TD', 'TG', 'TH', 'TJ', 'TL', 'TN', 'TO', 'TR', 'TT', 'TV', 'TW', 'TZ', 'UA', 'UG', 'US', 'UY', 'UZ', 'VC', 'VE', 'VN', 'VU', 'WS', 'XK', 'ZA', 'ZM', 'ZW'], 'disc_number': 1, 'duration_ms': 185913, 'episode': False, 'explicit': False, 'external_ids': {'isrc': 'EGA252107657'}, 'external_urls': {'spotify': 'https://open.spotify.com/track/7qVoNwBSwU5irjv3i6eS3T'}, 'href': 'https://api.spotify.com/v1/tracks/7qVoNwBSwU5irjv3i6eS3T', 'id': '7qVoNwBSwU5irjv3i6eS3T', 'is_local': False, 'name': 'دي حفية', 'popularity': 21, 'preview_url': 'https://p.scdn.co/mp3-preview/7d87d6ab2656741591a6f1323a96c5fcfeff117a?cid=c7832f4cfebb4553b27447fe32b29c1d', 'track': True, 'track_number': 1, 'type': 'track', 'uri': 'spotify:track:7qVoNwBSwU5irjv3i6eS3T'}, 'video_thumbnail': {'url': None}}, {'added_at': '2022-09-12T09:11:47Z', 'added_by': {'external_urls': {'spotify': 'https://open.spotify.com/user/tff9ycd5i91cji7b6jiwbsdcl'}, 'href': 'https://api.spotify.com/v1/users/tff9ycd5i91cji7b6jiwbsdcl', 'id': 'tff9ycd5i91cji7b6jiwbsdcl', 'type': 'user', 'uri': 'spotify:user:tff9ycd5i91cji7b6jiwbsdcl'}, 'is_local': False, 'primary_color': None, 'track': {'album': {'album_type': 'single', 'artists': [{'external_urls': {'spotify': 'https://open.spotify.com/artist/7FGlFTfVrDufwD4sPP5F86'}, 'href': 'https://api.spotify.com/v1/artists/7FGlFTfVrDufwD4sPP5F86', 'id': '7FGlFTfVrDufwD4sPP5F86', 'name': 'ايمان الشريف', 'type': 'artist', 'uri': 'spotify:artist:7FGlFTfVrDufwD4sPP5F86'}], 'available_markets': ['AD', 'AE', 'AG', 'AL', 'AM', 'AO', 'AR', 'AT', 'AU', 'AZ', 'BA', 'BB', 'BD', 'BE', 'BF', 'BG', 'BH', 'BI', 'BJ', 'BN', 'BO', 'BR', 'BS', 'BT', 'BW', 'BY', 'BZ', 'CA', 'CD', 'CG', 'CH', 'CI', 'CL', 'CM', 'CO', 'CR', 'CV', 'CW', 'CY', 'CZ', 'DE', 'DJ', 'DK', 'DM', 'DO', 'DZ', 'EC', 'EE', 'EG', 'ES', 'FI', 'FJ', 'FM', 'FR', 'GA', 'GB', 'GD', 'GE', 'GH', 'GM', 'GN', 'GQ', 'GR', 'GT', 'GW', 'GY', 'HK', 'HN', 'HR', 'HT', 'HU', 'ID', 'IE', 'IL', 'IN', 'IQ', 'IS', 'IT', 'JM', 'JO', 'JP', 'KE', 'KG', 'KH', 'KI', 'KM', 'KN', 'KR', 'KW', 'KZ', 'LA', 'LB', 'LC', 'LI', 'LK', 'LR', 'LS', 'LT', 'LU', 'LV', 'LY', 'MA', 'MC', 'MD', 'ME', 'MG', 'MH', 'MK', 'ML', 'MN', 'MO', 'MR', 'MT', 'MU', 'MV', 'MW', 'MX', 'MY', 'MZ', 'NA', 'NE', 'NG', 'NI', 'NL', 'NO', 'NP', 'NR', 'NZ', 'OM', 'PA', 'PE', 'PG', 'PH', 'PK', 'PL', 'PS', 'PT', 'PW', 'PY', 'QA', 'RO', 'RS', 'RW', 'SA', 'SB', 'SC', 'SE', 'SG', 'SI', 'SK', 'SL', 'SM', 'SN', 'SR', 'ST', 'SV', 'SZ', 'TD', 'TG', 'TH', 'TJ', 'TL', 'TN', 'TO', 'TR', 'TT', 'TV', 'TW', 'TZ', 'UA', 'UG', 'US', 'UY', 'UZ', 'VC', 'VE', 'VN', 'VU', 'WS', 'XK', 'ZA', 'ZM', 'ZW'], 'external_urls': {'spotify': 'https://open.spotify.com/album/61PbAcIpIwN8VjF8KnEbUM'}, 'href': 'https://api.spotify.com/v1/albums/61PbAcIpIwN8VjF8KnEbUM', 'id': '61PbAcIpIwN8VjF8KnEbUM', 'images': [{'height': 640, 'url': 'https://i.scdn.co/image/ab67616d0000b273f69ea3e25e5bd7b60b6f99aa', 'width': 640}, {'height': 300, 'url': 'https://i.scdn.co/image/ab67616d00001e02f69ea3e25e5bd7b60b6f99aa', 'width': 300}, {'height': 64, 'url': 'https://i.scdn.co/image/ab67616d00004851f69ea3e25e5bd7b60b6f99aa', 'width': 64}], 'name': 'عسل الجبال', 'release_date': '2021-12-16', 'release_date_precision': 'day', 'total_tracks': 1, 'type': 'album', 'uri': 'spotify:album:61PbAcIpIwN8VjF8KnEbUM'}, 'artists': [{'external_urls': {'spotify': 'https://open.spotify.com/artist/7FGlFTfVrDufwD4sPP5F86'}, 'href': 'https://api.spotify.com/v1/artists/7FGlFTfVrDufwD4sPP5F86', 'id': '7FGlFTfVrDufwD4sPP5F86', 'name': 'ايمان الشريف', 'type': 'artist', 'uri': 'spotify:artist:7FGlFTfVrDufwD4sPP5F86'}], 'available_markets': ['AD', 'AE', 'AG', 'AL', 'AM', 'AO', 'AR', 'AT', 'AU', 'AZ', 'BA', 'BB', 'BD', 'BE', 'BF', 'BG', 'BH', 'BI', 'BJ', 'BN', 'BO', 'BR', 'BS', 'BT', 'BW', 'BY', 'BZ', 'CA', 'CD', 'CG', 'CH', 'CI', 'CL', 'CM', 'CO', 'CR', 'CV', 'CW', 'CY', 'CZ', 'DE', 'DJ', 'DK', 'DM', 'DO', 'DZ', 'EC', 'EE', 'EG', 'ES', 'FI', 'FJ', 'FM', 'FR', 'GA', 'GB', 'GD', 'GE', 'GH', 'GM', 'GN', 'GQ', 'GR', 'GT', 'GW', 'GY', 'HK', 'HN', 'HR', 'HT', 'HU', 'ID', 'IE', 'IL', 'IN', 'IQ', 'IS', 'IT', 'JM', 'JO', 'JP', 'KE', 'KG', 'KH', 'KI', 'KM', 'KN', 'KR', 'KW', 'KZ', 'LA', 'LB', 'LC', 'LI', 'LK', 'LR', 'LS', 'LT', 'LU', 'LV', 'LY', 'MA', 'MC', 'MD', 'ME', 'MG', 'MH', 'MK', 'ML', 'MN', 'MO', 'MR', 'MT', 'MU', 'MV', 'MW', 'MX', 'MY', 'MZ', 'NA', 'NE', 'NG', 'NI', 'NL', 'NO', 'NP', 'NR', 'NZ', 'OM', 'PA', 'PE', 'PG', 'PH', 'PK', 'PL', 'PS', 'PT', 'PW', 'PY', 'QA', 'RO', 'RS', 'RW', 'SA', 'SB', 'SC', 'SE', 'SG', 'SI', 'SK', 'SL', 'SM', 'SN', 'SR', 'ST', 'SV', 'SZ', 'TD', 'TG', 'TH', 'TJ', 'TL', 'TN', 'TO', 'TR', 'TT', 'TV', 'TW', 'TZ', 'UA', 'UG', 'US', 'UY', 'UZ', 'VC', 'VE', 'VN', 'VU', 'WS', 'XK', 'ZA', 'ZM', 'ZW'], 'disc_number': 1, 'duration_ms': 263183, 'episode': False, 'explicit': False, 'external_ids': {'isrc': 'EGA252107779'}, 'external_urls': {'spotify': 'https://open.spotify.com/track/2wHWHVH06LHbnvpHABJqYX'}, 'href': 'https://api.spotify.com/v1/tracks/2wHWHVH06LHbnvpHABJqYX', 'id': '2wHWHVH06LHbnvpHABJqYX', 'is_local': False, 'name': 'عسل الجبال', 'popularity': 19, 'preview_url': 'https://p.scdn.co/mp3-preview/af78b267c33857cf940a8a395f2996b961c3f3d7?cid=c7832f4cfebb4553b27447fe32b29c1d', 'track': True, 'track_number': 1, 'type': 'track', 'uri': 'spotify:track:2wHWHVH06LHbnvpHABJqYX'}, 'video_thumbnail': {'url': None}}, {'added_at': '2022-09-12T09:11:57Z', 'added_by': {'external_urls': {'spotify': 'https://open.spotify.com/user/tff9ycd5i91cji7b6jiwbsdcl'}, 'href': 'https://api.spotify.com/v1/users/tff9ycd5i91cji7b6jiwbsdcl', 'id': 'tff9ycd5i91cji7b6jiwbsdcl', 'type': 'user', 'uri': 'spotify:user:tff9ycd5i91cji7b6jiwbsdcl'}, 'is_local': False, 'primary_color': None, 'track': {'album': {'album_type': 'single', 'artists': [{'external_urls': {'spotify': 'https://open.spotify.com/artist/7FGlFTfVrDufwD4sPP5F86'}, 'href': 'https://api.spotify.com/v1/artists/7FGlFTfVrDufwD4sPP5F86', 'id': '7FGlFTfVrDufwD4sPP5F86', 'name': 'ايمان الشريف', 'type': 'artist', 'uri': 'spotify:artist:7FGlFTfVrDufwD4sPP5F86'}], 'available_markets': ['AD', 'AE', 'AG', 'AL', 'AM', 'AO', 'AR', 'AT', 'AU', 'AZ', 'BA', 'BB', 'BD', 'BE', 'BF', 'BG', 'BH', 'BI', 'BJ', 'BN', 'BO', 'BR', 'BS', 'BT', 'BW', 'BY', 'BZ', 'CA', 'CD', 'CG', 'CH', 'CI', 'CL', 'CM', 'CO', 'CR', 'CV', 'CW', 'CY', 'CZ', 'DE', 'DJ', 'DK', 'DM', 'DO', 'DZ', 'EC', 'EE', 'EG', 'ES', 'FI', 'FJ', 'FM', 'FR', 'GA', 'GB', 'GD', 'GE', 'GH', 'GM', 'GN', 'GQ', 'GR', 'GT', 'GW', 'GY', 'HK', 'HN', 'HR', 'HT', 'HU', 'ID', 'IE', 'IL', 'IN', 'IQ', 'IS', 'IT', 'JM', 'JO', 'JP', 'KE', 'KG', 'KH', 'KI', 'KM', 'KN', 'KR', 'KW', 'KZ', 'LA', 'LB', 'LC', 'LI', 'LK', 'LR', 'LS', 'LT', 'LU', 'LV', 'LY', 'MA', 'MC', 'MD', 'ME', 'MG', 'MH', 'MK', 'ML', 'MN', 'MO', 'MR', 'MT', 'MU', 'MV', 'MW', 'MX', 'MY', 'MZ', 'NA', 'NE', 'NG', 'NI', 'NL', 'NO', 'NP', 'NR', 'NZ', 'OM', 'PA', 'PE', 'PG', 'PH', 'PK', 'PL', 'PS', 'PT', 'PW', 'PY', 'QA', 'RO', 'RS', 'RW', 'SA', 'SB', 'SC', 'SE', 'SG', 'SI', 'SK', 'SL', 'SM', 'SN', 'SR', 'ST', 'SV', 'SZ', 'TD', 'TG', 'TH', 'TJ', 'TL', 'TN', 'TO', 'TR', 'TT', 'TV', 'TW', 'TZ', 'UA', 'UG', 'US', 'UY', 'UZ', 'VC', 'VE', 'VN', 'VU', 'WS', 'XK', 'ZA', 'ZM', 'ZW'], 'external_urls': {'spotify': 'https://open.spotify.com/album/42Mzhx4cTpR2ZD0QEHdSiv'}, 'href': 'https://api.spotify.com/v1/albums/42Mzhx4cTpR2ZD0QEHdSiv', 'id': '42Mzhx4cTpR2ZD0QEHdSiv', 'images': [{'height': 640, 'url': 'https://i.scdn.co/image/ab67616d0000b2734f1baae041e8929744f8d7b6', 'width': 640}, {'height': 300, 'url': 'https://i.scdn.co/image/ab67616d00001e024f1baae041e8929744f8d7b6', 'width': 300}, {'height': 64, 'url': 'https://i.scdn.co/image/ab67616d000048514f1baae041e8929744f8d7b6', 'width': 64}], 'name': 'الغلط في منو', 'release_date': '2022-08-18', 'release_date_precision': 'day', 'total_tracks': 1, 'type': 'album', 'uri': 'spotify:album:42Mzhx4cTpR2ZD0QEHdSiv'}, 'artists': [{'external_urls': {'spotify': 'https://open.spotify.com/artist/7FGlFTfVrDufwD4sPP5F86'}, 'href': 'https://api.spotify.com/v1/artists/7FGlFTfVrDufwD4sPP5F86', 'id': '7FGlFTfVrDufwD4sPP5F86', 'name': 'ايمان الشريف', 'type': 'artist', 'uri': 'spotify:artist:7FGlFTfVrDufwD4sPP5F86'}], 'available_markets': ['AD', 'AE', 'AG', 'AL', 'AM', 'AO', 'AR', 'AT', 'AU', 'AZ', 'BA', 'BB', 'BD', 'BE', 'BF', 'BG', 'BH', 'BI', 'BJ', 'BN', 'BO', 'BR', 'BS', 'BT', 'BW', 'BY', 'BZ', 'CA', 'CD', 'CG', 'CH', 'CI', 'CL', 'CM', 'CO', 'CR', 'CV', 'CW', 'CY', 'CZ', 'DE', 'DJ', 'DK', 'DM', 'DO', 'DZ', 'EC', 'EE', 'EG', 'ES', 'FI', 'FJ', 'FM', 'FR', 'GA', 'GB', 'GD', 'GE', 'GH', 'GM', 'GN', 'GQ', 'GR', 'GT', 'GW', 'GY', 'HK', 'HN', 'HR', 'HT', 'HU', 'ID', 'IE', 'IL', 'IN', 'IQ', 'IS', 'IT', 'JM', 'JO', 'JP', 'KE', 'KG', 'KH', 'KI', 'KM', 'KN', 'KR', 'KW', 'KZ', 'LA', 'LB', 'LC', 'LI', 'LK', 'LR', 'LS', 'LT', 'LU', 'LV', 'LY', 'MA', 'MC', 'MD', 'ME', 'MG', 'MH', 'MK', 'ML', 'MN', 'MO', 'MR', 'MT', 'MU', 'MV', 'MW', 'MX', 'MY', 'MZ', 'NA', 'NE', 'NG', 'NI', 'NL', 'NO', 'NP', 'NR', 'NZ', 'OM', 'PA', 'PE', 'PG', 'PH', 'PK', 'PL', 'PS', 'PT', 'PW', 'PY', 'QA', 'RO', 'RS', 'RW', 'SA', 'SB', 'SC', 'SE', 'SG', 'SI', 'SK', 'SL', 'SM', 'SN', 'SR', 'ST', 'SV', 'SZ', 'TD', 'TG', 'TH', 'TJ', 'TL', 'TN', 'TO', 'TR', 'TT', 'TV', 'TW', 'TZ', 'UA', 'UG', 'US', 'UY', 'UZ', 'VC', 'VE', 'VN', 'VU', 'WS', 'XK', 'ZA', 'ZM', 'ZW'], 'disc_number': 1, 'duration_ms': 240143, 'episode': False, 'explicit': False, 'external_ids': {'isrc': 'EGA252209585'}, 'external_urls': {'spotify': 'https://open.spotify.com/track/7czrAxqbFUiEkNNS8em3J1'}, 'href': 'https://api.spotify.com/v1/tracks/7czrAxqbFUiEkNNS8em3J1', 'id': '7czrAxqbFUiEkNNS8em3J1', 'is_local': False, 'name': 'الغلط في منو', 'popularity': 17, 'preview_url': 'https://p.scdn.co/mp3-preview/303d8eb0fde03f54eb7cb3dddb9060d1ce2926d9?cid=c7832f4cfebb4553b27447fe32b29c1d', 'track': True, 'track_number': 1, 'type': 'track', 'uri': 'spotify:track:7czrAxqbFUiEkNNS8em3J1'}, 'video_thumbnail': {'url': None}}, {'added_at': '2022-09-12T09:12:02Z', 'added_by': {'external_urls': {'spotify': 'https://open.spotify.com/user/tff9ycd5i91cji7b6jiwbsdcl'}, 'href': 'https://api.spotify.com/v1/users/tff9ycd5i91cji7b6jiwbsdcl', 'id': 'tff9ycd5i91cji7b6jiwbsdcl', 'type': 'user', 'uri': 'spotify:user:tff9ycd5i91cji7b6jiwbsdcl'}, 'is_local': False, 'primary_color': None, 'track': {'album': {'album_type': 'single', 'artists': [{'external_urls': {'spotify': 'https://open.spotify.com/artist/7FGlFTfVrDufwD4sPP5F86'}, 'href': 'https://api.spotify.com/v1/artists/7FGlFTfVrDufwD4sPP5F86', 'id': '7FGlFTfVrDufwD4sPP5F86', 'name': 'ايمان الشريف', 'type': 'artist', 'uri': 'spotify:artist:7FGlFTfVrDufwD4sPP5F86'}], 'available_markets': ['AD', 'AE', 'AG', 'AL', 'AM', 'AO', 'AR', 'AT', 'AU', 'AZ', 'BA', 'BB', 'BD', 'BE', 'BF', 'BG', 'BH', 'BI', 'BJ', 'BN', 'BO', 'BR', 'BS', 'BT', 'BW', 'BY', 'BZ', 'CA', 'CD', 'CG', 'CH', 'CI', 'CL', 'CM', 'CO', 'CR', 'CV', 'CW', 'CY', 'CZ', 'DE', 'DJ', 'DK', 'DM', 'DO', 'DZ', 'EC', 'EE', 'EG', 'ES', 'FI', 'FJ', 'FM', 'FR', 'GA', 'GB', 'GD', 'GE', 'GH', 'GM', 'GN', 'GQ', 'GR', 'GT', 'GW', 'GY', 'HK', 'HN', 'HR', 'HT', 'HU', 'ID', 'IE', 'IL', 'IN', 'IQ', 'IS', 'IT', 'JM', 'JO', 'JP', 'KE', 'KG', 'KH', 'KI', 'KM', 'KN', 'KR', 'KW', 'KZ', 'LA', 'LB', 'LC', 'LI', 'LK', 'LR', 'LS', 'LT', 'LU', 'LV', 'LY', 'MA', 'MC', 'MD', 'ME', 'MG', 'MH', 'MK', 'ML', 'MN', 'MO', 'MR', 'MT', 'MU', 'MV', 'MW', 'MX', 'MY', 'MZ', 'NA', 'NE', 'NG', 'NI', 'NL', 'NO', 'NP', 'NR', 'NZ', 'OM', 'PA', 'PE', 'PG', 'PH', 'PK', 'PL', 'PS', 'PT', 'PW', 'PY', 'QA', 'RO', 'RS', 'RW', 'SA', 'SB', 'SC', 'SE', 'SG', 'SI', 'SK', 'SL', 'SM', 'SN', 'SR', 'ST', 'SV', 'SZ', 'TD', 'TG', 'TH', 'TJ', 'TL', 'TN', 'TO', 'TR', 'TT', 'TV', 'TW', 'TZ', 'UA', 'UG', 'US', 'UY', 'UZ', 'VC', 'VE', 'VN', 'VU', 'WS', 'XK', 'ZA', 'ZM', 'ZW'], 'external_urls': {'spotify': 'https://open.spotify.com/album/3VtluQ8Khx9QxcAgcnUxDj'}, 'href': 'https://api.spotify.com/v1/albums/3VtluQ8Khx9QxcAgcnUxDj', 'id': '3VtluQ8Khx9QxcAgcnUxDj', 'images': [{'height': 640, 'url': 'https://i.scdn.co/image/ab67616d0000b2737a0accd6ddca6a0ddd895309', 'width': 640}, {'height': 300, 'url': 'https://i.scdn.co/image/ab67616d00001e027a0accd6ddca6a0ddd895309', 'width': 300}, {'height': 64, 'url': 'https://i.scdn.co/image/ab67616d000048517a0accd6ddca6a0ddd895309', 'width': 64}], 'name': 'طوالي بعاين ليك', 'release_date': '2022-07-10', 'release_date_precision': 'day', 'total_tracks': 1, 'type': 'album', 'uri': 'spotify:album:3VtluQ8Khx9QxcAgcnUxDj'}, 'artists': [{'external_urls': {'spotify': 'https://open.spotify.com/artist/7FGlFTfVrDufwD4sPP5F86'}, 'href': 'https://api.spotify.com/v1/artists/7FGlFTfVrDufwD4sPP5F86', 'id': '7FGlFTfVrDufwD4sPP5F86', 'name': 'ايمان الشريف', 'type': 'artist', 'uri': 'spotify:artist:7FGlFTfVrDufwD4sPP5F86'}], 'available_markets': ['AD', 'AE', 'AG', 'AL', 'AM', 'AO', 'AR', 'AT', 'AU', 'AZ', 'BA', 'BB', 'BD', 'BE', 'BF', 'BG', 'BH', 'BI', 'BJ', 'BN', 'BO', 'BR', 'BS', 'BT', 'BW', 'BY', 'BZ', 'CA', 'CD', 'CG', 'CH', 'CI', 'CL', 'CM', 'CO', 'CR', 'CV', 'CW', 'CY', 'CZ', 'DE', 'DJ', 'DK', 'DM', 'DO', 'DZ', 'EC', 'EE', 'EG', 'ES', 'FI', 'FJ', 'FM', 'FR', 'GA', 'GB', 'GD', 'GE', 'GH', 'GM', 'GN', 'GQ', 'GR', 'GT', 'GW', 'GY', 'HK', 'HN', 'HR', 'HT', 'HU', 'ID', 'IE', 'IL', 'IN', 'IQ', 'IS', 'IT', 'JM', 'JO', 'JP', 'KE', 'KG', 'KH', 'KI', 'KM', 'KN', 'KR', 'KW', 'KZ', 'LA', 'LB', 'LC', 'LI', 'LK', 'LR', 'LS', 'LT', 'LU', 'LV', 'LY', 'MA', 'MC', 'MD', 'ME', 'MG', 'MH', 'MK', 'ML', 'MN', 'MO', 'MR', 'MT', 'MU', 'MV', 'MW', 'MX', 'MY', 'MZ', 'NA', 'NE', 'NG', 'NI', 'NL', 'NO', 'NP', 'NR', 'NZ', 'OM', 'PA', 'PE', 'PG', 'PH', 'PK', 'PL', 'PS', 'PT', 'PW', 'PY', 'QA', 'RO', 'RS', 'RW', 'SA', 'SB', 'SC', 'SE', 'SG', 'SI', 'SK', 'SL', 'SM', 'SN', 'SR', 'ST', 'SV', 'SZ', 'TD', 'TG', 'TH', 'TJ', 'TL', 'TN', 'TO', 'TR', 'TT', 'TV', 'TW', 'TZ', 'UA', 'UG', 'US', 'UY', 'UZ', 'VC', 'VE', 'VN', 'VU', 'WS', 'XK', 'ZA', 'ZM', 'ZW'], 'disc_number': 1, 'duration_ms': 281991, 'episode': False, 'explicit': False, 'external_ids': {'isrc': 'EGA252208163'}, 'external_urls': {'spotify': 'https://open.spotify.com/track/7fHcwS55P1GxarnIqRSFcn'}, 'href': 'https://api.spotify.com/v1/tracks/7fHcwS55P1GxarnIqRSFcn', 'id': '7fHcwS55P1GxarnIqRSFcn', 'is_local': False, 'name': 'طوالي بعاين ليك', 'popularity': 12, 'preview_url': 'https://p.scdn.co/mp3-preview/48238bd27ff8abad3d7a3babddc00bbc65828a3d?cid=c7832f4cfebb4553b27447fe32b29c1d', 'track': True, 'track_number': 1, 'type': 'track', 'uri': 'spotify:track:7fHcwS55P1GxarnIqRSFcn'}, 'video_thumbnail': {'url': None}}, {'added_at': '2022-09-12T09:12:09Z', 'added_by': {'external_urls': {'spotify': 'https://open.spotify.com/user/tff9ycd5i91cji7b6jiwbsdcl'}, 'href': 'https://api.spotify.com/v1/users/tff9ycd5i91cji7b6jiwbsdcl', 'id': 'tff9ycd5i91cji7b6jiwbsdcl', 'type': 'user', 'uri': 'spotify:user:tff9ycd5i91cji7b6jiwbsdcl'}, 'is_local': False, 'primary_color': None, 'track': {'album': {'album_type': 'single', 'artists': [{'external_urls': {'spotify': 'https://open.spotify.com/artist/7FGlFTfVrDufwD4sPP5F86'}, 'href': 'https://api.spotify.com/v1/artists/7FGlFTfVrDufwD4sPP5F86', 'id': '7FGlFTfVrDufwD4sPP5F86', 'name': 'ايمان الشريف', 'type': 'artist', 'uri': 'spotify:artist:7FGlFTfVrDufwD4sPP5F86'}], 'available_markets': ['AD', 'AE', 'AG', 'AL', 'AM', 'AO', 'AR', 'AT', 'AU', 'AZ', 'BA', 'BB', 'BD', 'BE', 'BF', 'BG', 'BH', 'BI', 'BJ', 'BN', 'BO', 'BR', 'BS', 'BT', 'BW', 'BY', 'BZ', 'CA', 'CD', 'CG', 'CH', 'CI', 'CL', 'CM', 'CO', 'CR', 'CV', 'CW', 'CY', 'CZ', 'DE', 'DJ', 'DK', 'DM', 'DO', 'DZ', 'EC', 'EE', 'EG', 'ES', 'FI', 'FJ', 'FM', 'FR', 'GA', 'GB', 'GD', 'GE', 'GH', 'GM', 'GN', 'GQ', 'GR', 'GT', 'GW', 'GY', 'HK', 'HN', 'HR', 'HT', 'HU', 'ID', 'IE', 'IL', 'IN', 'IQ', 'IS', 'IT', 'JM', 'JO', 'JP', 'KE', 'KG', 'KH', 'KI', 'KM', 'KN', 'KR', 'KW', 'KZ', 'LA', 'LB', 'LC', 'LI', 'LK', 'LR', 'LS', 'LT', 'LU', 'LV', 'LY', 'MA', 'MC', 'MD', 'ME', 'MG', 'MH', 'MK', 'ML', 'MN', 'MO', 'MR', 'MT', 'MU', 'MV', 'MW', 'MX', 'MY', 'MZ', 'NA', 'NE', 'NG', 'NI', 'NL', 'NO', 'NP', 'NR', 'NZ', 'OM', 'PA', 'PE', 'PG', 'PH', 'PK', 'PL', 'PS', 'PT', 'PW', 'PY', 'QA', 'RO', 'RS', 'RW', 'SA', 'SB', 'SC', 'SE', 'SG', 'SI', 'SK', 'SL', 'SM', 'SN', 'SR', 'ST', 'SV', 'SZ', 'TD', 'TG', 'TH', 'TJ', 'TL', 'TN', 'TO', 'TR', 'TT', 'TV', 'TW', 'TZ', 'UA', 'UG', 'US', 'UY', 'UZ', 'VC', 'VE', 'VN', 'VU', 'WS', 'XK', 'ZA', 'ZM', 'ZW'], 'external_urls': {'spotify': 'https://open.spotify.com/album/1jBgEEXm0VaqvNGMsst2lU'}, 'href': 'https://api.spotify.com/v1/albums/1jBgEEXm0VaqvNGMsst2lU', 'id': '1jBgEEXm0VaqvNGMsst2lU', 'images': [{'height': 640, 'url': 'https://i.scdn.co/image/ab67616d0000b273db0eafce6054e481f597805c', 'width': 640}, {'height': 300, 'url': 'https://i.scdn.co/image/ab67616d00001e02db0eafce6054e481f597805c', 'width': 300}, {'height': 64, 'url': 'https://i.scdn.co/image/ab67616d00004851db0eafce6054e481f597805c', 'width': 64}], 'name': 'الحليون', 'release_date': '2022-05-10', 'release_date_precision': 'day', 'total_tracks': 1, 'type': 'album', 'uri': 'spotify:album:1jBgEEXm0VaqvNGMsst2lU'}, 'artists': [{'external_urls': {'spotify': 'https://open.spotify.com/artist/7FGlFTfVrDufwD4sPP5F86'}, 'href': 'https://api.spotify.com/v1/artists/7FGlFTfVrDufwD4sPP5F86', 'id': '7FGlFTfVrDufwD4sPP5F86', 'name': 'ايمان الشريف', 'type': 'artist', 'uri': 'spotify:artist:7FGlFTfVrDufwD4sPP5F86'}], 'available_markets': ['AD', 'AE', 'AG', 'AL', 'AM', 'AO', 'AR', 'AT', 'AU', 'AZ', 'BA', 'BB', 'BD', 'BE', 'BF', 'BG', 'BH', 'BI', 'BJ', 'BN', 'BO', 'BR', 'BS', 'BT', 'BW', 'BY', 'BZ', 'CA', 'CD', 'CG', 'CH', 'CI', 'CL', 'CM', 'CO', 'CR', 'CV', 'CW', 'CY', 'CZ', 'DE', 'DJ', 'DK', 'DM', 'DO', 'DZ', 'EC', 'EE', 'EG', 'ES', 'FI', 'FJ', 'FM', 'FR', 'GA', 'GB', 'GD', 'GE', 'GH', 'GM', 'GN', 'GQ', 'GR', 'GT', 'GW', 'GY', 'HK', 'HN', 'HR', 'HT', 'HU', 'ID', 'IE', 'IL', 'IN', 'IQ', 'IS', 'IT', 'JM', 'JO', 'JP', 'KE', 'KG', 'KH', 'KI', 'KM', 'KN', 'KR', 'KW', 'KZ', 'LA', 'LB', 'LC', 'LI', 'LK', 'LR', 'LS', 'LT', 'LU', 'LV', 'LY', 'MA', 'MC', 'MD', 'ME', 'MG', 'MH', 'MK', 'ML', 'MN', 'MO', 'MR', 'MT', 'MU', 'MV', 'MW', 'MX', 'MY', 'MZ', 'NA', 'NE', 'NG', 'NI', 'NL', 'NO', 'NP', 'NR', 'NZ', 'OM', 'PA', 'PE', 'PG', 'PH', 'PK', 'PL', 'PS', 'PT', 'PW', 'PY', 'QA', 'RO', 'RS', 'RW', 'SA', 'SB', 'SC', 'SE', 'SG', 'SI', 'SK', 'SL', 'SM', 'SN', 'SR', 'ST', 'SV', 'SZ', 'TD', 'TG', 'TH', 'TJ', 'TL', 'TN', 'TO', 'TR', 'TT', 'TV', 'TW', 'TZ', 'UA', 'UG', 'US', 'UY', 'UZ', 'VC', 'VE', 'VN', 'VU', 'WS', 'XK', 'ZA', 'ZM', 'ZW'], 'disc_number': 1, 'duration_ms': 290272, 'episode': False, 'explicit': False, 'external_ids': {'isrc': 'EGA252205196'}, 'external_urls': {'spotify': 'https://open.spotify.com/track/1kmcLB5bjyj5XZoJCK3wdk'}, 'href': 'https://api.spotify.com/v1/tracks/1kmcLB5bjyj5XZoJCK3wdk', 'id': '1kmcLB5bjyj5XZoJCK3wdk', 'is_local': False, 'name': 'الحليون', 'popularity': 13, 'preview_url': 'https://p.scdn.co/mp3-preview/b3611308d14f7c04817362a579e1548d4c6bd4ad?cid=c7832f4cfebb4553b27447fe32b29c1d', 'track': True, 'track_number': 1, 'type': 'track', 'uri': 'spotify:track:1kmcLB5bjyj5XZoJCK3wdk'}, 'video_thumbnail': {'url': None}}, {'added_at': '2022-09-12T09:12:13Z', 'added_by': {'external_urls': {'spotify': 'https://open.spotify.com/user/tff9ycd5i91cji7b6jiwbsdcl'}, 'href': 'https://api.spotify.com/v1/users/tff9ycd5i91cji7b6jiwbsdcl', 'id': 'tff9ycd5i91cji7b6jiwbsdcl', 'type': 'user', 'uri': 'spotify:user:tff9ycd5i91cji7b6jiwbsdcl'}, 'is_local': False, 'primary_color': None, 'track': {'album': {'album_type': 'single', 'artists': [{'external_urls': {'spotify': 'https://open.spotify.com/artist/7FGlFTfVrDufwD4sPP5F86'}, 'href': 'https://api.spotify.com/v1/artists/7FGlFTfVrDufwD4sPP5F86', 'id': '7FGlFTfVrDufwD4sPP5F86', 'name': 'ايمان الشريف', 'type': 'artist', 'uri': 'spotify:artist:7FGlFTfVrDufwD4sPP5F86'}], 'available_markets': ['AD', 'AE', 'AG', 'AL', 'AM', 'AO', 'AR', 'AT', 'AU', 'AZ', 'BA', 'BB', 'BD', 'BE', 'BF', 'BG', 'BH', 'BI', 'BJ', 'BN', 'BO', 'BR', 'BS', 'BT', 'BW', 'BY', 'BZ', 'CA', 'CD', 'CG', 'CH', 'CI', 'CL', 'CM', 'CO', 'CR', 'CV', 'CW', 'CY', 'CZ', 'DE', 'DJ', 'DK', 'DM', 'DO', 'DZ', 'EC', 'EE', 'EG', 'ES', 'FI', 'FJ', 'FM', 'FR', 'GA', 'GB', 'GD', 'GE', 'GH', 'GM', 'GN', 'GQ', 'GR', 'GT', 'GW', 'GY', 'HK', 'HN', 'HR', 'HT', 'HU', 'ID', 'IE', 'IL', 'IN', 'IQ', 'IS', 'IT', 'JM', 'JO', 'JP', 'KE', 'KG', 'KH', 'KI', 'KM', 'KN', 'KR', 'KW', 'KZ', 'LA', 'LB', 'LC', 'LI', 'LK', 'LR', 'LS', 'LT', 'LU', 'LV', 'LY', 'MA', 'MC', 'MD', 'ME', 'MG', 'MH', 'MK', 'ML', 'MN', 'MO', 'MR', 'MT', 'MU', 'MV', 'MW', 'MX', 'MY', 'MZ', 'NA', 'NE', 'NG', 'NI', 'NL', 'NO', 'NP', 'NR', 'NZ', 'OM', 'PA', 'PE', 'PG', 'PH', 'PK', 'PL', 'PS', 'PT', 'PW', 'PY', 'QA', 'RO', 'RS', 'RW', 'SA', 'SB', 'SC', 'SE', 'SG', 'SI', 'SK', 'SL', 'SM', 'SN', 'SR', 'ST', 'SV', 'SZ', 'TD', 'TG', 'TH', 'TJ', 'TL', 'TN', 'TO', 'TR', 'TT', 'TV', 'TW', 'TZ', 'UA', 'UG', 'US', 'UY', 'UZ', 'VC', 'VE', 'VN', 'VU', 'WS', 'XK', 'ZA', 'ZM', 'ZW'], 'external_urls': {'spotify': 'https://open.spotify.com/album/2iqnYlisJvOs5SX4fcypd5'}, 'href': 'https://api.spotify.com/v1/albums/2iqnYlisJvOs5SX4fcypd5', 'id': '2iqnYlisJvOs5SX4fcypd5', 'images': [{'height': 640, 'url': 'https://i.scdn.co/image/ab67616d0000b273d9a3203e9d05fe667f8fa72d', 'width': 640}, {'height': 300, 'url': 'https://i.scdn.co/image/ab67616d00001e02d9a3203e9d05fe667f8fa72d', 'width': 300}, {'height': 64, 'url': 'https://i.scdn.co/image/ab67616d00004851d9a3203e9d05fe667f8fa72d', 'width': 64}], 'name': 'مالك معاي', 'release_date': '2022-04-28', 'release_date_precision': 'day', 'total_tracks': 1, 'type': 'album', 'uri': 'spotify:album:2iqnYlisJvOs5SX4fcypd5'}, 'artists': [{'external_urls': {'spotify': 'https://open.spotify.com/artist/7FGlFTfVrDufwD4sPP5F86'}, 'href': 'https://api.spotify.com/v1/artists/7FGlFTfVrDufwD4sPP5F86', 'id': '7FGlFTfVrDufwD4sPP5F86', 'name': 'ايمان الشريف', 'type': 'artist', 'uri': 'spotify:artist:7FGlFTfVrDufwD4sPP5F86'}], 'available_markets': ['AD', 'AE', 'AG', 'AL', 'AM', 'AO', 'AR', 'AT', 'AU', 'AZ', 'BA', 'BB', 'BD', 'BE', 'BF', 'BG', 'BH', 'BI', 'BJ', 'BN', 'BO', 'BR', 'BS', 'BT', 'BW', 'BY', 'BZ', 'CA', 'CD', 'CG', 'CH', 'CI', 'CL', 'CM', 'CO', 'CR', 'CV', 'CW', 'CY', 'CZ', 'DE', 'DJ', 'DK', 'DM', 'DO', 'DZ', 'EC', 'EE', 'EG', 'ES', 'FI', 'FJ', 'FM', 'FR', 'GA', 'GB', 'GD', 'GE', 'GH', 'GM', 'GN', 'GQ', 'GR', 'GT', 'GW', 'GY', 'HK', 'HN', 'HR', 'HT', 'HU', 'ID', 'IE', 'IL', 'IN', 'IQ', 'IS', 'IT', 'JM', 'JO', 'JP', 'KE', 'KG', 'KH', 'KI', 'KM', 'KN', 'KR', 'KW', 'KZ', 'LA', 'LB', 'LC', 'LI', 'LK', 'LR', 'LS', 'LT', 'LU', 'LV', 'LY', 'MA', 'MC', 'MD', 'ME', 'MG', 'MH', 'MK', 'ML', 'MN', 'MO', 'MR', 'MT', 'MU', 'MV', 'MW', 'MX', 'MY', 'MZ', 'NA', 'NE', 'NG', 'NI', 'NL', 'NO', 'NP', 'NR', 'NZ', 'OM', 'PA', 'PE', 'PG', 'PH', 'PK', 'PL', 'PS', 'PT', 'PW', 'PY', 'QA', 'RO', 'RS', 'RW', 'SA', 'SB', 'SC', 'SE', 'SG', 'SI', 'SK', 'SL', 'SM', 'SN', 'SR', 'ST', 'SV', 'SZ', 'TD', 'TG', 'TH', 'TJ', 'TL', 'TN', 'TO', 'TR', 'TT', 'TV', 'TW', 'TZ', 'UA', 'UG', 'US', 'UY', 'UZ', 'VC', 'VE', 'VN', 'VU', 'WS', 'XK', 'ZA', 'ZM', 'ZW'], 'disc_number': 1, 'duration_ms': 208352, 'episode': False, 'explicit': False, 'external_ids': {'isrc': 'EGA252206088'}, 'external_urls': {'spotify': 'https://open.spotify.com/track/7CaEBRhgcyQp6NNtSEeH5w'}, 'href': 'https://api.spotify.com/v1/tracks/7CaEBRhgcyQp6NNtSEeH5w', 'id': '7CaEBRhgcyQp6NNtSEeH5w', 'is_local': False, 'name': 'مالك معاي', 'popularity': 9, 'preview_url': 'https://p.scdn.co/mp3-preview/81a38ffda6d41999912097fef51d294e082b7293?cid=c7832f4cfebb4553b27447fe32b29c1d', 'track': True, 'track_number': 1, 'type': 'track', 'uri': 'spotify:track:7CaEBRhgcyQp6NNtSEeH5w'}, 'video_thumbnail': {'url': None}}]\n"
     ]
    }
   ],
   "source": [
    "print(sp.playlist_tracks(playlist_URI)[\"items\"])"
   ]
  },
  {
   "cell_type": "code",
   "execution_count": 283,
   "metadata": {
    "collapsed": false,
    "pycharm": {
     "name": "#%%\n"
    }
   },
   "outputs": [],
   "source": [
    "# Just play around and printing the list of tracks I have on my play list"
   ]
  },
  {
   "cell_type": "code",
   "execution_count": 284,
   "metadata": {
    "collapsed": false,
    "pycharm": {
     "name": "#%%\n"
    }
   },
   "outputs": [
    {
     "name": "stdout",
     "output_type": "stream",
     "text": [
      "سلم يا سلام\n",
      "وليد من الشكرية\n",
      "نادو لي عشاي\n",
      "واثقه في زولي\n",
      "مالو\n",
      "دنيا يا فراقه\n",
      "أنت وأنا\n",
      "دي حفية\n",
      "عسل الجبال\n",
      "الغلط في منو\n",
      "طوالي بعاين ليك\n",
      "الحليون\n",
      "مالك معاي\n"
     ]
    }
   ],
   "source": [
    "for track in sp.playlist_tracks(playlist_URI)[\"items\"]:\n",
    "    #URI\n",
    "    print(track[\"track\"][\"name\"])"
   ]
  },
  {
   "cell_type": "code",
   "execution_count": 285,
   "metadata": {
    "pycharm": {
     "name": "#%%\n"
    }
   },
   "outputs": [
    {
     "name": "stdout",
     "output_type": "stream",
     "text": [
      "سلم يا سلام 220822 ايمان الشريف ['classic sudanese pop'] 27 سلم يا سلام\n",
      "وليد من الشكرية 175124 ايمان الشريف ['classic sudanese pop'] 27 وليد من الشكرية\n",
      "نادو لي عشاي 166112 ايمان الشريف ['classic sudanese pop'] 27 نادو لي عشاي\n",
      "واثقه في زولي 206968 ايمان الشريف ['classic sudanese pop'] 27 واثقه في زولي\n",
      "مالو 201534 ايمان الشريف ['classic sudanese pop'] 27 مالو\n",
      "دنيا يا فراقه 246804 ايمان الشريف ['classic sudanese pop'] 27 دنيا يا فراقه\n",
      "أنت وأنا 255686 ايمان الشريف ['classic sudanese pop'] 27 أنت وأنا\n",
      "دي حفية 185913 ايمان الشريف ['classic sudanese pop'] 27 دي حفية\n",
      "عسل الجبال 263183 ايمان الشريف ['classic sudanese pop'] 27 عسل الجبال\n",
      "الغلط في منو 240143 ايمان الشريف ['classic sudanese pop'] 27 الغلط في منو\n",
      "طوالي بعاين ليك 281991 ايمان الشريف ['classic sudanese pop'] 27 طوالي بعاين ليك\n",
      "الحليون 290272 ايمان الشريف ['classic sudanese pop'] 27 الحليون\n",
      "مالك معاي 208352 ايمان الشريف ['classic sudanese pop'] 27 مالك معاي\n"
     ]
    }
   ],
   "source": [
    "#extracting metadata (artist name, album, song name ...etc)\n",
    "for track in sp.playlist_tracks(playlist_URI)[\"items\"]:\n",
    "    #URI\n",
    "    track_uri = track[\"track\"][\"uri\"]\n",
    "    \n",
    "    #Track name\n",
    "    track_name = track[\"track\"][\"name\"]\n",
    "    \n",
    "    #Main Artist\n",
    "    artist_uri = track[\"track\"][\"artists\"][0][\"uri\"]\n",
    "    artist_info = sp.artist(artist_uri)\n",
    "    \n",
    "    #Name, popularity, genre\n",
    "    artist_name = track[\"track\"][\"artists\"][0][\"name\"]\n",
    "    artist_pop = artist_info[\"popularity\"]\n",
    "    artist_genres = artist_info[\"genres\"]\n",
    "    duration = track[\"track\"][\"duration_ms\"]\n",
    "    \n",
    "    #Album\n",
    "    album = track[\"track\"][\"album\"][\"name\"]\n",
    "    print (track_name,duration, artist_name, artist_genres,artist_pop, album)\n"
   ]
  },
  {
   "cell_type": "code",
   "execution_count": 286,
   "outputs": [
    {
     "data": {
      "text/plain": "                               track_uri       track_name   artist_name  \\\n0   spotify:track:5MCLya9AzV9spNPxxFk7JD      سلم يا سلام  ايمان الشريف   \n1   spotify:track:43tNfS6NwbxWJN7z9GD4Rb  وليد من الشكرية  ايمان الشريف   \n2   spotify:track:1Xv6wXtCnR1sAvC8VbbJcY     نادو لي عشاي  ايمان الشريف   \n3   spotify:track:42xuLrtlrpYkJQUqchohpS    واثقه في زولي  ايمان الشريف   \n4   spotify:track:4JoJdgE7epKuvs7WsJDY6I             مالو  ايمان الشريف   \n5   spotify:track:0SSEa0IWKLELplo55CXoQ5    دنيا يا فراقه  ايمان الشريف   \n6   spotify:track:3Wwc4v2wPDvkUt1TXWsEar         أنت وأنا  ايمان الشريف   \n7   spotify:track:7qVoNwBSwU5irjv3i6eS3T          دي حفية  ايمان الشريف   \n8   spotify:track:2wHWHVH06LHbnvpHABJqYX       عسل الجبال  ايمان الشريف   \n9   spotify:track:7czrAxqbFUiEkNNS8em3J1     الغلط في منو  ايمان الشريف   \n10  spotify:track:7fHcwS55P1GxarnIqRSFcn  طوالي بعاين ليك  ايمان الشريف   \n11  spotify:track:1kmcLB5bjyj5XZoJCK3wdk          الحليون  ايمان الشريف   \n12  spotify:track:7CaEBRhgcyQp6NNtSEeH5w        مالك معاي  ايمان الشريف   \n\n             artist_genres  duration_min            album  \n0   [classic sudanese pop]      3.680367      سلم يا سلام  \n1   [classic sudanese pop]      2.918733  وليد من الشكرية  \n2   [classic sudanese pop]      2.768533     نادو لي عشاي  \n3   [classic sudanese pop]      3.449467    واثقه في زولي  \n4   [classic sudanese pop]      3.358900             مالو  \n5   [classic sudanese pop]      4.113400    دنيا يا فراقه  \n6   [classic sudanese pop]      4.261433         أنت وأنا  \n7   [classic sudanese pop]      3.098550          دي حفية  \n8   [classic sudanese pop]      4.386383       عسل الجبال  \n9   [classic sudanese pop]      4.002383     الغلط في منو  \n10  [classic sudanese pop]      4.699850  طوالي بعاين ليك  \n11  [classic sudanese pop]      4.837867          الحليون  \n12  [classic sudanese pop]      3.472533        مالك معاي  ",
      "text/html": "<div>\n<style scoped>\n    .dataframe tbody tr th:only-of-type {\n        vertical-align: middle;\n    }\n\n    .dataframe tbody tr th {\n        vertical-align: top;\n    }\n\n    .dataframe thead th {\n        text-align: right;\n    }\n</style>\n<table border=\"1\" class=\"dataframe\">\n  <thead>\n    <tr style=\"text-align: right;\">\n      <th></th>\n      <th>track_uri</th>\n      <th>track_name</th>\n      <th>artist_name</th>\n      <th>artist_genres</th>\n      <th>duration_min</th>\n      <th>album</th>\n    </tr>\n  </thead>\n  <tbody>\n    <tr>\n      <th>0</th>\n      <td>spotify:track:5MCLya9AzV9spNPxxFk7JD</td>\n      <td>سلم يا سلام</td>\n      <td>ايمان الشريف</td>\n      <td>[classic sudanese pop]</td>\n      <td>3.680367</td>\n      <td>سلم يا سلام</td>\n    </tr>\n    <tr>\n      <th>1</th>\n      <td>spotify:track:43tNfS6NwbxWJN7z9GD4Rb</td>\n      <td>وليد من الشكرية</td>\n      <td>ايمان الشريف</td>\n      <td>[classic sudanese pop]</td>\n      <td>2.918733</td>\n      <td>وليد من الشكرية</td>\n    </tr>\n    <tr>\n      <th>2</th>\n      <td>spotify:track:1Xv6wXtCnR1sAvC8VbbJcY</td>\n      <td>نادو لي عشاي</td>\n      <td>ايمان الشريف</td>\n      <td>[classic sudanese pop]</td>\n      <td>2.768533</td>\n      <td>نادو لي عشاي</td>\n    </tr>\n    <tr>\n      <th>3</th>\n      <td>spotify:track:42xuLrtlrpYkJQUqchohpS</td>\n      <td>واثقه في زولي</td>\n      <td>ايمان الشريف</td>\n      <td>[classic sudanese pop]</td>\n      <td>3.449467</td>\n      <td>واثقه في زولي</td>\n    </tr>\n    <tr>\n      <th>4</th>\n      <td>spotify:track:4JoJdgE7epKuvs7WsJDY6I</td>\n      <td>مالو</td>\n      <td>ايمان الشريف</td>\n      <td>[classic sudanese pop]</td>\n      <td>3.358900</td>\n      <td>مالو</td>\n    </tr>\n    <tr>\n      <th>5</th>\n      <td>spotify:track:0SSEa0IWKLELplo55CXoQ5</td>\n      <td>دنيا يا فراقه</td>\n      <td>ايمان الشريف</td>\n      <td>[classic sudanese pop]</td>\n      <td>4.113400</td>\n      <td>دنيا يا فراقه</td>\n    </tr>\n    <tr>\n      <th>6</th>\n      <td>spotify:track:3Wwc4v2wPDvkUt1TXWsEar</td>\n      <td>أنت وأنا</td>\n      <td>ايمان الشريف</td>\n      <td>[classic sudanese pop]</td>\n      <td>4.261433</td>\n      <td>أنت وأنا</td>\n    </tr>\n    <tr>\n      <th>7</th>\n      <td>spotify:track:7qVoNwBSwU5irjv3i6eS3T</td>\n      <td>دي حفية</td>\n      <td>ايمان الشريف</td>\n      <td>[classic sudanese pop]</td>\n      <td>3.098550</td>\n      <td>دي حفية</td>\n    </tr>\n    <tr>\n      <th>8</th>\n      <td>spotify:track:2wHWHVH06LHbnvpHABJqYX</td>\n      <td>عسل الجبال</td>\n      <td>ايمان الشريف</td>\n      <td>[classic sudanese pop]</td>\n      <td>4.386383</td>\n      <td>عسل الجبال</td>\n    </tr>\n    <tr>\n      <th>9</th>\n      <td>spotify:track:7czrAxqbFUiEkNNS8em3J1</td>\n      <td>الغلط في منو</td>\n      <td>ايمان الشريف</td>\n      <td>[classic sudanese pop]</td>\n      <td>4.002383</td>\n      <td>الغلط في منو</td>\n    </tr>\n    <tr>\n      <th>10</th>\n      <td>spotify:track:7fHcwS55P1GxarnIqRSFcn</td>\n      <td>طوالي بعاين ليك</td>\n      <td>ايمان الشريف</td>\n      <td>[classic sudanese pop]</td>\n      <td>4.699850</td>\n      <td>طوالي بعاين ليك</td>\n    </tr>\n    <tr>\n      <th>11</th>\n      <td>spotify:track:1kmcLB5bjyj5XZoJCK3wdk</td>\n      <td>الحليون</td>\n      <td>ايمان الشريف</td>\n      <td>[classic sudanese pop]</td>\n      <td>4.837867</td>\n      <td>الحليون</td>\n    </tr>\n    <tr>\n      <th>12</th>\n      <td>spotify:track:7CaEBRhgcyQp6NNtSEeH5w</td>\n      <td>مالك معاي</td>\n      <td>ايمان الشريف</td>\n      <td>[classic sudanese pop]</td>\n      <td>3.472533</td>\n      <td>مالك معاي</td>\n    </tr>\n  </tbody>\n</table>\n</div>"
     },
     "execution_count": 286,
     "metadata": {},
     "output_type": "execute_result"
    }
   ],
   "source": [
    "# Extracting basic tracks information (Name, Artist, Duration and Album)\n",
    "trid=[]\n",
    "trnm=[]\n",
    "arnm=[]\n",
    "arge=[]\n",
    "du=[]\n",
    "alb=[]\n",
    "\n",
    "for track in sp.playlist_tracks(playlist_URI)[\"items\"]:\n",
    "    trid.append(track[\"track\"][\"uri\"])\n",
    "    trnm.append(track[\"track\"][\"name\"])\n",
    "    #Name, popularity, genre\n",
    "    arnm.append(track[\"track\"][\"artists\"][0][\"name\"])\n",
    "    arge.append(artist_info[\"genres\"])\n",
    "    du.append(track[\"track\"][\"duration_ms\"]/60000)\n",
    "    #Album\n",
    "    alb.append(track[\"track\"][\"album\"][\"name\"])\n",
    "\n",
    "dic1={\"track_uri\":trid,\"track_name\":trnm,\"artist_name\":arnm,\"artist_genres\":arge,\"duration_min\":du,\"album\":alb}\n",
    "df1=pd.DataFrame(dic1)\n",
    "df1"
   ],
   "metadata": {
    "collapsed": false,
    "pycharm": {
     "name": "#%%\n"
    }
   }
  },
  {
   "cell_type": "code",
   "execution_count": 287,
   "metadata": {
    "pycharm": {
     "name": "#%%\n"
    }
   },
   "outputs": [
    {
     "data": {
      "text/plain": "                        id  danceability  energy  loudness  mode  speechiness  \\\n0   5MCLya9AzV9spNPxxFk7JD         0.689   0.698    -5.818     1       0.1070   \n1   43tNfS6NwbxWJN7z9GD4Rb         0.741   0.665    -3.923     1       0.0879   \n2   1Xv6wXtCnR1sAvC8VbbJcY         0.668   0.803    -2.773     1       0.0970   \n3   42xuLrtlrpYkJQUqchohpS         0.726   0.720    -6.761     0       0.1250   \n4   4JoJdgE7epKuvs7WsJDY6I         0.709   0.688    -5.910     1       0.0421   \n5   0SSEa0IWKLELplo55CXoQ5         0.723   0.697    -4.283     1       0.0513   \n6   3Wwc4v2wPDvkUt1TXWsEar         0.756   0.779    -3.706     1       0.0529   \n7   7qVoNwBSwU5irjv3i6eS3T         0.798   0.724    -4.702     1       0.2260   \n8   2wHWHVH06LHbnvpHABJqYX         0.835   0.536    -7.631     0       0.1930   \n9   7czrAxqbFUiEkNNS8em3J1         0.822   0.726    -4.689     0       0.0324   \n10  7fHcwS55P1GxarnIqRSFcn         0.613   0.801    -3.009     1       0.0768   \n11  1kmcLB5bjyj5XZoJCK3wdk         0.744   0.620    -6.581     1       0.1500   \n12  7CaEBRhgcyQp6NNtSEeH5w         0.447   0.371   -20.835     1       0.0562   \n\n    acousticness  instrumentalness  liveness  valence    tempo  time_signature  \n0         0.0656          0.000005    0.0544    0.909  159.888               4  \n1         0.3110          0.000000    0.0860    0.941  140.010               4  \n2         0.1550          0.000000    0.0571    0.884  155.004               4  \n3         0.1200          0.000002    0.0296    0.967  154.610               3  \n4         0.2490          0.000098    0.1930    0.694  135.026               3  \n5         0.3950          0.000000    0.1170    0.795  119.976               4  \n6         0.1400          0.000000    0.0786    0.850  135.004               3  \n7         0.5670          0.000000    0.0860    0.750  138.048               4  \n8         0.4440          0.000000    0.0599    0.929  135.003               4  \n9         0.6280          0.000000    0.0611    0.944  124.549               3  \n10        0.1400          0.000000    0.0339    0.888  169.843               4  \n11        0.4230          0.000000    0.0474    0.872  140.888               3  \n12        0.6320          0.000017    0.2470    0.739  161.472               1  ",
      "text/html": "<div>\n<style scoped>\n    .dataframe tbody tr th:only-of-type {\n        vertical-align: middle;\n    }\n\n    .dataframe tbody tr th {\n        vertical-align: top;\n    }\n\n    .dataframe thead th {\n        text-align: right;\n    }\n</style>\n<table border=\"1\" class=\"dataframe\">\n  <thead>\n    <tr style=\"text-align: right;\">\n      <th></th>\n      <th>id</th>\n      <th>danceability</th>\n      <th>energy</th>\n      <th>loudness</th>\n      <th>mode</th>\n      <th>speechiness</th>\n      <th>acousticness</th>\n      <th>instrumentalness</th>\n      <th>liveness</th>\n      <th>valence</th>\n      <th>tempo</th>\n      <th>time_signature</th>\n    </tr>\n  </thead>\n  <tbody>\n    <tr>\n      <th>0</th>\n      <td>5MCLya9AzV9spNPxxFk7JD</td>\n      <td>0.689</td>\n      <td>0.698</td>\n      <td>-5.818</td>\n      <td>1</td>\n      <td>0.1070</td>\n      <td>0.0656</td>\n      <td>0.000005</td>\n      <td>0.0544</td>\n      <td>0.909</td>\n      <td>159.888</td>\n      <td>4</td>\n    </tr>\n    <tr>\n      <th>1</th>\n      <td>43tNfS6NwbxWJN7z9GD4Rb</td>\n      <td>0.741</td>\n      <td>0.665</td>\n      <td>-3.923</td>\n      <td>1</td>\n      <td>0.0879</td>\n      <td>0.3110</td>\n      <td>0.000000</td>\n      <td>0.0860</td>\n      <td>0.941</td>\n      <td>140.010</td>\n      <td>4</td>\n    </tr>\n    <tr>\n      <th>2</th>\n      <td>1Xv6wXtCnR1sAvC8VbbJcY</td>\n      <td>0.668</td>\n      <td>0.803</td>\n      <td>-2.773</td>\n      <td>1</td>\n      <td>0.0970</td>\n      <td>0.1550</td>\n      <td>0.000000</td>\n      <td>0.0571</td>\n      <td>0.884</td>\n      <td>155.004</td>\n      <td>4</td>\n    </tr>\n    <tr>\n      <th>3</th>\n      <td>42xuLrtlrpYkJQUqchohpS</td>\n      <td>0.726</td>\n      <td>0.720</td>\n      <td>-6.761</td>\n      <td>0</td>\n      <td>0.1250</td>\n      <td>0.1200</td>\n      <td>0.000002</td>\n      <td>0.0296</td>\n      <td>0.967</td>\n      <td>154.610</td>\n      <td>3</td>\n    </tr>\n    <tr>\n      <th>4</th>\n      <td>4JoJdgE7epKuvs7WsJDY6I</td>\n      <td>0.709</td>\n      <td>0.688</td>\n      <td>-5.910</td>\n      <td>1</td>\n      <td>0.0421</td>\n      <td>0.2490</td>\n      <td>0.000098</td>\n      <td>0.1930</td>\n      <td>0.694</td>\n      <td>135.026</td>\n      <td>3</td>\n    </tr>\n    <tr>\n      <th>5</th>\n      <td>0SSEa0IWKLELplo55CXoQ5</td>\n      <td>0.723</td>\n      <td>0.697</td>\n      <td>-4.283</td>\n      <td>1</td>\n      <td>0.0513</td>\n      <td>0.3950</td>\n      <td>0.000000</td>\n      <td>0.1170</td>\n      <td>0.795</td>\n      <td>119.976</td>\n      <td>4</td>\n    </tr>\n    <tr>\n      <th>6</th>\n      <td>3Wwc4v2wPDvkUt1TXWsEar</td>\n      <td>0.756</td>\n      <td>0.779</td>\n      <td>-3.706</td>\n      <td>1</td>\n      <td>0.0529</td>\n      <td>0.1400</td>\n      <td>0.000000</td>\n      <td>0.0786</td>\n      <td>0.850</td>\n      <td>135.004</td>\n      <td>3</td>\n    </tr>\n    <tr>\n      <th>7</th>\n      <td>7qVoNwBSwU5irjv3i6eS3T</td>\n      <td>0.798</td>\n      <td>0.724</td>\n      <td>-4.702</td>\n      <td>1</td>\n      <td>0.2260</td>\n      <td>0.5670</td>\n      <td>0.000000</td>\n      <td>0.0860</td>\n      <td>0.750</td>\n      <td>138.048</td>\n      <td>4</td>\n    </tr>\n    <tr>\n      <th>8</th>\n      <td>2wHWHVH06LHbnvpHABJqYX</td>\n      <td>0.835</td>\n      <td>0.536</td>\n      <td>-7.631</td>\n      <td>0</td>\n      <td>0.1930</td>\n      <td>0.4440</td>\n      <td>0.000000</td>\n      <td>0.0599</td>\n      <td>0.929</td>\n      <td>135.003</td>\n      <td>4</td>\n    </tr>\n    <tr>\n      <th>9</th>\n      <td>7czrAxqbFUiEkNNS8em3J1</td>\n      <td>0.822</td>\n      <td>0.726</td>\n      <td>-4.689</td>\n      <td>0</td>\n      <td>0.0324</td>\n      <td>0.6280</td>\n      <td>0.000000</td>\n      <td>0.0611</td>\n      <td>0.944</td>\n      <td>124.549</td>\n      <td>3</td>\n    </tr>\n    <tr>\n      <th>10</th>\n      <td>7fHcwS55P1GxarnIqRSFcn</td>\n      <td>0.613</td>\n      <td>0.801</td>\n      <td>-3.009</td>\n      <td>1</td>\n      <td>0.0768</td>\n      <td>0.1400</td>\n      <td>0.000000</td>\n      <td>0.0339</td>\n      <td>0.888</td>\n      <td>169.843</td>\n      <td>4</td>\n    </tr>\n    <tr>\n      <th>11</th>\n      <td>1kmcLB5bjyj5XZoJCK3wdk</td>\n      <td>0.744</td>\n      <td>0.620</td>\n      <td>-6.581</td>\n      <td>1</td>\n      <td>0.1500</td>\n      <td>0.4230</td>\n      <td>0.000000</td>\n      <td>0.0474</td>\n      <td>0.872</td>\n      <td>140.888</td>\n      <td>3</td>\n    </tr>\n    <tr>\n      <th>12</th>\n      <td>7CaEBRhgcyQp6NNtSEeH5w</td>\n      <td>0.447</td>\n      <td>0.371</td>\n      <td>-20.835</td>\n      <td>1</td>\n      <td>0.0562</td>\n      <td>0.6320</td>\n      <td>0.000017</td>\n      <td>0.2470</td>\n      <td>0.739</td>\n      <td>161.472</td>\n      <td>1</td>\n    </tr>\n  </tbody>\n</table>\n</div>"
     },
     "execution_count": 287,
     "metadata": {},
     "output_type": "execute_result"
    }
   ],
   "source": [
    "# Extracting music features (Dancability, mode, ect...)\n",
    "trid2=[]\n",
    "trda=[]\n",
    "tren=[]\n",
    "trlo=[]\n",
    "trmo=[]\n",
    "trsp=[]\n",
    "trac=[]\n",
    "trin=[]\n",
    "trli=[]\n",
    "trva=[]\n",
    "trte=[]\n",
    "trti=[]\n",
    "\n",
    "for i in range(0,trid.__len__()):\n",
    "    trid2.append((sp.audio_features(track_uris)[i][\"id\"]))\n",
    "    trda.append((sp.audio_features(track_uris)[i][\"danceability\"]))\n",
    "    tren.append((sp.audio_features(track_uris)[i][\"energy\"]))\n",
    "    trlo.append((sp.audio_features(track_uris)[i][\"loudness\"]))\n",
    "    trmo.append((sp.audio_features(track_uris)[i][\"mode\"]))\n",
    "    trsp.append((sp.audio_features(track_uris)[i][\"speechiness\"]))\n",
    "    trac.append((sp.audio_features(track_uris)[i][\"acousticness\"]))\n",
    "    trin.append((sp.audio_features(track_uris)[i][\"instrumentalness\"]))\n",
    "    trli.append((sp.audio_features(track_uris)[i][\"liveness\"]))\n",
    "    trva.append((sp.audio_features(track_uris)[i][\"valence\"]))\n",
    "    trte.append((sp.audio_features(track_uris)[i][\"tempo\"]))\n",
    "    trti.append((sp.audio_features(track_uris)[i][\"time_signature\"]))\n",
    "dic2={\"id\":trid2,\"danceability\":trda,\"energy\":tren,\"loudness\":trlo,\"mode\":trmo,\"speechiness\":trsp,\"acousticness\":trac,\"instrumentalness\":trin,\"liveness\":trli,\n",
    "      \"valence\":trva,\"tempo\":trte,\"time_signature\":trti}\n",
    "df2=pd.DataFrame(dic2)\n",
    "df2\n"
   ]
  },
  {
   "cell_type": "code",
   "execution_count": 288,
   "outputs": [
    {
     "data": {
      "text/plain": "                               track_uri       track_name   artist_name  \\\n0   spotify:track:5MCLya9AzV9spNPxxFk7JD      سلم يا سلام  ايمان الشريف   \n1   spotify:track:43tNfS6NwbxWJN7z9GD4Rb  وليد من الشكرية  ايمان الشريف   \n2   spotify:track:1Xv6wXtCnR1sAvC8VbbJcY     نادو لي عشاي  ايمان الشريف   \n3   spotify:track:42xuLrtlrpYkJQUqchohpS    واثقه في زولي  ايمان الشريف   \n4   spotify:track:4JoJdgE7epKuvs7WsJDY6I             مالو  ايمان الشريف   \n5   spotify:track:0SSEa0IWKLELplo55CXoQ5    دنيا يا فراقه  ايمان الشريف   \n6   spotify:track:3Wwc4v2wPDvkUt1TXWsEar         أنت وأنا  ايمان الشريف   \n7   spotify:track:7qVoNwBSwU5irjv3i6eS3T          دي حفية  ايمان الشريف   \n8   spotify:track:2wHWHVH06LHbnvpHABJqYX       عسل الجبال  ايمان الشريف   \n9   spotify:track:7czrAxqbFUiEkNNS8em3J1     الغلط في منو  ايمان الشريف   \n10  spotify:track:7fHcwS55P1GxarnIqRSFcn  طوالي بعاين ليك  ايمان الشريف   \n11  spotify:track:1kmcLB5bjyj5XZoJCK3wdk          الحليون  ايمان الشريف   \n12  spotify:track:7CaEBRhgcyQp6NNtSEeH5w        مالك معاي  ايمان الشريف   \n\n             artist_genres  duration_min            album  \\\n0   [classic sudanese pop]      3.680367      سلم يا سلام   \n1   [classic sudanese pop]      2.918733  وليد من الشكرية   \n2   [classic sudanese pop]      2.768533     نادو لي عشاي   \n3   [classic sudanese pop]      3.449467    واثقه في زولي   \n4   [classic sudanese pop]      3.358900             مالو   \n5   [classic sudanese pop]      4.113400    دنيا يا فراقه   \n6   [classic sudanese pop]      4.261433         أنت وأنا   \n7   [classic sudanese pop]      3.098550          دي حفية   \n8   [classic sudanese pop]      4.386383       عسل الجبال   \n9   [classic sudanese pop]      4.002383     الغلط في منو   \n10  [classic sudanese pop]      4.699850  طوالي بعاين ليك   \n11  [classic sudanese pop]      4.837867          الحليون   \n12  [classic sudanese pop]      3.472533        مالك معاي   \n\n                        id  danceability  energy  loudness  mode  speechiness  \\\n0   5MCLya9AzV9spNPxxFk7JD         0.689   0.698    -5.818     1       0.1070   \n1   43tNfS6NwbxWJN7z9GD4Rb         0.741   0.665    -3.923     1       0.0879   \n2   1Xv6wXtCnR1sAvC8VbbJcY         0.668   0.803    -2.773     1       0.0970   \n3   42xuLrtlrpYkJQUqchohpS         0.726   0.720    -6.761     0       0.1250   \n4   4JoJdgE7epKuvs7WsJDY6I         0.709   0.688    -5.910     1       0.0421   \n5   0SSEa0IWKLELplo55CXoQ5         0.723   0.697    -4.283     1       0.0513   \n6   3Wwc4v2wPDvkUt1TXWsEar         0.756   0.779    -3.706     1       0.0529   \n7   7qVoNwBSwU5irjv3i6eS3T         0.798   0.724    -4.702     1       0.2260   \n8   2wHWHVH06LHbnvpHABJqYX         0.835   0.536    -7.631     0       0.1930   \n9   7czrAxqbFUiEkNNS8em3J1         0.822   0.726    -4.689     0       0.0324   \n10  7fHcwS55P1GxarnIqRSFcn         0.613   0.801    -3.009     1       0.0768   \n11  1kmcLB5bjyj5XZoJCK3wdk         0.744   0.620    -6.581     1       0.1500   \n12  7CaEBRhgcyQp6NNtSEeH5w         0.447   0.371   -20.835     1       0.0562   \n\n    acousticness  instrumentalness  liveness  valence    tempo  time_signature  \n0         0.0656          0.000005    0.0544    0.909  159.888               4  \n1         0.3110          0.000000    0.0860    0.941  140.010               4  \n2         0.1550          0.000000    0.0571    0.884  155.004               4  \n3         0.1200          0.000002    0.0296    0.967  154.610               3  \n4         0.2490          0.000098    0.1930    0.694  135.026               3  \n5         0.3950          0.000000    0.1170    0.795  119.976               4  \n6         0.1400          0.000000    0.0786    0.850  135.004               3  \n7         0.5670          0.000000    0.0860    0.750  138.048               4  \n8         0.4440          0.000000    0.0599    0.929  135.003               4  \n9         0.6280          0.000000    0.0611    0.944  124.549               3  \n10        0.1400          0.000000    0.0339    0.888  169.843               4  \n11        0.4230          0.000000    0.0474    0.872  140.888               3  \n12        0.6320          0.000017    0.2470    0.739  161.472               1  ",
      "text/html": "<div>\n<style scoped>\n    .dataframe tbody tr th:only-of-type {\n        vertical-align: middle;\n    }\n\n    .dataframe tbody tr th {\n        vertical-align: top;\n    }\n\n    .dataframe thead th {\n        text-align: right;\n    }\n</style>\n<table border=\"1\" class=\"dataframe\">\n  <thead>\n    <tr style=\"text-align: right;\">\n      <th></th>\n      <th>track_uri</th>\n      <th>track_name</th>\n      <th>artist_name</th>\n      <th>artist_genres</th>\n      <th>duration_min</th>\n      <th>album</th>\n      <th>id</th>\n      <th>danceability</th>\n      <th>energy</th>\n      <th>loudness</th>\n      <th>mode</th>\n      <th>speechiness</th>\n      <th>acousticness</th>\n      <th>instrumentalness</th>\n      <th>liveness</th>\n      <th>valence</th>\n      <th>tempo</th>\n      <th>time_signature</th>\n    </tr>\n  </thead>\n  <tbody>\n    <tr>\n      <th>0</th>\n      <td>spotify:track:5MCLya9AzV9spNPxxFk7JD</td>\n      <td>سلم يا سلام</td>\n      <td>ايمان الشريف</td>\n      <td>[classic sudanese pop]</td>\n      <td>3.680367</td>\n      <td>سلم يا سلام</td>\n      <td>5MCLya9AzV9spNPxxFk7JD</td>\n      <td>0.689</td>\n      <td>0.698</td>\n      <td>-5.818</td>\n      <td>1</td>\n      <td>0.1070</td>\n      <td>0.0656</td>\n      <td>0.000005</td>\n      <td>0.0544</td>\n      <td>0.909</td>\n      <td>159.888</td>\n      <td>4</td>\n    </tr>\n    <tr>\n      <th>1</th>\n      <td>spotify:track:43tNfS6NwbxWJN7z9GD4Rb</td>\n      <td>وليد من الشكرية</td>\n      <td>ايمان الشريف</td>\n      <td>[classic sudanese pop]</td>\n      <td>2.918733</td>\n      <td>وليد من الشكرية</td>\n      <td>43tNfS6NwbxWJN7z9GD4Rb</td>\n      <td>0.741</td>\n      <td>0.665</td>\n      <td>-3.923</td>\n      <td>1</td>\n      <td>0.0879</td>\n      <td>0.3110</td>\n      <td>0.000000</td>\n      <td>0.0860</td>\n      <td>0.941</td>\n      <td>140.010</td>\n      <td>4</td>\n    </tr>\n    <tr>\n      <th>2</th>\n      <td>spotify:track:1Xv6wXtCnR1sAvC8VbbJcY</td>\n      <td>نادو لي عشاي</td>\n      <td>ايمان الشريف</td>\n      <td>[classic sudanese pop]</td>\n      <td>2.768533</td>\n      <td>نادو لي عشاي</td>\n      <td>1Xv6wXtCnR1sAvC8VbbJcY</td>\n      <td>0.668</td>\n      <td>0.803</td>\n      <td>-2.773</td>\n      <td>1</td>\n      <td>0.0970</td>\n      <td>0.1550</td>\n      <td>0.000000</td>\n      <td>0.0571</td>\n      <td>0.884</td>\n      <td>155.004</td>\n      <td>4</td>\n    </tr>\n    <tr>\n      <th>3</th>\n      <td>spotify:track:42xuLrtlrpYkJQUqchohpS</td>\n      <td>واثقه في زولي</td>\n      <td>ايمان الشريف</td>\n      <td>[classic sudanese pop]</td>\n      <td>3.449467</td>\n      <td>واثقه في زولي</td>\n      <td>42xuLrtlrpYkJQUqchohpS</td>\n      <td>0.726</td>\n      <td>0.720</td>\n      <td>-6.761</td>\n      <td>0</td>\n      <td>0.1250</td>\n      <td>0.1200</td>\n      <td>0.000002</td>\n      <td>0.0296</td>\n      <td>0.967</td>\n      <td>154.610</td>\n      <td>3</td>\n    </tr>\n    <tr>\n      <th>4</th>\n      <td>spotify:track:4JoJdgE7epKuvs7WsJDY6I</td>\n      <td>مالو</td>\n      <td>ايمان الشريف</td>\n      <td>[classic sudanese pop]</td>\n      <td>3.358900</td>\n      <td>مالو</td>\n      <td>4JoJdgE7epKuvs7WsJDY6I</td>\n      <td>0.709</td>\n      <td>0.688</td>\n      <td>-5.910</td>\n      <td>1</td>\n      <td>0.0421</td>\n      <td>0.2490</td>\n      <td>0.000098</td>\n      <td>0.1930</td>\n      <td>0.694</td>\n      <td>135.026</td>\n      <td>3</td>\n    </tr>\n    <tr>\n      <th>5</th>\n      <td>spotify:track:0SSEa0IWKLELplo55CXoQ5</td>\n      <td>دنيا يا فراقه</td>\n      <td>ايمان الشريف</td>\n      <td>[classic sudanese pop]</td>\n      <td>4.113400</td>\n      <td>دنيا يا فراقه</td>\n      <td>0SSEa0IWKLELplo55CXoQ5</td>\n      <td>0.723</td>\n      <td>0.697</td>\n      <td>-4.283</td>\n      <td>1</td>\n      <td>0.0513</td>\n      <td>0.3950</td>\n      <td>0.000000</td>\n      <td>0.1170</td>\n      <td>0.795</td>\n      <td>119.976</td>\n      <td>4</td>\n    </tr>\n    <tr>\n      <th>6</th>\n      <td>spotify:track:3Wwc4v2wPDvkUt1TXWsEar</td>\n      <td>أنت وأنا</td>\n      <td>ايمان الشريف</td>\n      <td>[classic sudanese pop]</td>\n      <td>4.261433</td>\n      <td>أنت وأنا</td>\n      <td>3Wwc4v2wPDvkUt1TXWsEar</td>\n      <td>0.756</td>\n      <td>0.779</td>\n      <td>-3.706</td>\n      <td>1</td>\n      <td>0.0529</td>\n      <td>0.1400</td>\n      <td>0.000000</td>\n      <td>0.0786</td>\n      <td>0.850</td>\n      <td>135.004</td>\n      <td>3</td>\n    </tr>\n    <tr>\n      <th>7</th>\n      <td>spotify:track:7qVoNwBSwU5irjv3i6eS3T</td>\n      <td>دي حفية</td>\n      <td>ايمان الشريف</td>\n      <td>[classic sudanese pop]</td>\n      <td>3.098550</td>\n      <td>دي حفية</td>\n      <td>7qVoNwBSwU5irjv3i6eS3T</td>\n      <td>0.798</td>\n      <td>0.724</td>\n      <td>-4.702</td>\n      <td>1</td>\n      <td>0.2260</td>\n      <td>0.5670</td>\n      <td>0.000000</td>\n      <td>0.0860</td>\n      <td>0.750</td>\n      <td>138.048</td>\n      <td>4</td>\n    </tr>\n    <tr>\n      <th>8</th>\n      <td>spotify:track:2wHWHVH06LHbnvpHABJqYX</td>\n      <td>عسل الجبال</td>\n      <td>ايمان الشريف</td>\n      <td>[classic sudanese pop]</td>\n      <td>4.386383</td>\n      <td>عسل الجبال</td>\n      <td>2wHWHVH06LHbnvpHABJqYX</td>\n      <td>0.835</td>\n      <td>0.536</td>\n      <td>-7.631</td>\n      <td>0</td>\n      <td>0.1930</td>\n      <td>0.4440</td>\n      <td>0.000000</td>\n      <td>0.0599</td>\n      <td>0.929</td>\n      <td>135.003</td>\n      <td>4</td>\n    </tr>\n    <tr>\n      <th>9</th>\n      <td>spotify:track:7czrAxqbFUiEkNNS8em3J1</td>\n      <td>الغلط في منو</td>\n      <td>ايمان الشريف</td>\n      <td>[classic sudanese pop]</td>\n      <td>4.002383</td>\n      <td>الغلط في منو</td>\n      <td>7czrAxqbFUiEkNNS8em3J1</td>\n      <td>0.822</td>\n      <td>0.726</td>\n      <td>-4.689</td>\n      <td>0</td>\n      <td>0.0324</td>\n      <td>0.6280</td>\n      <td>0.000000</td>\n      <td>0.0611</td>\n      <td>0.944</td>\n      <td>124.549</td>\n      <td>3</td>\n    </tr>\n    <tr>\n      <th>10</th>\n      <td>spotify:track:7fHcwS55P1GxarnIqRSFcn</td>\n      <td>طوالي بعاين ليك</td>\n      <td>ايمان الشريف</td>\n      <td>[classic sudanese pop]</td>\n      <td>4.699850</td>\n      <td>طوالي بعاين ليك</td>\n      <td>7fHcwS55P1GxarnIqRSFcn</td>\n      <td>0.613</td>\n      <td>0.801</td>\n      <td>-3.009</td>\n      <td>1</td>\n      <td>0.0768</td>\n      <td>0.1400</td>\n      <td>0.000000</td>\n      <td>0.0339</td>\n      <td>0.888</td>\n      <td>169.843</td>\n      <td>4</td>\n    </tr>\n    <tr>\n      <th>11</th>\n      <td>spotify:track:1kmcLB5bjyj5XZoJCK3wdk</td>\n      <td>الحليون</td>\n      <td>ايمان الشريف</td>\n      <td>[classic sudanese pop]</td>\n      <td>4.837867</td>\n      <td>الحليون</td>\n      <td>1kmcLB5bjyj5XZoJCK3wdk</td>\n      <td>0.744</td>\n      <td>0.620</td>\n      <td>-6.581</td>\n      <td>1</td>\n      <td>0.1500</td>\n      <td>0.4230</td>\n      <td>0.000000</td>\n      <td>0.0474</td>\n      <td>0.872</td>\n      <td>140.888</td>\n      <td>3</td>\n    </tr>\n    <tr>\n      <th>12</th>\n      <td>spotify:track:7CaEBRhgcyQp6NNtSEeH5w</td>\n      <td>مالك معاي</td>\n      <td>ايمان الشريف</td>\n      <td>[classic sudanese pop]</td>\n      <td>3.472533</td>\n      <td>مالك معاي</td>\n      <td>7CaEBRhgcyQp6NNtSEeH5w</td>\n      <td>0.447</td>\n      <td>0.371</td>\n      <td>-20.835</td>\n      <td>1</td>\n      <td>0.0562</td>\n      <td>0.6320</td>\n      <td>0.000017</td>\n      <td>0.2470</td>\n      <td>0.739</td>\n      <td>161.472</td>\n      <td>1</td>\n    </tr>\n  </tbody>\n</table>\n</div>"
     },
     "execution_count": 288,
     "metadata": {},
     "output_type": "execute_result"
    }
   ],
   "source": [
    "#Compainging two data sets in one data frame\n",
    "res=pd.concat([df1,df2],axis=1)\n",
    "res"
   ],
   "metadata": {
    "collapsed": false,
    "pycharm": {
     "name": "#%%\n"
    }
   }
  },
  {
   "cell_type": "markdown",
   "source": [
    "# Simple data vis to understand the dataset"
   ],
   "metadata": {
    "collapsed": false,
    "pycharm": {
     "name": "#%% md\n"
    }
   }
  },
  {
   "cell_type": "code",
   "execution_count": 289,
   "outputs": [
    {
     "name": "stdout",
     "output_type": "stream",
     "text": [
      "       duration_min  danceability     energy   loudness       mode  \\\n",
      "count     13.000000     13.000000  13.000000  13.000000  13.000000   \n",
      "mean       3.772954      0.713154   0.679077  -6.201615   0.769231   \n",
      "std        0.667390      0.100509   0.117591   4.640891   0.438529   \n",
      "min        2.768533      0.447000   0.371000 -20.835000   0.000000   \n",
      "25%        3.358900      0.689000   0.665000  -6.581000   1.000000   \n",
      "50%        3.680367      0.726000   0.698000  -4.702000   1.000000   \n",
      "75%        4.261433      0.756000   0.726000  -3.923000   1.000000   \n",
      "max        4.837867      0.835000   0.803000  -2.773000   1.000000   \n",
      "\n",
      "       speechiness  acousticness  instrumentalness   liveness    valence  \\\n",
      "count    13.000000     13.000000         13.000000  13.000000  13.000000   \n",
      "mean      0.099815      0.328431          0.000009   0.088538   0.858615   \n",
      "std       0.059738      0.201198          0.000027   0.063785   0.087716   \n",
      "min       0.032400      0.065600          0.000000   0.029600   0.694000   \n",
      "25%       0.052900      0.140000          0.000000   0.054400   0.795000   \n",
      "50%       0.087900      0.311000          0.000000   0.061100   0.884000   \n",
      "75%       0.125000      0.444000          0.000002   0.086000   0.929000   \n",
      "max       0.226000      0.632000          0.000098   0.247000   0.967000   \n",
      "\n",
      "            tempo  time_signature  \n",
      "count   13.000000       13.000000  \n",
      "mean   143.793923        3.384615  \n",
      "std     15.048808        0.869718  \n",
      "min    119.976000        1.000000  \n",
      "25%    135.004000        3.000000  \n",
      "50%    140.010000        4.000000  \n",
      "75%    155.004000        4.000000  \n",
      "max    169.843000        4.000000  \n"
     ]
    }
   ],
   "source": [
    "print(res.describe())"
   ],
   "metadata": {
    "collapsed": false,
    "pycharm": {
     "name": "#%%\n"
    }
   }
  },
  {
   "cell_type": "markdown",
   "source": [
    "Investigating Songs basic features scale 0-1"
   ],
   "metadata": {
    "collapsed": false,
    "pycharm": {
     "name": "#%% md\n"
    }
   }
  },
  {
   "cell_type": "code",
   "execution_count": 311,
   "outputs": [
    {
     "name": "stdout",
     "output_type": "stream",
     "text": [
      "                    danceability  energy  speechiness  acousticness  liveness  \\\n",
      "(سلم يا سلام,)             0.689   0.698       0.1070        0.0656    0.0544   \n",
      "(وليد من الشكرية,)         0.741   0.665       0.0879        0.3110    0.0860   \n",
      "(نادو لي عشاي,)            0.668   0.803       0.0970        0.1550    0.0571   \n",
      "(واثقه في زولي,)           0.726   0.720       0.1250        0.1200    0.0296   \n",
      "(مالو,)                    0.709   0.688       0.0421        0.2490    0.1930   \n",
      "(دنيا يا فراقه,)           0.723   0.697       0.0513        0.3950    0.1170   \n",
      "(أنت وأنا,)                0.756   0.779       0.0529        0.1400    0.0786   \n",
      "(دي حفية,)                 0.798   0.724       0.2260        0.5670    0.0860   \n",
      "(عسل الجبال,)              0.835   0.536       0.1930        0.4440    0.0599   \n",
      "(الغلط في منو,)            0.822   0.726       0.0324        0.6280    0.0611   \n",
      "(طوالي بعاين ليك,)         0.613   0.801       0.0768        0.1400    0.0339   \n",
      "(الحليون,)                 0.744   0.620       0.1500        0.4230    0.0474   \n",
      "(مالك معاي,)               0.447   0.371       0.0562        0.6320    0.2470   \n",
      "\n",
      "                    valence  \n",
      "(سلم يا سلام,)        0.909  \n",
      "(وليد من الشكرية,)    0.941  \n",
      "(نادو لي عشاي,)       0.884  \n",
      "(واثقه في زولي,)      0.967  \n",
      "(مالو,)               0.694  \n",
      "(دنيا يا فراقه,)      0.795  \n",
      "(أنت وأنا,)           0.850  \n",
      "(دي حفية,)            0.750  \n",
      "(عسل الجبال,)         0.929  \n",
      "(الغلط في منو,)       0.944  \n",
      "(طوالي بعاين ليك,)    0.888  \n",
      "(الحليون,)            0.872  \n",
      "(مالك معاي,)          0.739  \n"
     ]
    }
   ],
   "source": [
    "hma=res[[\"track_name\",\"danceability\",\"energy\",\"speechiness\",\"acousticness\",\"liveness\",\"valence\"]]\n",
    "hma.index=hma[[\"track_name\"]]\n",
    "hmap=hma[[\"danceability\",\"energy\",\"speechiness\",\"acousticness\",\"liveness\",\"valence\"]]\n",
    "print(hmap)"
   ],
   "metadata": {
    "collapsed": false,
    "pycharm": {
     "name": "#%%\n"
    }
   }
  },
  {
   "cell_type": "code",
   "execution_count": 317,
   "outputs": [
    {
     "data": {
      "text/plain": "<pandas.io.formats.style.Styler at 0x2a18fcfe7f0>",
      "text/html": "<style type=\"text/css\">\n#T_7aedb_row0_col0 {\n  background-color: #4292c6;\n  color: #f1f1f1;\n}\n#T_7aedb_row0_col1, #T_7aedb_row1_col0, #T_7aedb_row5_col1 {\n  background-color: #206fb4;\n  color: #f1f1f1;\n}\n#T_7aedb_row0_col2 {\n  background-color: #9ac8e0;\n  color: #000000;\n}\n#T_7aedb_row0_col3, #T_7aedb_row3_col4, #T_7aedb_row4_col5, #T_7aedb_row9_col2, #T_7aedb_row12_col0, #T_7aedb_row12_col1 {\n  background-color: #f7fbff;\n  color: #000000;\n}\n#T_7aedb_row0_col4 {\n  background-color: #e0ecf8;\n  color: #000000;\n}\n#T_7aedb_row0_col5 {\n  background-color: #1967ad;\n  color: #f1f1f1;\n}\n#T_7aedb_row1_col1 {\n  background-color: #3383be;\n  color: #f1f1f1;\n}\n#T_7aedb_row1_col2 {\n  background-color: #bad6eb;\n  color: #000000;\n}\n#T_7aedb_row1_col3 {\n  background-color: #87bddc;\n  color: #000000;\n}\n#T_7aedb_row1_col4, #T_7aedb_row7_col4 {\n  background-color: #c3daee;\n  color: #000000;\n}\n#T_7aedb_row1_col5, #T_7aedb_row7_col0 {\n  background-color: #084990;\n  color: #f1f1f1;\n}\n#T_7aedb_row2_col0 {\n  background-color: #549fcd;\n  color: #f1f1f1;\n}\n#T_7aedb_row2_col1, #T_7aedb_row3_col5, #T_7aedb_row7_col2, #T_7aedb_row8_col0, #T_7aedb_row12_col3, #T_7aedb_row12_col4 {\n  background-color: #08306b;\n  color: #f1f1f1;\n}\n#T_7aedb_row2_col2 {\n  background-color: #abd0e6;\n  color: #000000;\n}\n#T_7aedb_row2_col3 {\n  background-color: #d8e7f5;\n  color: #000000;\n}\n#T_7aedb_row2_col4 {\n  background-color: #deebf7;\n  color: #000000;\n}\n#T_7aedb_row2_col5 {\n  background-color: #2f7fbc;\n  color: #f1f1f1;\n}\n#T_7aedb_row3_col0 {\n  background-color: #2979b9;\n  color: #f1f1f1;\n}\n#T_7aedb_row3_col1 {\n  background-color: #1562a9;\n  color: #f1f1f1;\n}\n#T_7aedb_row3_col2 {\n  background-color: #74b3d8;\n  color: #000000;\n}\n#T_7aedb_row3_col3, #T_7aedb_row5_col2 {\n  background-color: #e4eff9;\n  color: #000000;\n}\n#T_7aedb_row4_col0 {\n  background-color: #3585bf;\n  color: #f1f1f1;\n}\n#T_7aedb_row4_col1 {\n  background-color: #2575b7;\n  color: #f1f1f1;\n}\n#T_7aedb_row4_col2 {\n  background-color: #eef5fc;\n  color: #000000;\n}\n#T_7aedb_row4_col3 {\n  background-color: #afd1e7;\n  color: #000000;\n}\n#T_7aedb_row4_col4 {\n  background-color: #2070b4;\n  color: #f1f1f1;\n}\n#T_7aedb_row5_col0 {\n  background-color: #2b7bba;\n  color: #f1f1f1;\n}\n#T_7aedb_row5_col3 {\n  background-color: #519ccc;\n  color: #f1f1f1;\n}\n#T_7aedb_row5_col4 {\n  background-color: #94c4df;\n  color: #000000;\n}\n#T_7aedb_row5_col5 {\n  background-color: #a0cbe2;\n  color: #000000;\n}\n#T_7aedb_row6_col0 {\n  background-color: #1865ac;\n  color: #f1f1f1;\n}\n#T_7aedb_row6_col1 {\n  background-color: #083e81;\n  color: #f1f1f1;\n}\n#T_7aedb_row6_col2 {\n  background-color: #e2edf8;\n  color: #000000;\n}\n#T_7aedb_row6_col3, #T_7aedb_row10_col3 {\n  background-color: #ddeaf7;\n  color: #000000;\n}\n#T_7aedb_row6_col4 {\n  background-color: #cbdef1;\n  color: #000000;\n}\n#T_7aedb_row6_col5 {\n  background-color: #539ecd;\n  color: #f1f1f1;\n}\n#T_7aedb_row7_col1 {\n  background-color: #135fa7;\n  color: #f1f1f1;\n}\n#T_7aedb_row7_col3 {\n  background-color: #084e98;\n  color: #f1f1f1;\n}\n#T_7aedb_row7_col5 {\n  background-color: #cfe1f2;\n  color: #000000;\n}\n#T_7aedb_row8_col1 {\n  background-color: #9cc9e1;\n  color: #000000;\n}\n#T_7aedb_row8_col2 {\n  background-color: #115ca5;\n  color: #f1f1f1;\n}\n#T_7aedb_row8_col3 {\n  background-color: #3686c0;\n  color: #f1f1f1;\n}\n#T_7aedb_row8_col4 {\n  background-color: #dce9f6;\n  color: #000000;\n}\n#T_7aedb_row8_col5 {\n  background-color: #0a549e;\n  color: #f1f1f1;\n}\n#T_7aedb_row9_col0 {\n  background-color: #083877;\n  color: #f1f1f1;\n}\n#T_7aedb_row9_col1 {\n  background-color: #125ea6;\n  color: #f1f1f1;\n}\n#T_7aedb_row9_col3, #T_7aedb_row10_col1 {\n  background-color: #08316d;\n  color: #f1f1f1;\n}\n#T_7aedb_row9_col4 {\n  background-color: #dae8f6;\n  color: #000000;\n}\n#T_7aedb_row9_col5 {\n  background-color: #08468b;\n  color: #f1f1f1;\n}\n#T_7aedb_row10_col0 {\n  background-color: #89bedc;\n  color: #000000;\n}\n#T_7aedb_row10_col2 {\n  background-color: #cadef0;\n  color: #000000;\n}\n#T_7aedb_row10_col4 {\n  background-color: #f3f8fe;\n  color: #000000;\n}\n#T_7aedb_row10_col5 {\n  background-color: #2c7cba;\n  color: #f1f1f1;\n}\n#T_7aedb_row11_col0 {\n  background-color: #1e6db2;\n  color: #f1f1f1;\n}\n#T_7aedb_row11_col1 {\n  background-color: #529dcc;\n  color: #f1f1f1;\n}\n#T_7aedb_row11_col2 {\n  background-color: #4896c8;\n  color: #f1f1f1;\n}\n#T_7aedb_row11_col3 {\n  background-color: #4090c5;\n  color: #f1f1f1;\n}\n#T_7aedb_row11_col4 {\n  background-color: #e7f1fa;\n  color: #000000;\n}\n#T_7aedb_row11_col5 {\n  background-color: #3b8bc2;\n  color: #f1f1f1;\n}\n#T_7aedb_row12_col2 {\n  background-color: #dfebf7;\n  color: #000000;\n}\n#T_7aedb_row12_col5 {\n  background-color: #d6e6f4;\n  color: #000000;\n}\n</style>\n<table id=\"T_7aedb\">\n  <thead>\n    <tr>\n      <th class=\"blank level0\" >&nbsp;</th>\n      <th id=\"T_7aedb_level0_col0\" class=\"col_heading level0 col0\" >danceability</th>\n      <th id=\"T_7aedb_level0_col1\" class=\"col_heading level0 col1\" >energy</th>\n      <th id=\"T_7aedb_level0_col2\" class=\"col_heading level0 col2\" >speechiness</th>\n      <th id=\"T_7aedb_level0_col3\" class=\"col_heading level0 col3\" >acousticness</th>\n      <th id=\"T_7aedb_level0_col4\" class=\"col_heading level0 col4\" >liveness</th>\n      <th id=\"T_7aedb_level0_col5\" class=\"col_heading level0 col5\" >valence</th>\n    </tr>\n  </thead>\n  <tbody>\n    <tr>\n      <th id=\"T_7aedb_level0_row0\" class=\"row_heading level0 row0\" >('سلم يا سلام',)</th>\n      <td id=\"T_7aedb_row0_col0\" class=\"data row0 col0\" >0.689000</td>\n      <td id=\"T_7aedb_row0_col1\" class=\"data row0 col1\" >0.698000</td>\n      <td id=\"T_7aedb_row0_col2\" class=\"data row0 col2\" >0.107000</td>\n      <td id=\"T_7aedb_row0_col3\" class=\"data row0 col3\" >0.065600</td>\n      <td id=\"T_7aedb_row0_col4\" class=\"data row0 col4\" >0.054400</td>\n      <td id=\"T_7aedb_row0_col5\" class=\"data row0 col5\" >0.909000</td>\n    </tr>\n    <tr>\n      <th id=\"T_7aedb_level0_row1\" class=\"row_heading level0 row1\" >('وليد من الشكرية',)</th>\n      <td id=\"T_7aedb_row1_col0\" class=\"data row1 col0\" >0.741000</td>\n      <td id=\"T_7aedb_row1_col1\" class=\"data row1 col1\" >0.665000</td>\n      <td id=\"T_7aedb_row1_col2\" class=\"data row1 col2\" >0.087900</td>\n      <td id=\"T_7aedb_row1_col3\" class=\"data row1 col3\" >0.311000</td>\n      <td id=\"T_7aedb_row1_col4\" class=\"data row1 col4\" >0.086000</td>\n      <td id=\"T_7aedb_row1_col5\" class=\"data row1 col5\" >0.941000</td>\n    </tr>\n    <tr>\n      <th id=\"T_7aedb_level0_row2\" class=\"row_heading level0 row2\" >('نادو لي عشاي',)</th>\n      <td id=\"T_7aedb_row2_col0\" class=\"data row2 col0\" >0.668000</td>\n      <td id=\"T_7aedb_row2_col1\" class=\"data row2 col1\" >0.803000</td>\n      <td id=\"T_7aedb_row2_col2\" class=\"data row2 col2\" >0.097000</td>\n      <td id=\"T_7aedb_row2_col3\" class=\"data row2 col3\" >0.155000</td>\n      <td id=\"T_7aedb_row2_col4\" class=\"data row2 col4\" >0.057100</td>\n      <td id=\"T_7aedb_row2_col5\" class=\"data row2 col5\" >0.884000</td>\n    </tr>\n    <tr>\n      <th id=\"T_7aedb_level0_row3\" class=\"row_heading level0 row3\" >('واثقه في زولي',)</th>\n      <td id=\"T_7aedb_row3_col0\" class=\"data row3 col0\" >0.726000</td>\n      <td id=\"T_7aedb_row3_col1\" class=\"data row3 col1\" >0.720000</td>\n      <td id=\"T_7aedb_row3_col2\" class=\"data row3 col2\" >0.125000</td>\n      <td id=\"T_7aedb_row3_col3\" class=\"data row3 col3\" >0.120000</td>\n      <td id=\"T_7aedb_row3_col4\" class=\"data row3 col4\" >0.029600</td>\n      <td id=\"T_7aedb_row3_col5\" class=\"data row3 col5\" >0.967000</td>\n    </tr>\n    <tr>\n      <th id=\"T_7aedb_level0_row4\" class=\"row_heading level0 row4\" >('مالو',)</th>\n      <td id=\"T_7aedb_row4_col0\" class=\"data row4 col0\" >0.709000</td>\n      <td id=\"T_7aedb_row4_col1\" class=\"data row4 col1\" >0.688000</td>\n      <td id=\"T_7aedb_row4_col2\" class=\"data row4 col2\" >0.042100</td>\n      <td id=\"T_7aedb_row4_col3\" class=\"data row4 col3\" >0.249000</td>\n      <td id=\"T_7aedb_row4_col4\" class=\"data row4 col4\" >0.193000</td>\n      <td id=\"T_7aedb_row4_col5\" class=\"data row4 col5\" >0.694000</td>\n    </tr>\n    <tr>\n      <th id=\"T_7aedb_level0_row5\" class=\"row_heading level0 row5\" >('دنيا يا فراقه',)</th>\n      <td id=\"T_7aedb_row5_col0\" class=\"data row5 col0\" >0.723000</td>\n      <td id=\"T_7aedb_row5_col1\" class=\"data row5 col1\" >0.697000</td>\n      <td id=\"T_7aedb_row5_col2\" class=\"data row5 col2\" >0.051300</td>\n      <td id=\"T_7aedb_row5_col3\" class=\"data row5 col3\" >0.395000</td>\n      <td id=\"T_7aedb_row5_col4\" class=\"data row5 col4\" >0.117000</td>\n      <td id=\"T_7aedb_row5_col5\" class=\"data row5 col5\" >0.795000</td>\n    </tr>\n    <tr>\n      <th id=\"T_7aedb_level0_row6\" class=\"row_heading level0 row6\" >('أنت وأنا',)</th>\n      <td id=\"T_7aedb_row6_col0\" class=\"data row6 col0\" >0.756000</td>\n      <td id=\"T_7aedb_row6_col1\" class=\"data row6 col1\" >0.779000</td>\n      <td id=\"T_7aedb_row6_col2\" class=\"data row6 col2\" >0.052900</td>\n      <td id=\"T_7aedb_row6_col3\" class=\"data row6 col3\" >0.140000</td>\n      <td id=\"T_7aedb_row6_col4\" class=\"data row6 col4\" >0.078600</td>\n      <td id=\"T_7aedb_row6_col5\" class=\"data row6 col5\" >0.850000</td>\n    </tr>\n    <tr>\n      <th id=\"T_7aedb_level0_row7\" class=\"row_heading level0 row7\" >('دي حفية',)</th>\n      <td id=\"T_7aedb_row7_col0\" class=\"data row7 col0\" >0.798000</td>\n      <td id=\"T_7aedb_row7_col1\" class=\"data row7 col1\" >0.724000</td>\n      <td id=\"T_7aedb_row7_col2\" class=\"data row7 col2\" >0.226000</td>\n      <td id=\"T_7aedb_row7_col3\" class=\"data row7 col3\" >0.567000</td>\n      <td id=\"T_7aedb_row7_col4\" class=\"data row7 col4\" >0.086000</td>\n      <td id=\"T_7aedb_row7_col5\" class=\"data row7 col5\" >0.750000</td>\n    </tr>\n    <tr>\n      <th id=\"T_7aedb_level0_row8\" class=\"row_heading level0 row8\" >('عسل الجبال',)</th>\n      <td id=\"T_7aedb_row8_col0\" class=\"data row8 col0\" >0.835000</td>\n      <td id=\"T_7aedb_row8_col1\" class=\"data row8 col1\" >0.536000</td>\n      <td id=\"T_7aedb_row8_col2\" class=\"data row8 col2\" >0.193000</td>\n      <td id=\"T_7aedb_row8_col3\" class=\"data row8 col3\" >0.444000</td>\n      <td id=\"T_7aedb_row8_col4\" class=\"data row8 col4\" >0.059900</td>\n      <td id=\"T_7aedb_row8_col5\" class=\"data row8 col5\" >0.929000</td>\n    </tr>\n    <tr>\n      <th id=\"T_7aedb_level0_row9\" class=\"row_heading level0 row9\" >('الغلط في منو',)</th>\n      <td id=\"T_7aedb_row9_col0\" class=\"data row9 col0\" >0.822000</td>\n      <td id=\"T_7aedb_row9_col1\" class=\"data row9 col1\" >0.726000</td>\n      <td id=\"T_7aedb_row9_col2\" class=\"data row9 col2\" >0.032400</td>\n      <td id=\"T_7aedb_row9_col3\" class=\"data row9 col3\" >0.628000</td>\n      <td id=\"T_7aedb_row9_col4\" class=\"data row9 col4\" >0.061100</td>\n      <td id=\"T_7aedb_row9_col5\" class=\"data row9 col5\" >0.944000</td>\n    </tr>\n    <tr>\n      <th id=\"T_7aedb_level0_row10\" class=\"row_heading level0 row10\" >('طوالي بعاين ليك',)</th>\n      <td id=\"T_7aedb_row10_col0\" class=\"data row10 col0\" >0.613000</td>\n      <td id=\"T_7aedb_row10_col1\" class=\"data row10 col1\" >0.801000</td>\n      <td id=\"T_7aedb_row10_col2\" class=\"data row10 col2\" >0.076800</td>\n      <td id=\"T_7aedb_row10_col3\" class=\"data row10 col3\" >0.140000</td>\n      <td id=\"T_7aedb_row10_col4\" class=\"data row10 col4\" >0.033900</td>\n      <td id=\"T_7aedb_row10_col5\" class=\"data row10 col5\" >0.888000</td>\n    </tr>\n    <tr>\n      <th id=\"T_7aedb_level0_row11\" class=\"row_heading level0 row11\" >('الحليون',)</th>\n      <td id=\"T_7aedb_row11_col0\" class=\"data row11 col0\" >0.744000</td>\n      <td id=\"T_7aedb_row11_col1\" class=\"data row11 col1\" >0.620000</td>\n      <td id=\"T_7aedb_row11_col2\" class=\"data row11 col2\" >0.150000</td>\n      <td id=\"T_7aedb_row11_col3\" class=\"data row11 col3\" >0.423000</td>\n      <td id=\"T_7aedb_row11_col4\" class=\"data row11 col4\" >0.047400</td>\n      <td id=\"T_7aedb_row11_col5\" class=\"data row11 col5\" >0.872000</td>\n    </tr>\n    <tr>\n      <th id=\"T_7aedb_level0_row12\" class=\"row_heading level0 row12\" >('مالك معاي',)</th>\n      <td id=\"T_7aedb_row12_col0\" class=\"data row12 col0\" >0.447000</td>\n      <td id=\"T_7aedb_row12_col1\" class=\"data row12 col1\" >0.371000</td>\n      <td id=\"T_7aedb_row12_col2\" class=\"data row12 col2\" >0.056200</td>\n      <td id=\"T_7aedb_row12_col3\" class=\"data row12 col3\" >0.632000</td>\n      <td id=\"T_7aedb_row12_col4\" class=\"data row12 col4\" >0.247000</td>\n      <td id=\"T_7aedb_row12_col5\" class=\"data row12 col5\" >0.739000</td>\n    </tr>\n  </tbody>\n</table>\n"
     },
     "execution_count": 317,
     "metadata": {},
     "output_type": "execute_result"
    }
   ],
   "source": [
    "hmap.style.background_gradient(cmap='Blues')"
   ],
   "metadata": {
    "collapsed": false,
    "pycharm": {
     "name": "#%%\n"
    }
   }
  },
  {
   "cell_type": "markdown",
   "source": [
    "Now let see songs tempo and duration"
   ],
   "metadata": {
    "collapsed": false,
    "pycharm": {
     "name": "#%% md\n"
    }
   }
  },
  {
   "cell_type": "code",
   "execution_count": 318,
   "outputs": [
    {
     "data": {
      "application/vnd.plotly.v1+json": {
       "data": [
        {
         "alignmentgroup": "True",
         "hovertemplate": "track_name=%{x}<br>tempo=%{y}<extra></extra>",
         "legendgroup": "",
         "marker": {
          "color": "#636efa",
          "pattern": {
           "shape": ""
          }
         },
         "name": "",
         "offsetgroup": "",
         "orientation": "v",
         "showlegend": false,
         "textposition": "auto",
         "x": [
          "سلم يا سلام",
          "وليد من الشكرية",
          "نادو لي عشاي",
          "واثقه في زولي",
          "مالو",
          "دنيا يا فراقه",
          "أنت وأنا",
          "دي حفية",
          "عسل الجبال",
          "الغلط في منو",
          "طوالي بعاين ليك",
          "الحليون",
          "مالك معاي"
         ],
         "xaxis": "x",
         "y": [
          159.888,
          140.01,
          155.004,
          154.61,
          135.026,
          119.976,
          135.004,
          138.048,
          135.003,
          124.549,
          169.843,
          140.888,
          161.472
         ],
         "yaxis": "y",
         "type": "bar"
        }
       ],
       "layout": {
        "template": {
         "data": {
          "bar": [
           {
            "error_x": {
             "color": "#2a3f5f"
            },
            "error_y": {
             "color": "#2a3f5f"
            },
            "marker": {
             "line": {
              "color": "#E5ECF6",
              "width": 0.5
             },
             "pattern": {
              "fillmode": "overlay",
              "size": 10,
              "solidity": 0.2
             }
            },
            "type": "bar"
           }
          ],
          "barpolar": [
           {
            "marker": {
             "line": {
              "color": "#E5ECF6",
              "width": 0.5
             },
             "pattern": {
              "fillmode": "overlay",
              "size": 10,
              "solidity": 0.2
             }
            },
            "type": "barpolar"
           }
          ],
          "carpet": [
           {
            "aaxis": {
             "endlinecolor": "#2a3f5f",
             "gridcolor": "white",
             "linecolor": "white",
             "minorgridcolor": "white",
             "startlinecolor": "#2a3f5f"
            },
            "baxis": {
             "endlinecolor": "#2a3f5f",
             "gridcolor": "white",
             "linecolor": "white",
             "minorgridcolor": "white",
             "startlinecolor": "#2a3f5f"
            },
            "type": "carpet"
           }
          ],
          "choropleth": [
           {
            "colorbar": {
             "outlinewidth": 0,
             "ticks": ""
            },
            "type": "choropleth"
           }
          ],
          "contour": [
           {
            "colorbar": {
             "outlinewidth": 0,
             "ticks": ""
            },
            "colorscale": [
             [
              0.0,
              "#0d0887"
             ],
             [
              0.1111111111111111,
              "#46039f"
             ],
             [
              0.2222222222222222,
              "#7201a8"
             ],
             [
              0.3333333333333333,
              "#9c179e"
             ],
             [
              0.4444444444444444,
              "#bd3786"
             ],
             [
              0.5555555555555556,
              "#d8576b"
             ],
             [
              0.6666666666666666,
              "#ed7953"
             ],
             [
              0.7777777777777778,
              "#fb9f3a"
             ],
             [
              0.8888888888888888,
              "#fdca26"
             ],
             [
              1.0,
              "#f0f921"
             ]
            ],
            "type": "contour"
           }
          ],
          "contourcarpet": [
           {
            "colorbar": {
             "outlinewidth": 0,
             "ticks": ""
            },
            "type": "contourcarpet"
           }
          ],
          "heatmap": [
           {
            "colorbar": {
             "outlinewidth": 0,
             "ticks": ""
            },
            "colorscale": [
             [
              0.0,
              "#0d0887"
             ],
             [
              0.1111111111111111,
              "#46039f"
             ],
             [
              0.2222222222222222,
              "#7201a8"
             ],
             [
              0.3333333333333333,
              "#9c179e"
             ],
             [
              0.4444444444444444,
              "#bd3786"
             ],
             [
              0.5555555555555556,
              "#d8576b"
             ],
             [
              0.6666666666666666,
              "#ed7953"
             ],
             [
              0.7777777777777778,
              "#fb9f3a"
             ],
             [
              0.8888888888888888,
              "#fdca26"
             ],
             [
              1.0,
              "#f0f921"
             ]
            ],
            "type": "heatmap"
           }
          ],
          "heatmapgl": [
           {
            "colorbar": {
             "outlinewidth": 0,
             "ticks": ""
            },
            "colorscale": [
             [
              0.0,
              "#0d0887"
             ],
             [
              0.1111111111111111,
              "#46039f"
             ],
             [
              0.2222222222222222,
              "#7201a8"
             ],
             [
              0.3333333333333333,
              "#9c179e"
             ],
             [
              0.4444444444444444,
              "#bd3786"
             ],
             [
              0.5555555555555556,
              "#d8576b"
             ],
             [
              0.6666666666666666,
              "#ed7953"
             ],
             [
              0.7777777777777778,
              "#fb9f3a"
             ],
             [
              0.8888888888888888,
              "#fdca26"
             ],
             [
              1.0,
              "#f0f921"
             ]
            ],
            "type": "heatmapgl"
           }
          ],
          "histogram": [
           {
            "marker": {
             "pattern": {
              "fillmode": "overlay",
              "size": 10,
              "solidity": 0.2
             }
            },
            "type": "histogram"
           }
          ],
          "histogram2d": [
           {
            "colorbar": {
             "outlinewidth": 0,
             "ticks": ""
            },
            "colorscale": [
             [
              0.0,
              "#0d0887"
             ],
             [
              0.1111111111111111,
              "#46039f"
             ],
             [
              0.2222222222222222,
              "#7201a8"
             ],
             [
              0.3333333333333333,
              "#9c179e"
             ],
             [
              0.4444444444444444,
              "#bd3786"
             ],
             [
              0.5555555555555556,
              "#d8576b"
             ],
             [
              0.6666666666666666,
              "#ed7953"
             ],
             [
              0.7777777777777778,
              "#fb9f3a"
             ],
             [
              0.8888888888888888,
              "#fdca26"
             ],
             [
              1.0,
              "#f0f921"
             ]
            ],
            "type": "histogram2d"
           }
          ],
          "histogram2dcontour": [
           {
            "colorbar": {
             "outlinewidth": 0,
             "ticks": ""
            },
            "colorscale": [
             [
              0.0,
              "#0d0887"
             ],
             [
              0.1111111111111111,
              "#46039f"
             ],
             [
              0.2222222222222222,
              "#7201a8"
             ],
             [
              0.3333333333333333,
              "#9c179e"
             ],
             [
              0.4444444444444444,
              "#bd3786"
             ],
             [
              0.5555555555555556,
              "#d8576b"
             ],
             [
              0.6666666666666666,
              "#ed7953"
             ],
             [
              0.7777777777777778,
              "#fb9f3a"
             ],
             [
              0.8888888888888888,
              "#fdca26"
             ],
             [
              1.0,
              "#f0f921"
             ]
            ],
            "type": "histogram2dcontour"
           }
          ],
          "mesh3d": [
           {
            "colorbar": {
             "outlinewidth": 0,
             "ticks": ""
            },
            "type": "mesh3d"
           }
          ],
          "parcoords": [
           {
            "line": {
             "colorbar": {
              "outlinewidth": 0,
              "ticks": ""
             }
            },
            "type": "parcoords"
           }
          ],
          "pie": [
           {
            "automargin": true,
            "type": "pie"
           }
          ],
          "scatter": [
           {
            "marker": {
             "colorbar": {
              "outlinewidth": 0,
              "ticks": ""
             }
            },
            "type": "scatter"
           }
          ],
          "scatter3d": [
           {
            "line": {
             "colorbar": {
              "outlinewidth": 0,
              "ticks": ""
             }
            },
            "marker": {
             "colorbar": {
              "outlinewidth": 0,
              "ticks": ""
             }
            },
            "type": "scatter3d"
           }
          ],
          "scattercarpet": [
           {
            "marker": {
             "colorbar": {
              "outlinewidth": 0,
              "ticks": ""
             }
            },
            "type": "scattercarpet"
           }
          ],
          "scattergeo": [
           {
            "marker": {
             "colorbar": {
              "outlinewidth": 0,
              "ticks": ""
             }
            },
            "type": "scattergeo"
           }
          ],
          "scattergl": [
           {
            "marker": {
             "colorbar": {
              "outlinewidth": 0,
              "ticks": ""
             }
            },
            "type": "scattergl"
           }
          ],
          "scattermapbox": [
           {
            "marker": {
             "colorbar": {
              "outlinewidth": 0,
              "ticks": ""
             }
            },
            "type": "scattermapbox"
           }
          ],
          "scatterpolar": [
           {
            "marker": {
             "colorbar": {
              "outlinewidth": 0,
              "ticks": ""
             }
            },
            "type": "scatterpolar"
           }
          ],
          "scatterpolargl": [
           {
            "marker": {
             "colorbar": {
              "outlinewidth": 0,
              "ticks": ""
             }
            },
            "type": "scatterpolargl"
           }
          ],
          "scatterternary": [
           {
            "marker": {
             "colorbar": {
              "outlinewidth": 0,
              "ticks": ""
             }
            },
            "type": "scatterternary"
           }
          ],
          "surface": [
           {
            "colorbar": {
             "outlinewidth": 0,
             "ticks": ""
            },
            "colorscale": [
             [
              0.0,
              "#0d0887"
             ],
             [
              0.1111111111111111,
              "#46039f"
             ],
             [
              0.2222222222222222,
              "#7201a8"
             ],
             [
              0.3333333333333333,
              "#9c179e"
             ],
             [
              0.4444444444444444,
              "#bd3786"
             ],
             [
              0.5555555555555556,
              "#d8576b"
             ],
             [
              0.6666666666666666,
              "#ed7953"
             ],
             [
              0.7777777777777778,
              "#fb9f3a"
             ],
             [
              0.8888888888888888,
              "#fdca26"
             ],
             [
              1.0,
              "#f0f921"
             ]
            ],
            "type": "surface"
           }
          ],
          "table": [
           {
            "cells": {
             "fill": {
              "color": "#EBF0F8"
             },
             "line": {
              "color": "white"
             }
            },
            "header": {
             "fill": {
              "color": "#C8D4E3"
             },
             "line": {
              "color": "white"
             }
            },
            "type": "table"
           }
          ]
         },
         "layout": {
          "annotationdefaults": {
           "arrowcolor": "#2a3f5f",
           "arrowhead": 0,
           "arrowwidth": 1
          },
          "autotypenumbers": "strict",
          "coloraxis": {
           "colorbar": {
            "outlinewidth": 0,
            "ticks": ""
           }
          },
          "colorscale": {
           "diverging": [
            [
             0,
             "#8e0152"
            ],
            [
             0.1,
             "#c51b7d"
            ],
            [
             0.2,
             "#de77ae"
            ],
            [
             0.3,
             "#f1b6da"
            ],
            [
             0.4,
             "#fde0ef"
            ],
            [
             0.5,
             "#f7f7f7"
            ],
            [
             0.6,
             "#e6f5d0"
            ],
            [
             0.7,
             "#b8e186"
            ],
            [
             0.8,
             "#7fbc41"
            ],
            [
             0.9,
             "#4d9221"
            ],
            [
             1,
             "#276419"
            ]
           ],
           "sequential": [
            [
             0.0,
             "#0d0887"
            ],
            [
             0.1111111111111111,
             "#46039f"
            ],
            [
             0.2222222222222222,
             "#7201a8"
            ],
            [
             0.3333333333333333,
             "#9c179e"
            ],
            [
             0.4444444444444444,
             "#bd3786"
            ],
            [
             0.5555555555555556,
             "#d8576b"
            ],
            [
             0.6666666666666666,
             "#ed7953"
            ],
            [
             0.7777777777777778,
             "#fb9f3a"
            ],
            [
             0.8888888888888888,
             "#fdca26"
            ],
            [
             1.0,
             "#f0f921"
            ]
           ],
           "sequentialminus": [
            [
             0.0,
             "#0d0887"
            ],
            [
             0.1111111111111111,
             "#46039f"
            ],
            [
             0.2222222222222222,
             "#7201a8"
            ],
            [
             0.3333333333333333,
             "#9c179e"
            ],
            [
             0.4444444444444444,
             "#bd3786"
            ],
            [
             0.5555555555555556,
             "#d8576b"
            ],
            [
             0.6666666666666666,
             "#ed7953"
            ],
            [
             0.7777777777777778,
             "#fb9f3a"
            ],
            [
             0.8888888888888888,
             "#fdca26"
            ],
            [
             1.0,
             "#f0f921"
            ]
           ]
          },
          "colorway": [
           "#636efa",
           "#EF553B",
           "#00cc96",
           "#ab63fa",
           "#FFA15A",
           "#19d3f3",
           "#FF6692",
           "#B6E880",
           "#FF97FF",
           "#FECB52"
          ],
          "font": {
           "color": "#2a3f5f"
          },
          "geo": {
           "bgcolor": "white",
           "lakecolor": "white",
           "landcolor": "#E5ECF6",
           "showlakes": true,
           "showland": true,
           "subunitcolor": "white"
          },
          "hoverlabel": {
           "align": "left"
          },
          "hovermode": "closest",
          "mapbox": {
           "style": "light"
          },
          "paper_bgcolor": "white",
          "plot_bgcolor": "#E5ECF6",
          "polar": {
           "angularaxis": {
            "gridcolor": "white",
            "linecolor": "white",
            "ticks": ""
           },
           "bgcolor": "#E5ECF6",
           "radialaxis": {
            "gridcolor": "white",
            "linecolor": "white",
            "ticks": ""
           }
          },
          "scene": {
           "xaxis": {
            "backgroundcolor": "#E5ECF6",
            "gridcolor": "white",
            "gridwidth": 2,
            "linecolor": "white",
            "showbackground": true,
            "ticks": "",
            "zerolinecolor": "white"
           },
           "yaxis": {
            "backgroundcolor": "#E5ECF6",
            "gridcolor": "white",
            "gridwidth": 2,
            "linecolor": "white",
            "showbackground": true,
            "ticks": "",
            "zerolinecolor": "white"
           },
           "zaxis": {
            "backgroundcolor": "#E5ECF6",
            "gridcolor": "white",
            "gridwidth": 2,
            "linecolor": "white",
            "showbackground": true,
            "ticks": "",
            "zerolinecolor": "white"
           }
          },
          "shapedefaults": {
           "line": {
            "color": "#2a3f5f"
           }
          },
          "ternary": {
           "aaxis": {
            "gridcolor": "white",
            "linecolor": "white",
            "ticks": ""
           },
           "baxis": {
            "gridcolor": "white",
            "linecolor": "white",
            "ticks": ""
           },
           "bgcolor": "#E5ECF6",
           "caxis": {
            "gridcolor": "white",
            "linecolor": "white",
            "ticks": ""
           }
          },
          "title": {
           "x": 0.05
          },
          "xaxis": {
           "automargin": true,
           "gridcolor": "white",
           "linecolor": "white",
           "ticks": "",
           "title": {
            "standoff": 15
           },
           "zerolinecolor": "white",
           "zerolinewidth": 2
          },
          "yaxis": {
           "automargin": true,
           "gridcolor": "white",
           "linecolor": "white",
           "ticks": "",
           "title": {
            "standoff": 15
           },
           "zerolinecolor": "white",
           "zerolinewidth": 2
          }
         }
        },
        "xaxis": {
         "anchor": "y",
         "domain": [
          0.0,
          1.0
         ],
         "title": {
          "text": "track_name"
         }
        },
        "yaxis": {
         "anchor": "x",
         "domain": [
          0.0,
          1.0
         ],
         "title": {
          "text": "tempo"
         }
        },
        "legend": {
         "tracegroupgap": 0
        },
        "margin": {
         "t": 60
        },
        "barmode": "relative"
       },
       "config": {
        "plotlyServerURL": "https://plot.ly"
       }
      },
      "text/html": "<div>                            <div id=\"556873fa-5df8-4325-87f9-a4c5f587e24e\" class=\"plotly-graph-div\" style=\"height:525px; width:100%;\"></div>            <script type=\"text/javascript\">                require([\"plotly\"], function(Plotly) {                    window.PLOTLYENV=window.PLOTLYENV || {};                                    if (document.getElementById(\"556873fa-5df8-4325-87f9-a4c5f587e24e\")) {                    Plotly.newPlot(                        \"556873fa-5df8-4325-87f9-a4c5f587e24e\",                        [{\"alignmentgroup\":\"True\",\"hovertemplate\":\"track_name=%{x}<br>tempo=%{y}<extra></extra>\",\"legendgroup\":\"\",\"marker\":{\"color\":\"#636efa\",\"pattern\":{\"shape\":\"\"}},\"name\":\"\",\"offsetgroup\":\"\",\"orientation\":\"v\",\"showlegend\":false,\"textposition\":\"auto\",\"x\":[\"\\u0633\\u0644\\u0645 \\u064a\\u0627 \\u0633\\u0644\\u0627\\u0645\",\"\\u0648\\u0644\\u064a\\u062f \\u0645\\u0646 \\u0627\\u0644\\u0634\\u0643\\u0631\\u064a\\u0629\",\"\\u0646\\u0627\\u062f\\u0648 \\u0644\\u064a \\u0639\\u0634\\u0627\\u064a\",\"\\u0648\\u0627\\u062b\\u0642\\u0647 \\u0641\\u064a \\u0632\\u0648\\u0644\\u064a\",\"\\u0645\\u0627\\u0644\\u0648\",\"\\u062f\\u0646\\u064a\\u0627 \\u064a\\u0627 \\u0641\\u0631\\u0627\\u0642\\u0647\",\"\\u0623\\u0646\\u062a \\u0648\\u0623\\u0646\\u0627\",\"\\u062f\\u064a \\u062d\\u0641\\u064a\\u0629\",\"\\u0639\\u0633\\u0644 \\u0627\\u0644\\u062c\\u0628\\u0627\\u0644\",\"\\u0627\\u0644\\u063a\\u0644\\u0637 \\u0641\\u064a \\u0645\\u0646\\u0648\",\"\\u0637\\u0648\\u0627\\u0644\\u064a \\u0628\\u0639\\u0627\\u064a\\u0646 \\u0644\\u064a\\u0643\",\"\\u0627\\u0644\\u062d\\u0644\\u064a\\u0648\\u0646\",\"\\u0645\\u0627\\u0644\\u0643 \\u0645\\u0639\\u0627\\u064a\"],\"xaxis\":\"x\",\"y\":[159.888,140.01,155.004,154.61,135.026,119.976,135.004,138.048,135.003,124.549,169.843,140.888,161.472],\"yaxis\":\"y\",\"type\":\"bar\"}],                        {\"template\":{\"data\":{\"bar\":[{\"error_x\":{\"color\":\"#2a3f5f\"},\"error_y\":{\"color\":\"#2a3f5f\"},\"marker\":{\"line\":{\"color\":\"#E5ECF6\",\"width\":0.5},\"pattern\":{\"fillmode\":\"overlay\",\"size\":10,\"solidity\":0.2}},\"type\":\"bar\"}],\"barpolar\":[{\"marker\":{\"line\":{\"color\":\"#E5ECF6\",\"width\":0.5},\"pattern\":{\"fillmode\":\"overlay\",\"size\":10,\"solidity\":0.2}},\"type\":\"barpolar\"}],\"carpet\":[{\"aaxis\":{\"endlinecolor\":\"#2a3f5f\",\"gridcolor\":\"white\",\"linecolor\":\"white\",\"minorgridcolor\":\"white\",\"startlinecolor\":\"#2a3f5f\"},\"baxis\":{\"endlinecolor\":\"#2a3f5f\",\"gridcolor\":\"white\",\"linecolor\":\"white\",\"minorgridcolor\":\"white\",\"startlinecolor\":\"#2a3f5f\"},\"type\":\"carpet\"}],\"choropleth\":[{\"colorbar\":{\"outlinewidth\":0,\"ticks\":\"\"},\"type\":\"choropleth\"}],\"contour\":[{\"colorbar\":{\"outlinewidth\":0,\"ticks\":\"\"},\"colorscale\":[[0.0,\"#0d0887\"],[0.1111111111111111,\"#46039f\"],[0.2222222222222222,\"#7201a8\"],[0.3333333333333333,\"#9c179e\"],[0.4444444444444444,\"#bd3786\"],[0.5555555555555556,\"#d8576b\"],[0.6666666666666666,\"#ed7953\"],[0.7777777777777778,\"#fb9f3a\"],[0.8888888888888888,\"#fdca26\"],[1.0,\"#f0f921\"]],\"type\":\"contour\"}],\"contourcarpet\":[{\"colorbar\":{\"outlinewidth\":0,\"ticks\":\"\"},\"type\":\"contourcarpet\"}],\"heatmap\":[{\"colorbar\":{\"outlinewidth\":0,\"ticks\":\"\"},\"colorscale\":[[0.0,\"#0d0887\"],[0.1111111111111111,\"#46039f\"],[0.2222222222222222,\"#7201a8\"],[0.3333333333333333,\"#9c179e\"],[0.4444444444444444,\"#bd3786\"],[0.5555555555555556,\"#d8576b\"],[0.6666666666666666,\"#ed7953\"],[0.7777777777777778,\"#fb9f3a\"],[0.8888888888888888,\"#fdca26\"],[1.0,\"#f0f921\"]],\"type\":\"heatmap\"}],\"heatmapgl\":[{\"colorbar\":{\"outlinewidth\":0,\"ticks\":\"\"},\"colorscale\":[[0.0,\"#0d0887\"],[0.1111111111111111,\"#46039f\"],[0.2222222222222222,\"#7201a8\"],[0.3333333333333333,\"#9c179e\"],[0.4444444444444444,\"#bd3786\"],[0.5555555555555556,\"#d8576b\"],[0.6666666666666666,\"#ed7953\"],[0.7777777777777778,\"#fb9f3a\"],[0.8888888888888888,\"#fdca26\"],[1.0,\"#f0f921\"]],\"type\":\"heatmapgl\"}],\"histogram\":[{\"marker\":{\"pattern\":{\"fillmode\":\"overlay\",\"size\":10,\"solidity\":0.2}},\"type\":\"histogram\"}],\"histogram2d\":[{\"colorbar\":{\"outlinewidth\":0,\"ticks\":\"\"},\"colorscale\":[[0.0,\"#0d0887\"],[0.1111111111111111,\"#46039f\"],[0.2222222222222222,\"#7201a8\"],[0.3333333333333333,\"#9c179e\"],[0.4444444444444444,\"#bd3786\"],[0.5555555555555556,\"#d8576b\"],[0.6666666666666666,\"#ed7953\"],[0.7777777777777778,\"#fb9f3a\"],[0.8888888888888888,\"#fdca26\"],[1.0,\"#f0f921\"]],\"type\":\"histogram2d\"}],\"histogram2dcontour\":[{\"colorbar\":{\"outlinewidth\":0,\"ticks\":\"\"},\"colorscale\":[[0.0,\"#0d0887\"],[0.1111111111111111,\"#46039f\"],[0.2222222222222222,\"#7201a8\"],[0.3333333333333333,\"#9c179e\"],[0.4444444444444444,\"#bd3786\"],[0.5555555555555556,\"#d8576b\"],[0.6666666666666666,\"#ed7953\"],[0.7777777777777778,\"#fb9f3a\"],[0.8888888888888888,\"#fdca26\"],[1.0,\"#f0f921\"]],\"type\":\"histogram2dcontour\"}],\"mesh3d\":[{\"colorbar\":{\"outlinewidth\":0,\"ticks\":\"\"},\"type\":\"mesh3d\"}],\"parcoords\":[{\"line\":{\"colorbar\":{\"outlinewidth\":0,\"ticks\":\"\"}},\"type\":\"parcoords\"}],\"pie\":[{\"automargin\":true,\"type\":\"pie\"}],\"scatter\":[{\"marker\":{\"colorbar\":{\"outlinewidth\":0,\"ticks\":\"\"}},\"type\":\"scatter\"}],\"scatter3d\":[{\"line\":{\"colorbar\":{\"outlinewidth\":0,\"ticks\":\"\"}},\"marker\":{\"colorbar\":{\"outlinewidth\":0,\"ticks\":\"\"}},\"type\":\"scatter3d\"}],\"scattercarpet\":[{\"marker\":{\"colorbar\":{\"outlinewidth\":0,\"ticks\":\"\"}},\"type\":\"scattercarpet\"}],\"scattergeo\":[{\"marker\":{\"colorbar\":{\"outlinewidth\":0,\"ticks\":\"\"}},\"type\":\"scattergeo\"}],\"scattergl\":[{\"marker\":{\"colorbar\":{\"outlinewidth\":0,\"ticks\":\"\"}},\"type\":\"scattergl\"}],\"scattermapbox\":[{\"marker\":{\"colorbar\":{\"outlinewidth\":0,\"ticks\":\"\"}},\"type\":\"scattermapbox\"}],\"scatterpolar\":[{\"marker\":{\"colorbar\":{\"outlinewidth\":0,\"ticks\":\"\"}},\"type\":\"scatterpolar\"}],\"scatterpolargl\":[{\"marker\":{\"colorbar\":{\"outlinewidth\":0,\"ticks\":\"\"}},\"type\":\"scatterpolargl\"}],\"scatterternary\":[{\"marker\":{\"colorbar\":{\"outlinewidth\":0,\"ticks\":\"\"}},\"type\":\"scatterternary\"}],\"surface\":[{\"colorbar\":{\"outlinewidth\":0,\"ticks\":\"\"},\"colorscale\":[[0.0,\"#0d0887\"],[0.1111111111111111,\"#46039f\"],[0.2222222222222222,\"#7201a8\"],[0.3333333333333333,\"#9c179e\"],[0.4444444444444444,\"#bd3786\"],[0.5555555555555556,\"#d8576b\"],[0.6666666666666666,\"#ed7953\"],[0.7777777777777778,\"#fb9f3a\"],[0.8888888888888888,\"#fdca26\"],[1.0,\"#f0f921\"]],\"type\":\"surface\"}],\"table\":[{\"cells\":{\"fill\":{\"color\":\"#EBF0F8\"},\"line\":{\"color\":\"white\"}},\"header\":{\"fill\":{\"color\":\"#C8D4E3\"},\"line\":{\"color\":\"white\"}},\"type\":\"table\"}]},\"layout\":{\"annotationdefaults\":{\"arrowcolor\":\"#2a3f5f\",\"arrowhead\":0,\"arrowwidth\":1},\"autotypenumbers\":\"strict\",\"coloraxis\":{\"colorbar\":{\"outlinewidth\":0,\"ticks\":\"\"}},\"colorscale\":{\"diverging\":[[0,\"#8e0152\"],[0.1,\"#c51b7d\"],[0.2,\"#de77ae\"],[0.3,\"#f1b6da\"],[0.4,\"#fde0ef\"],[0.5,\"#f7f7f7\"],[0.6,\"#e6f5d0\"],[0.7,\"#b8e186\"],[0.8,\"#7fbc41\"],[0.9,\"#4d9221\"],[1,\"#276419\"]],\"sequential\":[[0.0,\"#0d0887\"],[0.1111111111111111,\"#46039f\"],[0.2222222222222222,\"#7201a8\"],[0.3333333333333333,\"#9c179e\"],[0.4444444444444444,\"#bd3786\"],[0.5555555555555556,\"#d8576b\"],[0.6666666666666666,\"#ed7953\"],[0.7777777777777778,\"#fb9f3a\"],[0.8888888888888888,\"#fdca26\"],[1.0,\"#f0f921\"]],\"sequentialminus\":[[0.0,\"#0d0887\"],[0.1111111111111111,\"#46039f\"],[0.2222222222222222,\"#7201a8\"],[0.3333333333333333,\"#9c179e\"],[0.4444444444444444,\"#bd3786\"],[0.5555555555555556,\"#d8576b\"],[0.6666666666666666,\"#ed7953\"],[0.7777777777777778,\"#fb9f3a\"],[0.8888888888888888,\"#fdca26\"],[1.0,\"#f0f921\"]]},\"colorway\":[\"#636efa\",\"#EF553B\",\"#00cc96\",\"#ab63fa\",\"#FFA15A\",\"#19d3f3\",\"#FF6692\",\"#B6E880\",\"#FF97FF\",\"#FECB52\"],\"font\":{\"color\":\"#2a3f5f\"},\"geo\":{\"bgcolor\":\"white\",\"lakecolor\":\"white\",\"landcolor\":\"#E5ECF6\",\"showlakes\":true,\"showland\":true,\"subunitcolor\":\"white\"},\"hoverlabel\":{\"align\":\"left\"},\"hovermode\":\"closest\",\"mapbox\":{\"style\":\"light\"},\"paper_bgcolor\":\"white\",\"plot_bgcolor\":\"#E5ECF6\",\"polar\":{\"angularaxis\":{\"gridcolor\":\"white\",\"linecolor\":\"white\",\"ticks\":\"\"},\"bgcolor\":\"#E5ECF6\",\"radialaxis\":{\"gridcolor\":\"white\",\"linecolor\":\"white\",\"ticks\":\"\"}},\"scene\":{\"xaxis\":{\"backgroundcolor\":\"#E5ECF6\",\"gridcolor\":\"white\",\"gridwidth\":2,\"linecolor\":\"white\",\"showbackground\":true,\"ticks\":\"\",\"zerolinecolor\":\"white\"},\"yaxis\":{\"backgroundcolor\":\"#E5ECF6\",\"gridcolor\":\"white\",\"gridwidth\":2,\"linecolor\":\"white\",\"showbackground\":true,\"ticks\":\"\",\"zerolinecolor\":\"white\"},\"zaxis\":{\"backgroundcolor\":\"#E5ECF6\",\"gridcolor\":\"white\",\"gridwidth\":2,\"linecolor\":\"white\",\"showbackground\":true,\"ticks\":\"\",\"zerolinecolor\":\"white\"}},\"shapedefaults\":{\"line\":{\"color\":\"#2a3f5f\"}},\"ternary\":{\"aaxis\":{\"gridcolor\":\"white\",\"linecolor\":\"white\",\"ticks\":\"\"},\"baxis\":{\"gridcolor\":\"white\",\"linecolor\":\"white\",\"ticks\":\"\"},\"bgcolor\":\"#E5ECF6\",\"caxis\":{\"gridcolor\":\"white\",\"linecolor\":\"white\",\"ticks\":\"\"}},\"title\":{\"x\":0.05},\"xaxis\":{\"automargin\":true,\"gridcolor\":\"white\",\"linecolor\":\"white\",\"ticks\":\"\",\"title\":{\"standoff\":15},\"zerolinecolor\":\"white\",\"zerolinewidth\":2},\"yaxis\":{\"automargin\":true,\"gridcolor\":\"white\",\"linecolor\":\"white\",\"ticks\":\"\",\"title\":{\"standoff\":15},\"zerolinecolor\":\"white\",\"zerolinewidth\":2}}},\"xaxis\":{\"anchor\":\"y\",\"domain\":[0.0,1.0],\"title\":{\"text\":\"track_name\"}},\"yaxis\":{\"anchor\":\"x\",\"domain\":[0.0,1.0],\"title\":{\"text\":\"tempo\"}},\"legend\":{\"tracegroupgap\":0},\"margin\":{\"t\":60},\"barmode\":\"relative\"},                        {\"responsive\": true}                    ).then(function(){\n                            \nvar gd = document.getElementById('556873fa-5df8-4325-87f9-a4c5f587e24e');\nvar x = new MutationObserver(function (mutations, observer) {{\n        var display = window.getComputedStyle(gd).display;\n        if (!display || display === 'none') {{\n            console.log([gd, 'removed!']);\n            Plotly.purge(gd);\n            observer.disconnect();\n        }}\n}});\n\n// Listen for the removal of the full notebook cells\nvar notebookContainer = gd.closest('#notebook-container');\nif (notebookContainer) {{\n    x.observe(notebookContainer, {childList: true});\n}}\n\n// Listen for the clearing of the current output cell\nvar outputEl = gd.closest('.output');\nif (outputEl) {{\n    x.observe(outputEl, {childList: true});\n}}\n\n                        })                };                });            </script>        </div>"
     },
     "metadata": {},
     "output_type": "display_data"
    }
   ],
   "source": [
    "fig = px.bar(res, x='track_name', y='tempo')\n",
    "fig.show()"
   ],
   "metadata": {
    "collapsed": false,
    "pycharm": {
     "name": "#%%\n"
    }
   }
  },
  {
   "cell_type": "code",
   "execution_count": 319,
   "outputs": [
    {
     "data": {
      "application/vnd.plotly.v1+json": {
       "data": [
        {
         "alignmentgroup": "True",
         "hovertemplate": "track_name=%{x}<br>duration_min=%{y}<extra></extra>",
         "legendgroup": "",
         "marker": {
          "color": "#636efa",
          "pattern": {
           "shape": ""
          }
         },
         "name": "",
         "offsetgroup": "",
         "orientation": "v",
         "showlegend": false,
         "textposition": "auto",
         "x": [
          "سلم يا سلام",
          "وليد من الشكرية",
          "نادو لي عشاي",
          "واثقه في زولي",
          "مالو",
          "دنيا يا فراقه",
          "أنت وأنا",
          "دي حفية",
          "عسل الجبال",
          "الغلط في منو",
          "طوالي بعاين ليك",
          "الحليون",
          "مالك معاي"
         ],
         "xaxis": "x",
         "y": [
          3.6803666666666666,
          2.9187333333333334,
          2.7685333333333335,
          3.4494666666666665,
          3.3589,
          4.1134,
          4.261433333333334,
          3.09855,
          4.386383333333334,
          4.002383333333333,
          4.69985,
          4.837866666666667,
          3.4725333333333332
         ],
         "yaxis": "y",
         "type": "bar"
        }
       ],
       "layout": {
        "template": {
         "data": {
          "bar": [
           {
            "error_x": {
             "color": "#2a3f5f"
            },
            "error_y": {
             "color": "#2a3f5f"
            },
            "marker": {
             "line": {
              "color": "#E5ECF6",
              "width": 0.5
             },
             "pattern": {
              "fillmode": "overlay",
              "size": 10,
              "solidity": 0.2
             }
            },
            "type": "bar"
           }
          ],
          "barpolar": [
           {
            "marker": {
             "line": {
              "color": "#E5ECF6",
              "width": 0.5
             },
             "pattern": {
              "fillmode": "overlay",
              "size": 10,
              "solidity": 0.2
             }
            },
            "type": "barpolar"
           }
          ],
          "carpet": [
           {
            "aaxis": {
             "endlinecolor": "#2a3f5f",
             "gridcolor": "white",
             "linecolor": "white",
             "minorgridcolor": "white",
             "startlinecolor": "#2a3f5f"
            },
            "baxis": {
             "endlinecolor": "#2a3f5f",
             "gridcolor": "white",
             "linecolor": "white",
             "minorgridcolor": "white",
             "startlinecolor": "#2a3f5f"
            },
            "type": "carpet"
           }
          ],
          "choropleth": [
           {
            "colorbar": {
             "outlinewidth": 0,
             "ticks": ""
            },
            "type": "choropleth"
           }
          ],
          "contour": [
           {
            "colorbar": {
             "outlinewidth": 0,
             "ticks": ""
            },
            "colorscale": [
             [
              0.0,
              "#0d0887"
             ],
             [
              0.1111111111111111,
              "#46039f"
             ],
             [
              0.2222222222222222,
              "#7201a8"
             ],
             [
              0.3333333333333333,
              "#9c179e"
             ],
             [
              0.4444444444444444,
              "#bd3786"
             ],
             [
              0.5555555555555556,
              "#d8576b"
             ],
             [
              0.6666666666666666,
              "#ed7953"
             ],
             [
              0.7777777777777778,
              "#fb9f3a"
             ],
             [
              0.8888888888888888,
              "#fdca26"
             ],
             [
              1.0,
              "#f0f921"
             ]
            ],
            "type": "contour"
           }
          ],
          "contourcarpet": [
           {
            "colorbar": {
             "outlinewidth": 0,
             "ticks": ""
            },
            "type": "contourcarpet"
           }
          ],
          "heatmap": [
           {
            "colorbar": {
             "outlinewidth": 0,
             "ticks": ""
            },
            "colorscale": [
             [
              0.0,
              "#0d0887"
             ],
             [
              0.1111111111111111,
              "#46039f"
             ],
             [
              0.2222222222222222,
              "#7201a8"
             ],
             [
              0.3333333333333333,
              "#9c179e"
             ],
             [
              0.4444444444444444,
              "#bd3786"
             ],
             [
              0.5555555555555556,
              "#d8576b"
             ],
             [
              0.6666666666666666,
              "#ed7953"
             ],
             [
              0.7777777777777778,
              "#fb9f3a"
             ],
             [
              0.8888888888888888,
              "#fdca26"
             ],
             [
              1.0,
              "#f0f921"
             ]
            ],
            "type": "heatmap"
           }
          ],
          "heatmapgl": [
           {
            "colorbar": {
             "outlinewidth": 0,
             "ticks": ""
            },
            "colorscale": [
             [
              0.0,
              "#0d0887"
             ],
             [
              0.1111111111111111,
              "#46039f"
             ],
             [
              0.2222222222222222,
              "#7201a8"
             ],
             [
              0.3333333333333333,
              "#9c179e"
             ],
             [
              0.4444444444444444,
              "#bd3786"
             ],
             [
              0.5555555555555556,
              "#d8576b"
             ],
             [
              0.6666666666666666,
              "#ed7953"
             ],
             [
              0.7777777777777778,
              "#fb9f3a"
             ],
             [
              0.8888888888888888,
              "#fdca26"
             ],
             [
              1.0,
              "#f0f921"
             ]
            ],
            "type": "heatmapgl"
           }
          ],
          "histogram": [
           {
            "marker": {
             "pattern": {
              "fillmode": "overlay",
              "size": 10,
              "solidity": 0.2
             }
            },
            "type": "histogram"
           }
          ],
          "histogram2d": [
           {
            "colorbar": {
             "outlinewidth": 0,
             "ticks": ""
            },
            "colorscale": [
             [
              0.0,
              "#0d0887"
             ],
             [
              0.1111111111111111,
              "#46039f"
             ],
             [
              0.2222222222222222,
              "#7201a8"
             ],
             [
              0.3333333333333333,
              "#9c179e"
             ],
             [
              0.4444444444444444,
              "#bd3786"
             ],
             [
              0.5555555555555556,
              "#d8576b"
             ],
             [
              0.6666666666666666,
              "#ed7953"
             ],
             [
              0.7777777777777778,
              "#fb9f3a"
             ],
             [
              0.8888888888888888,
              "#fdca26"
             ],
             [
              1.0,
              "#f0f921"
             ]
            ],
            "type": "histogram2d"
           }
          ],
          "histogram2dcontour": [
           {
            "colorbar": {
             "outlinewidth": 0,
             "ticks": ""
            },
            "colorscale": [
             [
              0.0,
              "#0d0887"
             ],
             [
              0.1111111111111111,
              "#46039f"
             ],
             [
              0.2222222222222222,
              "#7201a8"
             ],
             [
              0.3333333333333333,
              "#9c179e"
             ],
             [
              0.4444444444444444,
              "#bd3786"
             ],
             [
              0.5555555555555556,
              "#d8576b"
             ],
             [
              0.6666666666666666,
              "#ed7953"
             ],
             [
              0.7777777777777778,
              "#fb9f3a"
             ],
             [
              0.8888888888888888,
              "#fdca26"
             ],
             [
              1.0,
              "#f0f921"
             ]
            ],
            "type": "histogram2dcontour"
           }
          ],
          "mesh3d": [
           {
            "colorbar": {
             "outlinewidth": 0,
             "ticks": ""
            },
            "type": "mesh3d"
           }
          ],
          "parcoords": [
           {
            "line": {
             "colorbar": {
              "outlinewidth": 0,
              "ticks": ""
             }
            },
            "type": "parcoords"
           }
          ],
          "pie": [
           {
            "automargin": true,
            "type": "pie"
           }
          ],
          "scatter": [
           {
            "marker": {
             "colorbar": {
              "outlinewidth": 0,
              "ticks": ""
             }
            },
            "type": "scatter"
           }
          ],
          "scatter3d": [
           {
            "line": {
             "colorbar": {
              "outlinewidth": 0,
              "ticks": ""
             }
            },
            "marker": {
             "colorbar": {
              "outlinewidth": 0,
              "ticks": ""
             }
            },
            "type": "scatter3d"
           }
          ],
          "scattercarpet": [
           {
            "marker": {
             "colorbar": {
              "outlinewidth": 0,
              "ticks": ""
             }
            },
            "type": "scattercarpet"
           }
          ],
          "scattergeo": [
           {
            "marker": {
             "colorbar": {
              "outlinewidth": 0,
              "ticks": ""
             }
            },
            "type": "scattergeo"
           }
          ],
          "scattergl": [
           {
            "marker": {
             "colorbar": {
              "outlinewidth": 0,
              "ticks": ""
             }
            },
            "type": "scattergl"
           }
          ],
          "scattermapbox": [
           {
            "marker": {
             "colorbar": {
              "outlinewidth": 0,
              "ticks": ""
             }
            },
            "type": "scattermapbox"
           }
          ],
          "scatterpolar": [
           {
            "marker": {
             "colorbar": {
              "outlinewidth": 0,
              "ticks": ""
             }
            },
            "type": "scatterpolar"
           }
          ],
          "scatterpolargl": [
           {
            "marker": {
             "colorbar": {
              "outlinewidth": 0,
              "ticks": ""
             }
            },
            "type": "scatterpolargl"
           }
          ],
          "scatterternary": [
           {
            "marker": {
             "colorbar": {
              "outlinewidth": 0,
              "ticks": ""
             }
            },
            "type": "scatterternary"
           }
          ],
          "surface": [
           {
            "colorbar": {
             "outlinewidth": 0,
             "ticks": ""
            },
            "colorscale": [
             [
              0.0,
              "#0d0887"
             ],
             [
              0.1111111111111111,
              "#46039f"
             ],
             [
              0.2222222222222222,
              "#7201a8"
             ],
             [
              0.3333333333333333,
              "#9c179e"
             ],
             [
              0.4444444444444444,
              "#bd3786"
             ],
             [
              0.5555555555555556,
              "#d8576b"
             ],
             [
              0.6666666666666666,
              "#ed7953"
             ],
             [
              0.7777777777777778,
              "#fb9f3a"
             ],
             [
              0.8888888888888888,
              "#fdca26"
             ],
             [
              1.0,
              "#f0f921"
             ]
            ],
            "type": "surface"
           }
          ],
          "table": [
           {
            "cells": {
             "fill": {
              "color": "#EBF0F8"
             },
             "line": {
              "color": "white"
             }
            },
            "header": {
             "fill": {
              "color": "#C8D4E3"
             },
             "line": {
              "color": "white"
             }
            },
            "type": "table"
           }
          ]
         },
         "layout": {
          "annotationdefaults": {
           "arrowcolor": "#2a3f5f",
           "arrowhead": 0,
           "arrowwidth": 1
          },
          "autotypenumbers": "strict",
          "coloraxis": {
           "colorbar": {
            "outlinewidth": 0,
            "ticks": ""
           }
          },
          "colorscale": {
           "diverging": [
            [
             0,
             "#8e0152"
            ],
            [
             0.1,
             "#c51b7d"
            ],
            [
             0.2,
             "#de77ae"
            ],
            [
             0.3,
             "#f1b6da"
            ],
            [
             0.4,
             "#fde0ef"
            ],
            [
             0.5,
             "#f7f7f7"
            ],
            [
             0.6,
             "#e6f5d0"
            ],
            [
             0.7,
             "#b8e186"
            ],
            [
             0.8,
             "#7fbc41"
            ],
            [
             0.9,
             "#4d9221"
            ],
            [
             1,
             "#276419"
            ]
           ],
           "sequential": [
            [
             0.0,
             "#0d0887"
            ],
            [
             0.1111111111111111,
             "#46039f"
            ],
            [
             0.2222222222222222,
             "#7201a8"
            ],
            [
             0.3333333333333333,
             "#9c179e"
            ],
            [
             0.4444444444444444,
             "#bd3786"
            ],
            [
             0.5555555555555556,
             "#d8576b"
            ],
            [
             0.6666666666666666,
             "#ed7953"
            ],
            [
             0.7777777777777778,
             "#fb9f3a"
            ],
            [
             0.8888888888888888,
             "#fdca26"
            ],
            [
             1.0,
             "#f0f921"
            ]
           ],
           "sequentialminus": [
            [
             0.0,
             "#0d0887"
            ],
            [
             0.1111111111111111,
             "#46039f"
            ],
            [
             0.2222222222222222,
             "#7201a8"
            ],
            [
             0.3333333333333333,
             "#9c179e"
            ],
            [
             0.4444444444444444,
             "#bd3786"
            ],
            [
             0.5555555555555556,
             "#d8576b"
            ],
            [
             0.6666666666666666,
             "#ed7953"
            ],
            [
             0.7777777777777778,
             "#fb9f3a"
            ],
            [
             0.8888888888888888,
             "#fdca26"
            ],
            [
             1.0,
             "#f0f921"
            ]
           ]
          },
          "colorway": [
           "#636efa",
           "#EF553B",
           "#00cc96",
           "#ab63fa",
           "#FFA15A",
           "#19d3f3",
           "#FF6692",
           "#B6E880",
           "#FF97FF",
           "#FECB52"
          ],
          "font": {
           "color": "#2a3f5f"
          },
          "geo": {
           "bgcolor": "white",
           "lakecolor": "white",
           "landcolor": "#E5ECF6",
           "showlakes": true,
           "showland": true,
           "subunitcolor": "white"
          },
          "hoverlabel": {
           "align": "left"
          },
          "hovermode": "closest",
          "mapbox": {
           "style": "light"
          },
          "paper_bgcolor": "white",
          "plot_bgcolor": "#E5ECF6",
          "polar": {
           "angularaxis": {
            "gridcolor": "white",
            "linecolor": "white",
            "ticks": ""
           },
           "bgcolor": "#E5ECF6",
           "radialaxis": {
            "gridcolor": "white",
            "linecolor": "white",
            "ticks": ""
           }
          },
          "scene": {
           "xaxis": {
            "backgroundcolor": "#E5ECF6",
            "gridcolor": "white",
            "gridwidth": 2,
            "linecolor": "white",
            "showbackground": true,
            "ticks": "",
            "zerolinecolor": "white"
           },
           "yaxis": {
            "backgroundcolor": "#E5ECF6",
            "gridcolor": "white",
            "gridwidth": 2,
            "linecolor": "white",
            "showbackground": true,
            "ticks": "",
            "zerolinecolor": "white"
           },
           "zaxis": {
            "backgroundcolor": "#E5ECF6",
            "gridcolor": "white",
            "gridwidth": 2,
            "linecolor": "white",
            "showbackground": true,
            "ticks": "",
            "zerolinecolor": "white"
           }
          },
          "shapedefaults": {
           "line": {
            "color": "#2a3f5f"
           }
          },
          "ternary": {
           "aaxis": {
            "gridcolor": "white",
            "linecolor": "white",
            "ticks": ""
           },
           "baxis": {
            "gridcolor": "white",
            "linecolor": "white",
            "ticks": ""
           },
           "bgcolor": "#E5ECF6",
           "caxis": {
            "gridcolor": "white",
            "linecolor": "white",
            "ticks": ""
           }
          },
          "title": {
           "x": 0.05
          },
          "xaxis": {
           "automargin": true,
           "gridcolor": "white",
           "linecolor": "white",
           "ticks": "",
           "title": {
            "standoff": 15
           },
           "zerolinecolor": "white",
           "zerolinewidth": 2
          },
          "yaxis": {
           "automargin": true,
           "gridcolor": "white",
           "linecolor": "white",
           "ticks": "",
           "title": {
            "standoff": 15
           },
           "zerolinecolor": "white",
           "zerolinewidth": 2
          }
         }
        },
        "xaxis": {
         "anchor": "y",
         "domain": [
          0.0,
          1.0
         ],
         "title": {
          "text": "track_name"
         }
        },
        "yaxis": {
         "anchor": "x",
         "domain": [
          0.0,
          1.0
         ],
         "title": {
          "text": "duration_min"
         }
        },
        "legend": {
         "tracegroupgap": 0
        },
        "margin": {
         "t": 60
        },
        "barmode": "relative"
       },
       "config": {
        "plotlyServerURL": "https://plot.ly"
       }
      },
      "text/html": "<div>                            <div id=\"0e8e5798-9c60-42cc-bc32-d0bd94000daf\" class=\"plotly-graph-div\" style=\"height:525px; width:100%;\"></div>            <script type=\"text/javascript\">                require([\"plotly\"], function(Plotly) {                    window.PLOTLYENV=window.PLOTLYENV || {};                                    if (document.getElementById(\"0e8e5798-9c60-42cc-bc32-d0bd94000daf\")) {                    Plotly.newPlot(                        \"0e8e5798-9c60-42cc-bc32-d0bd94000daf\",                        [{\"alignmentgroup\":\"True\",\"hovertemplate\":\"track_name=%{x}<br>duration_min=%{y}<extra></extra>\",\"legendgroup\":\"\",\"marker\":{\"color\":\"#636efa\",\"pattern\":{\"shape\":\"\"}},\"name\":\"\",\"offsetgroup\":\"\",\"orientation\":\"v\",\"showlegend\":false,\"textposition\":\"auto\",\"x\":[\"\\u0633\\u0644\\u0645 \\u064a\\u0627 \\u0633\\u0644\\u0627\\u0645\",\"\\u0648\\u0644\\u064a\\u062f \\u0645\\u0646 \\u0627\\u0644\\u0634\\u0643\\u0631\\u064a\\u0629\",\"\\u0646\\u0627\\u062f\\u0648 \\u0644\\u064a \\u0639\\u0634\\u0627\\u064a\",\"\\u0648\\u0627\\u062b\\u0642\\u0647 \\u0641\\u064a \\u0632\\u0648\\u0644\\u064a\",\"\\u0645\\u0627\\u0644\\u0648\",\"\\u062f\\u0646\\u064a\\u0627 \\u064a\\u0627 \\u0641\\u0631\\u0627\\u0642\\u0647\",\"\\u0623\\u0646\\u062a \\u0648\\u0623\\u0646\\u0627\",\"\\u062f\\u064a \\u062d\\u0641\\u064a\\u0629\",\"\\u0639\\u0633\\u0644 \\u0627\\u0644\\u062c\\u0628\\u0627\\u0644\",\"\\u0627\\u0644\\u063a\\u0644\\u0637 \\u0641\\u064a \\u0645\\u0646\\u0648\",\"\\u0637\\u0648\\u0627\\u0644\\u064a \\u0628\\u0639\\u0627\\u064a\\u0646 \\u0644\\u064a\\u0643\",\"\\u0627\\u0644\\u062d\\u0644\\u064a\\u0648\\u0646\",\"\\u0645\\u0627\\u0644\\u0643 \\u0645\\u0639\\u0627\\u064a\"],\"xaxis\":\"x\",\"y\":[3.6803666666666666,2.9187333333333334,2.7685333333333335,3.4494666666666665,3.3589,4.1134,4.261433333333334,3.09855,4.386383333333334,4.002383333333333,4.69985,4.837866666666667,3.4725333333333332],\"yaxis\":\"y\",\"type\":\"bar\"}],                        {\"template\":{\"data\":{\"bar\":[{\"error_x\":{\"color\":\"#2a3f5f\"},\"error_y\":{\"color\":\"#2a3f5f\"},\"marker\":{\"line\":{\"color\":\"#E5ECF6\",\"width\":0.5},\"pattern\":{\"fillmode\":\"overlay\",\"size\":10,\"solidity\":0.2}},\"type\":\"bar\"}],\"barpolar\":[{\"marker\":{\"line\":{\"color\":\"#E5ECF6\",\"width\":0.5},\"pattern\":{\"fillmode\":\"overlay\",\"size\":10,\"solidity\":0.2}},\"type\":\"barpolar\"}],\"carpet\":[{\"aaxis\":{\"endlinecolor\":\"#2a3f5f\",\"gridcolor\":\"white\",\"linecolor\":\"white\",\"minorgridcolor\":\"white\",\"startlinecolor\":\"#2a3f5f\"},\"baxis\":{\"endlinecolor\":\"#2a3f5f\",\"gridcolor\":\"white\",\"linecolor\":\"white\",\"minorgridcolor\":\"white\",\"startlinecolor\":\"#2a3f5f\"},\"type\":\"carpet\"}],\"choropleth\":[{\"colorbar\":{\"outlinewidth\":0,\"ticks\":\"\"},\"type\":\"choropleth\"}],\"contour\":[{\"colorbar\":{\"outlinewidth\":0,\"ticks\":\"\"},\"colorscale\":[[0.0,\"#0d0887\"],[0.1111111111111111,\"#46039f\"],[0.2222222222222222,\"#7201a8\"],[0.3333333333333333,\"#9c179e\"],[0.4444444444444444,\"#bd3786\"],[0.5555555555555556,\"#d8576b\"],[0.6666666666666666,\"#ed7953\"],[0.7777777777777778,\"#fb9f3a\"],[0.8888888888888888,\"#fdca26\"],[1.0,\"#f0f921\"]],\"type\":\"contour\"}],\"contourcarpet\":[{\"colorbar\":{\"outlinewidth\":0,\"ticks\":\"\"},\"type\":\"contourcarpet\"}],\"heatmap\":[{\"colorbar\":{\"outlinewidth\":0,\"ticks\":\"\"},\"colorscale\":[[0.0,\"#0d0887\"],[0.1111111111111111,\"#46039f\"],[0.2222222222222222,\"#7201a8\"],[0.3333333333333333,\"#9c179e\"],[0.4444444444444444,\"#bd3786\"],[0.5555555555555556,\"#d8576b\"],[0.6666666666666666,\"#ed7953\"],[0.7777777777777778,\"#fb9f3a\"],[0.8888888888888888,\"#fdca26\"],[1.0,\"#f0f921\"]],\"type\":\"heatmap\"}],\"heatmapgl\":[{\"colorbar\":{\"outlinewidth\":0,\"ticks\":\"\"},\"colorscale\":[[0.0,\"#0d0887\"],[0.1111111111111111,\"#46039f\"],[0.2222222222222222,\"#7201a8\"],[0.3333333333333333,\"#9c179e\"],[0.4444444444444444,\"#bd3786\"],[0.5555555555555556,\"#d8576b\"],[0.6666666666666666,\"#ed7953\"],[0.7777777777777778,\"#fb9f3a\"],[0.8888888888888888,\"#fdca26\"],[1.0,\"#f0f921\"]],\"type\":\"heatmapgl\"}],\"histogram\":[{\"marker\":{\"pattern\":{\"fillmode\":\"overlay\",\"size\":10,\"solidity\":0.2}},\"type\":\"histogram\"}],\"histogram2d\":[{\"colorbar\":{\"outlinewidth\":0,\"ticks\":\"\"},\"colorscale\":[[0.0,\"#0d0887\"],[0.1111111111111111,\"#46039f\"],[0.2222222222222222,\"#7201a8\"],[0.3333333333333333,\"#9c179e\"],[0.4444444444444444,\"#bd3786\"],[0.5555555555555556,\"#d8576b\"],[0.6666666666666666,\"#ed7953\"],[0.7777777777777778,\"#fb9f3a\"],[0.8888888888888888,\"#fdca26\"],[1.0,\"#f0f921\"]],\"type\":\"histogram2d\"}],\"histogram2dcontour\":[{\"colorbar\":{\"outlinewidth\":0,\"ticks\":\"\"},\"colorscale\":[[0.0,\"#0d0887\"],[0.1111111111111111,\"#46039f\"],[0.2222222222222222,\"#7201a8\"],[0.3333333333333333,\"#9c179e\"],[0.4444444444444444,\"#bd3786\"],[0.5555555555555556,\"#d8576b\"],[0.6666666666666666,\"#ed7953\"],[0.7777777777777778,\"#fb9f3a\"],[0.8888888888888888,\"#fdca26\"],[1.0,\"#f0f921\"]],\"type\":\"histogram2dcontour\"}],\"mesh3d\":[{\"colorbar\":{\"outlinewidth\":0,\"ticks\":\"\"},\"type\":\"mesh3d\"}],\"parcoords\":[{\"line\":{\"colorbar\":{\"outlinewidth\":0,\"ticks\":\"\"}},\"type\":\"parcoords\"}],\"pie\":[{\"automargin\":true,\"type\":\"pie\"}],\"scatter\":[{\"marker\":{\"colorbar\":{\"outlinewidth\":0,\"ticks\":\"\"}},\"type\":\"scatter\"}],\"scatter3d\":[{\"line\":{\"colorbar\":{\"outlinewidth\":0,\"ticks\":\"\"}},\"marker\":{\"colorbar\":{\"outlinewidth\":0,\"ticks\":\"\"}},\"type\":\"scatter3d\"}],\"scattercarpet\":[{\"marker\":{\"colorbar\":{\"outlinewidth\":0,\"ticks\":\"\"}},\"type\":\"scattercarpet\"}],\"scattergeo\":[{\"marker\":{\"colorbar\":{\"outlinewidth\":0,\"ticks\":\"\"}},\"type\":\"scattergeo\"}],\"scattergl\":[{\"marker\":{\"colorbar\":{\"outlinewidth\":0,\"ticks\":\"\"}},\"type\":\"scattergl\"}],\"scattermapbox\":[{\"marker\":{\"colorbar\":{\"outlinewidth\":0,\"ticks\":\"\"}},\"type\":\"scattermapbox\"}],\"scatterpolar\":[{\"marker\":{\"colorbar\":{\"outlinewidth\":0,\"ticks\":\"\"}},\"type\":\"scatterpolar\"}],\"scatterpolargl\":[{\"marker\":{\"colorbar\":{\"outlinewidth\":0,\"ticks\":\"\"}},\"type\":\"scatterpolargl\"}],\"scatterternary\":[{\"marker\":{\"colorbar\":{\"outlinewidth\":0,\"ticks\":\"\"}},\"type\":\"scatterternary\"}],\"surface\":[{\"colorbar\":{\"outlinewidth\":0,\"ticks\":\"\"},\"colorscale\":[[0.0,\"#0d0887\"],[0.1111111111111111,\"#46039f\"],[0.2222222222222222,\"#7201a8\"],[0.3333333333333333,\"#9c179e\"],[0.4444444444444444,\"#bd3786\"],[0.5555555555555556,\"#d8576b\"],[0.6666666666666666,\"#ed7953\"],[0.7777777777777778,\"#fb9f3a\"],[0.8888888888888888,\"#fdca26\"],[1.0,\"#f0f921\"]],\"type\":\"surface\"}],\"table\":[{\"cells\":{\"fill\":{\"color\":\"#EBF0F8\"},\"line\":{\"color\":\"white\"}},\"header\":{\"fill\":{\"color\":\"#C8D4E3\"},\"line\":{\"color\":\"white\"}},\"type\":\"table\"}]},\"layout\":{\"annotationdefaults\":{\"arrowcolor\":\"#2a3f5f\",\"arrowhead\":0,\"arrowwidth\":1},\"autotypenumbers\":\"strict\",\"coloraxis\":{\"colorbar\":{\"outlinewidth\":0,\"ticks\":\"\"}},\"colorscale\":{\"diverging\":[[0,\"#8e0152\"],[0.1,\"#c51b7d\"],[0.2,\"#de77ae\"],[0.3,\"#f1b6da\"],[0.4,\"#fde0ef\"],[0.5,\"#f7f7f7\"],[0.6,\"#e6f5d0\"],[0.7,\"#b8e186\"],[0.8,\"#7fbc41\"],[0.9,\"#4d9221\"],[1,\"#276419\"]],\"sequential\":[[0.0,\"#0d0887\"],[0.1111111111111111,\"#46039f\"],[0.2222222222222222,\"#7201a8\"],[0.3333333333333333,\"#9c179e\"],[0.4444444444444444,\"#bd3786\"],[0.5555555555555556,\"#d8576b\"],[0.6666666666666666,\"#ed7953\"],[0.7777777777777778,\"#fb9f3a\"],[0.8888888888888888,\"#fdca26\"],[1.0,\"#f0f921\"]],\"sequentialminus\":[[0.0,\"#0d0887\"],[0.1111111111111111,\"#46039f\"],[0.2222222222222222,\"#7201a8\"],[0.3333333333333333,\"#9c179e\"],[0.4444444444444444,\"#bd3786\"],[0.5555555555555556,\"#d8576b\"],[0.6666666666666666,\"#ed7953\"],[0.7777777777777778,\"#fb9f3a\"],[0.8888888888888888,\"#fdca26\"],[1.0,\"#f0f921\"]]},\"colorway\":[\"#636efa\",\"#EF553B\",\"#00cc96\",\"#ab63fa\",\"#FFA15A\",\"#19d3f3\",\"#FF6692\",\"#B6E880\",\"#FF97FF\",\"#FECB52\"],\"font\":{\"color\":\"#2a3f5f\"},\"geo\":{\"bgcolor\":\"white\",\"lakecolor\":\"white\",\"landcolor\":\"#E5ECF6\",\"showlakes\":true,\"showland\":true,\"subunitcolor\":\"white\"},\"hoverlabel\":{\"align\":\"left\"},\"hovermode\":\"closest\",\"mapbox\":{\"style\":\"light\"},\"paper_bgcolor\":\"white\",\"plot_bgcolor\":\"#E5ECF6\",\"polar\":{\"angularaxis\":{\"gridcolor\":\"white\",\"linecolor\":\"white\",\"ticks\":\"\"},\"bgcolor\":\"#E5ECF6\",\"radialaxis\":{\"gridcolor\":\"white\",\"linecolor\":\"white\",\"ticks\":\"\"}},\"scene\":{\"xaxis\":{\"backgroundcolor\":\"#E5ECF6\",\"gridcolor\":\"white\",\"gridwidth\":2,\"linecolor\":\"white\",\"showbackground\":true,\"ticks\":\"\",\"zerolinecolor\":\"white\"},\"yaxis\":{\"backgroundcolor\":\"#E5ECF6\",\"gridcolor\":\"white\",\"gridwidth\":2,\"linecolor\":\"white\",\"showbackground\":true,\"ticks\":\"\",\"zerolinecolor\":\"white\"},\"zaxis\":{\"backgroundcolor\":\"#E5ECF6\",\"gridcolor\":\"white\",\"gridwidth\":2,\"linecolor\":\"white\",\"showbackground\":true,\"ticks\":\"\",\"zerolinecolor\":\"white\"}},\"shapedefaults\":{\"line\":{\"color\":\"#2a3f5f\"}},\"ternary\":{\"aaxis\":{\"gridcolor\":\"white\",\"linecolor\":\"white\",\"ticks\":\"\"},\"baxis\":{\"gridcolor\":\"white\",\"linecolor\":\"white\",\"ticks\":\"\"},\"bgcolor\":\"#E5ECF6\",\"caxis\":{\"gridcolor\":\"white\",\"linecolor\":\"white\",\"ticks\":\"\"}},\"title\":{\"x\":0.05},\"xaxis\":{\"automargin\":true,\"gridcolor\":\"white\",\"linecolor\":\"white\",\"ticks\":\"\",\"title\":{\"standoff\":15},\"zerolinecolor\":\"white\",\"zerolinewidth\":2},\"yaxis\":{\"automargin\":true,\"gridcolor\":\"white\",\"linecolor\":\"white\",\"ticks\":\"\",\"title\":{\"standoff\":15},\"zerolinecolor\":\"white\",\"zerolinewidth\":2}}},\"xaxis\":{\"anchor\":\"y\",\"domain\":[0.0,1.0],\"title\":{\"text\":\"track_name\"}},\"yaxis\":{\"anchor\":\"x\",\"domain\":[0.0,1.0],\"title\":{\"text\":\"duration_min\"}},\"legend\":{\"tracegroupgap\":0},\"margin\":{\"t\":60},\"barmode\":\"relative\"},                        {\"responsive\": true}                    ).then(function(){\n                            \nvar gd = document.getElementById('0e8e5798-9c60-42cc-bc32-d0bd94000daf');\nvar x = new MutationObserver(function (mutations, observer) {{\n        var display = window.getComputedStyle(gd).display;\n        if (!display || display === 'none') {{\n            console.log([gd, 'removed!']);\n            Plotly.purge(gd);\n            observer.disconnect();\n        }}\n}});\n\n// Listen for the removal of the full notebook cells\nvar notebookContainer = gd.closest('#notebook-container');\nif (notebookContainer) {{\n    x.observe(notebookContainer, {childList: true});\n}}\n\n// Listen for the clearing of the current output cell\nvar outputEl = gd.closest('.output');\nif (outputEl) {{\n    x.observe(outputEl, {childList: true});\n}}\n\n                        })                };                });            </script>        </div>"
     },
     "metadata": {},
     "output_type": "display_data"
    }
   ],
   "source": [
    "fig = px.bar(res, x='track_name', y='duration_min')\n",
    "fig.show()"
   ],
   "metadata": {
    "collapsed": false,
    "pycharm": {
     "name": "#%%\n"
    }
   }
  }
 ],
 "metadata": {
  "kernelspec": {
   "display_name": "Python 3",
   "language": "python",
   "name": "python3"
  },
  "language_info": {
   "codemirror_mode": {
    "name": "ipython",
    "version": 2
   },
   "file_extension": ".py",
   "mimetype": "text/x-python",
   "name": "python",
   "nbconvert_exporter": "python",
   "pygments_lexer": "ipython2",
   "version": "2.7.6"
  }
 },
 "nbformat": 4,
 "nbformat_minor": 0
}